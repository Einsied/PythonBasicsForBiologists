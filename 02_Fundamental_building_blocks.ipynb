{
 "cells": [
  {
   "cell_type": "markdown",
   "id": "a47b5725-be0d-45d5-8e31-cc63ea199f25",
   "metadata": {
    "editable": false,
    "slideshow": {
     "slide_type": ""
    },
    "tags": []
   },
   "source": [
    "# Fundamental building blocks"
   ]
  },
  {
   "cell_type": "markdown",
   "id": "6b8f1f56-98ab-4ca7-8c04-5d240c24d7d0",
   "metadata": {
    "editable": false,
    "slideshow": {
     "slide_type": ""
    },
    "tags": []
   },
   "source": [
    "## Recall\n",
    "\n",
    "Last unit we discussed programming and computers in general.\n",
    "We used the recording of an oxytocin-unit in a rat as an example.\n",
    "To recall the rat was suckling its pups and we recorded neuronal activity in units.\n",
    "We also recorded the movement of the rat/dam.\n",
    "We expect that the oxytocin unit is actie during phases of immobility.\n",
    "The data are saved as comma-separated-value files.\n",
    "\n",
    "While were exploring the example we develop an algorithm:\n",
    "\n",
    "```\n",
    "1. Open the units-file\n",
    "2. Figure out how many units there are\n",
    "3. Figure out when the last spike occurs in seconds\n",
    "4. Create a column with one entry for every second between ```0``` and the last spike occurance.\n",
    "5. Use this column to begin a table\n",
    "6. For every unit:\n",
    "    1. Create a column containing the same amount of entries as the second-column\n",
    "    2. Fill the list with ```0```s\n",
    "    3. For every row in the unit file:\n",
    "        1. Find the second to which the spike belongs\n",
    "        2. Increase the entry in the column corresponding to this second\n",
    "    5. Add the column to the table\n",
    "7. Open the immobility file\n",
    "8. Create a column containing the same amount of entries as the second-column\n",
    "9. For every second in the immobility-list:\n",
    "    1. Mark as \"Yes\" if it is within an immobility phase otherwise mark as \"No\"\n",
    "10. Add the column to the table\n",
    "```\n",
    "\n",
    "With this example in mind we learned that computers use **memory-cells** to store data and that we refer to these one or multiple of these cells with **variables**.\n",
    "We also learned that we change what is in this cells with **operators**, before approaching **functions** and executing our first line of python. \n",
    "To warm up I would ask you to copy the following lines of code into the cell below and execute them using the “Shift” and “Return” keys.\n",
    "\n",
    "```Python\n",
    "spike_counter = 0\n",
    "print(spike_counter)\n",
    "spike_counter += 1\n",
    "print(spike_counter)\n",
    "```"
   ]
  },
  {
   "cell_type": "code",
   "execution_count": null,
   "id": "80f6191b-ad91-45ff-a3f0-9000994d6d97",
   "metadata": {
    "editable": true,
    "slideshow": {
     "slide_type": ""
    },
    "tags": []
   },
   "outputs": [],
   "source": [
    "# Copy the code here"
   ]
  },
  {
   "cell_type": "markdown",
   "id": "08a2c785-af78-45ec-8dbf-f3818ea710ad",
   "metadata": {
    "editable": false,
    "slideshow": {
     "slide_type": ""
    },
    "tags": []
   },
   "source": [
    "## Operators\n",
    "\n",
    "Now that you have warmed up a little bit we can begin talking about **operators** again.\n",
    "There is a long list of [python-operators](https://docs.python.org/3/library/operator.html#mapping-operators-to-functions), which we will explore slowly.\n",
    "\n",
    "The most central **operator** is the assignment **operator** (```=```).\n",
    "It takes whatever is on its right and stores it in the variable to its left.\n",
    "So if we write ```a = b``` we take whatever ```b``` is and write it into ```a```. The term “whatever” is chosen quite deliberately here, but we will come to this later.\n",
    "\n",
    "Now that we recalled how to assign things and considering that we wish to count things we should introduce the basic arithmetic operators,\n",
    "these are mostly identical to the ones you use everyday.\n",
    "To better illustrate them I attached an example usage with the result.\n",
    "\n",
    "| Operator  | Action         | Example       | Resulting value |\n",
    "| --------- | -------------- | ------------- | --------------- |\n",
    "| ```+```   | Addition       | ```3 + 4```   | 7               |\n",
    "| ```-```   | Substraction   | ```8 - 3```   | 5               | \n",
    "| ```*```   | Multiplikation | ```2 * 3```   | 6               |\n",
    "| ```**```  | Power of       | ```2 ** 3```  | 8               |\n",
    "| ```/```   | Division       | ```8 / 4 ```  | 2               |\n",
    "\n",
    "Now let us parctice with tese a bit. \n",
    "Here are a few simple mathematical operations that you should solve in python.\n",
    "Do not forget to use the ```print```-function to display the resutls."
   ]
  },
  {
   "cell_type": "markdown",
   "id": "5137b3f7-12ae-45a9-9958-a9f912b6c9b3",
   "metadata": {
    "editable": false,
    "slideshow": {
     "slide_type": ""
    },
    "tags": []
   },
   "source": [
    "```6 + 9```"
   ]
  },
  {
   "cell_type": "code",
   "execution_count": null,
   "id": "3383ccea-5cb7-4050-912e-388218eb6e2f",
   "metadata": {
    "editable": true,
    "slideshow": {
     "slide_type": ""
    },
    "tags": []
   },
   "outputs": [],
   "source": [
    "# Add your code here"
   ]
  },
  {
   "cell_type": "markdown",
   "id": "c1f959f4-fd31-45ed-84db-6aba64357a8b",
   "metadata": {
    "editable": false,
    "slideshow": {
     "slide_type": ""
    },
    "tags": []
   },
   "source": [
    "<details>\n",
    "  <summary>Click to reveal solution</summary>\n",
    "\n",
    "```Python\n",
    "result = 6 + 9\n",
    "print(result)\n",
    "```\n",
    "\n",
    "</details>\n",
    "\n",
    "The second power a and b, where a is the difference between twelve and six and b is two times four."
   ]
  },
  {
   "cell_type": "code",
   "execution_count": null,
   "id": "a0d5ecf7-d6a5-43d6-b0cb-a0c3a68b0d3e",
   "metadata": {
    "editable": true,
    "slideshow": {
     "slide_type": ""
    },
    "tags": []
   },
   "outputs": [],
   "source": [
    "# Add your code here"
   ]
  },
  {
   "cell_type": "markdown",
   "id": "d8da1e43-9685-4ae3-a3fe-0077b61abae6",
   "metadata": {
    "editable": false,
    "slideshow": {
     "slide_type": ""
    },
    "tags": []
   },
   "source": [
    "<details>\n",
    "  <summary>Click to reveal solution</summary>\n",
    "\n",
    "```Python\n",
    "a = 12 - 6\n",
    "b = 2 * 4\n",
    "result = (a + b)**2\n",
    "\n",
    "print(result)\n",
    "```\n",
    "\n",
    "</details>\n",
    "\n",
    "```11 / 5 ```"
   ]
  },
  {
   "cell_type": "code",
   "execution_count": null,
   "id": "942c7ee2-6a17-465d-85f7-55ec211b2269",
   "metadata": {
    "editable": true,
    "slideshow": {
     "slide_type": ""
    },
    "tags": []
   },
   "outputs": [],
   "source": [
    "# Add your code here"
   ]
  },
  {
   "cell_type": "markdown",
   "id": "bd270e41-5d70-4557-8dbf-94553fa603b1",
   "metadata": {
    "editable": false,
    "raw_mimetype": "",
    "slideshow": {
     "slide_type": ""
    },
    "tags": []
   },
   "source": [
    "<details>\n",
    "  <summary>Click to reveal solution</summary>\n",
    "\n",
    "```Python\n",
    "result = 11 / 5\n",
    "\n",
    "print(result)\n",
    "```\n",
    "\n",
    "</details>\n",
    "\n",
    "Now the last exercise resulted in number with a ```.``` or a floating-point-number.\n",
    "This may seem trivial at the moment until you learn there is a second division operator ```//``` floor-division.\n",
    "Please repeat the exercise above with this operator and observe the result.'"
   ]
  },
  {
   "cell_type": "code",
   "execution_count": null,
   "id": "3cc0e7d9-19d5-4b40-81e6-9dc67b8daf26",
   "metadata": {
    "editable": true,
    "slideshow": {
     "slide_type": ""
    },
    "tags": []
   },
   "outputs": [],
   "source": [
    "# Add your code here"
   ]
  },
  {
   "cell_type": "markdown",
   "id": "f5ac0b75-4e9b-4d25-b212-5b4493bf67f0",
   "metadata": {
    "editable": false,
    "slideshow": {
     "slide_type": ""
    },
    "tags": []
   },
   "source": [
    "This time you got a number without an ```.``` these are called integers.\n",
    "This should alarm you slightly.\n",
    "Why are there two **operators** that do almost the same thing?\n",
    "The answer is the way computer store data in their **memory-cells**.\n",
    "You may recall that they store data in binary as ```1``` and ```0```.\n",
    "So ```00000101``` corresponds to ```5``` in the decimal system.\n",
    "We introduced this as an example for how a number *could* be stored.\n",
    "(In practice the [Two's complement](https://en.wikipedia.org/wiki/Two%27s_complement) is used, but the differences do not matter for us now.)\n",
    "As we discussed the content of **memory-cells** can be interpreted in different ways, we therefore have to assign every **variable** a **type**, so we know how interpret the data in the **memory-cell** the **variable** corresponds to.\n",
    "This means how we interpret the content of a **memory-cell** depends on the **type** of its corresponding **variable**.\n",
    "\n",
    "The way we introduced binary-numbers above they can only represent integers or natural numbers.\n",
    "In Python the **type** of integers is **int**.\n",
    "If we wish to represent floating-point-numbers we have to split our **memory-cell** into three different areas.\n",
    "The sign telling us if the number is positive or negative, the fraction telling us what comes behind the ```.``` and the exponent.\n",
    "To get our final floating-point-number or **float** we calculate:\n",
    "\n",
    "```\n",
    "floating_point_number = 0.1Fraction * (2**Exponent)\n",
    "```\n",
    "\n",
    "To visualize we can use an illustration from [Wikipedia](https://commons.wikimedia.org/wiki/File:Float_example.svg).\n",
    "\n",
    "![Illustration of sign, fraction and exponent in memory-cells](https://upload.wikimedia.org/wikipedia/commons/d/d2/Float_example.svg)\n",
    "\n",
    "There are a bit more nuances to **floats** and how they can become dangerous.\n",
    "Once you have programmed for a while you may wish to read up on [IEEE-754](https://en.wikipedia.org/wiki/IEEE_754) and [rounding-errors](https://en.wikipedia.org/wiki/Round-off_error).\n"
   ]
  },
  {
   "cell_type": "markdown",
   "id": "da078c5e-43fe-45c3-ac39-c352e2303ede",
   "metadata": {
    "editable": false,
    "slideshow": {
     "slide_type": ""
    },
    "tags": []
   },
   "source": [
    "## Types\n",
    "\n",
    "So we now have at least two types.\n",
    "The **float** and the **int**.\n",
    "You may now wonder how many **types** there are and if you can memorize them all.\n",
    "The problem is that **types** are conventions and people can make up their own.\n",
    "Since you can and will create your own **types** later in the form of **classes** there is no point in memorizing them all.\n",
    "\n",
    "**Types** tell us how to interpret/understand the contents of **memory-cells**. \n",
    "Let us illustrate this by encoding the number ```42``` in two different **types**.\n",
    "First a \"8-bit integer\" then a \"32-bit integer and finally a “IEE-754 or 32-bit float”.\n",
    "\n",
    "| Type           |   |   |   |   |   |   |   |   |   |   |   |   |   |   |   |   |   |   |   |   |   |   |   |   |   |   |   |   |   |   |   |   |\n",
    "| -------------- | - | - | - | - | - | - | - | - | - | - | - | - | - | - | - | - | - | - | - | - | - | - | - | - | - | - | - | - | - | - | - | - |\n",
    "| 8-bit Integer  |   |   |   |   |   |   |   |   |   |   |   |   |   |   |   |   |   |   |   |   |   |   |   |   | 0 | 0 | 1 | 0 | 1 | 0 | 1 | 0 |\n",
    "| 32-bit Integer | 0 | 0 | 0 | 0 | 0 | 0 | 0 | 0 | 0 | 0 | 0 | 0 | 0 | 0 | 0 | 0 | 0 | 0 | 0 | 0 | 0 | 0 | 0 | 0 | 0 | 0 | 1 | 0 | 1 | 0 | 1 | 0 |\n",
    "| 32-bit Float   | 0 | 1 | 0 | 0 | 0 | 0 | 1 | 0 | 0 | 0 | 1 | 0 | 1 | 0 | 0 | 0 | 0 | 0 | 0 | 0 | 0 | 0 | 0 | 0 | 0 | 0 | 0 | 0 | 0 | 0 | 0 | 0 |\n",
    "\n",
    "As you can see the number ```42``` looks quite differently if we write it as a floating point number or as an integer.\n",
    "So the contents of the memory cells do not directly tell us what number we are looking at.\n",
    "We can only retrieve the number by assigning a **type** to the **memory-cell**.\n",
    "\n",
    "If, you want to learn more about **types**, after this course, I would suggest to investigate the [C-data-types](https://en.wikipedia.org/wiki/C_data_types), because they are simpler than [Pythons zoo](https://docs.python.org/3/library/stdtypes.html).\n",
    "\n",
    "Figuring out what **type**, saves what ow to convert from one to another is rather exhausting, so we let Python handle it.\n",
    "If we want to convert from **int** to **float** or the other way around we use the language itself and do not worry about the details.\n",
    "\n",
    "```Python\n",
    "number = 42\n",
    "number_as_float = float(number)\n",
    "number_as_int = int(number)\n",
    "print(number_as_float)\n",
    "print(number_as_int)\n",
    "```\n",
    "\n",
    "So dealing with them is easy, we just have to remember their limitations, the [rounding-errors](https://en.wikipedia.org/wiki/Round-off_error) and [integer overflows](https://en.wikipedia.org/wiki/Integer_overflow), the later ones do not appear in pure Python, but in some of the code you will download from the internet like [numpy](https://numpy.org/)."
   ]
  },
  {
   "cell_type": "markdown",
   "id": "8c633270-a8ff-43cf-826a-ede2aed0317f",
   "metadata": {
    "editable": false,
    "slideshow": {
     "slide_type": ""
    },
    "tags": []
   },
   "source": [
    "## Boolean operators\n",
    "Another **type** are Boolean **variables**.\n",
    "A Boolean **variable** or **bool** is either ```True``` or ```False```.\n",
    "They are often the result of comparisons.\n",
    "They come with their own set of operators.\n",
    "Let us begin with the operators that create **bools**.\n",
    "\n",
    "| Operator | Action                              | Example            |Resulting value |\n",
    "| -------- | ----------------------------------- | ------------------ | -------------- |\n",
    "| ```==``` | checks if equal                     | ```4 == 3```       | ```False```    |\n",
    "| ```!=``` | chekcs if not equal                 | ```4 != 3```       | ```True```     |\n",
    "| ```<```  | checks if left smaller              | ```3 < 4```        | ```True```     |\n",
    "| ```<=``` | checks if left smaller or equal     | ```3 <= 4```       | ```True```     |\n",
    "| ```>```  | checks if left bigger               | ```3 > 4```        | ```False```    |\n",
    "| ```>=``` | checks if left bigger or equal      | ```3 >= 4```       | ```False```    |\n",
    "| ```in``` | checks if left value is in right    | ```1 in [1 , 2]``` | ```True```    |\n",
    "| ```is``` | checks if both values are identical | ```3 is 4```       | ```False```    |\n",
    "\n",
    "The last one ```is``` is a little more difficult to understand than the others, because it refers to **identity**.\n",
    "The major confusion will arise from them meaning of **identity** in math compared to biology.\n",
    "Let us first discuss equality and identity.\n",
    "If I ask for two students to stand up all of you are “equal” for this task, because all of you are students, but you are not the same.\n",
    "So **identity** refers to a relationship in which two things have the highest possible sameness. \n",
    "In math means they have to be the same, not just equal in all aspects.\n",
    "This means an “identical clone” is a contradiction in terms for mathematician or a programmer.\n",
    "If you copy or clone something these things are indistinguishable but not identical.\n",
    "This will not matter in this course, but you may stumble upon it later in your career, so keep it in mind.\n",
    "\n",
    "Before we continue let us practice the use of the new operators, similar to the ones we practiced with before."
   ]
  },
  {
   "cell_type": "markdown",
   "id": "e490720c-7c17-4c90-a601-91730bfab537",
   "metadata": {
    "editable": false,
    "slideshow": {
     "slide_type": ""
    },
    "tags": []
   },
   "source": [
    "\"Is five bigger than 3?\""
   ]
  },
  {
   "cell_type": "code",
   "execution_count": null,
   "id": "788162cd-dbb6-454b-b005-64e3a11c9b76",
   "metadata": {
    "editable": true,
    "slideshow": {
     "slide_type": ""
    },
    "tags": []
   },
   "outputs": [],
   "source": [
    "# Add your code here"
   ]
  },
  {
   "cell_type": "markdown",
   "id": "80c0241b-73c6-476b-94c8-808035b5bf4d",
   "metadata": {
    "editable": false,
    "slideshow": {
     "slide_type": ""
    },
    "tags": []
   },
   "source": [
    "<details>\n",
    "  <summary>Click to reveal solution</summary>\n",
    "\n",
    "```Python\n",
    "result = 5 > 3\n",
    "print(result)\n",
    "```\n",
    "\n",
    "</details>\n",
    "\n",
    "```Is 42 the equal to 13?```"
   ]
  },
  {
   "cell_type": "code",
   "execution_count": null,
   "id": "99acec98-0c1e-41ed-8c6d-4c345e46b36e",
   "metadata": {
    "editable": true,
    "slideshow": {
     "slide_type": ""
    },
    "tags": []
   },
   "outputs": [],
   "source": [
    "# Add your code here"
   ]
  },
  {
   "cell_type": "markdown",
   "id": "116eb8af-bc1c-428f-8d17-fa3a93752ada",
   "metadata": {
    "editable": false,
    "slideshow": {
     "slide_type": ""
    },
    "tags": []
   },
   "source": [
    "<details>\n",
    "  <summary>Click to reveal solution</summary>\n",
    "\n",
    "```Python\n",
    "result = 42 == 13\n",
    "print(result)\n",
    "```\n",
    "\n",
    "</details>\n",
    "\n",
    "```Is 42 the equal to 42.0?```"
   ]
  },
  {
   "cell_type": "code",
   "execution_count": null,
   "id": "9f58cde2-54e8-4e32-8f2d-de2145059598",
   "metadata": {
    "editable": true,
    "slideshow": {
     "slide_type": ""
    },
    "tags": []
   },
   "outputs": [],
   "source": [
    "# Add your code here"
   ]
  },
  {
   "cell_type": "markdown",
   "id": "71a95403-c4cb-4f04-b83d-31c830fc828b",
   "metadata": {
    "editable": false,
    "slideshow": {
     "slide_type": ""
    },
    "tags": []
   },
   "source": [
    "<details>\n",
    "  <summary>Click to reveal solution</summary>\n",
    "\n",
    "```Python\n",
    "result = 42 == 42.0\n",
    "print(result)\n",
    "```\n",
    "\n",
    "</details>\n",
    "\n",
    "```Is 42 smaller than 100.0?```"
   ]
  },
  {
   "cell_type": "code",
   "execution_count": null,
   "id": "170966ff-074f-487e-a1e9-4fe523afe3c2",
   "metadata": {
    "editable": true,
    "slideshow": {
     "slide_type": ""
    },
    "tags": []
   },
   "outputs": [],
   "source": [
    "# Add your code here"
   ]
  },
  {
   "cell_type": "markdown",
   "id": "7a0e59bd-59c9-475f-8108-779049b212f7",
   "metadata": {
    "editable": false,
    "slideshow": {
     "slide_type": ""
    },
    "tags": []
   },
   "source": [
    "<details>\n",
    "  <summary>Click to reveal solution</summary>\n",
    "\n",
    "```Python\n",
    "result = 42 < 100\n",
    "print(result)\n",
    "```\n",
    "\n",
    "</details>"
   ]
  },
  {
   "cell_type": "markdown",
   "id": "2934652c-9a9b-4887-990f-32edbfef3f11",
   "metadata": {
    "editable": false,
    "slideshow": {
     "slide_type": ""
    },
    "tags": []
   },
   "source": [
    "So we have **operators** that create **bools**, so now we should look at **operators** that work with **bools**.\n",
    "The simplest one is ```not``` which inverts a **bool**, so ```True``` becomes ```False``` and ```False``` becomes ```True```. \n",
    "\n",
    "Please try out this example:\n",
    "```Python\n",
    "number = 5\n",
    "smaller_than_three = number < 3\n",
    "not_smalle_than_three = not smaller_than_three\n",
    "print(not_smalle_than_three)\n",
    "```"
   ]
  },
  {
   "cell_type": "code",
   "execution_count": null,
   "id": "95090b35-289d-45ae-9f84-96f086619349",
   "metadata": {
    "editable": true,
    "slideshow": {
     "slide_type": ""
    },
    "tags": []
   },
   "outputs": [],
   "source": [
    "# Copy the example here"
   ]
  },
  {
   "cell_type": "markdown",
   "id": "4353b9e5-1d3c-409a-a2f0-89b35b154338",
   "metadata": {
    "editable": false,
    "slideshow": {
     "slide_type": ""
    },
    "tags": []
   },
   "source": [
    "The next **operator** is ```and```.\n",
    "It becomes ```True``` if the values on both of its sides are ```True```.\n",
    "So \"You are learning ```and``` making progress.\" is ```True```,\n",
    "\"The dog is wet ```and``` the dog is dry.\" is ```False``` on the other hand.\n",
    "Opposed to ```and``` we have ```or```.\n",
    "It becomes ```True``` if one of the value on either side is ```True```,\n",
    "so \"The dog is wet ```or``` the dog is dry.\" Is always ```True```.\n",
    "We can combine these **operators** to create more complex expressions using ```()```.\n",
    "Everything inside the ```()``` is evaluated before everything outside.\n",
    "Please use this to print ```False``` using all of the **values** given in the following snippet:\n",
    "```Python\n",
    "value_1 = True \n",
    "value_2 = True\n",
    "value_3 = True\n",
    "```"
   ]
  },
  {
   "cell_type": "code",
   "execution_count": null,
   "id": "f59076a7-63e9-4cf8-9b76-abadc63a2009",
   "metadata": {
    "editable": true,
    "slideshow": {
     "slide_type": ""
    },
    "tags": []
   },
   "outputs": [],
   "source": [
    "# Copy the snippet here and write your own print-function"
   ]
  },
  {
   "cell_type": "markdown",
   "id": "e9d4c624-23e8-4ae3-908d-e9e607661d30",
   "metadata": {
    "editable": false,
    "slideshow": {
     "slide_type": ""
    },
    "tags": []
   },
   "source": [
    "<details>\n",
    "  <summary>Click to reveal solution</summary>\n",
    "\n",
    "There are multiple options possible the simplest one is to add an ```and not True```, to the end of the expression,\n",
    "so the code might look like:\n",
    "\n",
    "```Python\n",
    "value_1 = True \n",
    "value_2 = True\n",
    "value_3 = True\n",
    "print((value_1 or value_2) and not value_3)\n",
    "```\n",
    "\n",
    "</details>"
   ]
  },
  {
   "cell_type": "markdown",
   "id": "f1b2ea1a-338b-41b0-bbd4-26c29563e7e2",
   "metadata": {
    "editable": false,
    "slideshow": {
     "slide_type": ""
    },
    "tags": []
   },
   "source": [
    "## Mutable types\n",
    "Python has more **types** than just **float**, **int** and **bool**.\n",
    "These are sorted into multiple [categories](https://python-basics-tutorial.readthedocs.io/en/latest/types/index.html).\n",
    "These categories help us understand which **operators** can be applied to which type and what they do, when we apply them.\n",
    "Besides this some **types** have other properties that influence how we use them.\n",
    "An important property is  **mutability**. \n",
    "\n",
    "A **variable** with a **mutable** **type** can be changed in-place.\n",
    "To better illustrate this let us introduce our first **mutable** the **list**.\n",
    "\n",
    "A **list** is something that contains different **values**.\n",
    "If you recall our problem from the first day of the course you may remember,\n",
    "that we wanted to count the number of spikes per second.\n",
    "Our solution was to do this by increaseing a counter within a column.\n",
    "\n",
    "If we wanted to do this by hand we could write the counters on a piece of paper and you would get a **list**.\n",
    "A **list** in Python works very similar, as shown in the following example:\n",
    "\n",
    "```Python\n",
    "# Creating an already filled list\n",
    "# Like you write on your piece of paper the numbers are written into the []-brackets\n",
    "spike_numbers_unit_1 = [10, 12, 11, 9, 10]\n",
    "# Appending a value to a list requires us to use \"append\", what append is we will discuss later\n",
    "spike_numbers_unit_1.append(19983)\n",
    "# Removing an item from a list uses \"pop\". If we do not enter an int into pop, it removes the last item\n",
    "last_spike_number_unit_1 = spike_numbers_unit_1.pop()\n",
    "# Accessing a value in a list requires [], which are an operator on lists\n",
    "spike_number_unit_1_second_3 = spike_numbers_unit_1[2]\n",
    "```\n",
    "\n",
    "The last line might be especially confusing, since the third second is accessed with the number ```2```.\n",
    "In many programming languages the first element is the zeroth element, if you wish to investigate the reasons you may want to read up on [C-Arrays](https://en.wikibooks.org/wiki/C_Programming/Pointers_and_arrays#Pointers_and_Arrays).\n",
    "Before we discuss **lists** in detail we should return to the concept of **mutable**.\n",
    "A **list** is **mutable**, so I can do things to it that change it without using the **assignment-operator** ```=```. \n",
    "This not possible for **immutable** **types** like **float**. To better illustrate here are two code-samples:\n",
    "\n",
    "Example 1:\n",
    "```Python\n",
    "a = 5.4\n",
    "a + 3.5\n",
    "print(a)\n",
    "```\n",
    "\n",
    "Example 2:\n",
    "```Python\n",
    "a = [0.0, 4.5, 8.3]\n",
    "a.pop()\n",
    "a.append(42.0)\n",
    "print(a)\n",
    "```\n",
    "Please predict what will be printed and that test it in the next box."
   ]
  },
  {
   "cell_type": "code",
   "execution_count": null,
   "id": "9d6a9c4f-81ef-4cf9-ba28-e4ab67506d2a",
   "metadata": {
    "editable": true,
    "slideshow": {
     "slide_type": ""
    },
    "tags": []
   },
   "outputs": [],
   "source": [
    "# Copy the code here"
   ]
  },
  {
   "cell_type": "markdown",
   "id": "98537df1-454d-45d5-90dd-e585aa72314b",
   "metadata": {
    "editable": false,
    "slideshow": {
     "slide_type": ""
    },
    "tags": []
   },
   "source": [
    "As you can see the **immutable** **float** cannot be changed, we can only use the **assignment-operator** to assign a new **value** to the **variable**.\n",
    "The **mutable** **list** can be changed without the use of the **assignment-operator**.\n",
    "This has some interesting side-effects.\n",
    "Considering that I still stumble over the consequences of **mutable** and **immutable** sometimes I would like to take a detour.\n",
    "What do we mean when we write ```a = 4.0``` or ```a = [0, 3, 4]```.\n",
    "So far we translated it as: “Write into a **variable** called ```a``` whatever is on the right-side of the ```=```-sign.”\n",
    "If we use pen and paper and have to copy a simple **float** we write it down on a new place on the paper, so we make a **copy**.\n",
    "This is how the **assignment-operator** works for **immutable** objects, it **copies** them.\n",
    "So when we write:\n",
    "\n",
    "```Python\n",
    "spike_counter = 0\n",
    "spike_counter_copy = spike_counter.copy()\n",
    "```\n",
    "\n",
    "We end up with two **memory-cells** both containing the **value** ```0```.\n",
    "Now let us imagine we have to write down all the spike times for a report or a paper.\n",
    "Similar to the case above we want to use **values** from a **list** with a few thousand entries.\n",
    "Do we **copy** them or do we write \"see list no. X\"?\n",
    "So do we spend half an hour typing, risking to introduce mistakes or do we **refer** to the original?\n",
    "\n",
    "The reasonable choice is most often the second.\n",
    "Python works the same way. When we write ```[12, 23, 35]``` we should read this as “Create a **list** containing the **values** ```12```, ```23``` and ```35``` and be a **reference** to this **list**.”\n",
    "This means that ```a = [12, 23, 35]``` should be read as:\n",
    "\"Name a **variable**/**memory-cell** ```a```, create a **list** containing the **values** ```12```, ```23``` and ```35``` and assign to the **variable** a **reference** to this **list**.\"\n",
    "\n",
    "To abstract this behavior \"**Mutables** are assign via a **reference** and not **copied**.\"\n",
    "\n",
    "Please note that his is a very simplified view of what is going on and that the **mutable** concept in this form is rather unique to Python.\n",
    "Other languages differentiate very clearly between **values** and **references** often introducing the concept of constants.\n",
    "Should you decide to use other languages, remember the **memory-cells** and understand the concepts from there.\n",
    "\n",
    "So now we know that **mutable** **types** like list as stored and **assigned** as references. So let us go to a practical example:\n",
    "```Python\n",
    "spike_numbers_unit_1 = [12, 23, 35]\n",
    "spike_numbers_unit_1_reference = dish_1\n",
    "spike_numbers_unit_1_reference[1] = 42\n",
    "print(spike_numbers_unit_1)\n",
    "```\n",
    "\n",
    "Please attempt to predict what will be printed before you copy the code in the next-box and execute it."
   ]
  },
  {
   "cell_type": "code",
   "execution_count": null,
   "id": "2195b07c-878e-499d-8ea9-a1622421a63a",
   "metadata": {
    "editable": true,
    "slideshow": {
     "slide_type": ""
    },
    "tags": []
   },
   "outputs": [],
   "source": [
    "# Copy the code here"
   ]
  },
  {
   "cell_type": "markdown",
   "id": "31a2f5ea-2527-4679-8a7b-5b191133ca35",
   "metadata": {
    "editable": false,
    "slideshow": {
     "slide_type": ""
    },
    "tags": []
   },
   "source": [
    "As you have seen changing the ```spike_numbers_unit_1_reference``` also changed ```spike_numbers_unit_1```, because they both refer to the same **list**. \n",
    "Considering this might not always be desirable we have to ask ourselves: “How can we avoid this?”. If we remember the example of the written list, we could always **copy** the **list**. \n",
    "\n",
    "So instead of:\n",
    "```Python\n",
    "spike_numbers_unit_1_reference = spike_numbers_unit_1\n",
    "```\n",
    "We may write:\n",
    "```Python\n",
    "spike_numbers_unit_1_copy = spike_numbers_unit_1.copy()\n",
    "```\n",
    "Please adopt the code you used last and check if it works as expected.\n",
    "(Consider printing out the copy in addition to the original and ensure all **variables** are named correctly.)"
   ]
  },
  {
   "cell_type": "code",
   "execution_count": null,
   "id": "c11bd496-1991-4714-9a64-8058ba2ada87",
   "metadata": {
    "editable": true,
    "slideshow": {
     "slide_type": ""
    },
    "tags": []
   },
   "outputs": [],
   "source": [
    "# Copy the code here"
   ]
  },
  {
   "cell_type": "markdown",
   "id": "57b01162-9a1a-4d4f-b64f-4e8b7b81f71e",
   "metadata": {
    "editable": true,
    "slideshow": {
     "slide_type": ""
    },
    "tags": []
   },
   "source": [
    "\n"
   ]
  },
  {
   "cell_type": "markdown",
   "id": "f28d70a1-81c3-4ca8-81f6-84d6830f70e4",
   "metadata": {
    "editable": false,
    "slideshow": {
     "slide_type": ""
    },
    "tags": []
   },
   "source": [
    "## More data-types\n",
    "Now we are able to work with numbers and write them into **lists**.\n",
    "No let us check which parts of our algorithm we can already solve.\n",
    "\n",
    "1. [ ] Open the units-file\n",
    "2. [x] Figure out how many units there are (```number_of_units += 1```)\n",
    "3. [ ] Figure out when the last spike occurs in seconds\n",
    "4. [x] Create a column with one entry for every second between ```0``` and the last spike occurance. (```second_column = []``` and ```.append(second)```)\n",
    "5. [x] Use this column to begin a table (```table = [seconds_column]```)\n",
    "6. [ ] For every unit:\n",
    "    1. [x] Create a column containing the same amount of entries as the second-column (```unit_column = second_column.copy()```)\n",
    "    2. [x] Fill the list with ```0```s (```unit_column.append(0)```)\n",
    "    3. [ ] For every row in the unit file:\n",
    "        1. [x] Find the second to which the spike belongs (```spike_time >= second and spike_time <= second + 1```)\n",
    "        2. [ ] Increase the entry in the column corresponding to this second (```unit_column[second] += 1```)\n",
    "    5. [x] Add the column to the table (```table.append(unit_column)```)\n",
    "7. [ ] Open the immobility file\n",
    "8. [x] Create a column containing the same amount of entries as the second-column (```immobility_column = second_column.copy()```)\n",
    "9. [ ] For every second in the immobility-list:\n",
    "    1. [x] Mark as \"Yes\" if it is within an immobility phase otherwise mark as \"No\" (```immobility_column[second] = second >= immobility_phase_begin and second <= immobility_phase_end```)\n",
    "10. [x] Add the column to the table (```table.append(immobility_column)```)"
   ]
  },
  {
   "cell_type": "markdown",
   "id": "e71b739e-7a92-4f28-8359-faed3e9ea026",
   "metadata": {
    "editable": false,
    "slideshow": {
     "slide_type": ""
    },
    "tags": []
   },
   "source": [
    "### Strings\n",
    "So we already have most of it together.\n",
    "If we review it we still have to deal with **files** and with lines.\n",
    "The **files** are a data-type themselves just like **lists**.\n",
    "But before we investigate them let us talk about the lines.\n",
    "These are represented as character-string and have the type **str**.\n",
    "Let us begin with a simple example:\n",
    "```Python\n",
    "message = \"Hello world!\"\n",
    "print(message)\n",
    "```\n",
    "Here we created a variable ```message``` and assigned the **str** ```\"Hello world!\"``` to it.\n",
    "\n",
    "As an short exercise please write a little bit of code to print your name."
   ]
  },
  {
   "cell_type": "code",
   "execution_count": null,
   "id": "cbf34694-f3be-468c-80c4-66676b140f34",
   "metadata": {
    "editable": true,
    "slideshow": {
     "slide_type": ""
    },
    "tags": []
   },
   "outputs": [],
   "source": [
    "# Write your code here"
   ]
  },
  {
   "cell_type": "markdown",
   "id": "81ef749e-bb0c-4a20-8896-b4de1f31a5cb",
   "metadata": {
    "editable": false,
    "slideshow": {
     "slide_type": ""
    },
    "tags": []
   },
   "source": [
    "### Files\n",
    "**Files** are created by using ```open```. Let us try this by opening one of the csv-files. Please copy and execute this code:\n",
    "```Python\n",
    "csv_file = open(\"./data_neuron/session_2023111501010_immobility.csv\")\n",
    "print(csv_file)\n",
    "```"
   ]
  },
  {
   "cell_type": "code",
   "execution_count": null,
   "id": "140231ca-0a6a-4119-bd09-9a52f4167105",
   "metadata": {
    "editable": true,
    "slideshow": {
     "slide_type": ""
    },
    "tags": []
   },
   "outputs": [],
   "source": [
    "# Copy the code here"
   ]
  },
  {
   "cell_type": "markdown",
   "id": "919fcec2-f02e-4bec-bca1-5ecdbf773d3f",
   "metadata": {
    "editable": false,
    "slideshow": {
     "slide_type": ""
    },
    "tags": []
   },
   "source": [
    "As you can see the output is not that useful yet.\n",
    "To make it more useful we can use ```read``` to get a **str**.\n",
    "It works similar to ```append``` for **list**.\n",
    "Both of them are **methods**, which we will discuss much later.\n",
    "For now all you need to know is that a **method** is a **function** that belongs to a **type**.\n",
    "So every **list** variable supports ```pop```.\n",
    "So let us use ```read``` on our file.\n",
    "```read``` gives us the content of the file as an **str**.\n",
    "What do you expect if we execute the following code:\n",
    "```Python\n",
    "csv_file = open(\"./data_neuron/session_2023111501010_immobility.csv\")\n",
    "content = csv_file.read()\n",
    "print(content)\n",
    "```\n",
    "Please copy the code and compare it to your expectations."
   ]
  },
  {
   "cell_type": "code",
   "execution_count": null,
   "id": "b4a0ea6d-512f-4aee-9435-2e40fb7f84bf",
   "metadata": {
    "editable": true,
    "slideshow": {
     "slide_type": ""
    },
    "tags": []
   },
   "outputs": [],
   "source": [
    "# Copy the code here"
   ]
  },
  {
   "cell_type": "markdown",
   "id": "92ed0807-0560-44d4-a638-17719fafee5b",
   "metadata": {
    "editable": false,
    "slideshow": {
     "slide_type": ""
    },
    "tags": []
   },
   "source": [
    "We now know how to read from files, but to save our results later we have to write to them.\n",
    "To achieve this we have to ```open``` a file in writing mode.\n",
    "We do this by writing ```file_to_write = open(“./write.txt”, “w”)``` .\n",
    "The ```w``` in this case stands for write. For further information consult the [official documentation]( https://docs.python.org/3/library/functions.html#open).\n",
    "As a short example let us write ```Hello file!``` into a file.\n",
    "```Python\n",
    "file_to_write = open(\"./write.txt\", \"w\")\n",
    "text_to_write = \"Hello file!\"\n",
    "file_to_write.write(text_to_write)\n",
    "```"
   ]
  },
  {
   "cell_type": "code",
   "execution_count": null,
   "id": "218be5ec-4cfc-40ef-aba9-b01d10ad19d5",
   "metadata": {
    "editable": true,
    "slideshow": {
     "slide_type": ""
    },
    "tags": []
   },
   "outputs": [],
   "source": [
    "# Copy the code here"
   ]
  },
  {
   "cell_type": "markdown",
   "id": "eae52bb9-8997-47b8-a96d-9a408cb939b6",
   "metadata": {
    "editable": false,
    "slideshow": {
     "slide_type": ""
    },
    "tags": []
   },
   "source": [
    "### Working with strings\n",
    "\n",
    "You may have noticed, that the resulting **str** is rather long and it may not be usable for us.\n",
    "So we should make it smaller.\n",
    "For this we use the ```split```, which takes one character and gives us a **list** of **str** to use.\n",
    "First we wish to separate the lines, so we need to figure out, what makes the lines special.\n",
    "The normal approach for programmers is to [search](https://duckduckgo.com/?q=What+marks+a+newline+in+a+csv&ia=web) their problem and use the first good result they find.\n",
    "In this case it is on [Stack Overflow](https://stackoverflow.com/questions/24018597/adding-a-newline-character-within-a-cell-csv).\n",
    "As you may note the answer does not really fit our question, but ´´´\\n´´´ seems to be center so let us [search](https://duckduckgo.com/?q=what+is+%5Cn&ia=web) what this means.\n",
    "This again leads us to [Stack Overflow](https://stackoverflow.com/questions/15433188/what-is-the-difference-between-r-n-r-and-n). \n",
    "The relevant answer states: \"```\\n``` = LF( Line Feed) -> Used as a new line character in Unix/Mac OS X\". So we can guess that a new line starts with ```\\n```, so time to try it out by adapting our code:\n",
    "```Python\n",
    "csv_file = open(\"./data_neuron/session_2023111501010_immobility.csv\")\n",
    "content = csv_file.read()\n",
    "lines = content.split(\"\\n\")\n",
    "print(lines)\n",
    "```"
   ]
  },
  {
   "cell_type": "code",
   "execution_count": null,
   "id": "52a47808-bd6a-48cf-a525-3a9740614a11",
   "metadata": {
    "editable": true,
    "slideshow": {
     "slide_type": ""
    },
    "tags": []
   },
   "outputs": [],
   "source": [
    "# Copy the code here"
   ]
  },
  {
   "cell_type": "markdown",
   "id": "bd28ee30-7b56-4fd8-8386-59f56e22830d",
   "metadata": {
    "editable": false,
    "slideshow": {
     "slide_type": ""
    },
    "tags": []
   },
   "source": [
    "You should now see a **list** in ```[]``` consisting of **str**, which are marked by wither ```\"``` or ```'``` separated by ```, ```.\n",
    "\n",
    "The process that got us here is typical for solving a programming problem.\n",
    "We first search for a rough solution to our problem and then try it out.\n",
    "Most of the time this leads to failure indicating that we need to understand the problem better.\n",
    "Good sources for beginners are large-language-models like ChatGPT or Claude, official documentations like the one for [python]( https://python-basics-tutorial.readthedocs.io/en/latest/index.html) or special for a like [Stack Overflow]( https://stackoverflow.com/questions).\n",
    "Considering that a good programmer solves a problem once, most programming time will be spent in this testing and learning circle, interrupted by rethinking the problem and the current solution.\n",
    "\n",
    "Our current problem is reading in the csv-files.\n",
    "And so far we managed to read in individual lines.\n",
    "We now wish to access the individual elements using ```split```.\n",
    "Please use what we have learned so far to split the first two lines into **lists** of elements of **str**-values."
   ]
  },
  {
   "cell_type": "code",
   "execution_count": null,
   "id": "4c273cea-462c-42e5-8c4f-943565705b65",
   "metadata": {
    "editable": true,
    "slideshow": {
     "slide_type": ""
    },
    "tags": []
   },
   "outputs": [],
   "source": [
    "# Write your code here"
   ]
  },
  {
   "cell_type": "markdown",
   "id": "7c6c278f-2c75-4341-8e32-272b5c7860bc",
   "metadata": {
    "editable": false,
    "slideshow": {
     "slide_type": ""
    },
    "tags": []
   },
   "source": [
    "<details>\n",
    "  <summary>Click to reveal solution</summary>\n",
    "\n",
    "```Python\n",
    "csv_file = open(\"./data_neuron/session_2023111501010_immobility.csv\")\n",
    "content = csv_file.read()\n",
    "lines = content.split(\"\\n\")\n",
    "line_0 = lines[0]\n",
    "line_1 = lines[1]\n",
    "line_0_values = line_0.split(\",\")\n",
    "line_1_values = line_1.split(\",\")\n",
    "print(line_0_values)\n",
    "print(line_1_values)\n",
    "```\n",
    "\n",
    "</details>"
   ]
  },
  {
   "cell_type": "markdown",
   "id": "db6aeac7-8399-4528-89fe-6b275398148b",
   "metadata": {
    "editable": false,
    "slideshow": {
     "slide_type": ""
    },
    "tags": []
   },
   "source": [
    "## Type conversions\n",
    "The last step to use the contents are **type-conversions**.\n",
    "A **type-conversion** is the reinterpretation of on e **type** as another.\n",
    "So we can ask the computer to interpret the **str** ```42``` as an **int**. To do this we write:\n",
    "```Python\n",
    "String = “42”\n",
    "Integer = int(String)\n",
    "```\n",
    "The same way we can go **convert** to **float** and **str**.\n",
    "To practice this please convert this small table of values.\n",
    "Before you execute your code try to predict what you will see.\n",
    "\n",
    "| Value   | Origial **type** | Convert to **type** |\n",
    "| ------- | ---------------- | ------------------- |\n",
    "| 42      | int              | float               |\n",
    "| 1.0     | float            | int                 |\n",
    "| \"Hello\" | str              | int                 |\n",
    "| \"42\"    | str              | float               |\n",
    "| \"42!\"   | str              | int                 |"
   ]
  },
  {
   "cell_type": "code",
   "execution_count": null,
   "id": "8f4a9f9e-84c3-4157-a422-c01d362733e7",
   "metadata": {
    "editable": true,
    "slideshow": {
     "slide_type": ""
    },
    "tags": []
   },
   "outputs": [],
   "source": [
    "# Write your code here"
   ]
  },
  {
   "cell_type": "markdown",
   "id": "900aa0a9-4d1d-41e0-b412-ca013584b131",
   "metadata": {
    "editable": false,
    "slideshow": {
     "slide_type": ""
    },
    "tags": []
   },
   "source": [
    "## Code adaption\n",
    "\n",
    "With this new information, we will have to adapt out algorithm.\n",
    "This is not unusual; as we work on a problem, we understand it better and have to adapt our plans accordingly.\n",
    "This means we iteratively approach a correct solution to the problem.\n",
    "\n",
    "We should make the following changes to our algorithm:\n",
    "- We have to skip the first line in the csv-files, because they do not contain useful data\n",
    "- We have so split the lines to get the unit\n",
    "- We have to assign the value to the correct unit\n",
    "\n",
    "\n",
    "1. [x] Open the units-file ```units_file = open(\"./data_neuron/session_2023111501010_units.csv\")```\n",
    "2. [ ] Skip the first row\n",
    "3. [ ] Figure out when the last spike occurs in seconds\n",
    "4. [ ] Figure out how many units there are\n",
    "5. [x] Create a column with one entry for every second between ```0``` and the last spike occurance\n",
    "6. [x] Use this column to begin a table\n",
    "7. [ ] For every unit:\n",
    "    1. [x] Create a column containing the same amount of entries as the second-column (```unit_column = second_column.copy()```)\n",
    "    2. [x] Fill the list with ```0```s (```unit_column.append(0)```)\n",
    "8. [ ] For every row in the unit file:\n",
    "    1. [x] Get the unit number and spike time ```rat_id, unit_id, channel, spike_time = row.split(\",\")```\n",
    "    2. [x] Find the second to which the spike belongs\n",
    "        1. [x] Increase the entry in the column corresponding to this second and unit(```unit_column[unit_id][int(spike_time)] += 1```)\n",
    "9. [ ] For every unit:\n",
    "    1. [x] Add the column to the table (```table.append(unit_column)```)\n",
    "10. [x] Open the immobility file ```immobility_file = open(\"./data_neuron/session_2023111501010_immobility.csv\")```\n",
    "11. [x] Create a list with immobility phases (```immobility_phases = []```)\n",
    "12. [ ] Skip the first row\n",
    "13. [ ] For every row in the immobility file:\n",
    "    1. [x] Get the begin and end of the phase (```begin_seconds, end_seconds = rown.split(\",\")```\n",
    "    2. [x] Add them the immobility phases(```immobility_phases.append([begin_seconds, end_seconds])```\n",
    "15. [x] Create a column containing the same amount of entries as the second-column\n",
    "16. [ ] For every second in the immobility-list:\n",
    "    1. [x] Mark as outside phase ```is_in_phase = False```\n",
    "    2. [ ] For every phase in immobility-list\n",
    "        1. [x] Mark as ```True``` if it is within the pase (```is_in_phase = second > immobility_phases[0][0] and second < immobility_phases[0][0]```)\n",
    "        2. [ ] If yes stop\n",
    "17. [x] Add the column to the table (```table.append(immobility_column)```)\n",
    "\n",
    "Considering that his list becomes rather complex it might be time to write it as [pseudo code](https://en.wikipedia.org/wiki/Pseudocode).\n",
    "Pseudo-code is any notation that looks like a programming language, but is not.\n",
    "It is often used to document algorithms or prepare for a programs implementation.\n",
    "Most pseudo code reads very similar to Python.\n",
    "\n",
    "Here we mark everything that can not be executed as a comment using ```#```.\n",
    "```Python\n",
    "units_file = open(\"./data_neuron/session_2023111501010_units.csv\")\n",
    "# Skip the first row\n",
    "# Figure out when the last spike occurs in seconds\n",
    "# Figure out how many units there are\n",
    "seconds_column = []\n",
    "seconds_counter = 1\n",
    "# For every second between 1 and the last spikes oocurance:\n",
    "    seconds_column.append(seconds_counter)\n",
    "    seconds_counter += 1\n",
    "table = [seconds]\n",
    "unit_columns = []\n",
    "# For every unit:\n",
    "    unit_column = seconds_column.copy()\n",
    "    # For every second in unit_column\n",
    "        unit_column[second] = 0\n",
    "    unit_columns.append(unit_column)\n",
    "# For every row in the unit file:\n",
    "    rat_id, unit_id, channel, spike_time = row.split(\",\")\n",
    "    unit_columns[unit_id][int(spike_time)] += 1\n",
    "# For every unit:\n",
    "    table.append(unit_column)\n",
    "immobility_file = open(\"./data_neuron/session_2023111501010_immobility.csv\")\n",
    "immobility_phases = []\n",
    "# Skip the first row in immobility file\n",
    "# For every row in the immobility file after the first:\n",
    "    begin_seconds, end_seconds = rown.split(\",\")```\n",
    "    immobility_phases.append([float(begin_seconds), float(end_seconds)])\n",
    "immobility_column = seconds_column.copy()\n",
    "# For every second in the immobility-list:\n",
    "    is_in_phase = False\n",
    "    # For every phase in immobility-list\n",
    "        is_in_phase = second > immobility_phases[0][0] and second < immobility_phases[0][0]\n",
    "        # If yes stop\n",
    "table.append(immobility_column)\n",
    "```"
   ]
  },
  {
   "cell_type": "markdown",
   "id": "01462ce0-f649-4dd9-a9c1-763e0ea48e0e",
   "metadata": {
    "editable": false,
    "slideshow": {
     "slide_type": ""
    },
    "tags": []
   },
   "source": [
    "## Other relevant types\n",
    "\n",
    "Before we conclude this unit there are three more **types** you should know.\n",
    "While we will not use them directly you should have heard of them and remember them for later."
   ]
  },
  {
   "cell_type": "markdown",
   "id": "299d314a-79e6-4dcd-9752-2fa3693a64e3",
   "metadata": {
    "editable": false,
    "slideshow": {
     "slide_type": ""
    },
    "tags": []
   },
   "source": [
    "### Tuples\n",
    "\n",
    "A **tuple** is in most cases best understood as an **immutable** **list**.\n",
    "They are created with ```()``` or by separating **values** with ```,```.\n",
    "```Python\n",
    "tuple_1 = (\"A\", 42)\n",
    "tuple_2 = \"Foo\", \"bar\", 48\n",
    "print(tuple_1)\n",
    "print(tuple_2)\n",
    "```\n",
    "\n",
    "Considering that our phases will not change after we saved them, **tuples** would be better suited for our immobility phases."
   ]
  },
  {
   "cell_type": "markdown",
   "id": "eae475b9-5a5b-4890-be22-3b998ec5d5f9",
   "metadata": {
    "editable": false,
    "slideshow": {
     "slide_type": ""
    },
    "tags": []
   },
   "source": [
    "### Dictionaries\n",
    "\n",
    "A **dict** is a mapping, this means it maps one **value** to another.\n",
    "For example a number to a name.\n",
    "It is also often used for sparse data.\n",
    "This may refer to a **list** were most entries are irrelevant.\n",
    "A good example would be a list of the people in this course by their student-id.\n",
    "To store it in a list we would need over 300.000 entries for a handful of people,\n",
    "but a dict maps the **values** we want to store a set of **keys** like your student-ids.\n",
    "\n",
    "```Python\n",
    "# A dict is started with\n",
    "name_to_age = {\n",
    "\t# Every entry consists of a key followed by “:” the value and then “,”\n",
    "    \"John Doe\":  28,\n",
    "    \"Maria Musterfrau\": 31,\n",
    "    \"Max Mustermann\": 34,\n",
    "    \"Karl Dosenkohl\": 19\n",
    "# The dict ends with }\n",
    "}\n",
    "id_to_confusion = {}\n",
    "# New values can be added by accessing the element with []\n",
    "id_to_confusion[123456] = 0.2\n",
    "id_to_confusion[43] = 0.9\n",
    "# Individual elements can be accessed with []\n",
    "age_john_doe = name_to_age[\"John Doe\"]\n",
    "print(age_john_doe)\n",
    "print(name_to_age)\n",
    "print(id_to_confusion)\n",
    "\n",
    "# No let us get all the keys from the dict\n",
    "# This can be useful to if we want to test if a key exists or itereate over the keys\n",
    "keys = id_to_confusion.keys()\n",
    "print(keys)\n",
    "# All the values in the dict\n",
    "# This can be useful if we want to find a specific value\n",
    "values = id_to_confusion.values()\n",
    "print(values)\n",
    "```\n",
    "\n",
    "Considering that the unit ids might not be consecutive, so we may jump from ```0``` to ```17```,\n",
    "**dicts** might be the correct **type** for our ```unit_columns```."
   ]
  },
  {
   "cell_type": "markdown",
   "id": "4eb764d3-c36a-4746-b569-441c2e1a6349",
   "metadata": {
    "editable": false,
    "slideshow": {
     "slide_type": ""
    },
    "tags": []
   },
   "source": [
    "### Sets\n",
    "\n",
    "Mathematical sets re represented by **set**. They are created using ```{}```.\n",
    "Please note that a mathematical set does not contain duplicates.\n",
    "```Python\n",
    "# Tuple for set\n",
    "tuple_for_set = {1, 2, 3, 3, 4}\n",
    "new_set = set(tuple_for_set)\n",
    "print(new_set)\n",
    "# Will print (1,2,3,4), so the double 3 is removed\n",
    "```"
   ]
  },
  {
   "cell_type": "code",
   "execution_count": null,
   "id": "8558a061-6bd5-4a56-8ad9-aeead0eea232",
   "metadata": {
    "editable": true,
    "slideshow": {
     "slide_type": ""
    },
    "tags": []
   },
   "outputs": [],
   "source": [
    "# Feel free to play around with these types"
   ]
  },
  {
   "cell_type": "markdown",
   "id": "78dbdfba-41f2-488e-b83c-5625a26a4e02",
   "metadata": {
    "editable": false,
    "slideshow": {
     "slide_type": ""
    },
    "tags": []
   },
   "source": [
    "## Summary\n",
    "\n",
    "In this unit we learned how to use mathematical operators, what types are and how to convert them into each other.\n",
    "Out current algorithm looks like this:\n",
    "\n",
    "```Python\n",
    "units_file = open(\"./data_neuron/session_2023111501010_units.csv\")\n",
    "# Skip the first row\n",
    "# Figure out when the last spike occurs in seconds\n",
    "seconds_column = list()\n",
    "seconds_counter = 1\n",
    "# For every second between 1 and the last spikes oocurance:\n",
    "    seconds_column.append(seconds_counter)\n",
    "    seconds_counter += 1\n",
    "table = [seconds]\n",
    "unit_columns = dict()\n",
    "# For every unit:\n",
    "    unit_column = seconds_column.copy()\n",
    "    # For every second in unit_column\n",
    "        unit_column[second] = 0\n",
    "    unit_columns[unit_id] = unit_column\n",
    "# For every row in the unit file:\n",
    "    rat_id, unit_id, channel, spike_time = row.split(\",\")\n",
    "    unit_columns[unit_id][int(spike_time)] += 1\n",
    "# For every unit:\n",
    "    table.append(unit_column)\n",
    "immobility_file = open(\"./data_neuron/session_2023111501010_immobility.csv\")\n",
    "immobility_phases = list()\n",
    "# Skip the first row in immobility file\n",
    "# For every row in the immobility file after the first:\n",
    "    begin_seconds, end_seconds = rown.split(\",\")```\n",
    "    immobility_phases.append((float(begin_seconds), float(end_seconds)))\n",
    "immobility_column = seconds_column.copy()\n",
    "# For every second in the immobility-list:\n",
    "    is_in_phase = False\n",
    "    # For every phase in immobility-list\n",
    "        begin_in_seconds = phase[0]\n",
    "        end_in_seconds = phase[1]\n",
    "        is_in_phase = second > begin_in_seconds and second < end_in_seconds\n",
    "        # If yes stop\n",
    "table.append(immobility_column)\n",
    "```"
   ]
  },
  {
   "cell_type": "markdown",
   "id": "74035706-1e62-487d-9e82-d4acb3ce120d",
   "metadata": {
    "editable": false,
    "slideshow": {
     "slide_type": ""
    },
    "tags": []
   },
   "source": [
    "So overall we have most of our building blocks together.\n",
    "Considering that the control structures we take on next lesson use the operators and types as a base all open questions should be addressed now, so please ask them."
   ]
  }
 ],
 "metadata": {
  "kernelspec": {
   "display_name": "Python 3 (ipykernel)",
   "language": "python",
   "name": "python3"
  },
  "language_info": {
   "codemirror_mode": {
    "name": "ipython",
    "version": 3
   },
   "file_extension": ".py",
   "mimetype": "text/x-python",
   "name": "python",
   "nbconvert_exporter": "python",
   "pygments_lexer": "ipython3",
   "version": "3.12.7"
  }
 },
 "nbformat": 4,
 "nbformat_minor": 5
}
