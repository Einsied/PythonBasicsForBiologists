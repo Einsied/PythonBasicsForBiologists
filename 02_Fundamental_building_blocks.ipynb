{
 "cells": [
  {
   "cell_type": "markdown",
   "id": "a47b5725-be0d-45d5-8e31-cc63ea199f25",
   "metadata": {
    "editable": false,
    "slideshow": {
     "slide_type": ""
    },
    "tags": []
   },
   "source": [
    "# Fundamental building blocks"
   ]
  },
  {
   "cell_type": "markdown",
   "id": "6b8f1f56-98ab-4ca7-8c04-5d240c24d7d0",
   "metadata": {
    "editable": false,
    "slideshow": {
     "slide_type": ""
    },
    "tags": []
   },
   "source": [
    "## Recall\n",
    "\n",
    "Yesterday we discussed programming and computers in general. We used the example of Alice and Bob. To recall Bob was researching the growth of cancer-cells and alike counted them from him. She sent the results in comma-separated-value files.\n",
    "\n",
    "While were exploring the example we develop a simple algorithm:\n",
    "\n",
    "```\n",
    "For every file we do the following:\n",
    "    1. We open the file \n",
    "    2. We figure out what day and dish it is \n",
    "    3. We create a counter for the number of cells \n",
    "    4. We create a counter for the area covered by the cells \n",
    "    5. We ignore the first line \n",
    "    6. For every line we do the following:\n",
    "        1. We increase the cell counter \n",
    "        2. We add the cell area to the cell-area counter \n",
    "    7. We save the cell-counter \n",
    "    8. We save the area counter\n",
    "```\n",
    "\n",
    "With this example in mind we learned that computers use **memory-cells** to store data and that we refer to these one or multiple of these cells with **variables**. We also learned that we change what is in this cells with **operators**, before approaching **functions** and executing our first line of python. \n",
    "To warm up I would ask you to copy the following lines of code into the cell below and execute them using the “Shift” and “Return” keys.\n",
    "```Python\n",
    "cell_counter = 0\n",
    "print(cell_counter)\n",
    "cell_counter += 1\n",
    "print(cell_counter)\n",
    "```"
   ]
  },
  {
   "cell_type": "code",
   "execution_count": null,
   "id": "80f6191b-ad91-45ff-a3f0-9000994d6d97",
   "metadata": {
    "editable": true,
    "slideshow": {
     "slide_type": ""
    },
    "tags": []
   },
   "outputs": [],
   "source": [
    "Copy the code here"
   ]
  },
  {
   "cell_type": "markdown",
   "id": "08a2c785-af78-45ec-8dbf-f3818ea710ad",
   "metadata": {
    "editable": false,
    "slideshow": {
     "slide_type": ""
    },
    "tags": []
   },
   "source": [
    "## Operators\n",
    "\n",
    "Now that you have warmed up a little bit we can begin talking about **operators** again. There is a long list of [python-operators](https://docs.python.org/3/library/operator.html#mapping-operators-to-functions), which we will explore slowly. \n",
    "\n",
    "The most central **operator** is the assignment **operator** (```=```). It takes whatever is on its right and stores it in the variable to its left. So if we write ```a = b``` we take whatever ```b``` is and write it into ```a```. The term “whatever” is chosen quite deliberately here, but we will come to this later.\n",
    "\n",
    "Now that we recalled how to assign things and considering that we wish to count things we should introduce the basic arithmetic operators, these are mostly identical to the ones you use everyday. To better illustrate them I attached an example usage with the result.\n",
    "\n",
    "| Operator  | Action         | Example       | Resulting value |\n",
    "| --------- | -------------- | ------------- | --------------- |\n",
    "| ```+```   | Addition       | ```3 + 4```   | 7               |\n",
    "| ```-```   | Substraction   | ```8 - 3```   | 5               | \n",
    "| ```*```   | Multiplikation | ```2 * 3```   | 6               |\n",
    "| ```**```  | Power of       | ```2 ** 3```  | 8               |\n",
    "| ```/```   | Division       | ```8 / 4 ```  | 2               |\n",
    "\n",
    "Now let us parctice with tese a bit. \n",
    "Here are a few simple mathematical operations that you should solve in python.\n",
    "Do not forget to use the ```print```-function to display the resutls."
   ]
  },
  {
   "cell_type": "markdown",
   "id": "5137b3f7-12ae-45a9-9958-a9f912b6c9b3",
   "metadata": {
    "editable": false,
    "slideshow": {
     "slide_type": ""
    },
    "tags": []
   },
   "source": [
    "```6 + 9```"
   ]
  },
  {
   "cell_type": "code",
   "execution_count": null,
   "id": "3383ccea-5cb7-4050-912e-388218eb6e2f",
   "metadata": {
    "editable": true,
    "slideshow": {
     "slide_type": ""
    },
    "tags": []
   },
   "outputs": [],
   "source": [
    "Add your code here"
   ]
  },
  {
   "cell_type": "markdown",
   "id": "c1f959f4-fd31-45ed-84db-6aba64357a8b",
   "metadata": {
    "editable": false,
    "slideshow": {
     "slide_type": ""
    },
    "tags": []
   },
   "source": [
    "<details>\n",
    "  <summary>Click to reveal solution</summary>\n",
    "\n",
    "```Python\n",
    "result = 6 + 9\n",
    "print(result)\n",
    "```\n",
    "\n",
    "</details>\n",
    "\n",
    "The second power a and b, where a is the difference between twelve and six and b is two times four."
   ]
  },
  {
   "cell_type": "code",
   "execution_count": null,
   "id": "a0d5ecf7-d6a5-43d6-b0cb-a0c3a68b0d3e",
   "metadata": {
    "editable": true,
    "slideshow": {
     "slide_type": ""
    },
    "tags": []
   },
   "outputs": [],
   "source": [
    "Add your code here"
   ]
  },
  {
   "cell_type": "markdown",
   "id": "d8da1e43-9685-4ae3-a3fe-0077b61abae6",
   "metadata": {
    "editable": false,
    "slideshow": {
     "slide_type": ""
    },
    "tags": []
   },
   "source": [
    "<details>\n",
    "  <summary>Click to reveal solution</summary>\n",
    "\n",
    "```Python\n",
    "a = 12 - 6\n",
    "b = 2 * 4\n",
    "result = (a + b)**2\n",
    "\n",
    "print(result)\n",
    "```\n",
    "\n",
    "</details>\n",
    "\n",
    "```11 / 5 ```"
   ]
  },
  {
   "cell_type": "code",
   "execution_count": null,
   "id": "942c7ee2-6a17-465d-85f7-55ec211b2269",
   "metadata": {
    "editable": true,
    "slideshow": {
     "slide_type": ""
    },
    "tags": []
   },
   "outputs": [],
   "source": [
    "Add your code here"
   ]
  },
  {
   "cell_type": "markdown",
   "id": "bd270e41-5d70-4557-8dbf-94553fa603b1",
   "metadata": {
    "editable": false,
    "raw_mimetype": "",
    "slideshow": {
     "slide_type": ""
    },
    "tags": []
   },
   "source": [
    "<details>\n",
    "  <summary>Click to reveal solution</summary>\n",
    "\n",
    "```Python\n",
    "result = 11 / 5\n",
    "\n",
    "print(result)\n",
    "```\n",
    "\n",
    "</details>\n",
    "\n",
    "Now the last exercise resulted in number with a ```.``` or a floating-point-number. This may seem trivial at the moment until you learn there is a second division operator ```//``` floor-division. Please repeat the exercise above with this operator and observe the result.'"
   ]
  },
  {
   "cell_type": "code",
   "execution_count": null,
   "id": "3cc0e7d9-19d5-4b40-81e6-9dc67b8daf26",
   "metadata": {
    "editable": true,
    "slideshow": {
     "slide_type": ""
    },
    "tags": []
   },
   "outputs": [],
   "source": [
    "Add your code here"
   ]
  },
  {
   "cell_type": "markdown",
   "id": "f5ac0b75-4e9b-4d25-b212-5b4493bf67f0",
   "metadata": {
    "editable": false,
    "slideshow": {
     "slide_type": ""
    },
    "tags": []
   },
   "source": [
    "This time you got a number without an ```.``` these are called integers. This should alarm you slightly. Why are there two **operators** that do almost the same thing? The answer is the way computer store data in their **memory-cells**. You may recall that they store data in binary as ```1``` and ```0```. So ```00000101``` corresponds to ```5``` in the decimal system. We introduced this as an example for how a number could be stored. In practice the [Two's complement](https://en.wikipedia.org/wiki/Two%27s_complement) is used, but the differences do not matter for us.\n",
    "As we discussed the content of **memory-cells** can be interpreted in different ways, we therefore assign every **variable** a **type**, so we know how interpret the data in the **memory-cell** the **variable** corresponds to. This means how we interpret the content of a **memory-cell** depends on the **type** of a **variable**.\n",
    "The way we introduced binary-numbers above they can only represent integers or natural numbers. In Python the **type** of integers is **int**. If we wish to represent floating-point-numbers we have to split our **memory-cell** into three different areas. The sign telling us if the number is positive or negative, the fraction telling us what comes behind the ```.``` and the exponent. To get our final floating-point-number or **float** we calculate:\n",
    "```\n",
    "floating_point_number = 0.1Fraction * (2**Exponent)\n",
    "```\n",
    "To visualize we can use an illustration from [Wikipedia](https://commons.wikimedia.org/wiki/File:Float_example.svg).\n",
    "\n",
    "![Illustration of sign, fraction and exponent in memory-cells](https://upload.wikimedia.org/wikipedia/commons/d/d2/Float_example.svg)\n",
    "\n",
    "There are a bit more nuances to **floats** and how they can become dangerous. Once you have programmed for a while you may wish to read up on [IEEE-754](https://en.wikipedia.org/wiki/IEEE_754) and [rounding-errors](https://en.wikipedia.org/wiki/Round-off_error). For now we will focus on datatypes.\n"
   ]
  },
  {
   "cell_type": "markdown",
   "id": "f1b2ea1a-338b-41b0-bbd4-26c29563e7e2",
   "metadata": {
    "editable": false,
    "slideshow": {
     "slide_type": ""
    },
    "tags": []
   },
   "source": [
    "## Mutable types\n",
    "Python has more **types** than just **float** and **int**. Since you can introduce your own data **types** if you wish these are sorted into multiple [categories](https://python-basics-tutorial.readthedocs.io/en/latest/types/index.html).These categories help us understand which **operators** can be applied to which type and what they do, when we apply them. Besides this some **types** have other properties that influence how we use them. An important property is  **mutability**. \n",
    "\n",
    "A **variable** with a **mutable** **type** can be changed in-place. To better illustrate this let us introduce our first **mutable** the **list**.\n",
    "\n",
    "A **list** is something that contains different **values**.  If you recall Bobs problem from the first day of the course you may remember, that he had multiple petri dishes and wanted to investigate the growth of cancer-cells and therefore count the number of cells in each dish for twelve days. So for every dish we get 12 values representing the number of cells on every day, you could write them on a piece of paper and you would get a **list**. A **list** in Python works very similar, as shown in the following example:\n",
    "```Python\n",
    "# Creating an already filled list\n",
    "# Like you write on your piece of paper the numbers are written into the []-brackets\n",
    "dish_1 = [12, 20, 43, 87, 172, 351, 721, 1404, 2900, 5832, 10915]\n",
    "# Appending a value to a list requires us to use \"append\", what append is we will discuss later\n",
    "dish_1.append(19983)\n",
    "# Removing an item from a list uses \"pop\". If we do not enter an int into pop, it removes the last item\n",
    "last_item_dish_1 = dish_1.pop()\n",
    "# Accessing a value in a list requires [], which are an operator on lists\n",
    "dish_1_day_3 = dish_1[2]\n",
    "```\n",
    "The last line might be especially confusing, since the third day is accessed with the number ```2```. In many programming languages the first element is the zeroth element, if you wish to investigate the reasons you may want to read up on [C-Arrays](https://en.wikibooks.org/wiki/C_Programming/Pointers_and_arrays#Pointers_and_Arrays).\n",
    "Before we discuss **lists** in detail we should return to the concept of **mutable**. A **list** is **mutable**, so I can do things to it that change it without using the **assignment-operator** ```=```.  This not possible for **immutable** **types** like **float**. To better illustrate here are two code-samples:\n",
    "\n",
    "Example 1:\n",
    "```Python\n",
    "a = 5.4\n",
    "a + 3.5\n",
    "print(a)\n",
    "```\n",
    "\n",
    "Example 2:\n",
    "```Python\n",
    "a = [0.0, 4.5, 8.3]\n",
    "a.pop()\n",
    "a.append(42.0)\n",
    "print(a)\n",
    "```\n",
    "Please predict what will be printed and that test it in the next box.\n"
   ]
  },
  {
   "cell_type": "code",
   "execution_count": null,
   "id": "9d6a9c4f-81ef-4cf9-ba28-e4ab67506d2a",
   "metadata": {
    "editable": true,
    "slideshow": {
     "slide_type": ""
    },
    "tags": []
   },
   "outputs": [],
   "source": [
    "# Copy the code here"
   ]
  },
  {
   "cell_type": "markdown",
   "id": "98537df1-454d-45d5-90dd-e585aa72314b",
   "metadata": {
    "editable": false,
    "slideshow": {
     "slide_type": ""
    },
    "tags": []
   },
   "source": [
    "As you can see the **immutable** **float** cannot be changed, we can only use the **assignment-operator** to assign a new **value** to the **variable**. The **mutable** **list** can be changed without the use of the **assignment-operator**.  This has some interesting side-effects.\n",
    "Considering that I still stumble over the consequences of **mutable** and **immutable** sometimes I would like to take a detour. What do we mean when we write ```a = 4.0``` or ```a=[0,3,4]```. So far we translated it as “Write into a **variable** called ```a``` whatever is on the right-side of the ```=```-sign.” If we use pen and paper and have to copy a simple **float** we write it down on a new place on the paper, so we make a **copy**. This is how the **assignment-operator** works for **immutable** objects, it **copies** them. So when we write:\n",
    "```Python\n",
    "cell_counter = 0\n",
    "cell_counter_copy = cell_counter\n",
    "```\n",
    "We end up with two **memory-cells** both containing the **value** ```0```.\n",
    "Now let us imagine we have to write something down, maybe a report or a paper. Similar to the case above we want to use **values** from a **list** with a few thousand entries. Do we **copy** them or do we write “see list no. X”? So do we spend half an hour typing, risking to introduce mistakes or do we **refer** to the original?\n",
    "\n",
    "The reasonable choice is most often the second. Python works the same way. When we write ```[12, 23, 35]``` we should read this as “Create a **list** containing the **values** ```12```, ```23``` and ```35``` and be a **reference** to this **list**.” This means that ```a = [12, 23, 35]``` should be read as “Name a **variable**/**memory-cell** ```a```, create a **list** containing the **values** ```12```, ```23``` and ```35``` and assign to the **variable** a **reference** to this **list**.”\n",
    "\n",
    "To abstract this behavior “**Mutables** are assign via a **reference** and are not **copied**.”\n",
    "\n",
    "Please note that his is a very simplified view of what is going on and that the **mutable** concept in this form is rather unique to Python. Other languages differentiate very clearly between **values** and **references** often introducing the concept of constants. Should you decide to use other languages, remember the **memory-cells** and understand the concepts from there.\n",
    "\n",
    "So now we know that **mutable** **types** like list as stored and **assigned** as references. So let us go to a practical example:\n",
    "```Python\n",
    "dish_1 = [12, 23, 35]\n",
    "dish_1_reference = dish_1\n",
    "dish_1_reference[1] = 42\n",
    "print(dish_1)\n",
    "```\n",
    "\n",
    "Please attempt to predict what will be printed before you copy the code in the next-box and execute it.\n"
   ]
  },
  {
   "cell_type": "code",
   "execution_count": null,
   "id": "2195b07c-878e-499d-8ea9-a1622421a63a",
   "metadata": {
    "editable": true,
    "slideshow": {
     "slide_type": ""
    },
    "tags": []
   },
   "outputs": [],
   "source": [
    "# Copy the code here"
   ]
  },
  {
   "cell_type": "markdown",
   "id": "31a2f5ea-2527-4679-8a7b-5b191133ca35",
   "metadata": {
    "editable": false,
    "slideshow": {
     "slide_type": ""
    },
    "tags": []
   },
   "source": [
    "As you have seen changing the ```dish_1_reference``` also changed ```dish_1```, because they both refer to the same **list**. \n",
    "Considering this might not always be desirable we have to ask ourselves: “How can we avoid this?”. If we remember the example of the written list, we could always **copy** the **list**. \n",
    "\n",
    "So instead of:\n",
    "```Python\n",
    "dish_1_reference = dish_1\n",
    "```\n",
    "We may write:\n",
    "```Python\n",
    "dish_1_copy = dish_1.copy()\n",
    "```\n",
    "Please adopt the code you used last and check if it works as expected. (Consider printing out the copy in addition to the original and ensure all **variables** are named correctly.)"
   ]
  },
  {
   "cell_type": "code",
   "execution_count": null,
   "id": "c11bd496-1991-4714-9a64-8058ba2ada87",
   "metadata": {
    "editable": true,
    "slideshow": {
     "slide_type": ""
    },
    "tags": []
   },
   "outputs": [],
   "source": [
    "# Copy the code here"
   ]
  },
  {
   "cell_type": "markdown",
   "id": "57b01162-9a1a-4d4f-b64f-4e8b7b81f71e",
   "metadata": {
    "editable": true,
    "slideshow": {
     "slide_type": ""
    },
    "tags": []
   },
   "source": [
    "\n"
   ]
  },
  {
   "cell_type": "code",
   "execution_count": null,
   "id": "42c75045-b755-417d-b382-cf707831f500",
   "metadata": {
    "editable": true,
    "slideshow": {
     "slide_type": ""
    },
    "tags": []
   },
   "outputs": [],
   "source": []
  }
 ],
 "metadata": {
  "kernelspec": {
   "display_name": "Python 3 (ipykernel)",
   "language": "python",
   "name": "python3"
  },
  "language_info": {
   "codemirror_mode": {
    "name": "ipython",
    "version": 3
   },
   "file_extension": ".py",
   "mimetype": "text/x-python",
   "name": "python",
   "nbconvert_exporter": "python",
   "pygments_lexer": "ipython3",
   "version": "3.12.7"
  }
 },
 "nbformat": 4,
 "nbformat_minor": 5
}
