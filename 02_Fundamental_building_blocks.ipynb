{
 "cells": [
  {
   "cell_type": "markdown",
   "id": "a47b5725-be0d-45d5-8e31-cc63ea199f25",
   "metadata": {
    "editable": false,
    "slideshow": {
     "slide_type": ""
    },
    "tags": []
   },
   "source": [
    "# Fundamental building blocks"
   ]
  },
  {
   "cell_type": "markdown",
   "id": "6b8f1f56-98ab-4ca7-8c04-5d240c24d7d0",
   "metadata": {
    "editable": false,
    "slideshow": {
     "slide_type": ""
    },
    "tags": []
   },
   "source": [
    "## Recall\n",
    "\n",
    "Yesterday we discussed programming and computers in general. We used the example of Alice and Bob. To recall Bob was researching the growth of cancer-cells and alike counted them from him. She sent the results in comma-separated-value files.\n",
    "\n",
    "While were exploring the example we develop a simple algorithm:\n",
    "\n",
    "```\n",
    "For every file we do the following:\n",
    "    1. We open the file \n",
    "    2. We figure out what day and dish it is \n",
    "    3. We create a counter for the number of cells \n",
    "    4. We create a counter for the area covered by the cells \n",
    "    5. We ignore the first line \n",
    "    6. For every line we do the following:\n",
    "        1. We increase the cell counter \n",
    "        2. We add the cell area to the cell-area counter \n",
    "    7. We save the cell-counter \n",
    "    8. We save the area counter\n",
    "```\n",
    "\n",
    "With this example in mind we learned that computers use **memory-cells** to store data and that we refer to these one or multiple of these cells with **variables**. We also learned that we change what is in this cells with **operators**, before approaching **functions** and executing our first line of python. \n",
    "To warm up I would ask you to copy the following lines of code into the cell below and execute them using the “Shift” and “Return” keys.\n",
    "```Python\n",
    "cell_counter = 0\n",
    "print(cell_counter)\n",
    "cell_counter += 1\n",
    "print(cell_counter)\n",
    "```"
   ]
  },
  {
   "cell_type": "code",
   "execution_count": null,
   "id": "80f6191b-ad91-45ff-a3f0-9000994d6d97",
   "metadata": {
    "editable": true,
    "slideshow": {
     "slide_type": ""
    },
    "tags": []
   },
   "outputs": [],
   "source": [
    "# Copy the code here"
   ]
  },
  {
   "cell_type": "markdown",
   "id": "08a2c785-af78-45ec-8dbf-f3818ea710ad",
   "metadata": {
    "editable": false,
    "slideshow": {
     "slide_type": ""
    },
    "tags": []
   },
   "source": [
    "## Operators\n",
    "\n",
    "Now that you have warmed up a little bit we can begin talking about **operators** again. There is a long list of [python-operators](https://docs.python.org/3/library/operator.html#mapping-operators-to-functions), which we will explore slowly. \n",
    "\n",
    "The most central **operator** is the assignment **operator** (```=```). It takes whatever is on its right and stores it in the variable to its left. So if we write ```a = b``` we take whatever ```b``` is and write it into ```a```. The term “whatever” is chosen quite deliberately here, but we will come to this later.\n",
    "\n",
    "Now that we recalled how to assign things and considering that we wish to count things we should introduce the basic arithmetic operators, these are mostly identical to the ones you use everyday. To better illustrate them I attached an example usage with the result.\n",
    "\n",
    "| Operator  | Action         | Example       | Resulting value |\n",
    "| --------- | -------------- | ------------- | --------------- |\n",
    "| ```+```   | Addition       | ```3 + 4```   | 7               |\n",
    "| ```-```   | Substraction   | ```8 - 3```   | 5               | \n",
    "| ```*```   | Multiplikation | ```2 * 3```   | 6               |\n",
    "| ```**```  | Power of       | ```2 ** 3```  | 8               |\n",
    "| ```/```   | Division       | ```8 / 4 ```  | 2               |\n",
    "\n",
    "Now let us parctice with tese a bit. \n",
    "Here are a few simple mathematical operations that you should solve in python.\n",
    "Do not forget to use the ```print```-function to display the resutls."
   ]
  },
  {
   "cell_type": "markdown",
   "id": "5137b3f7-12ae-45a9-9958-a9f912b6c9b3",
   "metadata": {
    "editable": false,
    "slideshow": {
     "slide_type": ""
    },
    "tags": []
   },
   "source": [
    "```6 + 9```"
   ]
  },
  {
   "cell_type": "code",
   "execution_count": null,
   "id": "3383ccea-5cb7-4050-912e-388218eb6e2f",
   "metadata": {
    "editable": true,
    "slideshow": {
     "slide_type": ""
    },
    "tags": []
   },
   "outputs": [],
   "source": [
    "# Add your code here"
   ]
  },
  {
   "cell_type": "markdown",
   "id": "c1f959f4-fd31-45ed-84db-6aba64357a8b",
   "metadata": {
    "editable": false,
    "slideshow": {
     "slide_type": ""
    },
    "tags": []
   },
   "source": [
    "<details>\n",
    "  <summary>Click to reveal solution</summary>\n",
    "\n",
    "```Python\n",
    "result = 6 + 9\n",
    "print(result)\n",
    "```\n",
    "\n",
    "</details>\n",
    "\n",
    "The second power a and b, where a is the difference between twelve and six and b is two times four."
   ]
  },
  {
   "cell_type": "code",
   "execution_count": null,
   "id": "a0d5ecf7-d6a5-43d6-b0cb-a0c3a68b0d3e",
   "metadata": {
    "editable": true,
    "slideshow": {
     "slide_type": ""
    },
    "tags": []
   },
   "outputs": [],
   "source": [
    "# Add your code here"
   ]
  },
  {
   "cell_type": "markdown",
   "id": "d8da1e43-9685-4ae3-a3fe-0077b61abae6",
   "metadata": {
    "editable": false,
    "slideshow": {
     "slide_type": ""
    },
    "tags": []
   },
   "source": [
    "<details>\n",
    "  <summary>Click to reveal solution</summary>\n",
    "\n",
    "```Python\n",
    "a = 12 - 6\n",
    "b = 2 * 4\n",
    "result = (a + b)**2\n",
    "\n",
    "print(result)\n",
    "```\n",
    "\n",
    "</details>\n",
    "\n",
    "```11 / 5 ```"
   ]
  },
  {
   "cell_type": "code",
   "execution_count": null,
   "id": "942c7ee2-6a17-465d-85f7-55ec211b2269",
   "metadata": {
    "editable": true,
    "slideshow": {
     "slide_type": ""
    },
    "tags": []
   },
   "outputs": [],
   "source": [
    "# Add your code here"
   ]
  },
  {
   "cell_type": "markdown",
   "id": "bd270e41-5d70-4557-8dbf-94553fa603b1",
   "metadata": {
    "editable": false,
    "raw_mimetype": "",
    "slideshow": {
     "slide_type": ""
    },
    "tags": []
   },
   "source": [
    "<details>\n",
    "  <summary>Click to reveal solution</summary>\n",
    "\n",
    "```Python\n",
    "result = 11 / 5\n",
    "\n",
    "print(result)\n",
    "```\n",
    "\n",
    "</details>\n",
    "\n",
    "Now the last exercise resulted in number with a ```.``` or a floating-point-number. This may seem trivial at the moment until you learn there is a second division operator ```//``` floor-division. Please repeat the exercise above with this operator and observe the result.'"
   ]
  },
  {
   "cell_type": "code",
   "execution_count": null,
   "id": "3cc0e7d9-19d5-4b40-81e6-9dc67b8daf26",
   "metadata": {
    "editable": true,
    "slideshow": {
     "slide_type": ""
    },
    "tags": []
   },
   "outputs": [],
   "source": [
    "# Add your code here"
   ]
  },
  {
   "cell_type": "markdown",
   "id": "f5ac0b75-4e9b-4d25-b212-5b4493bf67f0",
   "metadata": {
    "editable": false,
    "slideshow": {
     "slide_type": ""
    },
    "tags": []
   },
   "source": [
    "This time you got a number without an ```.``` these are called integers. This should alarm you slightly. Why are there two **operators** that do almost the same thing? The answer is the way computer store data in their **memory-cells**. You may recall that they store data in binary as ```1``` and ```0```. So ```00000101``` corresponds to ```5``` in the decimal system. We introduced this as an example for how a number could be stored. In practice the [Two's complement](https://en.wikipedia.org/wiki/Two%27s_complement) is used, but the differences do not matter for us.\n",
    "As we discussed the content of **memory-cells** can be interpreted in different ways, we therefore assign every **variable** a **type**, so we know how interpret the data in the **memory-cell** the **variable** corresponds to. This means how we interpret the content of a **memory-cell** depends on the **type** of a **variable**.\n",
    "The way we introduced binary-numbers above they can only represent integers or natural numbers. In Python the **type** of integers is **int**. If we wish to represent floating-point-numbers we have to split our **memory-cell** into three different areas. The sign telling us if the number is positive or negative, the fraction telling us what comes behind the ```.``` and the exponent. To get our final floating-point-number or **float** we calculate:\n",
    "```\n",
    "floating_point_number = 0.1Fraction * (2**Exponent)\n",
    "```\n",
    "To visualize we can use an illustration from [Wikipedia](https://commons.wikimedia.org/wiki/File:Float_example.svg).\n",
    "\n",
    "![Illustration of sign, fraction and exponent in memory-cells](https://upload.wikimedia.org/wikipedia/commons/d/d2/Float_example.svg)\n",
    "\n",
    "There are a bit more nuances to **floats** and how they can become dangerous. Once you have programmed for a while you may wish to read up on [IEEE-754](https://en.wikipedia.org/wiki/IEEE_754) and [rounding-errors](https://en.wikipedia.org/wiki/Round-off_error).\n"
   ]
  },
  {
   "cell_type": "markdown",
   "id": "8c633270-a8ff-43cf-826a-ede2aed0317f",
   "metadata": {
    "editable": false,
    "slideshow": {
     "slide_type": ""
    },
    "tags": []
   },
   "source": [
    "## Boolean operators\n",
    "Another **type** are Boolean **variables**. A Boolean **variable** or **bool** is either ```True``` or ```False```. They are often the result of comparisons. They come with their own set of operators. Let us begin with the operators that create **bools**.\n",
    "\n",
    "| Operator | Action                              | Example      |Resulting value |\n",
    "| -------- | ----------------------------------- | ------------ | -------------- |\n",
    "| ```==``` | checks if equal                     | ```4 == 3``` | ```False```    |\n",
    "| ```!=``` | chekcs if not equal                 | ```4 != 3``` | ```True```     |\n",
    "| ```<```  | checks if left smaller              | ```3 < 4```  | ```True```     |\n",
    "| ```<=``` | checks if left smaller or equal     | ```3 <= 4``` | ```True```     |\n",
    "| ```>```  | checks if left bigger               | ```3 > 4```  | ```False```    |\n",
    "| ```>=``` | checks if left bigger or equal      | ```3 >= 4``` | ```False```    |\n",
    "| ```is``` | checks if both values are identical | ```3 is 4``` | ```False```    |\n",
    "\n",
    "The last one ```is``` is a little more difficult to understand than the others, because it refers to **identity**. The major confusion will arise from them meaning of **identity** in math compared to biology.\n",
    "Let us first discuss equality and identity. If I ask for two students to stand up all of you are “equal” for this task, because all of you are students, but you are not the same. So **identity** refers to a relationship in which two things have the highest possible sameness. \n",
    "In math means they have to be the same, not just equal in all aspects. This means an “identical clone” is a contradiction in terms for a programmer. If you copy or clone something these things are indistinguishable but not identical. This will not matter in this course, but you may stumble upon it later in your career, so keep it in mind.\n",
    "Before we continue let us practice the use of the new operators, similar to the ones we practiced with before."
   ]
  },
  {
   "cell_type": "markdown",
   "id": "e490720c-7c17-4c90-a601-91730bfab537",
   "metadata": {
    "editable": false,
    "slideshow": {
     "slide_type": ""
    },
    "tags": []
   },
   "source": [
    "\"Is five bigger than 3?\""
   ]
  },
  {
   "cell_type": "code",
   "execution_count": null,
   "id": "788162cd-dbb6-454b-b005-64e3a11c9b76",
   "metadata": {
    "editable": true,
    "slideshow": {
     "slide_type": ""
    },
    "tags": []
   },
   "outputs": [],
   "source": [
    "# Add your code here"
   ]
  },
  {
   "cell_type": "markdown",
   "id": "80c0241b-73c6-476b-94c8-808035b5bf4d",
   "metadata": {
    "editable": false,
    "slideshow": {
     "slide_type": ""
    },
    "tags": []
   },
   "source": [
    "<details>\n",
    "  <summary>Click to reveal solution</summary>\n",
    "\n",
    "```Python\n",
    "result = 5 > 3\n",
    "print(result)\n",
    "```\n",
    "\n",
    "</details>\n",
    "\n",
    "```Is 42 the equal to 13?```"
   ]
  },
  {
   "cell_type": "code",
   "execution_count": null,
   "id": "99acec98-0c1e-41ed-8c6d-4c345e46b36e",
   "metadata": {
    "editable": true,
    "slideshow": {
     "slide_type": ""
    },
    "tags": []
   },
   "outputs": [],
   "source": [
    "# Add your code here"
   ]
  },
  {
   "cell_type": "markdown",
   "id": "116eb8af-bc1c-428f-8d17-fa3a93752ada",
   "metadata": {
    "editable": false,
    "slideshow": {
     "slide_type": ""
    },
    "tags": []
   },
   "source": [
    "<details>\n",
    "  <summary>Click to reveal solution</summary>\n",
    "\n",
    "```Python\n",
    "result = 42 == 13\n",
    "print(result)\n",
    "```\n",
    "\n",
    "</details>\n",
    "\n",
    "```Is 42 the equal to 42.0?```"
   ]
  },
  {
   "cell_type": "code",
   "execution_count": null,
   "id": "9f58cde2-54e8-4e32-8f2d-de2145059598",
   "metadata": {
    "editable": true,
    "slideshow": {
     "slide_type": ""
    },
    "tags": []
   },
   "outputs": [],
   "source": [
    "# Add your code here"
   ]
  },
  {
   "cell_type": "markdown",
   "id": "71a95403-c4cb-4f04-b83d-31c830fc828b",
   "metadata": {
    "editable": false,
    "slideshow": {
     "slide_type": ""
    },
    "tags": []
   },
   "source": [
    "<details>\n",
    "  <summary>Click to reveal solution</summary>\n",
    "\n",
    "```Python\n",
    "result = 42 == 42.0\n",
    "print(result)\n",
    "```\n",
    "\n",
    "</details>\n",
    "\n",
    "```Is 42 smaller than 100.0?```"
   ]
  },
  {
   "cell_type": "code",
   "execution_count": null,
   "id": "170966ff-074f-487e-a1e9-4fe523afe3c2",
   "metadata": {
    "editable": true,
    "slideshow": {
     "slide_type": ""
    },
    "tags": []
   },
   "outputs": [],
   "source": [
    "# Add your code here"
   ]
  },
  {
   "cell_type": "markdown",
   "id": "7a0e59bd-59c9-475f-8108-779049b212f7",
   "metadata": {
    "editable": false,
    "slideshow": {
     "slide_type": ""
    },
    "tags": []
   },
   "source": [
    "<details>\n",
    "  <summary>Click to reveal solution</summary>\n",
    "\n",
    "```Python\n",
    "result = 42 < 100\n",
    "print(result)\n",
    "```\n",
    "\n",
    "</details>"
   ]
  },
  {
   "cell_type": "markdown",
   "id": "f1b2ea1a-338b-41b0-bbd4-26c29563e7e2",
   "metadata": {
    "editable": false,
    "slideshow": {
     "slide_type": ""
    },
    "tags": []
   },
   "source": [
    "## Mutable types\n",
    "Python has more **types** than just **float**, **int** and **bool**. These are sorted into multiple [categories](https://python-basics-tutorial.readthedocs.io/en/latest/types/index.html).These categories help us understand which **operators** can be applied to which type and what they do, when we apply them. Besides this some **types** have other properties that influence how we use them. An important property is  **mutability**. \n",
    "\n",
    "A **variable** with a **mutable** **type** can be changed in-place. To better illustrate this let us introduce our first **mutable** the **list**.\n",
    "\n",
    "A **list** is something that contains different **values**.  If you recall Bobs problem from the first day of the course you may remember, that he had multiple petri dishes and wanted to investigate the growth of cancer-cells and therefore count the number of cells in each dish for twelve days. So for every dish we get 12 values representing the number of cells on every day, you could write them on a piece of paper and you would get a **list**. A **list** in Python works very similar, as shown in the following example:\n",
    "```Python\n",
    "# Creating an already filled list\n",
    "# Like you write on your piece of paper the numbers are written into the []-brackets\n",
    "dish_1 = [12, 20, 43, 87, 172, 351, 721, 1404, 2900, 5832, 10915]\n",
    "# Appending a value to a list requires us to use \"append\", what append is we will discuss later\n",
    "dish_1.append(19983)\n",
    "# Removing an item from a list uses \"pop\". If we do not enter an int into pop, it removes the last item\n",
    "last_item_dish_1 = dish_1.pop()\n",
    "# Accessing a value in a list requires [], which are an operator on lists\n",
    "dish_1_day_3 = dish_1[2]\n",
    "```\n",
    "The last line might be especially confusing, since the third day is accessed with the number ```2```. In many programming languages the first element is the zeroth element, if you wish to investigate the reasons you may want to read up on [C-Arrays](https://en.wikibooks.org/wiki/C_Programming/Pointers_and_arrays#Pointers_and_Arrays).\n",
    "Before we discuss **lists** in detail we should return to the concept of **mutable**. A **list** is **mutable**, so I can do things to it that change it without using the **assignment-operator** ```=```.  This not possible for **immutable** **types** like **float**. To better illustrate here are two code-samples:\n",
    "\n",
    "Example 1:\n",
    "```Python\n",
    "a = 5.4\n",
    "a + 3.5\n",
    "print(a)\n",
    "```\n",
    "\n",
    "Example 2:\n",
    "```Python\n",
    "a = [0.0, 4.5, 8.3]\n",
    "a.pop()\n",
    "a.append(42.0)\n",
    "print(a)\n",
    "```\n",
    "Please predict what will be printed and that test it in the next box.\n"
   ]
  },
  {
   "cell_type": "code",
   "execution_count": null,
   "id": "9d6a9c4f-81ef-4cf9-ba28-e4ab67506d2a",
   "metadata": {
    "editable": true,
    "slideshow": {
     "slide_type": ""
    },
    "tags": []
   },
   "outputs": [],
   "source": [
    "# Copy the code here"
   ]
  },
  {
   "cell_type": "markdown",
   "id": "98537df1-454d-45d5-90dd-e585aa72314b",
   "metadata": {
    "editable": false,
    "slideshow": {
     "slide_type": ""
    },
    "tags": []
   },
   "source": [
    "As you can see the **immutable** **float** cannot be changed, we can only use the **assignment-operator** to assign a new **value** to the **variable**. The **mutable** **list** can be changed without the use of the **assignment-operator**.  This has some interesting side-effects.\n",
    "Considering that I still stumble over the consequences of **mutable** and **immutable** sometimes I would like to take a detour. What do we mean when we write ```a = 4.0``` or ```a=[0,3,4]```. So far we translated it as “Write into a **variable** called ```a``` whatever is on the right-side of the ```=```-sign.” If we use pen and paper and have to copy a simple **float** we write it down on a new place on the paper, so we make a **copy**. This is how the **assignment-operator** works for **immutable** objects, it **copies** them. So when we write:\n",
    "```Python\n",
    "cell_counter = 0\n",
    "cell_counter_copy = cell_counter\n",
    "```\n",
    "We end up with two **memory-cells** both containing the **value** ```0```.\n",
    "Now let us imagine we have to write something down, maybe a report or a paper. Similar to the case above we want to use **values** from a **list** with a few thousand entries. Do we **copy** them or do we write “see list no. X”? So do we spend half an hour typing, risking to introduce mistakes or do we **refer** to the original?\n",
    "\n",
    "The reasonable choice is most often the second. Python works the same way. When we write ```[12, 23, 35]``` we should read this as “Create a **list** containing the **values** ```12```, ```23``` and ```35``` and be a **reference** to this **list**.” This means that ```a = [12, 23, 35]``` should be read as “Name a **variable**/**memory-cell** ```a```, create a **list** containing the **values** ```12```, ```23``` and ```35``` and assign to the **variable** a **reference** to this **list**.”\n",
    "\n",
    "To abstract this behavior “**Mutables** are assign via a **reference** and are not **copied**.”\n",
    "\n",
    "Please note that his is a very simplified view of what is going on and that the **mutable** concept in this form is rather unique to Python. Other languages differentiate very clearly between **values** and **references** often introducing the concept of constants. Should you decide to use other languages, remember the **memory-cells** and understand the concepts from there.\n",
    "\n",
    "So now we know that **mutable** **types** like list as stored and **assigned** as references. So let us go to a practical example:\n",
    "```Python\n",
    "dish_1 = [12, 23, 35]\n",
    "dish_1_reference = dish_1\n",
    "dish_1_reference[1] = 42\n",
    "print(dish_1)\n",
    "```\n",
    "\n",
    "Please attempt to predict what will be printed before you copy the code in the next-box and execute it.\n"
   ]
  },
  {
   "cell_type": "code",
   "execution_count": null,
   "id": "2195b07c-878e-499d-8ea9-a1622421a63a",
   "metadata": {
    "editable": true,
    "slideshow": {
     "slide_type": ""
    },
    "tags": []
   },
   "outputs": [],
   "source": [
    "# Copy the code here"
   ]
  },
  {
   "cell_type": "markdown",
   "id": "31a2f5ea-2527-4679-8a7b-5b191133ca35",
   "metadata": {
    "editable": false,
    "slideshow": {
     "slide_type": ""
    },
    "tags": []
   },
   "source": [
    "As you have seen changing the ```dish_1_reference``` also changed ```dish_1```, because they both refer to the same **list**. \n",
    "Considering this might not always be desirable we have to ask ourselves: “How can we avoid this?”. If we remember the example of the written list, we could always **copy** the **list**. \n",
    "\n",
    "So instead of:\n",
    "```Python\n",
    "dish_1_reference = dish_1\n",
    "```\n",
    "We may write:\n",
    "```Python\n",
    "dish_1_copy = dish_1.copy()\n",
    "```\n",
    "Please adopt the code you used last and check if it works as expected. (Consider printing out the copy in addition to the original and ensure all **variables** are named correctly.)"
   ]
  },
  {
   "cell_type": "code",
   "execution_count": null,
   "id": "c11bd496-1991-4714-9a64-8058ba2ada87",
   "metadata": {
    "editable": true,
    "slideshow": {
     "slide_type": ""
    },
    "tags": []
   },
   "outputs": [],
   "source": [
    "# Copy the code here"
   ]
  },
  {
   "cell_type": "markdown",
   "id": "57b01162-9a1a-4d4f-b64f-4e8b7b81f71e",
   "metadata": {
    "editable": true,
    "slideshow": {
     "slide_type": ""
    },
    "tags": []
   },
   "source": [
    "\n"
   ]
  },
  {
   "cell_type": "markdown",
   "id": "f28d70a1-81c3-4ca8-81f6-84d6830f70e4",
   "metadata": {
    "editable": false,
    "slideshow": {
     "slide_type": ""
    },
    "tags": []
   },
   "source": [
    "## More data-types\n",
    "Now we are able to work with numbers and write them into **lists**. No let us check which parts of our algorithm we can already solve.\n",
    "\n",
    "1. [ ] We open the file \n",
    "2. [ ] We figure out what day and dish it is\n",
    "3. [x] We create a counter for the number of cells ```cell_counter = 0``` \n",
    "4. [x] We create a counter for the area covered by the cells ```cell_area_counter = 0```\n",
    "5. [ ] We ignore the first line \n",
    "6. [ ] For every line we do the following:\n",
    "    1. [x] We increase the cell counter ```cell_counter += 1```\n",
    "    2. [x] We add the cell area to the cell-area counter ```cell_area_counter += cell_area```\n",
    "7. [ ] We save the cell-counter \n",
    "8. [ ] We save the area counter\n",
    "\n",
    "### Strings\n",
    "So we already have most of it together. If we review it we still have to deal with **files** and with lines. The **files** are a data-type themselves just like **lists**. But before we investigate them let us talk about the lines. These are represented as character-string and have the type **str**.\n",
    "Let us begin with a simple example:\n",
    "```Python\n",
    "message = \"Hello world!\"\n",
    "print(message)\n",
    "```\n",
    "Here we created a variable ```message``` and assigned the **str** ```\"Hello world!\"``` to it.\n",
    "\n",
    "As an short exercise please write a little bit of code to print your name."
   ]
  },
  {
   "cell_type": "code",
   "execution_count": null,
   "id": "cbf34694-f3be-468c-80c4-66676b140f34",
   "metadata": {
    "editable": true,
    "slideshow": {
     "slide_type": ""
    },
    "tags": []
   },
   "outputs": [],
   "source": [
    "# Write your code here"
   ]
  },
  {
   "cell_type": "markdown",
   "id": "81ef749e-bb0c-4a20-8896-b4de1f31a5cb",
   "metadata": {
    "editable": false,
    "slideshow": {
     "slide_type": ""
    },
    "tags": []
   },
   "source": [
    "### Files\n",
    "**Files** are created by using ```open```. Let us try this by opening one of the csv-files. Please copy and execute this code:\n",
    "```Python\n",
    "csv_file = open(\"./data/Day_1_dish_1_zoom_3.csv\")\n",
    "print(csv_file)\n",
    "```"
   ]
  },
  {
   "cell_type": "code",
   "execution_count": null,
   "id": "140231ca-0a6a-4119-bd09-9a52f4167105",
   "metadata": {
    "editable": true,
    "slideshow": {
     "slide_type": ""
    },
    "tags": []
   },
   "outputs": [],
   "source": [
    "# Copy the code here"
   ]
  },
  {
   "cell_type": "markdown",
   "id": "919fcec2-f02e-4bec-bca1-5ecdbf773d3f",
   "metadata": {
    "editable": false,
    "slideshow": {
     "slide_type": ""
    },
    "tags": []
   },
   "source": [
    "As you can see the output is not that useful yet. To make it more useful we can use ```read``` to get a **str**. It works similar to ```append``` for **list**. Both of them are **methods**, which we will discuss much later. For now all you need to know is that a **method** is a **function** that belongs to a **type**. So every **list** variable supports ```pop```.\n",
    "So let us use ```read``` on our file. ```read``` gives us the content of the file as an **str**. What do you expect if we execute the following code:\n",
    "```Python\n",
    "csv_file = open(\"./data/Day_1_dish_1_zoom_3.csv\")\n",
    "content = csv_file.read()\n",
    "print(content)\n",
    "```\n",
    "Please copy the code and compare it to your expectations.\n"
   ]
  },
  {
   "cell_type": "code",
   "execution_count": null,
   "id": "b4a0ea6d-512f-4aee-9435-2e40fb7f84bf",
   "metadata": {
    "editable": true,
    "slideshow": {
     "slide_type": ""
    },
    "tags": []
   },
   "outputs": [],
   "source": [
    "# Copy the code here"
   ]
  },
  {
   "cell_type": "markdown",
   "id": "92ed0807-0560-44d4-a638-17719fafee5b",
   "metadata": {
    "editable": false,
    "slideshow": {
     "slide_type": ""
    },
    "tags": []
   },
   "source": [
    "We now know how to read from files, but to save our results later we have to write to them. To achieve this we have to ```open``` a file in writing mode. We do this by writing ```file_to_write = open(“./write.txt”, “w”)``` . The ```w``` in this case stands for write. For further information consult the [official documentation]( https://docs.python.org/3/library/functions.html#open).\n",
    "As a short example let us write ```Hello file!``` into a file.\n",
    "```Python\n",
    "file_to_write = open(\"./write.txt\", \"w\")\n",
    "text_to_write = \"Hello file!\"\n",
    "file_to_write.write(text_to_write)\n",
    "```"
   ]
  },
  {
   "cell_type": "code",
   "execution_count": null,
   "id": "218be5ec-4cfc-40ef-aba9-b01d10ad19d5",
   "metadata": {
    "editable": true,
    "slideshow": {
     "slide_type": ""
    },
    "tags": []
   },
   "outputs": [],
   "source": [
    "# Copy the code here"
   ]
  },
  {
   "cell_type": "markdown",
   "id": "eae52bb9-8997-47b8-a96d-9a408cb939b6",
   "metadata": {
    "editable": false,
    "slideshow": {
     "slide_type": ""
    },
    "tags": []
   },
   "source": [
    "### Working with strings\n",
    "\n",
    "You may have noticed, that the resulting **str** is rather long and it may not be usable for us. So we should make it smaller. For this we use the ```split```, which takes one character and gives us a **list** of **str** to use.\n",
    "First we wish to separate the lines, so we need to figure out, what makes the lines special. The normal approach for programmers is to [search](https://duckduckgo.com/?q=What+marks+a+newline+in+a+csv&ia=web) their problem and use the first good result they find. In this case it is on [Stack Overflow](https://stackoverflow.com/questions/24018597/adding-a-newline-character-within-a-cell-csv). As you may note the answer does not really fit our question, but ´´´\\n´´´ seems to be center so let us [search](https://duckduckgo.com/?q=what+is+%5Cn&ia=web) what this means. This again leads us to [Stack Overflow](https://stackoverflow.com/questions/15433188/what-is-the-difference-between-r-n-r-and-n). \n",
    "The relevant answer states: “```\\n``` = LF( Line Feed)  Used as a new line character in Unix/Mac OS X”. So we can guess that a new line starts with ```\\n```, so time to try it out by adapting our code:\n",
    "```Python\n",
    "csv_file = open(\"./data/Day_1_dish_1_zoom_3.csv\")\n",
    "content = csv_file.read()\n",
    "lines = content.split(\"\\n\")\n",
    "print(lines)\n",
    "```\n"
   ]
  },
  {
   "cell_type": "code",
   "execution_count": null,
   "id": "52a47808-bd6a-48cf-a525-3a9740614a11",
   "metadata": {
    "editable": true,
    "slideshow": {
     "slide_type": ""
    },
    "tags": []
   },
   "outputs": [],
   "source": [
    "# Copy the code here"
   ]
  },
  {
   "cell_type": "markdown",
   "id": "bd28ee30-7b56-4fd8-8386-59f56e22830d",
   "metadata": {
    "editable": false,
    "slideshow": {
     "slide_type": ""
    },
    "tags": []
   },
   "source": [
    "You should now see a **list** in ```[]``` consisting of **str**, which are marked by wither ```\"``` or ```'``` separated by ```, ```.\n",
    "\n",
    "The process that got us here is typical for solving a programming problem. We first search for a rough solution to our problem and then try it out. Most of the time this leads to failure indicating that we need to understand the problem better. Good sources for beginners are large-language-models like ChatGPT or Claude, official documentations like the one for [python]( https://python-basics-tutorial.readthedocs.io/en/latest/index.html) or special for a like [Stack Overflow]( https://stackoverflow.com/questions). Considering that a good programmer solves a problem once, most programming time will be spent in this testing and learning circle, interrupted by rethinking the problem and the current solution.\n",
    "\n",
    "Our current problem is reading in the csv-files. And so far we managed to read in individual lines. We now wish to access the individual elements using ```split```.  Please use what we have learned so far to split the first two lines into **lists** of elements of **str**-values."
   ]
  },
  {
   "cell_type": "code",
   "execution_count": null,
   "id": "4c273cea-462c-42e5-8c4f-943565705b65",
   "metadata": {
    "editable": true,
    "slideshow": {
     "slide_type": ""
    },
    "tags": []
   },
   "outputs": [],
   "source": [
    "# Write your code here"
   ]
  },
  {
   "cell_type": "markdown",
   "id": "7c6c278f-2c75-4341-8e32-272b5c7860bc",
   "metadata": {
    "editable": false,
    "slideshow": {
     "slide_type": ""
    },
    "tags": []
   },
   "source": [
    "<details>\n",
    "  <summary>Click to reveal solution</summary>\n",
    "\n",
    "```Python\n",
    "csv_file = open(\"./data/Day_1_dish_1_zoom_3.csv\")\n",
    "content = csv_file.read()\n",
    "lines = content.split(\"\\n\")\n",
    "line_0 = lines[0]\n",
    "line_1 = lines[1]\n",
    "line_0_values = line_0.split(\",\")\n",
    "line_1_values = line_1.split(\",\")\n",
    "print(line_0_values)\n",
    "print(line_1_values)\n",
    "```\n",
    "\n",
    "</details>"
   ]
  },
  {
   "cell_type": "markdown",
   "id": "db6aeac7-8399-4528-89fe-6b275398148b",
   "metadata": {
    "editable": false,
    "slideshow": {
     "slide_type": ""
    },
    "tags": []
   },
   "source": [
    "## Type conversions\n",
    "The last step to use the contents are **type-conversions**. A **type-conversion** is the reinterpretation of on e **type** as another. So we can ask the computer to interpret the **str** ```42``` as an **int**. To do this we write:\n",
    "```Python\n",
    "String = “42”\n",
    "Integer = int(String)\n",
    "```\n",
    "The same way we can go **convert** to **float** and **str**. To practice this please convert this small table of values. Before you execute your code try to predict what you will see.\n",
    "\n",
    "| Value   | Origial **type** | Convert to **type** |\n",
    "| ------- | ---------------- | ------------------- |\n",
    "| 42      | int              | float               |\n",
    "| 1.0     | float            | int                 |\n",
    "| \"Hello\" | str              | int                 |\n",
    "| \"42\"    | str              | float               |\n",
    "| \"42!\"   | str              | int                 |"
   ]
  },
  {
   "cell_type": "code",
   "execution_count": null,
   "id": "8f4a9f9e-84c3-4157-a422-c01d362733e7",
   "metadata": {
    "editable": true,
    "slideshow": {
     "slide_type": ""
    },
    "tags": []
   },
   "outputs": [],
   "source": [
    "# Write your code here"
   ]
  },
  {
   "cell_type": "markdown",
   "id": "01462ce0-f649-4dd9-a9c1-763e0ea48e0e",
   "metadata": {
    "editable": false,
    "slideshow": {
     "slide_type": ""
    },
    "tags": []
   },
   "source": [
    "## Other relevant types\n",
    "Before we conclude this unit there are three more **types** you should know. While we will not use them directly you should have heard of them and remember them for later.\n",
    "### Tuples\n",
    "A **tuple** is in most cases best understood as an **immutable** **list. They are created with ```()``` or by separating **values** with ```,```.\n",
    "```Python\n",
    "tuple_1 = (\"A\", 42)\n",
    "tuple_2 = \"Foo\", \"bar\", 48\n",
    "print(tuple_1)\n",
    "print(tuple_2)\n",
    "```\n",
    "\n",
    "### Dictionaries\n",
    "A **dict** is a mapping, this means it maps one **value** to another. For example a number to a name. It is also often used for sparse data. This may refer to a **list** were most entries are irrelevant. A good example would be a list of the people in this course by their student-id. To store it in a list we would need over 300.000 entries for a handful of people, but a dict maps the **values** we want to store a set of **keys** like your student-ids.\n",
    "```Python\n",
    "# A dict is started with #\n",
    "name_to_age = {\n",
    "\t# Every entry consists of a key followed by “:” the value and then “,”\n",
    "    \"John Doe\":  28,\n",
    "    \"Maria Musterfrau\": 31,\n",
    "    \"Max Mustermann\": 34,\n",
    "    \"Karl Dosenkohl\": 19\n",
    "# The dict ends with }\n",
    "}\n",
    "id_to_confusion = {}\n",
    "# New values can be added by accessing the element with []\n",
    "id_to_conustion[123456] = 0.2\n",
    "id_to_confusion[43] = 0.9\n",
    "# Individual elements can be accessed with []\n",
    "age_john_doe = name_to_age[\"John Doe\"]\n",
    "print(age_john_doe)\n",
    "print(name_to_age)\n",
    "print(id_to_confusion)\n",
    "```\n",
    "\n",
    "### Sets\n",
    "Mathematical sets re represented by **set**. They are created using ```{}```. Please note that a mathematical set does not contain duplicates.\n",
    "```Python\n",
    "# Tuple for set\n",
    "tuple_for_set = {1, 2, 3, 3, 4}\n",
    "new_set = set(tuple_for_set)\n",
    "print(new_set)\n",
    "# Will print (1,2,3,4), so the double 3 is removed\n",
    "```"
   ]
  },
  {
   "cell_type": "code",
   "execution_count": null,
   "id": "8558a061-6bd5-4a56-8ad9-aeead0eea232",
   "metadata": {
    "editable": true,
    "slideshow": {
     "slide_type": ""
    },
    "tags": []
   },
   "outputs": [],
   "source": [
    "# Feel free to play around with these types"
   ]
  },
  {
   "cell_type": "markdown",
   "id": "78dbdfba-41f2-488e-b83c-5625a26a4e02",
   "metadata": {
    "editable": false,
    "slideshow": {
     "slide_type": ""
    },
    "tags": []
   },
   "source": [
    "## Summary\n",
    "In this unit we learned how to use mathematical operators, what types are and how to convert them into each other. Out current algorithm looks like this:\n",
    "1. [x] We open the file ```csv_file = open(\"./data/Day_1_dish_1_zoom_3.csv\")```\n",
    "2. [x] We figure out what day and dish it is ```_, day, _ , dish_number, _, zoom_factor = csv_file_name.split(\"_\") ```\n",
    "3. [x] We create a counter for the number of cells ```cell_counter = 0``` \n",
    "4. [x] We create a counter for the area covered by the cells ```cell_area_counter = 0```\n",
    "5. [ ] We ignore the first line \n",
    "6. [ ] For every line we do the following:\n",
    "    1. [x] We increase the cell counter ```cell_counter += 1```\n",
    "    2. [x] We add the cell area to the cell-area counter ```cell_area_counter += cell_area```\n",
    "7. [x] We save the cell-counter ```cell_counter_dish_1_file.write(cell_counter)```\n",
    "8. [x] We save the area counter ```cell_area_counter_dish_1_file.write(cell_counter)```\n"
   ]
  },
  {
   "cell_type": "markdown",
   "id": "74035706-1e62-487d-9e82-d4acb3ce120d",
   "metadata": {
    "editable": false,
    "slideshow": {
     "slide_type": ""
    },
    "tags": []
   },
   "source": [
    "So overall we have most of our building blocks together. Considering that the control structures we take on next lesson use the operators and types as a base all open questions should be addressed now, so please ask them."
   ]
  }
 ],
 "metadata": {
  "kernelspec": {
   "display_name": "Python 3 (ipykernel)",
   "language": "python",
   "name": "python3"
  },
  "language_info": {
   "codemirror_mode": {
    "name": "ipython",
    "version": 3
   },
   "file_extension": ".py",
   "mimetype": "text/x-python",
   "name": "python",
   "nbconvert_exporter": "python",
   "pygments_lexer": "ipython3",
   "version": "3.12.7"
  }
 },
 "nbformat": 4,
 "nbformat_minor": 5
}
