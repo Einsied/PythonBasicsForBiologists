{
 "cells": [
  {
   "cell_type": "markdown",
   "id": "8fce32e7-b12e-4e42-88db-9809313a72f9",
   "metadata": {
    "editable": false,
    "slideshow": {
     "slide_type": ""
    },
    "tags": []
   },
   "source": [
    "# Classes and modules"
   ]
  },
  {
   "cell_type": "markdown",
   "id": "c348b8c9-d20a-415a-8aac-f862d083a59a",
   "metadata": {
    "editable": false,
    "slideshow": {
     "slide_type": ""
    },
    "tags": []
   },
   "source": [
    "## Recall\n",
    "\n",
    "Last unit we learned how to use control structures like ```for```, ```if``` and ```functions```.\n",
    "We used this knowledge to complete the code to read in the comma-separated-values-files.\n",
    "\n",
    "<details>\n",
    "  <summary>Show Code</summary>\n",
    "\n",
    "```Python\n",
    "def process_csv(csv_file, dishes):\n",
    "    \"\"\"!\n",
    "        @brief This function reads in specific csv-file and adds the contents into the dict dishes\n",
    "        @details We assume that we get an csv-file with a header line and 7 fields per row.\n",
    "            The name and contents of the csv-file should be defined as given in param, so we can extract the day and dish number.\n",
    "            The contents are then stored in a dict passed as dishes defined in param.\n",
    "        @param csv_file the path to the csv-file as a str, it should follow the form Day_[day]_dish_[dish]_zoom_[zoom].csv,\n",
    "            where all [] denote numbers extracted as meta data.\n",
    "            The 5th field should contain the area of the cells.\n",
    "        @param dishes a dict that will be filled with the contents of the csv-file.\n",
    "            The first layer of keys will be the dish-numbers, the values belonging to them are dicts.\n",
    "            These dicts contain the days as keys and dicts as values. The lowest layer dicts contain\n",
    "            the \"cell_count\" and \"area\" as keys. Their values are the total cell-count for that day and dish and the\n",
    "            total area for that day and dish respectivley.\n",
    "        @return None\n",
    "    \"\"\"\n",
    "    with open(csv_file, \"r\") as csv_file_handle:\n",
    "        _, day, _ , dish_number, _, zoom_factor = csv_file.split(\"_\")\n",
    "        cell_counter = 0\n",
    "        cell_area_counter = 0\n",
    "        line_counter = 0\n",
    "        for line in csv_file_handle:\n",
    "            if line_counter != 0:\n",
    "                cell_counter += 1\n",
    "                cell_id, nucleus_x, nucleus_y, nucleus_area, cell_area, center_of_area_y, center_of_area_y = line.split(\",\")\n",
    "                cell_area_counter += float(cell_area)\n",
    "            line_counter += 1\n",
    "        if dish_number not in dishes.keys():\n",
    "            dishes[dish_number] = {}\n",
    "        dishes[dish_number][day] = {\n",
    "            \"cell_count\": cell_counter,\n",
    "            \"area\": cell_area_counter\n",
    "        } \n",
    "    return\n",
    "\n",
    "csv_files = [\n",
    "    \"./data/Day_1_dish_1_zoom_3.csv\"\n",
    "]\n",
    "\n",
    "# Create something to save the dishes\n",
    "dishes = {}\n",
    "\n",
    "# Go through all files\n",
    "for csv_file in csv_files:\n",
    "    process_csv(csv_file, dishes)\n",
    "```\n",
    "\n",
    "</details>\n",
    "\n",
    "We then restructured the data to make the more accessible.\n",
    "\n",
    "<details>\n",
    "  <summary>Show Code</summary>\n",
    "\n",
    "```Python\n",
    "area = []\n",
    "count = []\n",
    "cells = {\"area\": area, \"count\": count}\n",
    "# We know that the dishes are numbered so we iterate over them\n",
    "for dish_number in range(1, len(dishes) + 1, 1):\n",
    "    dish = dishes[str(dish_number)]\n",
    "    dish_area = []\n",
    "    dish_count = []\n",
    "    # We know that the days in the dishes are numbered\n",
    "    for day_number in range(1, len(dish) + 1, 1):\n",
    "        value_pair = dish[str(day_number)]\n",
    "        day_area = value_pair[\"area\"]\n",
    "        day_count = value_pair[\"cell_count\"]\n",
    "        dish_area.append(day_area)\n",
    "        dish_count.append(day_count)\n",
    "    area.append(dish_area)\n",
    "    count.append(dish_count)\n",
    "print(cells)\n",
    "```\n",
    "\n",
    "</details>\n",
    "\n",
    "You may have expected that reading in a csv-file is a common task and there is a more comfortable solution, then coding it yourself. In Python, we often use code provided via the python package index. This code usually comes in the form of modules. Most modules use classes. So this unit deals with first with classes and then modules."
   ]
  },
  {
   "cell_type": "markdown",
   "id": "8ed627e4-ebd6-461d-8d4b-c737e6f36775",
   "metadata": {
    "editable": false,
    "slideshow": {
     "slide_type": ""
    },
    "tags": []
   },
   "source": [
    "## Classes\n",
    "\n",
    "In the last unit you learned how to use **functions** to structure your code. **functions** usually take **arguments** as inputs. Programmers learnt that most **functions** are very closely associated with a set of **arguments**.  So they concluded that these arguments should be bundled in [structures]( https://en.wikipedia.org/wiki/Struct_(C_programming_language) and associated with their **functions**. This lead to **classes** and the emergence of [object-oriented-programming](https://en.wikipedia.org/wiki/Object-oriented_programming).\n",
    "\n",
    "Object oriented programming tries to understand the world as a limited set of abstract ideas. It tries to simplify, by finding a set of shared attributes and behaviors. Alice for example decided to describe all her cells by:\n",
    "\n",
    "- their ID\n",
    "- the position of the nucleus\n",
    "- the area of the nucleus\n",
    "- the center area of the cell\n",
    "- the cell area\n",
    "\n",
    "So she defined herself a \"cell\" **class**. \n",
    "The objects belonging to or the **instances** of this **class**  are the entries in the csv-file she gave Bob.\n",
    "\n",
    "As mentioned before classes are a combination of **functions** and **values**. So we could add a **function** to this cell-**class** if we want, like calculating the difference between nucleus and total cell-area. This **function** belonging to the class would then be called a **method**.\n",
    "\n",
    "There are a few **methods** that should always exist. If we do not write them Python will create some dummy method instead. A **method** that almost every class will have is the constructor, that transfers the **values** into the object / **instance**. In Python it is called ```__init__```.\n",
    "\n",
    "To create a **class** we begin with the keyword ```class``` followed by its name and ```:```. We then begin listing its attributes like the **methods**. So we write a **function** called ```__init__```. The first argument of every **method** in Python has to be the **instance** of the **class** itself, therefore it is usually named ```self```, then the other **arguments** follow.\n",
    "\n",
    "Let us put this into code:\n",
    "```Python\n",
    "# Define the class with the name \"Cell\"\n",
    "class Cell:\n",
    "    # Write the constructor with all the arguments we need to store our attributes\n",
    "    def __init__(self, identification, position_nucleus, area_nucleus, center_cell_area, cell_area):\n",
    "        # I use to name the attributes in the cell like the arguments to avoid confusion\n",
    "        # You may as well named them differently and write:\n",
    "        # self.id = identification\n",
    "        self.identification = identification\n",
    "        self.position_nucleus = position_nucleus\n",
    "        self.area_nucleus = area_nucleus\n",
    "        self.center_cell_area = center_cell_area\n",
    "        self.cell_area = cell_area\n",
    "```\n",
    "\n",
    "This snippet defines the **class**, but does not create an **instance**. The computer knows what cell is, but it does not know any specific cell. To create a specific cell we have to create an **instance**. In our case, we will create an **instance** called ```cell1```:\n",
    "\n",
    "```Python\n",
    "cell_1_id = 1\n",
    "cell_1_position_nucleus = (45, 74)\n",
    "cell_1_nucleus_area = 65\n",
    "cell_1_area = 231\n",
    "cell_1_center_of_area = (49, 71)\n",
    "cell_1 = Cell(cell_1_id, cell_1_position_nucleus, cell_1_nucleus_area,  cell_1_center_of_area, cell_1_area)\n",
    "```\n",
    "\n",
    "If we no wish to gain the area of the cell we can access the attribute or member by following up the name of our **instance** with ```.``` and the name of the member:\n",
    "\n",
    "```Python\n",
    "cell_1_area = cell_1.cell_area\n",
    "```\n",
    "\n",
    "This approach become useful if we deal with a large number of **instances**, in our case a few hundred cells for example.\n",
    "\n",
    "Now you know how classes are generally used. Let us start with a few exercises.  First create write your own Cell **class** and add a method to calculate the ratio between nucleus area and cell area. To access the attributes in the class use ```self```. If you are stuck at this exercise try to search for inspiration on the internet."
   ]
  },
  {
   "cell_type": "code",
   "execution_count": null,
   "id": "1841768e-f48c-4911-a25e-d370589e9b1d",
   "metadata": {
    "editable": true,
    "slideshow": {
     "slide_type": ""
    },
    "tags": []
   },
   "outputs": [],
   "source": [
    "# Your code goes here"
   ]
  },
  {
   "cell_type": "markdown",
   "id": "08913648-6280-402e-aa5f-f67273d1a19a",
   "metadata": {
    "editable": false,
    "slideshow": {
     "slide_type": ""
    },
    "tags": []
   },
   "source": [
    "<details>\n",
    "  <summary>Click to reveal solution</summary>\n",
    "\n",
    "```Python\n",
    "class Cell:\n",
    "    def __init__(self, identification, position_nucleus, area_nucleus, center_cell_area, cell_area):\n",
    "        self.identification = identification\n",
    "        self.position_nucleus = position_nucleus\n",
    "        self.area_nucleus = area_nucleus\n",
    "        self.center_cell_area = center_cell_area\n",
    "        self.cell_area = cell_area\n",
    "    \n",
    "    def nucleus_to_total_area_ratio(self):\n",
    "        return self.area_nucleus / self.cell_area\n",
    "\n",
    "cell_1_id = 1\n",
    "cell_1_position_nucleus = (45, 74)\n",
    "cell_1_nucleus_area = 65\n",
    "cell_1_area = 231\n",
    "cell_1_center_of_area = (49, 71)\n",
    "cell_1 = Cell(cell_1_id, cell_1_position_nucleus, cell_1_nucleus_area,  cell_1_center_of_area, cell_1_area)\n",
    "\n",
    "print(cell_1.nucleus_to_total_area_ratio())\n",
    "```\n",
    "\n",
    "</details>"
   ]
  },
  {
   "cell_type": "markdown",
   "id": "2f00aae7-73c3-439b-a53e-3aebc0362666",
   "metadata": {
    "editable": false,
    "slideshow": {
     "slide_type": ""
    },
    "tags": []
   },
   "source": [
    "In the previous example we used **tuple** to represent the positions. We could do this with a class instead. Please write a **class** that represents a point and contains a **method** to calculate the distance to another point."
   ]
  },
  {
   "cell_type": "code",
   "execution_count": null,
   "id": "315119e2-b4c9-4816-bd11-ed8167a37145",
   "metadata": {
    "editable": true,
    "slideshow": {
     "slide_type": ""
    },
    "tags": []
   },
   "outputs": [],
   "source": [
    "# Your code goes here"
   ]
  },
  {
   "cell_type": "markdown",
   "id": "aaee868d-62eb-40cf-96fc-768fb3d89931",
   "metadata": {
    "editable": false,
    "slideshow": {
     "slide_type": ""
    },
    "tags": []
   },
   "source": [
    "<details>\n",
    "  <summary>Click to reveal solution</summary>\n",
    "\n",
    "```Python\n",
    "class Point:\n",
    "    def __init__(self, x, y):\n",
    "        self.x = x\n",
    "        self.y = y\n",
    "    def distance(self, other_point):\n",
    "        distance = ((self.x - other_point.x) ** 2 + (self.y - other_point.y) ** 2) * (1/2)\n",
    "        return distance\n",
    "\n",
    "point_1 = Point(45, 74)\n",
    "point_2 = Point(49, 71)\n",
    "distance = point_1.distance(point_2)\n",
    "print(distance)\n",
    "```\n",
    "\n",
    "</details>"
   ]
  },
  {
   "cell_type": "markdown",
   "id": "3ed6112b-757d-42aa-a543-123510490bbd",
   "metadata": {
    "editable": false,
    "slideshow": {
     "slide_type": ""
    },
    "tags": []
   },
   "source": [
    "## Documenting classes and functions\n",
    "\n",
    "Last unit we discussed readable code and mentioned docstrings. Now is the time to see them in action. The difference between a docstring and a normal comment is that the doc-string can be accessed from within your code. So people can explore your code interactively. They are also attached to an object in your code, like a **class** or a **function**, so you can use them to describe this object in detail."
   ]
  },
  {
   "cell_type": "markdown",
   "id": "6c59e56c-40fc-4a6e-9d71-ae974621dd6b",
   "metadata": {
    "editable": false,
    "slideshow": {
     "slide_type": ""
    },
    "tags": []
   },
   "source": [
    "### Docstrings\n",
    "\n",
    "To write a good docstring there are multiple conventions to choose form. The first is the rather free [PEP 257](https://peps.python.org/pep-0257/) which may look like this:\n",
    "\n",
    "```Python\n",
    "class Point:\n",
    "    \"\"\"A two dimensional point.\"\"\"\n",
    "    def __init__(self, x, y):\n",
    "        \"\"\"Constructs a new point.\n",
    "\n",
    "        Arguments:\n",
    "        x -- the position in x as an float or int\n",
    "        y -- the position in y as an float or int\n",
    "        \"\"\"\n",
    "        self.x = x\n",
    "        self.y = y\n",
    "    def distance(self, other_point):\n",
    "        \"\"\"Gets the distance between two points.\n",
    "\n",
    "        Calcualtes the eucledian distance between both points.\n",
    "\n",
    "        Arguments:\n",
    "        other_point -- the point to which we calculate the distance. \n",
    "        \"\"\"\n",
    "        distance = ((self.x - other_point.x) ** 2 + (self.y - other_point.y) ** 2) * (1/2)\n",
    "        return distance\n",
    "```\n",
    "\n",
    "As you may have noticed, it consists of three pieces of information:\n",
    "- What goes in (input / arguments)\n",
    "- What goes out (output / return)\n",
    "- What is its role. What does a **function**/**method** do, what does a class represent.\n",
    "\n",
    "For our example, this is quite straightforward and you may opt to skip the documentation entirely, because the name of the class and methods are quite straightforward. This will not be the case for long, because your projects will use more complex **classes**, that need to be explained to newcomers.\n",
    "If we would try to get the density of the cells in an area we would probably use a [kernel density estimation](https://en.wikipedia.org/wiki/Kernel_density_estimation), which you would probably need a few minutes and a little bit of text to understand. Therefore, if I would write code for you that does this, I should explain it as we did in the example.\n",
    "\n",
    "Please keep in mind that while you write your code you build up expertise in your area. This means that you start to overestimate what is common knowledge, therefore it is better to document too much. Otherwise you end up like these guys in this [xkcd-comic]( https://xkcd.com/2501/):\n",
    "\n",
    "![xkcd average familiarity, describes that experts drastically overestimate the average familiarity of the general population with their field.](https://imgs.xkcd.com/comics/average_familiarity.png)\n",
    "\n",
    "The python oriented documenting tool is [Sphinx](https://www.sphinx-doc.org/en/master/index.html), which encourages the user to provide more information. If you use it you should probably start from an [example](https://www.sphinx-doc.org/en/master/usage/extensions/example_numpy.html) and read the documentation later, because it is not trivial. So our documented class would look like this:\n",
    "\n",
    "```Python\n",
    "class Point:\n",
    "    \"\"\"A two dimensional point.\n",
    "\n",
    "    :param x: the position in x.\n",
    "    :type x: float or int\n",
    "    :param x: the position in y.\n",
    "    :type y: float or int\n",
    "    \"\"\"\n",
    "    def __init__(self, x, y):\n",
    "        \"\"\"Constructor method\n",
    "        \"\"\"\n",
    "        self.x = x\n",
    "        self.y = y\n",
    "    def distance(self, other_point):\n",
    "        \"\"\"Gets the distance between two points.\n",
    "\n",
    "        Calcualtes the eucledian distance between both points.\n",
    "\n",
    "        :param other_point: the point to which we calculate the distance.\n",
    "        :type other_point: class:\"Point\"\n",
    "        :return: The eucledian distance between the  points.\n",
    "        :rtype: float or int\n",
    "        \"\"\"\n",
    "        distance = ((self.x - other_point.x) ** 2 + (self.y - other_point.y) ** 2) * (1/2)\n",
    "        return distance\n",
    "```\n",
    "\n",
    "A different solution is [doxygen](https://www.doxygen.nl/manual/docblocks.html#pythonblocks). It supports multiple languages and was widely adopted by the [C++](https://de.wikipedia.org/wiki/C%2B%2B)-community. Its support for Python exists but it often fails to document the finer features. I advise to use it if your project uses multiple languages or your team has previous experience with it. The documentation would look like this:\n",
    "\n",
    "```Python\n",
    "class Point:\n",
    "    \"\"\"!\n",
    "    @brief A two dimensional point.\n",
    "    \"\"\"\n",
    "    def __init__(self, x, y):\n",
    "        \"\"\"!\n",
    "        @brief Constructor method\n",
    "\n",
    "        @param x The position in x as a float or int.\n",
    "        @param y The position in y as a float or int.\n",
    "        @return A new isntance of the Point class\n",
    "        \"\"\"\n",
    "        self.x = x\n",
    "        self.y = y\n",
    "    def distance(self, other_point):\n",
    "        \"\"\"!\n",
    "        @brief Gets the distance between two points.\n",
    "        @detail Calcualtes the eucledian distance between both points.\n",
    "\n",
    "        @param other_point: the point to which we calculate the distance.\n",
    "        @return The eucledian distance between the  points.\n",
    "        \"\"\"\n",
    "        distance = ((self.x - other_point.x) ** 2 + (self.y - other_point.y) ** 2) * (1/2)\n",
    "        return distance\n",
    "```\n",
    "\n",
    "After we learned all this is is time to practice, first you should investigate how to get a docstring. Please view the docstring for **int** by using the help function, in the cell below.\n",
    "Als consider investigating a few other types."
   ]
  },
  {
   "cell_type": "code",
   "execution_count": null,
   "id": "8683e99e-b9a9-49d1-9b72-30004df6f759",
   "metadata": {
    "editable": true,
    "slideshow": {
     "slide_type": ""
    },
    "tags": []
   },
   "outputs": [],
   "source": [
    "help(int)"
   ]
  },
  {
   "cell_type": "markdown",
   "id": "a00c1320-67f4-43f5-9e03-01510cfcf3bd",
   "metadata": {
    "editable": false,
    "slideshow": {
     "slide_type": ""
    },
    "tags": []
   },
   "source": [
    "Next, I would ask you to document the cell class we created previously. Please do it in teams of two and review each other’s work, discuss shortly, which information should be added and which could be removed.\n",
    "\n",
    "```Python\n",
    "class Cell:\n",
    "    def __init__(self, identification, position_nucleus, area_nucleus, center_cell_area, cell_area):\n",
    "        self.identification = identification\n",
    "        self.position_nucleus = position_nucleus\n",
    "        self.area_nucleus = area_nucleus\n",
    "        self.center_cell_area = center_cell_area\n",
    "        self.cell_area = cell_area\n",
    "    \n",
    "    def nucleus_to_total_area_ratio(self):\n",
    "        return self.area_nucleus / self.cell_area\n",
    "```"
   ]
  },
  {
   "cell_type": "code",
   "execution_count": null,
   "id": "bcc3a147-c29d-41f5-ba56-13a68ec727ac",
   "metadata": {
    "editable": true,
    "slideshow": {
     "slide_type": ""
    },
    "tags": []
   },
   "outputs": [],
   "source": [
    "# Add your documented code here"
   ]
  },
  {
   "cell_type": "markdown",
   "id": "dc7de079-59cf-48a1-b7b3-3bad1c7eee9b",
   "metadata": {
    "editable": false,
    "slideshow": {
     "slide_type": ""
    },
    "tags": []
   },
   "source": [
    "<details>\n",
    "  <summary>Click to reveal suggested solution</summary>\n",
    "\n",
    "```Python\n",
    "class Cell:\n",
    "    \"\"\"A single cell recorded with the microscope.\"\"\"\n",
    "    def __init__(self, identification, position_nucleus, area_nucleus, center_cell_area, cell_area):\n",
    "        \"\"\"Constructs a new cell\n",
    "\n",
    "        Arguments:\n",
    "        identification -- the unique number associated with this cell as an int.\n",
    "        position_nucelus -- the position of the nucleus as a point.\n",
    "        area_nucleus -- the area of the nucleus as an int.\n",
    "        center_cell_area -- the center of the entire cell area as a point.\n",
    "        cell_area -- the area covered by the cell as an int\n",
    "        \"\"\"\n",
    "        self.identification = identification\n",
    "        self.position_nucleus = position_nucleus\n",
    "        self.area_nucleus = area_nucleus\n",
    "        self.center_cell_area = center_cell_area\n",
    "        self.cell_area = cell_area\n",
    "    def nucleus_to_total_area_ratio(self):\n",
    "        \"\"\"\n",
    "        Calculates the ratio between nucelus and total area.\n",
    "\n",
    "        Divinding the area coverd by the nucleus by the total cell area gives us a number\n",
    "        betwen 0.0 and 1.0. The return value is a float.\n",
    "        \"\"\"\n",
    "        return self.area_nucleus / self.cell_area\n",
    "```\n",
    "\n",
    "</details>"
   ]
  },
  {
   "cell_type": "markdown",
   "id": "f7578417-09ac-4edd-b99d-1c654ede9455",
   "metadata": {
    "editable": false,
    "slideshow": {
     "slide_type": ""
    },
    "tags": []
   },
   "source": [
    "### Type hinting\n",
    "\n",
    "Python attempts to hide **types** from us, by using a method called [duck-typing](https://en.wikipedia.org/wiki/Duck_typing). Duck-typing is named after the [duck-test]( https://en.wikipedia.org/wiki/Duck_test):\n",
    "\n",
    ">\tIf it looks like a duck, swims like a duck, and quacks like a duck, then it probably is a duck.\n",
    "\n",
    "To give a concrete example if it can be used with ```+```, ```-```,```/``` and ```*``` it is probably a number. So python does not care if something is an **int** or an **float** as long as they behave the same. This concept can then be expanded to other **types** like **list** or **tuple**. So if all your **function** does is access an argument like ```argument[3]``` it does not matter if it is a **list** or a **tuple**.  This behavior is often useful, because **functions** can work on **types** they were not designed for, but there are dangers. Consider the following example:\n",
    "\n",
    "```Python\n",
    "test_list = [\"Test A\", \"Test B\", \"Test C\"]\n",
    "index_b = 1\n",
    "index_c = 4 / 2\n",
    "print(test_list[index_b])\n",
    "print(test_list[index_c])\n",
    "```\n",
    "\n",
    "Please predict the ouput and the execute the code in the cell below:"
   ]
  },
  {
   "cell_type": "code",
   "execution_count": null,
   "id": "9193391b-0d10-4fe7-bf88-90f64ef49e0d",
   "metadata": {
    "editable": true,
    "slideshow": {
     "slide_type": ""
    },
    "tags": []
   },
   "outputs": [],
   "source": [
    "# Copy code here"
   ]
  },
  {
   "cell_type": "markdown",
   "id": "afb79e3d-79b6-4fbc-9abf-49d41d1dc165",
   "metadata": {
    "editable": false,
    "slideshow": {
     "slide_type": ""
    },
    "tags": []
   },
   "source": [
    "As you may have noticed the ```[]```-**operator** only takes **ints**, but the ```/```, produced a **float**leading to an error. This is danger of duck-typing, everything might work for most of the **functions**, bit then break at the very end. Now you have to figure out what went wrong.\n",
    "\n",
    "The great danger is not the code crashing and raising an error, but everything seemingly working find and an incorrect result. Let us take our list again and print the first entry with the following code. Please predict what happens before you execute:\n",
    "\n",
    "```Python\n",
    "test_list = [\"Test A\", \"Test B\", \"Test C\"],\n",
    "print(test_list[0])\n",
    "```"
   ]
  },
  {
   "cell_type": "code",
   "execution_count": null,
   "id": "27796af1-90b3-4184-8e7f-50b33eda0a4e",
   "metadata": {
    "editable": true,
    "slideshow": {
     "slide_type": ""
    },
    "tags": []
   },
   "outputs": [],
   "source": [
    "# Copy code here"
   ]
  },
  {
   "cell_type": "markdown",
   "id": "b0153fce-574f-4b00-90f6-dcbee13f655d",
   "metadata": {
    "editable": false,
    "slideshow": {
     "slide_type": ""
    },
    "tags": []
   },
   "source": [
    "So what went wrong here? If you investigate the first line you will see the extra ```,``` at the end. This means that the first line could be read as ```test_list =([ \"Test A\", \"Test B\", \"Test C\"],)```, so ```test_list``` was actually a **tuple**. So ```test_list[0]``` gave us the first element of the **tuple**, which was the **list**. I hope you can see how such a typo might be missed and cause problems later, without raising an error.\n",
    "\n",
    "To avoid this problem we have two tools at our disposal. The first one is additional documentation in the form of [type-hints]( https://docs.python.org/3/library/typing.html), these permit us to communicate the intended **type**. The final users may still feed other stuff into it, but they now have to option to supply the **type** we had in mind when we wrote the code. \n",
    "\n",
    "For type hinting we add the **type** of an argument behind it separated by ```:```. The return **type** is written at the end of a **function**/**method** after ```->```. If nothing is returned the return **type** is ```None```, so we write ```-> None```. We can only use **classes** that are fully defined, so a class can not hint at itself, for this reason the return of ```__init__``` is not hinted. In our example this also applies for the ```distance```-method.\n",
    "\n",
    "Here is an example of type-hinting demonstrated on our point-class:\n",
    "\n",
    "```Python\n",
    "class Point:\n",
    "    def __init__(self, x:int | float, y:int | float):\n",
    "        self.x = x\n",
    "        self.y = y\n",
    "    def distance(self, other_point) -> float:\n",
    "        distance = ((self.x - other_point.x) ** 2 + (self.y - other_point.y) ** 2) * (1/2)\n",
    "        return distance\n",
    "```\n",
    "\n",
    "Now, this is the polite way for people that read documentation. Considering that, I often work with my own code I do not need to be polite and I do not read the documentation of something I wrote just a few weeks before I use a different method for my code. Since I know what inputs I expect, I check for them and raise an error if the **type** is not expected. This approach permits me to fail early and fix the problem at its source instead of searching for it for hours. I assume you will find similar uses of ```type``` and ```isinstance``` in a few code-bases.\n",
    "\n",
    "The two **functions** ```type``` and ```isinstance``` allow us to investigate the **type** of an object. So if we wish to get the **type** of a variable ```a``` we write ```type(a)```.  Here is a short example:\n",
    "\n",
    "```Python\n",
    "a = 2.3\n",
    "type_of_a = type(a)\n",
    "print(type_of_a)\n",
    "```\n",
    "\n",
    "Please execute it in the cell below and interpret the result."
   ]
  },
  {
   "cell_type": "code",
   "execution_count": null,
   "id": "15c9ac1e-4e55-4a08-a36b-3af958e34b5e",
   "metadata": {
    "editable": true,
    "slideshow": {
     "slide_type": ""
    },
    "tags": []
   },
   "outputs": [],
   "source": [
    "# Copy code here"
   ]
  },
  {
   "cell_type": "markdown",
   "id": "83364b09-2300-42ee-ac3b-ec4d2ad2e5cb",
   "metadata": {
    "editable": false,
    "slideshow": {
     "slide_type": ""
    },
    "tags": []
   },
   "source": [
    "So our object ```a``` had the **type** ```<class 'float'>```. This means it is a **class** and the **class** is called ```float```. So internally Pyshon uses **classes** for all data-**types**, which sets it apart from older languages like C++ or Java.\n",
    "\n",
    "We can use this in a number of ways. We can compare **types** use them in conditional statements like a if-statement or them in error messages, for the former two we should use ```isinstance```, because it is faster. So if we wish to raise an error if anything but an **int** is supplied we would write:\n",
    "\n",
    "```Python\n",
    "def raise_error_if_int(argument:any)->None:\n",
    "    if not isinstance(argument, int):\n",
    "        message = \"The supplied argument (\"\n",
    "        message += str(argument)\n",
    "        message +=\") was of type \\\"\"\n",
    "        message += str(type(argument))\n",
    "        message += \"\\\" but \\\"\"\n",
    "        message +=  str(int)\n",
    "        message += \"\\\" was expected.\"\n",
    "        raise TypeError(message)\n",
    "\n",
    "correct = 1\n",
    "not_correct = 1.0\n",
    "\n",
    "raise_error_if_int(correct)\n",
    "raise_error_if_int(not_correct)\n",
    "```\n",
    "\n",
    "Or if we want to shorten the **function** by using [formatted string](https://docs.python.org/3/tutorial/inputoutput.html):\n",
    "\n",
    "```Python\n",
    "def raise_error_if_int(argument:any)->None:\n",
    "    if not isinstance(argument, int):\n",
    "        message = f\"The supplied argument ({str(argument)}) was of type \\\"{str(type(argument))}\\\"  but \\\"{str(int)}\\\" was expected.\"\n",
    "        raise TypeError(message)\n",
    "\n",
    "correct = 1\n",
    "not_correct = 1.0\n",
    "\n",
    "raise_error_if_int(correct)\n",
    "raise_error_if_int(not_correct)\n",
    "```\n",
    "\n",
    "Please copy your prefered version in the box below and execute it."
   ]
  },
  {
   "cell_type": "code",
   "execution_count": null,
   "id": "4697e0f1-d406-4975-ad59-4d168b8c001f",
   "metadata": {
    "editable": true,
    "slideshow": {
     "slide_type": ""
    },
    "tags": []
   },
   "outputs": [],
   "source": [
    "# Copy code here"
   ]
  },
  {
   "cell_type": "markdown",
   "id": "21d2472a-e890-48a7-a01e-14b63a492d9c",
   "metadata": {
    "editable": false,
    "slideshow": {
     "slide_type": ""
    },
    "tags": []
   },
   "source": [
    "Before we move on I have a very simple question. What **type** does the ```type``` **function** retun? What do you think? Speculate with your neighbor before you try it out.\n",
    "\n",
    "```Python\n",
    "print(type(type(1)))\n",
    "```"
   ]
  },
  {
   "cell_type": "code",
   "execution_count": null,
   "id": "ea73beab-1167-4dcd-b044-2183c9693df0",
   "metadata": {
    "editable": true,
    "slideshow": {
     "slide_type": ""
    },
    "tags": []
   },
   "outputs": [],
   "source": [
    "# Copy code here"
   ]
  },
  {
   "cell_type": "markdown",
   "id": "e24d09a6-8f37-41bd-a2f2-aaf2ca51e03b",
   "metadata": {
    "editable": false,
    "slideshow": {
     "slide_type": ""
    },
    "tags": []
   },
   "source": [
    "For you this result may not be spectacular, but for computer science students it is. It allows us to change the code of the program while it is running; an ability mostly lost by the introduction of higher-level compiled programming languages. If you are interested how it can be used consider searching for [reflective programming](https://en.wikipedia.org/wiki/Reflective_programming).\n",
    "\n",
    "However, before you drift of on this interesting side-quest I would ask you to apply what we just learned to our cell-**class**. So please expand the code with type-hints and some ```TypeErrors``` in the cell below."
   ]
  },
  {
   "cell_type": "code",
   "execution_count": null,
   "id": "730b2331-9d87-4a93-8df5-8a545aa9dc9a",
   "metadata": {
    "editable": true,
    "slideshow": {
     "slide_type": ""
    },
    "tags": []
   },
   "outputs": [],
   "source": [
    "# Add your code here"
   ]
  },
  {
   "cell_type": "markdown",
   "id": "1de3f005-cfcb-4da8-99c8-d5970313867a",
   "metadata": {
    "editable": false,
    "slideshow": {
     "slide_type": ""
    },
    "tags": []
   },
   "source": [
    "<details>\n",
    "  <summary>Click to reveal suggested solution</summary>\n",
    "\n",
    "```Python\n",
    "def check_type(argument:any, expected_types:list[type]) -> None:\n",
    "    if not isinstance(expected_types, list):\n",
    "        raise TypeError(f\"The expected_types ({expected_types}) were not supplied as an {list}´, but as a {type(expected_types)} instead.\")\n",
    "    correct_type = False\n",
    "    for expected_type in expected_types:\n",
    "        if not isinstance(expected_type, type):\n",
    "            raise TypeError(f\"The expected_type ({expected_type}) was not supplied as an {type}´, but as a {type(expected_type)} instead.\")\n",
    "        if isinstance(argument, expected_type):\n",
    "            correct_type = True\n",
    "            break\n",
    "    if not correct_type:\n",
    "        raise TypeError(f\"{argument} was of type {type(argument)}, which was not expected. The expected types were {expected_types}.\")\n",
    "\n",
    "\n",
    "class Cell:\n",
    "    \"\"\"A single cell recorded with the microscope.\"\"\"\n",
    "    def __init__(self, identification:int, \n",
    "                 position_nucleus:Point, area_nucleus:int|float, \n",
    "                 center_cell_area:Point, cell_area:int|float):\n",
    "        \"\"\"Constructs a new cell\n",
    "\n",
    "        Arguments:\n",
    "        identification -- the unique number associated with this cell as an int.\n",
    "        position_nucelus -- the position of the nucleus as a point.\n",
    "        area_nucleus -- the area of the nucleus as an int.\n",
    "        center_cell_area -- the center of the entire cell area as a point.\n",
    "        cell_area -- the area covered by the cell as an int\n",
    "        \"\"\"\n",
    "        check_type(identification, [int])\n",
    "        check_type(position_nucleus, [Point])\n",
    "        check_type(area_nucleus, [int, float])\n",
    "        check_type(center_cell_area, [Point])\n",
    "        check_type(cell_area, [int, float])\n",
    "        self.identification = identification\n",
    "        self.position_nucleus = position_nucleus\n",
    "        self.area_nucleus = area_nucleus\n",
    "        self.center_cell_area = center_cell_area\n",
    "        self.cell_area = cell_area\n",
    "    def nucleus_to_total_area_ratio(self) -> float:\n",
    "        \"\"\"\n",
    "        Calculates the ratio between nucelus and total area.\n",
    "\n",
    "        Divinding the area coverd by the nucleus by the total cell area gives us a number\n",
    "        betwen 0.0 and 1.0. The return value is a float.\n",
    "        \"\"\"\n",
    "        return self.area_nucleus / self.cell_area\n",
    "```\n",
    "\n",
    "</details>"
   ]
  },
  {
   "cell_type": "markdown",
   "id": "40e24793-a11a-4a20-8343-9ff64ac8b243",
   "metadata": {
    "editable": false,
    "slideshow": {
     "slide_type": ""
    },
    "tags": []
   },
   "source": [
    "## Fancy things\n",
    "\n",
    "You by now you may have realized that classes are for better or worse central to Python. There are a few more concepts I wish to mention without applying them. They may come in handy when you try to expand your knowledge later.\n",
    "\n",
    "### Class-methods\n",
    "\n",
    "Class-methods are **methods** that are not bound to an **instance** of the **class**, this means they do not use member-variables via ```self``` like other **methods**. Instead they take the **class** as an argument, which is usually called ```cls```. A common use are different constructor methods. Here is a short example:\n",
    "\n",
    "```Python\n",
    "class Point:\n",
    "    def __init__(self, x, y):\n",
    "        self.x = x\n",
    "        self.y = y\n",
    "    @classmethod\n",
    "    def from_sequence(cls, sequence):\n",
    "        \"\"\"Creates a Point from a two element sequence like a tuple or a list.\n",
    "        \"\"\"\n",
    "        point = cls(sequence[0], sequence[1])\n",
    "        return point\n",
    "    def distance(self, other_point):\n",
    "        distance = ((self.x - other_point.x) ** 2 + (self.y - other_point.y) ** 2) * (1/2)\n",
    "        return distance\n",
    "````\n",
    "\n",
    "### Static-methods\n",
    "\n",
    "Static-methods are **methods** that are not bound to an **instance** of the **class** or the **class** itself, this means they do take neither an **instance** nor the **class** itself as an argument.  They are usually used to associate **functions** with **classes**. Here for example we have a **function** that checks if we can convert a sequence into a ```Point```, because it does not interact with the ```Point```-**class** directly, but belongs to it we add it as a staticmethod.\n",
    "\n",
    "```Python\n",
    "class Point:\n",
    "    def __init__(self, x, y):\n",
    "        self.x = x\n",
    "        self.y = y\n",
    "    @classmethod\n",
    "    def from_sequence(cls, sequence):\n",
    "        \"\"\"Creates a Point from a two element sequence like a tuple or a list.\n",
    "        \"\"\"\n",
    "        point = cls(sequence[0], sequence[1])\n",
    "        return point\n",
    "    @staticmethod\n",
    "    def can_build_point_from_this(sequence):\n",
    "        if len(sequence) > 2:\n",
    "            return True\n",
    "        else:\n",
    "            for element in [sequence[0], sequence[1]]:\n",
    "                if not(isinstance(element, int) or isinstance(element, float)):\n",
    "                    return False\n",
    "            return True\n",
    "    def distance(self, other_point):\n",
    "        distance = ((self.x - other_point.x) ** 2 + (self.y - other_point.y) ** 2) * (1/2)\n",
    "        return distance\n",
    "```"
   ]
  },
  {
   "cell_type": "markdown",
   "id": "d65b8e42-19b9-4dc7-ab59-7019eede5f6d",
   "metadata": {
    "editable": true,
    "slideshow": {
     "slide_type": ""
    },
    "tags": []
   },
   "source": [
    "ToDo:\n",
    "- Mention inheritance and data-classes\n",
    "- Module on the example of csv-reader\n",
    "- What is module\n",
    "- How to write module\n",
    "- Create the algorithm that creates the csv files"
   ]
  }
 ],
 "metadata": {
  "kernelspec": {
   "display_name": "Python 3 (ipykernel)",
   "language": "python",
   "name": "python3"
  },
  "language_info": {
   "codemirror_mode": {
    "name": "ipython",
    "version": 3
   },
   "file_extension": ".py",
   "mimetype": "text/x-python",
   "name": "python",
   "nbconvert_exporter": "python",
   "pygments_lexer": "ipython3",
   "version": "3.12.7"
  }
 },
 "nbformat": 4,
 "nbformat_minor": 5
}
