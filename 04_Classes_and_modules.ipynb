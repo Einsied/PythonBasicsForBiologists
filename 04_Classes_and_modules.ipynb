{
 "cells": [
  {
   "cell_type": "markdown",
   "id": "8fce32e7-b12e-4e42-88db-9809313a72f9",
   "metadata": {
    "editable": false,
    "slideshow": {
     "slide_type": ""
    },
    "tags": []
   },
   "source": [
    "# Classes and modules"
   ]
  },
  {
   "cell_type": "markdown",
   "id": "c348b8c9-d20a-415a-8aac-f862d083a59a",
   "metadata": {
    "editable": false,
    "slideshow": {
     "slide_type": ""
    },
    "tags": []
   },
   "source": [
    "## Recall\n",
    "\n",
    "Last unit we learned how to use control structures like ```for```, ```if``` and ```functions```.\n",
    "We used this knowledge to complete the code to read in the comma-separated-values-files.\n",
    "\n",
    "<details>\n",
    "  <summary>Show Code</summary>\n",
    "\n",
    "```Python\n",
    "def process_csv(csv_file, dishes):\n",
    "    \"\"\"!\n",
    "        @brief This function reads in specific csv-file and adds the contents into the dict dishes\n",
    "        @details We assume that we get an csv-file with a header line and 7 fields per row.\n",
    "            The name and contents of the csv-file should be defined as given in param, so we can extract the day and dish number.\n",
    "            The contents are then stored in a dict passed as dishes defined in param.\n",
    "        @param csv_file the path to the csv-file as a str, it should follow the form Day_[day]_dish_[dish]_zoom_[zoom].csv,\n",
    "            where all [] denote numbers extracted as meta data.\n",
    "            The 5th field should contain the area of the cells.\n",
    "        @param dishes a dict that will be filled with the contents of the csv-file.\n",
    "            The first layer of keys will be the dish-numbers, the values belonging to them are dicts.\n",
    "            These dicts contain the days as keys and dicts as values. The lowest layer dicts contain\n",
    "            the \"cell_count\" and \"area\" as keys. Their values are the total cell-count for that day and dish and the\n",
    "            total area for that day and dish respectivley.\n",
    "        @return None\n",
    "    \"\"\"\n",
    "    with open(csv_file, \"r\") as csv_file_handle:\n",
    "        _, day, _ , dish_number, _, zoom_factor = csv_file.split(\"_\")\n",
    "        cell_counter = 0\n",
    "        cell_area_counter = 0\n",
    "        line_counter = 0\n",
    "        for line in csv_file_handle:\n",
    "            if line_counter != 0:\n",
    "                cell_counter += 1\n",
    "                cell_id, nucleus_x, nucleus_y, nucleus_area, cell_area, center_of_area_y, center_of_area_y = line.split(\",\")\n",
    "                cell_area_counter += float(cell_area)\n",
    "            line_counter += 1\n",
    "        if dish_number not in dishes.keys():\n",
    "            dishes[dish_number] = {}\n",
    "        dishes[dish_number][day] = {\n",
    "            \"cell_count\": cell_counter,\n",
    "            \"area\": cell_area_counter\n",
    "        } \n",
    "    return\n",
    "\n",
    "csv_files = [\n",
    "    \"./data/Day_1_dish_1_zoom_3.csv\"\n",
    "]\n",
    "\n",
    "# Create something to save the dishes\n",
    "dishes = {}\n",
    "\n",
    "# Go through all files\n",
    "for csv_file in csv_files:\n",
    "    process_csv(csv_file, dishes)\n",
    "```\n",
    "\n",
    "</details>\n",
    "\n",
    "We then restructured the data to make the more accessible.\n",
    "\n",
    "<details>\n",
    "  <summary>Show Code</summary>\n",
    "\n",
    "```Python\n",
    "area = []\n",
    "count = []\n",
    "cells = {\"area\": area, \"count\": count}\n",
    "# We know that the dishes are numbered so we iterate over them\n",
    "for dish_number in range(1, len(dishes) + 1, 1):\n",
    "    dish = dishes[str(dish_number)]\n",
    "    dish_area = []\n",
    "    dish_count = []\n",
    "    # We know that the days in the dishes are numbered\n",
    "    for day_number in range(1, len(dish) + 1, 1):\n",
    "        value_pair = dish[str(day_number)]\n",
    "        day_area = value_pair[\"area\"]\n",
    "        day_count = value_pair[\"cell_count\"]\n",
    "        dish_area.append(day_area)\n",
    "        dish_count.append(day_count)\n",
    "    area.append(dish_area)\n",
    "    count.append(dish_count)\n",
    "print(cells)\n",
    "```\n",
    "\n",
    "</details>\n",
    "\n",
    "You may have expected that reading in a csv-file is a common task and there is a more comfortable solution, then coding it yourself. In Python, we often use code provided via the python package index. This code usually comes in the form of modules. Most modules use classes. So this unit deals with first with classes and then modules."
   ]
  },
  {
   "cell_type": "markdown",
   "id": "8ed627e4-ebd6-461d-8d4b-c737e6f36775",
   "metadata": {
    "editable": false,
    "slideshow": {
     "slide_type": ""
    },
    "tags": []
   },
   "source": [
    "## Classes\n",
    "\n",
    "In the last unit you learned how to use **functions** to structure your code. **functions** usually take **arguments** as inputs. Programmers learnt that most **functions** are very closely associated with a set of **arguments**.  So they concluded that these arguments should be bundled in [structures]( https://en.wikipedia.org/wiki/Struct_(C_programming_language) and associated with their **functions**. This lead to **classes** and the emergence of [object-oriented-programming](https://en.wikipedia.org/wiki/Object-oriented_programming).\n",
    "\n",
    "Object oriented programming tries to understand the world as a limited set of abstract ideas. It tries to simplify, by finding a set of shared attributes and behaviors. Alice for example decided to describe all her cells by:\n",
    "\n",
    "- their ID\n",
    "- the position of the nucleus\n",
    "- the area of the nucleus\n",
    "- the center area of the cell\n",
    "- the cell area\n",
    "\n",
    "So she defined herself a \"cell\" **class**. \n",
    "The objects belonging to or the **instances** of this **class**  are the entries in the csv-file she gave Bob.\n",
    "\n",
    "As mentioned before classes are a combination of **functions** and **values**. So we could add a **function** to this cell-**class** if we want, like calculating the difference between nucleus and total cell-area. This **function** belonging to the class would then be called a **method**.\n",
    "\n",
    "There are a few **methods** that should always exist. If we do not write them Python will create some dummy method instead. A **method** that almost every class will have is the constructor, that transfers the **values** into the object / **instance**. In Python it is called ```__init__```.\n",
    "\n",
    "To create a **class** we begin with the keyword ```class``` followed by its name and ```:```. We then begin listing its attributes like the **methods**. So we write a **function** called ```__init__```. The first argument of every **method** in Python has to be the **instance** of the **class** itself, therefore it is usually named ```self```, then the other **arguments** follow.\n",
    "\n",
    "Let us put this into code:\n",
    "```Python\n",
    "# Define the class with the name \"Cell\"\n",
    "class Cell:\n",
    "    # Write the constructor with all the arguments we need to store our attributes\n",
    "    def __init__(self, identification, position_nucleus, area_nucleus, center_cell_area, cell_area):\n",
    "        # I use to name the attributes in the cell like the arguments to avoid confusion\n",
    "        # You may as well named them differently and write:\n",
    "        # self.id = identification\n",
    "        self.identification = identification\n",
    "        self.position_nucleus = position_nucleus\n",
    "        self.area_nucleus = area_nucleus\n",
    "        self.center_cell_area = center_cell_area\n",
    "        self.cell_area = cell_area\n",
    "```\n",
    "\n",
    "This snippet defines the **class**, but does not create an **instance**. The computer knows what cell is, but it does not know any specific cell. To create a specific cell we have to create an **instance**. In our case, we will create an **instance** called ```cell1```:\n",
    "\n",
    "```Python\n",
    "cell_1_id = 1\n",
    "cell_1_position_nucleus = (45, 74)\n",
    "cell_1_nucleus_area = 65\n",
    "cell_1_area = 231\n",
    "cell_1_center_of_area = (49, 71)\n",
    "cell_1 = Cell(cell_1_id, cell_1_position_nucleus, cell_1_nucleus_area,  cell_1_center_of_area, cell_1_area)\n",
    "```\n",
    "\n",
    "If we no wish to gain the area of the cell we can access the attribute or member by following up the name of our **instance** with ```.``` and the name of the member:\n",
    "\n",
    "```Python\n",
    "cell_1_area = cell_1.cell_area\n",
    "```\n",
    "\n",
    "This approach become useful if we deal with a large number of **instances**, in our case a few hundred cells for example.\n",
    "\n",
    "Now you know how classes are generally used. Let us start with a few exercises.  First create write your own Cell **class** and add a method to calculate the ratio between nucleus area and cell area. To access the attributes in the class use ```self```. If you are stuck at this exercise try to search for inspiration on the internet."
   ]
  },
  {
   "cell_type": "code",
   "execution_count": null,
   "id": "1841768e-f48c-4911-a25e-d370589e9b1d",
   "metadata": {
    "editable": true,
    "slideshow": {
     "slide_type": ""
    },
    "tags": []
   },
   "outputs": [],
   "source": [
    "# Your code goes here"
   ]
  },
  {
   "cell_type": "markdown",
   "id": "08913648-6280-402e-aa5f-f67273d1a19a",
   "metadata": {
    "editable": false,
    "slideshow": {
     "slide_type": ""
    },
    "tags": []
   },
   "source": [
    "<details>\n",
    "  <summary>Click to reveal solution</summary>\n",
    "\n",
    "```Python\n",
    "class Cell:\n",
    "    def __init__(self, identification, position_nucleus, area_nucleus, center_cell_area, cell_area):\n",
    "        self.identification = identification\n",
    "        self.position_nucleus = position_nucleus\n",
    "        self.area_nucleus = area_nucleus\n",
    "        self.center_cell_area = center_cell_area\n",
    "        self.cell_area = cell_area\n",
    "    \n",
    "    def nucleus_to_total_area_ratio(self):\n",
    "        return self.area_nucleus / self.cell_area\n",
    "\n",
    "cell_1_id = 1\n",
    "cell_1_position_nucleus = (45, 74)\n",
    "cell_1_nucleus_area = 65\n",
    "cell_1_area = 231\n",
    "cell_1_center_of_area = (49, 71)\n",
    "cell_1 = Cell(cell_1_id, cell_1_position_nucleus, cell_1_nucleus_area,  cell_1_center_of_area, cell_1_area)\n",
    "\n",
    "print(cell_1.nucleus_to_total_area_ratio())\n",
    "```\n",
    "\n",
    "</details>"
   ]
  },
  {
   "cell_type": "markdown",
   "id": "2f00aae7-73c3-439b-a53e-3aebc0362666",
   "metadata": {
    "editable": false,
    "slideshow": {
     "slide_type": ""
    },
    "tags": []
   },
   "source": [
    "In the previous example we used **tuple** to represent the positions. We could do this with a class instead. Please write a **class** that represents a point and contains a **method** to calculate the distance to another point."
   ]
  },
  {
   "cell_type": "code",
   "execution_count": null,
   "id": "315119e2-b4c9-4816-bd11-ed8167a37145",
   "metadata": {
    "editable": true,
    "slideshow": {
     "slide_type": ""
    },
    "tags": []
   },
   "outputs": [],
   "source": [
    "# Your code goes here"
   ]
  },
  {
   "cell_type": "markdown",
   "id": "aaee868d-62eb-40cf-96fc-768fb3d89931",
   "metadata": {
    "editable": false,
    "slideshow": {
     "slide_type": ""
    },
    "tags": []
   },
   "source": [
    "<details>\n",
    "  <summary>Click to reveal solution</summary>\n",
    "\n",
    "```Python\n",
    "class Point:\n",
    "    def __init__(self, x, y):\n",
    "        self.x = x\n",
    "        self.y = y\n",
    "    def distance(self, other_point):\n",
    "        distance = ((self.x - other_point.x) ** 2 + (self.y - other_point.y) ** 2) * (1/2)\n",
    "        return distance\n",
    "\n",
    "point_1 = Point(45, 74)\n",
    "point_2 = Point(49, 71)\n",
    "distance = point_1.distance(point_2)\n",
    "print(distance)\n",
    "```\n",
    "\n",
    "</details>"
   ]
  },
  {
   "cell_type": "markdown",
   "id": "3ed6112b-757d-42aa-a543-123510490bbd",
   "metadata": {
    "editable": false,
    "slideshow": {
     "slide_type": ""
    },
    "tags": []
   },
   "source": [
    "## Documenting classes and functions\n",
    "\n",
    "Last unit we discussed readable code and mentioned docstrings. Now is the time to see them in action. The difference between a docstring and a normal comment is that the doc-string can be accessed from within your code. So people can explore your code interactively. They are also attached to an object in your code, like a **class** or a **function**, so you can use them to describe this object in detail."
   ]
  },
  {
   "cell_type": "markdown",
   "id": "6c59e56c-40fc-4a6e-9d71-ae974621dd6b",
   "metadata": {
    "editable": false,
    "slideshow": {
     "slide_type": ""
    },
    "tags": []
   },
   "source": [
    "### Docstrings\n",
    "\n",
    "To write a good docstring there are multiple conventions to choose form. The first is the rather free [PEP 257](https://peps.python.org/pep-0257/) which may look like this:\n",
    "\n",
    "```Python\n",
    "class Point:\n",
    "    \"\"\"A two dimensional point.\"\"\"\n",
    "    def __init__(self, x, y):\n",
    "        \"\"\"Constructs a new point.\n",
    "\n",
    "        Arguments:\n",
    "        x -- the position in x as an float or int\n",
    "        y -- the position in y as an float or int\n",
    "        \"\"\"\n",
    "        self.x = x\n",
    "        self.y = y\n",
    "    def distance(self, other_point):\n",
    "        \"\"\"Gets the distance between two points.\n",
    "\n",
    "        Calcualtes the eucledian distance between both points.\n",
    "\n",
    "        Arguments:\n",
    "        other_point -- the point to which we calculate the distance. \n",
    "        \"\"\"\n",
    "        distance = ((self.x - other_point.x) ** 2 + (self.y - other_point.y) ** 2) * (1/2)\n",
    "        return distance\n",
    "```\n",
    "\n",
    "As you may have noticed, it consists of three pieces of information:\n",
    "- What goes in (input / arguments)\n",
    "- What goes out (output / return)\n",
    "- What is its role. What does a **function**/**method** do, what does a class represent.\n",
    "\n",
    "For our example, this is quite straightforward and you may opt to skip the documentation entirely, because the name of the class and methods are quite straightforward. This will not be the case for long, because your projects will use more complex **classes**, that need to be explained to newcomers.\n",
    "If we would try to get the density of the cells in an area we would probably use a [kernel density estimation](https://en.wikipedia.org/wiki/Kernel_density_estimation), which you would probably need a few minutes and a little bit of text to understand. Therefore, if I would write code for you that does this, I should explain it as we did in the example.\n",
    "\n",
    "Please keep in mind that while you write your code you build up expertise in your area. This means that you start to overestimate what is common knowledge, therefore it is better to document too much. Otherwise you end up like these guys in this [xkcd-comic]( https://xkcd.com/2501/):\n",
    "\n",
    "![xkcd average familiarity, describes that experts drastically overestimate the average familiarity of the general population with their field.](https://imgs.xkcd.com/comics/average_familiarity.png)\n",
    "\n",
    "The python oriented documenting tool is [Sphinx](https://www.sphinx-doc.org/en/master/index.html), which encourages the user to provide more information. If you use it you should probably start from an [example](https://www.sphinx-doc.org/en/master/usage/extensions/example_numpy.html) and read the documentation later, because it is not trivial. So our documented class would look like this:\n",
    "\n",
    "```Python\n",
    "class Point:\n",
    "    \"\"\"A two dimensional point.\n",
    "\n",
    "    :param x: the position in x.\n",
    "    :type x: float or int\n",
    "    :param x: the position in y.\n",
    "    :type y: float or int\n",
    "    \"\"\"\n",
    "    def __init__(self, x, y):\n",
    "        \"\"\"Constructor method\n",
    "        \"\"\"\n",
    "        self.x = x\n",
    "        self.y = y\n",
    "    def distance(self, other_point):\n",
    "        \"\"\"Gets the distance between two points.\n",
    "\n",
    "        Calcualtes the eucledian distance between both points.\n",
    "\n",
    "        :param other_point: the point to which we calculate the distance.\n",
    "        :type other_point: class:\"Point\"\n",
    "        :return: The eucledian distance between the  points.\n",
    "        :rtype: float or int\n",
    "        \"\"\"\n",
    "        distance = ((self.x - other_point.x) ** 2 + (self.y - other_point.y) ** 2) * (1/2)\n",
    "        return distance\n",
    "```\n",
    "\n",
    "A different solution is [doxygen](https://www.doxygen.nl/manual/docblocks.html#pythonblocks). It supports multiple languages and was widely adopted by the [C++](https://de.wikipedia.org/wiki/C%2B%2B)-community. Its support for Python exists but it often fails to document the finer features. I advise to use it if your project uses multiple languages or your team has previous experience with it. The documentation would look like this:\n",
    "\n",
    "```Python\n",
    "class Point:\n",
    "    \"\"\"!\n",
    "    @brief A two dimensional point.\n",
    "    \"\"\"\n",
    "    def __init__(self, x, y):\n",
    "        \"\"\"!\n",
    "        @brief Constructor method\n",
    "\n",
    "        @param x The position in x as a float or int.\n",
    "        @param y The position in y as a float or int.\n",
    "        @return A new isntance of the Point class\n",
    "        \"\"\"\n",
    "        self.x = x\n",
    "        self.y = y\n",
    "    def distance(self, other_point):\n",
    "        \"\"\"!\n",
    "        @brief Gets the distance between two points.\n",
    "        @detail Calcualtes the eucledian distance between both points.\n",
    "\n",
    "        @param other_point: the point to which we calculate the distance.\n",
    "        @return The eucledian distance between the  points.\n",
    "        \"\"\"\n",
    "        distance = ((self.x - other_point.x) ** 2 + (self.y - other_point.y) ** 2) * (1/2)\n",
    "        return distance\n",
    "```\n",
    "\n",
    "After we learned all this is is time to practice, first you should investigate how to get a docstring. Please view the docstring for **int** by using the help function, in the cell below.\n",
    "Als consider investigating a few other types."
   ]
  },
  {
   "cell_type": "code",
   "execution_count": null,
   "id": "8683e99e-b9a9-49d1-9b72-30004df6f759",
   "metadata": {
    "editable": true,
    "slideshow": {
     "slide_type": ""
    },
    "tags": []
   },
   "outputs": [],
   "source": [
    "help(int)"
   ]
  },
  {
   "cell_type": "markdown",
   "id": "a00c1320-67f4-43f5-9e03-01510cfcf3bd",
   "metadata": {
    "editable": false,
    "slideshow": {
     "slide_type": ""
    },
    "tags": []
   },
   "source": [
    "Next, I would ask you to document the cell class we created previously. Please do it in teams of two and review each other’s work, discuss shortly, which information should be added and which could be removed.\n",
    "\n",
    "```Python\n",
    "class Cell:\n",
    "    def __init__(self, identification, position_nucleus, area_nucleus, center_cell_area, cell_area):\n",
    "        self.identification = identification\n",
    "        self.position_nucleus = position_nucleus\n",
    "        self.area_nucleus = area_nucleus\n",
    "        self.center_cell_area = center_cell_area\n",
    "        self.cell_area = cell_area\n",
    "    \n",
    "    def nucleus_to_total_area_ratio(self):\n",
    "        return self.area_nucleus / self.cell_area\n",
    "```"
   ]
  },
  {
   "cell_type": "code",
   "execution_count": null,
   "id": "bcc3a147-c29d-41f5-ba56-13a68ec727ac",
   "metadata": {
    "editable": true,
    "slideshow": {
     "slide_type": ""
    },
    "tags": []
   },
   "outputs": [],
   "source": [
    "# Add your documented code here"
   ]
  },
  {
   "cell_type": "markdown",
   "id": "dc7de079-59cf-48a1-b7b3-3bad1c7eee9b",
   "metadata": {
    "editable": false,
    "slideshow": {
     "slide_type": ""
    },
    "tags": []
   },
   "source": [
    "<details>\n",
    "  <summary>Click to reveal suggested solution</summary>\n",
    "\n",
    "```Python\n",
    "class Cell:\n",
    "    \"\"\"A single cell recorded with the microscope.\"\"\"\n",
    "    def __init__(self, identification, position_nucleus, area_nucleus, center_cell_area, cell_area):\n",
    "        \"\"\"Constructs a new cell\n",
    "\n",
    "        Arguments:\n",
    "        identification -- the unique number associated with this cell as an int.\n",
    "        position_nucelus -- the position of the nucleus as a point.\n",
    "        area_nucleus -- the area of the nucleus as an int.\n",
    "        center_cell_area -- the center of the entire cell area as a point.\n",
    "        cell_area -- the area covered by the cell as an int\n",
    "        \"\"\"\n",
    "        self.identification = identification\n",
    "        self.position_nucleus = position_nucleus\n",
    "        self.area_nucleus = area_nucleus\n",
    "        self.center_cell_area = center_cell_area\n",
    "        self.cell_area = cell_area\n",
    "    def nucleus_to_total_area_ratio(self):\n",
    "        \"\"\"\n",
    "        Calculates the ratio between nucelus and total area.\n",
    "\n",
    "        Divinding the area coverd by the nucleus by the total cell area gives us a number\n",
    "        betwen 0.0 and 1.0. The return value is a float.\n",
    "        \"\"\"\n",
    "        return self.area_nucleus / self.cell_area\n",
    "```\n",
    "\n",
    "</details>"
   ]
  },
  {
   "cell_type": "markdown",
   "id": "d65b8e42-19b9-4dc7-ab59-7019eede5f6d",
   "metadata": {
    "editable": true,
    "slideshow": {
     "slide_type": ""
    },
    "tags": []
   },
   "source": [
    "ToDo:\n",
    "- Typehints\n",
    "- Mention inheritance and data-classes\n",
    "- Mention class-methods\n",
    "- Module on the example of csv-reader\n",
    "- What is module\n",
    "- How to write module\n",
    "- Create the algorithm that creates the csv files"
   ]
  }
 ],
 "metadata": {
  "kernelspec": {
   "display_name": "Python 3 (ipykernel)",
   "language": "python",
   "name": "python3"
  },
  "language_info": {
   "codemirror_mode": {
    "name": "ipython",
    "version": 3
   },
   "file_extension": ".py",
   "mimetype": "text/x-python",
   "name": "python",
   "nbconvert_exporter": "python",
   "pygments_lexer": "ipython3",
   "version": "3.12.7"
  }
 },
 "nbformat": 4,
 "nbformat_minor": 5
}
