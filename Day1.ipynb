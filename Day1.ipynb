{
 "cells": [
  {
   "cell_type": "markdown",
   "id": "57b0c24c-f7e9-4a29-be37-180e6f69b4db",
   "metadata": {},
   "source": [
    "# Day 1"
   ]
  },
  {
   "cell_type": "markdown",
   "id": "9d1bda17-95fd-46a4-b4b7-739ff0318e7f",
   "metadata": {},
   "source": [
    "## Introduction\n",
    "\n",
    "Python is a Turing complete scripting language, this means it is a very useful tool to solve problems with logical algorithms. Simpler said it tells your computer how to crunch data or do computations for you.\n",
    "\n",
    "If you are reading this you are most likely a biology student and wish to analyze a few data.\n",
    "This is what I intend to teach you here. In my personal experience the adoption of  programming languages is not hindered by the amount of “How to code”- literature. The internet is full of different sources that teach you how to code, what they do not teach you is how to think like the people that created the languages or tools you are using. This matters for **you** especially,\n",
    "because your training as a biologists differs in some fundamental aspects from that of mathematicians, computer-scientists and physicists. These differences in training enable you to understand and investigate biological processes in a way that I could never, but they also hinder you in developing and utilizing *code*. For this reason I will focus more on the way of thinking than on syntax and libraries. Once you have understood the fundamental concepts you should be able to close the gaps using the [official documentation](https://docs.python.org/3/) and [tutorial[(https://docs.python.org/3/tutorial/index.html).\n",
    "\n",
    "Let me begin by quoting the first paragraph from the [official tutorial[(https://docs.python.org/3/tutorial/index.html).\n",
    "\n",
    "> Python is an easy to learn, powerful programming language. It has efficient high-level data structures and a simple but effective approach to object-oriented programming. Python’s elegant syntax and dynamic typing, together with its interpreted nature, make it an ideal language for scripting and rapid application development in many areas on most platforms.\n",
    "\n",
    "I assume this paragraph did not teach you much, which can be attributed to two gaps in your knowledge. The first gap is your vocabulary or your knowledge of definitions. This is knowledge that you can easily acquire by consulting textbooks or Wikipedia. I attempted to mark the terms that are stronger influenced by this here:\n",
    "\n",
    "> Python is an easy to learn, powerful *programming language*. It has *efficient* *high-level* *data structures* and a simple but effective approach to *object-oriented* programming. Python’s elegant *syntax* and *dynamic typing*, together with its *interpreted* nature, make it an ideal language for *scripting* and rapid *application* development in many areas on most *platforms*.\n",
    "\n",
    "So understanding these terms is a hurdle, especially because most of the terms are suspiciously familiar, like *efficient* for example. I doubt however that you measure efficiency in *operations* and *memory* consumption. The term *efficient* in this paragraph should be understood in these terms however, but as mentioned before this is not the major challenge. Let me highlight a two more words for you:\n",
    "\n",
    "> Python is an easy to learn, powerful programming language. It has efficient high-level data structures and a **simple** but effective approach to object-oriented programming. Python’s **elegant** syntax and dynamic typing, together with its interpreted nature, make it an ideal language for scripting and rapid application development in many areas on most platforms.\n",
    "\n",
    "The terms here show the second gap in your knowledge, the way you approach, understand and interact with **problems**. Yes for you a problem is probably a hurdle, an inconvenience, an obstacle, for me it is the fundament of scientific study. For me sciences consists of **problems** and **solutions**, these fit together like puzzle-pieces enabling us to understand and control the world. Only if you have both a **problem** and a **solution** can you publish, if you publish an observation you publish something you believe will help someone else to **solve** a question. So this person has a question or **problem** and  you provide a **solution**. This question-answer-relationship is anchored rather deeply in computer-science, where you as the user want to achieve something, thereby defining a **problem** and then creating your **solution** based on the work of other software-developers.\n",
    "\n",
    "I chose the previous example to show you the rather alien of thinking. It may seem familiar to you now, but unless you studied a mathematic related subject previously I assure you it is not. To stress this point let us discuss **simple** and **elegant**. What do they mean here? I would claim they refer to a very mathematical concept of perfection, which we may embody by the sentence: “Say precisely enough”. This means everything that needs to be said is said and anything else is not. This is often achieved by very few strict and solid definitions. Python for example was initially lauded for its rather small number of [reserved terms](https://docs.python.org/3.13/reference/lexical_analysis.html#keywords) and [built-in functions](https://docs.python.org/3/library/functions.html). It was considered **simple** and **elegant**, because it use **few** terms and combined them into a bigger system. It is **simple**, because it has **few** constituent parts and **elegant**, because they achieve the larger goal by their interaction. It is in the interaction of the objects, concepts and definitions that beauty can be found and is referred to here, but teaching a course on mathematic and logical aesthetics is beyond me so I will summarize with: It takes roughly 3 years to learn and you are fine hobbling along and ignoring it. What you can not ignore however is the way of thinking around it.\n",
    "\n",
    "Let me [quote](https://en.wikiquote.org/wiki/Donald_Knuth) Donald Knuth a rather well known computer scientists on what makes a good programmer:\n",
    "\n",
    "> The psychological profiling [of a programmer] is mostly the ability to shift levels of abstraction, from low level to high level. To see something in the small and to see something in the large. \n",
    "\n",
    "What he refers to can be described as the ability to change perspective, to switch from a cellular few to the organ to the organism and to the entire ecosystem depending on the question asked and more importantly to stay quiet about the aspects that do not matter for the question. In other words to **say precisely enough**.\n",
    "\n",
    "The correct use is of abstraction is next to a few fundamental mathematical concepts used to abstract problems the difference between a capable and an incapable programmer. The difference between endless despair and flying levity, it is what I hope to demonstrate and teach you in this course."
   ]
  },
  {
   "cell_type": "markdown",
   "id": "e9877ab4-eb7b-47ed-b005-3517513327fa",
   "metadata": {},
   "source": [
    "## Course plan\n",
    "\n",
    "After the philosophical part let us get an example so we know what we are talking about. Let us assume you have a friend Alice and a friend Bob. Alice is a computer-vision specialists, this means she can find things in images. Bob researches cancer. Bob is interested in the growth of cancer-cells, so he gets five Petri dishes and adds his cell culture and for twelve days he photographs them every day with a microscope. Since counting all this cells would take a long time and also risks introducing human mistakes he asks Alice for help. Alice runs an computer-vision program over the images and creates a few comma-separated-values-files (.csv) as output, she then goes on vacation. Considering that he has no idea how to evaluate the files Alice sent him Bob approaches you to help him.\n",
    "\n",
    "So the goal of the course is to take a few comma-separated-values-files and create a few plots to learn something about the data they contain. To begin this process we will first talk about data, **variables**, **values** and **operators**. These are the fundamental building blocks of our code. Afterwards we will talk about **control-structures**, like **loops** and **conditional-instructions**. These allow us to react to our code and process an arbitrary amount of data. We then will talk about **functions**, **classes** and **modules**. These help us organize our code and ensure we only deal with the things we really need to think about. In the end we will use external modules to visualize and analyze the data. This is the final step that helps us answer Bobs questions.\n",
    "\n",
    "As you can see the course is separated into five parts:\n",
    "1. Introduction and theory\n",
    "2. Fundamental building blocks\n",
    "3. Control structures\n",
    "4. Functions and classes\n",
    "5. External modules"
   ]
  }
 ],
 "metadata": {
  "kernelspec": {
   "display_name": "Python 3 (ipykernel)",
   "language": "python",
   "name": "python3"
  },
  "language_info": {
   "codemirror_mode": {
    "name": "ipython",
    "version": 3
   },
   "file_extension": ".py",
   "mimetype": "text/x-python",
   "name": "python",
   "nbconvert_exporter": "python",
   "pygments_lexer": "ipython3",
   "version": "3.12.7"
  }
 },
 "nbformat": 4,
 "nbformat_minor": 5
}
