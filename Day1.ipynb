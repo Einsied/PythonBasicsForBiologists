{
 "cells": [
  {
   "cell_type": "markdown",
   "id": "57b0c24c-f7e9-4a29-be37-180e6f69b4db",
   "metadata": {},
   "source": [
    "# Day 1"
   ]
  },
  {
   "cell_type": "markdown",
   "id": "9d1bda17-95fd-46a4-b4b7-739ff0318e7f",
   "metadata": {
    "editable": false,
    "slideshow": {
     "slide_type": ""
    },
    "tags": []
   },
   "source": [
    "## Introduction\n",
    "\n",
    "Python is a Turing complete scripting language, this means it is a very useful tool to solve problems with logical algorithms. Simpler said it tells your computer how to crunch data or do computations for you.\n",
    "\n",
    "If you are reading this you are most likely a biology student and wish to analyze a few data.\n",
    "This is what I intend to teach you here. In my personal experience the adoption of  programming languages is not hindered by the amount of “How to code”- literature. The internet is full of different sources that teach you how to code, what they do not teach you is how to think like the people that created the languages or tools you are using. This matters for **you** especially,\n",
    "because your training as a biologists differs in some fundamental aspects from that of mathematicians, computer-scientists and physicists. These differences in training enable you to understand and investigate biological processes in a way that I could never, but they also hinder you in developing and utilizing *code*. For this reason I will focus more on the way of thinking than on syntax and libraries. Once you have understood the fundamental concepts you should be able to close the gaps using the [official documentation](https://docs.python.org/3/) and [tutorial[(https://docs.python.org/3/tutorial/index.html).\n",
    "\n",
    "Let me begin by quoting the first paragraph from the [official tutorial[(https://docs.python.org/3/tutorial/index.html).\n",
    "\n",
    "> Python is an easy to learn, powerful programming language. It has efficient high-level data structures and a simple but effective approach to object-oriented programming. Python’s elegant syntax and dynamic typing, together with its interpreted nature, make it an ideal language for scripting and rapid application development in many areas on most platforms.\n",
    "\n",
    "I assume this paragraph did not teach you much, which can be attributed to two gaps in your knowledge. The first gap is your vocabulary or your knowledge of definitions. This is knowledge that you can easily acquire by consulting textbooks or Wikipedia. I attempted to mark the terms that are stronger influenced by this here:\n",
    "\n",
    "> Python is an easy to learn, powerful *programming language*. It has *efficient* *high-level* *data structures* and a simple but effective approach to *object-oriented* programming. Python’s elegant *syntax* and *dynamic typing*, together with its *interpreted* nature, make it an ideal language for *scripting* and rapid *application* development in many areas on most *platforms*.\n",
    "\n",
    "So understanding these terms is a hurdle, especially because most of the terms are suspiciously familiar, like *efficient* for example. I doubt however that you measure efficiency in *operations* and *memory* consumption. The term *efficient* in this paragraph should be understood in these terms however, but as mentioned before this is not the major challenge. Let me highlight a two more words for you:\n",
    "\n",
    "> Python is an easy to learn, powerful programming language. It has efficient high-level data structures and a **simple** but effective approach to object-oriented programming. Python’s **elegant** syntax and dynamic typing, together with its interpreted nature, make it an ideal language for scripting and rapid application development in many areas on most platforms.\n",
    "\n",
    "The terms here show the second gap in your knowledge, the way you approach, understand and interact with **problems**. Yes for you a problem is probably a hurdle, an inconvenience, an obstacle, for me it is the fundament of scientific study. For me sciences consists of **problems** and **solutions**, these fit together like puzzle-pieces enabling us to understand and control the world. Only if you have both a **problem** and a **solution** can you publish, if you publish an observation you publish something you believe will help someone else to **solve** a question. So this person has a question or **problem** and  you provide a **solution**. This question-answer-relationship is anchored rather deeply in computer-science, where you as the user want to achieve something, thereby defining a **problem** and then creating your **solution** based on the work of other software-developers.\n",
    "\n",
    "I chose the previous example to show you the rather alien of thinking. It may seem familiar to you now, but unless you studied a mathematic related subject previously I assure you it is not. To stress this point let us discuss **simple** and **elegant**. What do they mean here? I would claim they refer to a very mathematical concept of perfection, which we may embody by the sentence: “Say precisely enough”. This means everything that needs to be said is said and anything else is not. This is often achieved by very few strict and solid definitions. Python for example was initially lauded for its rather small number of [reserved terms](https://docs.python.org/3.13/reference/lexical_analysis.html#keywords) and [built-in functions](https://docs.python.org/3/library/functions.html). It was considered **simple** and **elegant**, because it use **few** terms and combined them into a bigger system. It is **simple**, because it has **few** constituent parts and **elegant**, because they achieve the larger goal by their interaction. It is in the interaction of the objects, concepts and definitions that beauty can be found and is referred to here, but teaching a course on mathematic and logical aesthetics is beyond me so I will summarize with: It takes roughly 3 years to learn and you are fine hobbling along and ignoring it. What you can not ignore however is the way of thinking around it.\n",
    "\n",
    "Let me [quote](https://en.wikiquote.org/wiki/Donald_Knuth) Donald Knuth a rather well known computer scientists on what makes a good programmer:\n",
    "\n",
    "> The psychological profiling [of a programmer] is mostly the ability to shift levels of abstraction, from low level to high level. To see something in the small and to see something in the large. \n",
    "\n",
    "What he refers to can be described as the ability to change perspective, to switch from a cellular few to the organ to the organism and to the entire ecosystem depending on the question asked and more importantly to stay quiet about the aspects that do not matter for the question. In other words to **say precisely enough**.\n",
    "\n",
    "This way of thinking makes great engineers and physicists, as they are able to find the common characteristic for a brown bear, a moose and a sack of grain on the road. The all are an obstacle that slows down traffic. They all have a position on the road, which can be expressed by the distance along it. This information is sufficient to steer traffic away from it and therefore precisely enough for a road manager.\n",
    "\n",
    "The central mechanism they use to describe things are *equivalence*-classes. *Equivalence* means we can change entities in a context without anything changing. If some one is thirsty it does not matter if we hand them water or ice-tea, therefore water and ice tea are *equivalent* in the context of quenching thirst. Just like a 100 €-bill and a 10 €-bill are equivalent for buying one bag of flour. It does not matter which one you have it buys a bag of flour, at least until inflation ruins this example. An *equivalence*-class describes all things that are *equivalent* within a context. Since a brown bear, a moose and a sack of grain all block the road they are part of the same *equivalence*-class.\n",
    "\n",
    "So once it is clear what they share they also *decide* to perceive only the characteristics of things they deem relevant. So if something blocks the road they only need to know were to drive. Since the road is a long line they only need to know how far from the beginning of the road the obstacle is placed. The pitfall is already integrated in the example here: Removing a sack of grain and a living animal are two quite distinct tasks requiring distinct equipment. Note that they would not attempt to attach the nature of the obstacle to their description, but prefer to say something like “bear spray required for removal”, since while a bear always requires bear-spray there might be other obstacles that can be removed with bear-spray, so the “bear spray required for removal” is the larger *equivalence*-class.\n",
    "\n",
    "Now you may wonder why you were trained to think different, then answer is quite simple. This way of thinking makes quite poor observers. If you hand them a piece of paper and tell them to observe a rat for 30 minutes there is a good chance they wrote five sentences: “Rat walked to the far end of the cage. Rat walked to the center of the cage. Rat ran around the cage. Rat walked back to far end of the cage. Rat walked around the cage.” You know that is is a not “precisely enough”, but they only will only know after you begin asking questions.\n",
    "\n",
    "The correct use is of abstraction is next to a few fundamental mathematical concepts used to abstract problems the difference between a capable and an incapable programmer. The difference between endless despair and flying levity, it is what I hope to demonstrate and teach you in this course."
   ]
  },
  {
   "cell_type": "markdown",
   "id": "e9877ab4-eb7b-47ed-b005-3517513327fa",
   "metadata": {
    "editable": false,
    "slideshow": {
     "slide_type": ""
    },
    "tags": []
   },
   "source": [
    "## Course plan\n",
    "\n",
    "After the philosophical part let us get an example so we know what we are talking about. Let us assume you have a friend Alice and a friend Bob. Alice is a computer-vision specialists, this means she can find things in images. Bob researches cancer. Bob is interested in the growth of cancer-cells, so he gets five Petri dishes and adds his cell culture and for twelve days he photographs them every day with a microscope. Assume it looks like this image from [wikipedia](https://commons.wikimedia.org/wiki/File:384_microwell_plate_imaged_with_2.5_x_magnification_in_3_channels_with_ZEISS_Celldiscoverer_7_%2830614936632%29.jpg)\n",
    "\n",
    "![ExampleImage](https://upload.wikimedia.org/wikipedia/commons/6/64/384_microwell_plate_imaged_with_2.5_x_magnification_in_3_channels_with_ZEISS_Celldiscoverer_7_%2830614936632%29.jpg)\n",
    "\n",
    "Since counting all this cells would take a long time and also risks introducing human mistakes Bob asks Alice for help. Alice runs an computer-vision program over the images and creates a few comma-separated-values-files (.csv) as output, she then goes on vacation. Considering that he has no idea how to evaluate the files Alice sent him Bob approaches you to help him.\n",
    "\n",
    "So the goal of the course is to take a few comma-separated-values-files and create a few plots to learn something about the data they contain. To begin this process we will first talk about data, **variables**, **values** and **operators**. These are the fundamental building blocks of our code. Afterwards we will talk about **control-structures**, like **loops** and **conditional-instructions**. These allow us to react to our code and process an arbitrary amount of data. We then will talk about **functions**, **classes** and **modules**. These help us organize our code and ensure we only deal with the things we really need to think about. In the end we will use external modules to visualize and analyze the data. This is the final step that helps us answer Bobs questions.\n",
    "\n",
    "So the course is separated into five parts with separate content and goals:\n",
    "\n",
    "| Part | Content                     | Goal                                              |\n",
    "| ---- | --------------------------- | ------------------------------------------------- |\n",
    "|    1 | Theory and perspective      | You have an idea how programmers think            |\n",
    "|    2 | Fundamental building blocks | You can add numbers                               |\n",
    "|    3 | Control structures          | You can write short simple programs               |\n",
    "|    4 | Functions and classes       | You can write more complex programs               |\n",
    "|    5 | External modules            | You visualized data and can now learn on your own |\n",
    "\n",
    "We will follow this example through the course and use it to illustrate the different steps."
   ]
  },
  {
   "cell_type": "markdown",
   "id": "9de5e7cf-7f3d-47b3-bd4e-893267112f81",
   "metadata": {
    "editable": false,
    "slideshow": {
     "slide_type": ""
    },
    "tags": []
   },
   "source": [
    "## Approaching a problem\n",
    "\n",
    "So let us begin with the first question: How do we start?\n",
    "What questions should are relevant?\n",
    "What do we need to proceed?\n",
    "\n",
    "Please partner up into groups of two or three people and write down in the next cell what you need to know to begin your plan. Please remember “Say precisely enough”."
   ]
  },
  {
   "cell_type": "raw",
   "id": "dfab2156-f25a-432a-a6d5-7a7c70d55eac",
   "metadata": {
    "editable": true,
    "raw_mimetype": "",
    "slideshow": {
     "slide_type": ""
    },
    "tags": []
   },
   "source": [
    "Your answer goes here."
   ]
  },
  {
   "cell_type": "markdown",
   "id": "323b159d-796d-4a4b-9ddb-901b60770e23",
   "metadata": {
    "editable": false,
    "slideshow": {
     "slide_type": ""
    },
    "tags": []
   },
   "source": [
    "Behind this spoiler is my suggested answer. It is not the right answer, but I will claim that it is an right answer, as in there is more than one. Please do not open the spoiler until you are confident that your answer in the cell above is correct.\n",
    "\n",
    "<details>\n",
    "  <summary>Click to reveal suggestion</summary>\n",
    "\n",
    "    I propose that we need to understand the **problem** before we can design the **solution**. So we have to ask Bob what he wants or how he measures growth first and second what Alice already provided us with.\n",
    "\n",
    "</details>\n",
    "\n",
    "So first let us ask Bob what he means by growth. “Well the size and the number.”  he answers. What does this mean for us? It means we have to find a way to calculate or visualize the change of the number of cells and the size they occupy in the images.  To do this we first have to calculate it. If we just consider the number if cells we want to have a table describing the number of cells in each Petri dish. So we want to create something like:\n",
    "\n",
    "| Day | Dish 1 | Dish 2 | Dish 3 | Dish 4 | Dish 5 |\n",
    "| --- | ------ | ------ | ------ | ------ | ------ | \n",
    "|   1 |     12 |     21 |     31 |     15 |     27 |\n",
    "|   2 |     20 |     39 |     57 |     24 |     62 |\n",
    "|   3 |     43 |     76 |    112 |     61 |    112 |\n",
    "|   4 |     87 |    151 |    209 |    119 |    205 |\n",
    "|   5 |    172 |    299 |    421 |    235 |    398 |\n",
    "|   6 |    351 |    612 |    871 |    472 |    772 |\n",
    "|   7 |    721 |   1224 |   1721 |    932 |   1398 |\n",
    "|   8 |   1404 |   2450 |   3554 |   1791 |   2765 |\n",
    "|   9 |   2900 |   5011 |   7212 |   3451 |   5132 |\n",
    "|  10 |   5832 |  10182 |  14781 |   6827 |  10091 |\n",
    "|  11 |  10915 |  19923 |  28732 |  13001 |  19872 |\n",
    "|  12 |  19983 |  35871 |  50321 |  25874 |  38762 |\n",
    "\n",
    "Remember the numbers are made up, they just visualize what we want to achive.\n",
    "\n",
    "So now that we know where we are going we should ask were we are starting or in other words, what Alice provided. So we took at the files Alice sent an see that they all named similar:\n",
    "\n",
    "```\n",
    "Day_1_dish_1_zoom_3.csv\n",
    "Day_1_dish_2_zoom_3.csv\n",
    "Day_1_dish_3_zoom_3.csv\n",
    "Day_1_dish_4_zoom_3.csv\n",
    "Day_1_dish_5_zoom_3.csv\n",
    "Day_2_dish_1_zoom_5.csv\n",
    "Day_2_dish_1_zoom_3.csv\n",
    "```\n",
    "\n",
    "It seems like Alice encoded so called **meta-data** into the file names. **Meta-data** describe something that is not described in the data itself, in this case the day of recording, the dish that was used and the zoom-factor of the microscope. This is rather convenient for use, since these data are often provided in separate files or within the file itself, which requires a little extra effort to combine the information again. \n",
    "\n",
    "So now let us take a look into one of the comma-separated-value-files to see what data she managed to extract from his images. Assume we see something like this:"
   ]
  },
  {
   "cell_type": "raw",
   "id": "62bb79e3-cb77-491f-a570-8929161510f7",
   "metadata": {
    "editable": false,
    "raw_mimetype": "",
    "slideshow": {
     "slide_type": ""
    },
    "tags": []
   },
   "source": [
    "Cell ID, Nucelus x, Nucleus y, Nucelus Area, Cell Area, Center of area x, Center of area y\n",
    "1, 45, 74, 65, 231, 49, 71\n",
    "2, 123, 65, 58, 212, 117, 69"
   ]
  },
  {
   "cell_type": "markdown",
   "id": "bd52ada4-447c-4669-9a74-1fd21135dbee",
   "metadata": {
    "editable": false,
    "slideshow": {
     "slide_type": ""
    },
    "tags": []
   },
   "source": [
    "Since I made up the example I have a rough idea what they are supposed to mean. In this example wish to show how ambiguous data is often represented and how we can work with it anyway. \n",
    "\n",
    "So now that we looked at our inputs and our goal we can begin creating a plan on how to get there. It is now the time to exercise some abstraction and impose a structure on our solution, so I want you to get together in groups of two or three people and write a simple set of instructions to get to the table we defined as our goal. The goal is to turn them into code later, so you should stay abstract enough in your abstractions. Please remember “Say precisely enough”."
   ]
  },
  {
   "cell_type": "raw",
   "id": "408cda3c-35f3-4990-89a7-e33fbe6716bf",
   "metadata": {
    "editable": true,
    "raw_mimetype": "",
    "slideshow": {
     "slide_type": ""
    },
    "tags": []
   },
   "source": [
    "Your answer goes here."
   ]
  },
  {
   "cell_type": "markdown",
   "id": "2b2adc77-6f54-4e67-b997-64ece83b265f",
   "metadata": {
    "editable": false,
    "slideshow": {
     "slide_type": ""
    },
    "tags": []
   },
   "source": [
    "Once again, there usually is no perfect solution, not only because we are all human and we all make mistakes, but because the way you approach a problem mirrors the way you think. Considering that the code you write is read by other people, just like the plan you just designed together it should not only follow your way of thinking but also theirs. This means that in software there are solutions that are preferred by convention and tradition. They are used, because they always were and are therefore familiar to most users. This does neither mean they are good nor that you have to follow them, just that other people will recognize them and understand them faster.\n",
    "\n",
    "<details>\n",
    "  <summary>Click to reveal suggestion</summary>\n",
    "\n",
    "What we are doing is essentially counting so:\n",
    "\n",
    "1. For every file we do the following:\n",
    "\t1. We open the file\n",
    "\t2. We figure out what day and dish it is\n",
    "\t3. We create a counter for the number of cells\n",
    "\t4. We create a counter for the area covered by the cells\n",
    "\t5. We ignore the first line\n",
    "\t6. For every line we do the following:\n",
    "\t\t1. We increase the cell counter\n",
    "\t\t2. We add the cell area to the cell-area counter\n",
    "\t7. We save the cell-counter\n",
    "\t8. We save the area counter\n",
    "</details>\n",
    "\n",
    "The solution is an algorithm, a set of clear instructions that lead to a defined result. The difference between the algorithms you were taught when you did worked on cell-cultures, or mixed chemicals to prove that something existed within a cell and computer-algorithms is the participation of the executing party. If I tell you to grab a glass of water you and put it on my table you will grab it and out it upside-up with the water on my table, because you inferred what I wanted. To achieve this you used your human experience and your ability to reason about the world to assume “He wants to drink the water later, so I have to ensure it is not spilled.”. Computers can not do this, because they have no human experience and can not reason like you. A **computer is a logical machine**, a predictable system. It has, by design, no ability to act outside the strict parameters it was given. \n",
    "\n",
    "To visualize the difference between the way you reason and a computer does imagine a landscape full of hills and creeks. When you think you wander through this landscape you walk up onto a hill and look around, before you explore a little valley and then you may slowly wander to your final destination. Now imagine a large metal ball roughly 3 meter in size and place it on a slope. What will it do? It will roll down the hill, not sideways not upwards just down until it comes to rest. This is how computers reason. If they begin at a certain point in the landscape they always reach the same final solution the same final state. The commands you will give them decide where the hills and valleys are and the parameters where they start. This is why some people tell you, that instructions for a computer have to be very detailed, or in our analogy that the landscape has to very finely crafted with tiny valleys in the slopes a few centimeters wide. This is not correct. Instructions for computer **do not need to be detailed**, but **you have to know how the logic will flow** or in our mental image how the ball will roll.\n",
    "\n",
    "Neither your program nor your computer will deceive you, purposefully misunderstand your instructions or arbitrarily deviate, only humans have enough freedom in their thinking to do this. You may have the impression that your program or machine learning algorithm do these things, but they just follow their logical path, this means that the burden of fault lies entirely with us, that instruct the machines and in a few rare cases cosmic rays that might flip a bit. For this burden we gain control, it is our choice how the logical-flows of our programs are organized, how they react to their inputs. A small lab-rat may refuse to participate in an experiment or sabotage it, but today even our most powerful computer will do as instructed.\n",
    "\n",
    "After this little side-trip let us return to the algorithm we wrote. The rhetorical question is: Was this algorithm made for a computer? The answer is not really. It is the set of instruction made for us so that we can teach a computer how to do it.\n",
    "\n",
    "The first thing this little lists give us are **smaller problems**. “The man who moves a mountain begins by carrying away small stones.” – Confucius. To solve our **big problem** we need to break it up into smaller one. Then we look at the smaller one and repeat the process recursively until the solution is either obvious or someone already solved it. Most problems you encounter were already solved, unfortunately you do not know which ones, so choosing which problem to focus on is challenging. Considering I want to teach you something I will focus on the problem that is in my opinion the most educational at the moment."
   ]
  },
  {
   "cell_type": "markdown",
   "id": "809cb42f-575e-4ff1-aea8-50d13380b45f",
   "metadata": {
    "editable": false,
    "slideshow": {
     "slide_type": ""
    },
    "tags": []
   },
   "source": [
    "## How computers work\n",
    "\n",
    "The first problem I would like to discuss is increasing a counter, because it teaches us a lot about computers. So let us play bad news, good news and terrible news. Bad news: “ This will be rather theoretical and more difficult to understand.” Good news:”In almost all cases it does not matter”. Terrible news: ”When it matters it will cost you between a few hours and a paper.”. So what am I talking about?\n",
    "\n",
    "I talk about **data representation** or how computers “remember” things. You may have heard that computers are all “ones and zeros”. This refers to the way **memory*** works in a computer. Remember the people that built them are always trying to find the simplest solution. So what is the most basic, simplest thing to remember? The answer they arrived at was truth. So the memory of a computer is based on an element called a **memory-cell** that is either filled or empty, “true” or “false”. Everything else is built from this cells. Your phone number, your program and the pictures on your phone are all saved in such cells. This is kind of a hassle, since it is difficult to figure out what which cell actually means. Therefore there are some **conventions** on **interpreting** them.\n",
    "\n",
    "The probably simplest thing to memorize after a True/False or **boolean** value is a **number**. You all know decimal numbers like “19”, “15” or “9”. If you recall your earlier education you should remember that the value of a number depends on the number and position of characters. So “19” means calculate 1*10 + 9*1. This becomes relevant because there are simpler system. If you wish to reduce the amount of characters to remember you can simply read “15” as 1*9 + 5*1. You can continue this process until you are left with two characters “1” and “0”. In theory you could reduce further but then you no longer have an elegant way to write larger numbers. Since this system has only two characters is called binary. Now if you paid attention the cells have two states, “filled” and “empty” and we have two numbers “1” and “0”, we can therefore use them to write binary numbers like “1001”, which translates to 1 * (2*2*2) + 0 * ( 2*2) + 0 * (2) + 1 * 1. \n",
    "\n",
    "So a **computer** saves numbers as **binary numbers** made up of ones and zeros. There is a wrinkle however. Since a computer is a real physical object int can only save a limited number of ones and zeros, so we have to squeeze multiple numbers in the same memory. How do we do this? Simple answer we write them behind each other and remember how long they are. It is convention to define the **length of a memory-cell power of 8**. So we have numbers that are 8 cells, 16 cells, 32 cells or 64 cells long. There are also longer numbers but they are uncommon. There are advantages to choosing 8, like its proximity to 10 and the fact that 8 digits in binary correspond to two digits in hexadecimal numbers, but these are not relevant now.\n",
    "\n",
    "Considering that this was a lot of rather dense information I would suggest you take a **break** and let the new information settle. Maybe you have same questions that appear later and you would like to have answered. Let us attend to them before we dive deeper into the inner workings of a computer."
   ]
  },
  {
   "cell_type": "markdown",
   "id": "82db2151-558e-4ba1-8777-3c8eedb9afd0",
   "metadata": {
    "editable": false,
    "slideshow": {
     "slide_type": ""
    },
    "tags": []
   },
   "source": [
    "Now that we learn how data like numbers are stored we should discuss how we operate on them. First we have to find our data-cells. To achieve this we need a easy way to give every cell a number or **enumerate them**. We call this number the **address** of the cell. Because giving every cell a number would give us a lot of numbers for all cells we combine them into addressable units. So if the addressable unit contains 64 memory-cells or **bits** it is a 64-bit architecture. If the unit contains only 32-bits then it is a 32-bit architecture. This is relevant if you need to use code from the last millennium, but for python it does not matter, opposed to the next step.\n",
    "\n",
    "Once we have an address for every cell we can do a little magic. Since every cell can contain a number and an address is a number we can save addresses in cells. The cell containing the address is called a reference or a pointer, because it references or points at another cell.  If we store a bunch of numbers behind the referenced memory-cell we can find them all with just one address and a second cell that tells us how many cells there are. However running around with a bunch of numbers is rather cumbersome, so we **give** our single or array of **memory-cells** a **name** like ```cell_counter```. This is called a **variable**. A **variable** is something that stands for something else. In computer-science always something that is saved in a memory-cell.\n",
    "\n",
    "Now we can start doing something with our cell. The first thing to do is probably replacing whatever is in it with something we want, like the number ```0```. So we write ```cell_counter = 0``` and read it as “Take the **memory_cell** called ```cell_counter``` and assign it the value 0.” The later part is meant literally as [pointing and calling](https://en.wikipedia.org/wiki/Pointing_and_calling) helps to actively focus on the process and hopefully improving retention. So please do it in the beginning until your brain does it on its own.\n",
    "\n",
    "As you saw ```=``` is not the mathematical “=” but the so called **assignment-operator**. An **operator** is something that takes one or multiple things and turns them into another. A better example than the **assignment-operator** is the addition operator ```+```, which works as you would expect it from mathematic. If we write ```cell_counter + 1``` we read it as “be whatever is in the **memory_cell** called ```cell_counter```in addition to ```1```\". If we write ```1 + cell_counter``` we read it as “be ```1``` in addition to whatever is in the **memory_cell** called ```cell_counter```\".\n",
    "\n",
    "You may note that the **addition-operator** does not write anything to a **memory-cell**, it just stores the result temporarily, to  store it we need to use the **assignment-operator** again. So we write ```cell_counter = cell_counter + 1``` and read “Take the **memory_cell** called ```cell_counter``` and assign it the value you obtain by taking the **memory_cell** called ```cell_counter``` in addition to ```1```”. Operator get their power because they can simply be combined into more complex things. We will later encounter more operators like ```-```, ```*``` or ```==```. The last one ```==```is the comparison operator and in is true if the things on the left and right are equal and false otherwise. So ```1==2``` would be read “be ```true``` if ```1``` is equal to ```2```, be ```false``` otherwise. W\n",
    "\n",
    "We will do some reading exercises now. Please partner up and read the following lines to each other. Then write down what you read out in the empty lines below. I advise you to put the finger below the symbol you are reading. It might seem foolish but it should make the task easier and also stress that we read from left to right."
   ]
  },
  {
   "cell_type": "markdown",
   "id": "b692f65a-52b7-4309-8d0d-df1755547328",
   "metadata": {
    "editable": false,
    "slideshow": {
     "slide_type": ""
    },
    "tags": []
   },
   "source": [
    "```a = 5```"
   ]
  },
  {
   "cell_type": "raw",
   "id": "d6144685-0440-438e-9243-a9a83f64d4cd",
   "metadata": {
    "editable": true,
    "raw_mimetype": "",
    "slideshow": {
     "slide_type": ""
    },
    "tags": []
   },
   "source": [
    "Write what you read out"
   ]
  },
  {
   "cell_type": "markdown",
   "id": "46259731-1b54-42e3-9ac8-cafc17a82a81",
   "metadata": {
    "editable": false,
    "slideshow": {
     "slide_type": ""
    },
    "tags": []
   },
   "source": [
    "<details>\n",
    "  <summary>Click to reveal expected answer</summary>\n",
    "\n",
    "Take the **memory_cell** called ```a``` and assign it the value ```5```.\n",
    "\n",
    "</details>\n",
    "\n",
    "```a + b```"
   ]
  },
  {
   "cell_type": "raw",
   "id": "37384099-2fc6-422e-aa97-7bac1d1e1d67",
   "metadata": {
    "editable": true,
    "raw_mimetype": "",
    "slideshow": {
     "slide_type": ""
    },
    "tags": []
   },
   "source": [
    "Write what you read out"
   ]
  },
  {
   "cell_type": "markdown",
   "id": "57525c0b-07bc-4d53-b8d5-58a030363e79",
   "metadata": {
    "editable": false,
    "slideshow": {
     "slide_type": ""
    },
    "tags": []
   },
   "source": [
    "<details>\n",
    "  <summary>Click to reveal expected answer</summary>\n",
    "\n",
    "be whatever is in the **memory_cell** called ```a```in addition to whatever is in the **memory_cell** called ```b```\n",
    "\n",
    "</details>\n",
    "\n",
    "```c = (a + b) + c```\n",
    "\n",
    "Here I smuggled in a new pair of symbols ```()```. During your work new concepts will appear all the time and then you have to research them. In this case you may recall from your math education, that whatever is in the brackets gets done first so you have to adapt the reading accordingly."
   ]
  },
  {
   "cell_type": "raw",
   "id": "e7cfae52-bc6a-4400-81c1-e4fdaa4827ff",
   "metadata": {
    "editable": true,
    "raw_mimetype": "",
    "slideshow": {
     "slide_type": ""
    },
    "tags": []
   },
   "source": [
    "Write what you read out"
   ]
  },
  {
   "cell_type": "markdown",
   "id": "1cfd22a6-6ef8-4468-a402-c8a5f5488f7b",
   "metadata": {
    "editable": false,
    "slideshow": {
     "slide_type": ""
    },
    "tags": []
   },
   "source": [
    "<details>\n",
    "  <summary>Click to reveal expected answer</summary>\n",
    "Take the **memory_cell** called ```c``` and assign it the value whatever you get by taking what is in the  **memory_cell** called ```a``` in addition to whatever is in the **memory_cell** called ```b``` before adding whatever is in the **memory_cell** called ```c```\n",
    "\n",
    "</details>\n",
    "\n",
    "Now after we have some practice let us return to our counter. Remember we wanted to increase it and wrote ```cell_counter = cell_counter + 1```. Now this is a little verbose so let us just write ```cell_counter += 1```, which means the same thing but is written differently. Saving us a little thought and time.\n",
    "\n",
    "Now let us experience emergent behavior by combining what we already learned about memory cells. Let us assume we use 8-bits to represent our cell-counter and add ```1```to it.\n",
    "Let us consider a few cases.\n",
    "\n",
    "1. The ```cell_counter```value is ```0```.\n",
    "2. The ```cell_counter```value is ```52```.\n",
    "3. The ```cell_counter```value is ```255```.\n",
    "\n",
    "The computer does simple addition so if he adds ```1``` to ```5``` you can emulate the process by writing them below each other and use [carry-arithmetic](https://en.wikipedia.org/wiki/Carry_(arithmetic)), as shown in the example below. Remember that binary only has 0 and 1. So if you add 1 to 1 your result is 0 and you carry 1.\n",
    "\n",
    "| Bit-value  | 128 | 64 | 32 | 16 | 8 | 4 | 2 | 1 |\n",
    "| ---------- | --- | -- | -- | -- | - | - | - | - |\n",
    "| ```1```    | 0   | 0  | 0  | 0  | 0 | 0 | 0 | 1 | \n",
    "| ```5```    | 0   | 0  | 0  | 0  | 0 | 1 | 0 | 1 | \n",
    "| Carry over | 0   | 0  | 0  | 0  | 0 | 0 | 0 | 1 | \n",
    "| Result     | 0   | 0  | 0  | 0  | 0 | 1 | 1 | 0 | \n",
    "\n",
    "As you can see the result is ```00000110```or in other words 128*0 + 64 * 0 + 32 * 0 + 8 * 0 + 4 * 1 + 2 * 1 + 1 * 0 = 4 + 2 = 6. \n",
    "\n",
    "Please repeat the above process for the cases 1 - 3 in the cell below."
   ]
  },
  {
   "cell_type": "raw",
   "id": "9b37af7f-ba61-4c02-8e3e-279fec8ae6ee",
   "metadata": {
    "editable": true,
    "raw_mimetype": "",
    "slideshow": {
     "slide_type": ""
    },
    "tags": []
   },
   "source": [
    "Write the expected results in binary for the 3 cases"
   ]
  },
  {
   "cell_type": "markdown",
   "id": "45ff40a1-459d-4f56-87f2-7f61282c114d",
   "metadata": {
    "editable": false,
    "slideshow": {
     "slide_type": ""
    },
    "tags": []
   },
   "source": [
    "<details>\n",
    "  <summary>Click to reveal expected answer</summary>\n",
    "1. 0 corresponds to ```00000000``` so the result of the addition should be ```00000001``` or 1. \n",
    "2.  52 corresponds to ```00110100``` so the result of the addition should be ```00110101``` or 53.\n",
    "3. 255 corresponds to ```11111111````so the result of the addition should be ```100000000```or 256. This is an issue, since the cell is only 8-bits wide but we would need 9-bits to represent it.\n",
    "\n",
    "</details>\n",
    "\n",
    "\n",
    "Now what happens if we add up so many numbers, that we can no longer fit them into our memory-cells? Well the computer simply does as it is told and adds is up anyways before it saves, so it writes down the 8-bits if found. So 255(```11111111```) + 1(```00000001```)  suddenly becomes 0 (```00000000```). This is an error called an overflow. It is typical for something that is not obvious when you write a program, does not cause your program to crash and runs the data you process with it. To avoid it you have to ensure there is always enough space in your memory-cells. This is not a problem for normal python but in practice you will use a lot of code other people wrote, where it is relevant. “numpy” is a good example. It is one of the things you do not have to worry about until they appear in front of you and wreck your results. There will be more, there is no complete list, but rest assured you are not the first person to encounter them and there are solutions for whatever problem you may face."
   ]
  }
 ],
 "metadata": {
  "kernelspec": {
   "display_name": "Python 3 (ipykernel)",
   "language": "python",
   "name": "python3"
  },
  "language_info": {
   "codemirror_mode": {
    "name": "ipython",
    "version": 3
   },
   "file_extension": ".py",
   "mimetype": "text/x-python",
   "name": "python",
   "nbconvert_exporter": "python",
   "pygments_lexer": "ipython3",
   "version": "3.12.7"
  }
 },
 "nbformat": 4,
 "nbformat_minor": 5
}
