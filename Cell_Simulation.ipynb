{
 "cells": [
  {
   "cell_type": "code",
   "execution_count": 1,
   "id": "7c245795-ce8d-46c5-89a0-c5b12cc54bb4",
   "metadata": {},
   "outputs": [],
   "source": [
    "# Simulate the cell growth\n",
    "\n",
    "import numpy\n",
    "import random\n",
    "import matplotlib.pyplot\n",
    "import pathlib"
   ]
  },
  {
   "cell_type": "code",
   "execution_count": 2,
   "id": "ea15c1db-a093-463f-ab92-57e2f107ec4b",
   "metadata": {},
   "outputs": [],
   "source": [
    "# Create an area for the dish:\n",
    "\n",
    "\n",
    "def create_dish(dish_radius):\n",
    "    dish_x, dish_y = numpy.meshgrid(range(-dish_radius, dish_radius), range(-dish_radius, dish_radius))\n",
    "    valid_area = numpy.zeros(dish_x.shape, bool)\n",
    "    valid_area[numpy.sqrt(dish_x**2 + dish_y**2) < dish_radius] = 1\n",
    "\n",
    "    # Create the dish\n",
    "    dish = numpy.zeros(dish_x.shape, numpy.uint16)\n",
    "    dish[valid_area] = 1\n",
    "    return dish"
   ]
  },
  {
   "cell_type": "code",
   "execution_count": 3,
   "id": "385c49bf-7c78-4c7a-afd1-05253a43eca0",
   "metadata": {},
   "outputs": [
    {
     "name": "stdout",
     "output_type": "stream",
     "text": [
      "Valid area (64, 64):\n"
     ]
    },
    {
     "data": {
      "image/png": "[encoded data removed]",
      "text/plain": [
       "<Figure size 640x480 with 1 Axes>"
      ]
     },
     "metadata": {},
     "output_type": "display_data"
    }
   ],
   "source": [
    "dish_radius = 32\n",
    "\n",
    "dish = create_dish(dish_radius)\n",
    "# Check if the valid area forms a dish\n",
    "print(f\"Valid area {dish.shape}:\")\n",
    "matplotlib.pyplot.imshow(dish)\n",
    "matplotlib.pyplot.show()"
   ]
  },
  {
   "cell_type": "code",
   "execution_count": 4,
   "id": "591af525-ac7c-4791-b2b4-b14ca3df17d1",
   "metadata": {},
   "outputs": [],
   "source": [
    "# Set random seed\n",
    "seed = 4135942\n",
    "version = 2\n",
    "random.seed(seed, 2)\n",
    "\n",
    "nucleus_area = 3\n",
    "cell_area = int(nucleus_area * 10)\n",
    "cell_max_radius = int(numpy.sqrt(cell_area) / numpy.pi * 1.2)\n",
    "injection_radius_center = min(int(dish_radius / 10) , 0)"
   ]
  },
  {
   "cell_type": "code",
   "execution_count": 5,
   "id": "c960bf1c-3486-44f9-aae8-657d5218e970",
   "metadata": {},
   "outputs": [],
   "source": [
    "def seed_dish(dish):\n",
    "    center_x = random.randint(- injection_radius_center, injection_radius_center) + dish_radius\n",
    "    center_y = random.randint(- injection_radius_center, injection_radius_center) + dish_radius + 2\n",
    "    dish[center_x, center_y] = 2"
   ]
  },
  {
   "cell_type": "code",
   "execution_count": 6,
   "id": "351436b0-9d49-471e-821f-330af5c6bd04",
   "metadata": {},
   "outputs": [
    {
     "name": "stdout",
     "output_type": "stream",
     "text": [
      "Cell injected\n"
     ]
    },
    {
     "data": {
      "image/png": "[encoded data removed]",
      "text/plain": [
       "<Figure size 640x480 with 2 Axes>"
      ]
     },
     "metadata": {},
     "output_type": "display_data"
    }
   ],
   "source": [
    "# Inject a cell around the middle\n",
    "# The center is the even number and the body the uneven number\n",
    "# 0 is invalid 1 is nutriet\n",
    "seed_dish(dish)\n",
    "print(f\"Cell injected\")\n",
    "matplotlib.pyplot.imshow(dish)\n",
    "matplotlib.pyplot.colorbar()\n",
    "matplotlib.pyplot.show()"
   ]
  },
  {
   "cell_type": "code",
   "execution_count": 7,
   "id": "0eb8cb46-aaa9-4754-942f-5771f0ba3e5c",
   "metadata": {},
   "outputs": [],
   "source": [
    "def grow_cell(cell_index, dish):\n",
    "    cell_nucleus_number = (cell_index + 1) * 2\n",
    "    cell_body_number = cell_nucleus_number + 1\n",
    "    nucleus_inidices = numpy.where(dish == cell_nucleus_number)\n",
    "    window_left = max(numpy.min(nucleus_inidices[1]) - (cell_max_radius+2), 0)\n",
    "    window_right = min(numpy.max(nucleus_inidices[1]) + (cell_max_radius+2), dish.shape[0])\n",
    "    window_bottom = max(numpy.min(nucleus_inidices[0]) - (cell_max_radius+2), 0) \n",
    "    window_top = min(numpy.max(nucleus_inidices[0]) + (cell_max_radius+2), dish.shape[1])\n",
    "    cell_grow_window = numpy.zeros((window_right - window_left, window_top - window_bottom), numpy.uint16)\n",
    "    cell_grow_window = dish[window_bottom:window_top, window_left:window_right]\n",
    "    # Grow / move the nucleus\n",
    "    growth_cycles = 5\n",
    "    for cycle in range(0, growth_cycles, 1):\n",
    "        nucleus_neighbors = numpy.zeros(cell_grow_window.shape, bool)\n",
    "        local_nucleus_inidices = numpy.where(cell_grow_window == cell_nucleus_number)\n",
    "        \n",
    "        local_cell_center_y = numpy.mean(local_nucleus_inidices[0])\n",
    "        local_cell_center_x = numpy.mean(local_nucleus_inidices[1])\n",
    "        for pixel_index in range(0, len(local_nucleus_inidices[0])):\n",
    "            y = local_nucleus_inidices[0][pixel_index]\n",
    "            x = local_nucleus_inidices[1][pixel_index]\n",
    "            potential_neighbors = [(y + 1, x) , (y - 1, x), (y, x + 1), (y, x - 1)]\n",
    "            for potential_neighbor in potential_neighbors:\n",
    "                y, x = potential_neighbor\n",
    "                if x >= 0 and x < window_right - window_left and y >= 0 and y < window_top - window_bottom:\n",
    "                    if cell_grow_window[y, x] % 2 == 1:\n",
    "                        nucleus_neighbors[y, x] = True\n",
    "        # Grow core\n",
    "        nucleus_size = len(local_nucleus_inidices[0])\n",
    "        neighbor_points = numpy.where(nucleus_neighbors)\n",
    "        for neighbor_index in range(0, len(neighbor_points[0]), 1):\n",
    "            y = neighbor_points[0][neighbor_index]\n",
    "            x = neighbor_points[1][neighbor_index]\n",
    "            chance_to_grow = random.uniform(0, 1.0)\n",
    "            maximal_nucelus_size = nucleus_area * 2\n",
    "            nucleus_permitted_growth = maximal_nucelus_size - nucleus_size\n",
    "            acceptance_growth = max((nucleus_permitted_growth), 0)  / 10\n",
    "            if chance_to_grow < acceptance_growth:\n",
    "                nucleus_size += 1\n",
    "                nucleus_neighbors[y, x] = False \n",
    "                cell_grow_window[y, x] = cell_nucleus_number\n",
    "        # Kill core\n",
    "        core_points = numpy.where(cell_grow_window == cell_nucleus_number)\n",
    "        for pixel_index in range(0, len(core_points[0]), 1):\n",
    "            y = core_points[0][pixel_index]\n",
    "            x = core_points[1][pixel_index]\n",
    "            chance_to_die = random.uniform(0, 1.0)\n",
    "            minimal_nucleus_area = max(int(nucleus_area / 2), 1)\n",
    "            accept_death = max((nucleus_size - minimal_nucleus_area), 0) / 10\n",
    "            if chance_to_die < accept_death:\n",
    "                nucleus_size -= 1\n",
    "                cell_grow_window[y, x] = cell_body_number\n",
    "        # Grow cell area\n",
    "        cell_neighbors = numpy.zeros(cell_grow_window.shape, bool)\n",
    "        local_cell_indices = numpy.where(numpy.logical_or(cell_grow_window == cell_nucleus_number,cell_grow_window == cell_body_number))\n",
    "        for pixel_index in range(0, len(local_cell_indices[0])):\n",
    "            y = local_cell_indices[0][pixel_index]\n",
    "            x = local_cell_indices[1][pixel_index]\n",
    "            potential_neighbors = [(y + 1, x) , (y - 1, x), (y, x + 1), (y, x - 1)]\n",
    "            for potential_neighbor in potential_neighbors:\n",
    "                y, x = potential_neighbor\n",
    "                if x >= 0 and x < window_right - window_left and y >= 0 and y < window_top - window_bottom:\n",
    "                    if cell_grow_window[y, x] % 2 == 1:\n",
    "                        cell_neighbors[y, x] = True\n",
    "        # Grow cell\n",
    "        cell_size = len(local_cell_indices[0])\n",
    "        neighbor_points = numpy.where(cell_neighbors)\n",
    "        for neighbor_index in range(0, len(neighbor_points[0]), 1):\n",
    "            y = neighbor_points[0][neighbor_index]\n",
    "            x = neighbor_points[1][neighbor_index]\n",
    "            chance_to_grow = random.uniform(0, 1.0)\n",
    "            maximal_cell_size = cell_area * 2\n",
    "            cell_permitted_growth = maximal_cell_size - cell_size\n",
    "            distance_to_center = numpy.sqrt((local_cell_center_y - y)**2 + (local_cell_center_x - x)**2)\n",
    "            acceptance_growth = max((cell_permitted_growth), 0)  / 10\n",
    "            acceptance_distance = (cell_max_radius - distance_to_center) / cell_max_radius\n",
    "            if chance_to_grow < acceptance_growth and chance_to_grow < acceptance_distance:\n",
    "                cell_size += 1\n",
    "                cell_neighbors[y, x] = False \n",
    "                cell_grow_window[y, x] = cell_body_number\n",
    "        # Kill cell\n",
    "        cell_points = numpy.where(cell_grow_window == cell_body_number)\n",
    "        for pixel_index in range(0, len(cell_points[0]), 1):\n",
    "            y = cell_points[0][pixel_index]\n",
    "            x = cell_points[1][pixel_index]\n",
    "            chance_to_die = random.uniform(0, 1.0)\n",
    "            minimal_cell_area = max(int(cell_area / 2), 1)\n",
    "            distance_to_center = numpy.sqrt((local_cell_center_y - y)**2 + (local_cell_center_x - x)**2)\n",
    "            accept_death = max((cell_size - minimal_cell_area), 0) / 10\n",
    "            acceptance_distance = 1-0 - (cell_max_radius - distance_to_center) / cell_max_radius\n",
    "            if chance_to_die < accept_death + acceptance_distance:\n",
    "                cell_size -= 1\n",
    "                cell_grow_window[y, x] = cell_body_number"
   ]
  },
  {
   "cell_type": "code",
   "execution_count": 8,
   "id": "9df3acb3-1da3-487b-8893-a1d02ffdc1ae",
   "metadata": {},
   "outputs": [],
   "source": [
    "def get_cell_cores(cell_index, dish):\n",
    "    core_pixel = (dish == (cell_index + 1) * 2)\n",
    "    core_pixel_indices = numpy.where(core_pixel)\n",
    "    marking_area = numpy.zeros(dish.shape, numpy.uint16)\n",
    "    for index in range(0, len(core_pixel_indices[0])):\n",
    "        y = core_pixel_indices[0][index]\n",
    "        x = core_pixel_indices[1][index]\n",
    "        marking_area[y, x] = index + 1\n",
    "    change_occured = True\n",
    "    while change_occured:\n",
    "        change_occured = False\n",
    "        for index in range(0, len(core_pixel_indices[0])):\n",
    "            y = core_pixel_indices[0][index]\n",
    "            x = core_pixel_indices[1][index]\n",
    "            current_index = marking_area[y, x]\n",
    "            # Search neighbors\n",
    "            bottom = max(y - 1, 0)\n",
    "            top = min(y + 2, dish.shape[0])\n",
    "            left = max(x - 1, 0)\n",
    "            right = min(x + 2, dish.shape[1])\n",
    "            neighbor_pixels = marking_area[bottom:top, left:right]\n",
    "            neighbor_indices = set(numpy.unique(neighbor_pixels)) - {0}\n",
    "            lowest_index = sorted(neighbor_indices)[0]\n",
    "            if lowest_index < current_index:\n",
    "                # Use the closest possible index\n",
    "                marking_area[y, x] = lowest_index        \n",
    "                change_occured = True\n",
    "    cell_centre_indices = sorted(set(numpy.unique(marking_area)) - {0})\n",
    "    cell_centres = [numpy.where(marking_area == cell_center_index) for cell_center_index in cell_centre_indices]\n",
    "    return cell_centres"
   ]
  },
  {
   "cell_type": "code",
   "execution_count": 9,
   "id": "8a01d74a-2795-4b6f-963c-b8fba0aeadf2",
   "metadata": {},
   "outputs": [],
   "source": [
    "def kill_separate_cell_bodies(cell_index, dish):\n",
    "    cell_pixel = (dish == (cell_index + 1) * 2 + 1)\n",
    "    cell_pixel_indices = numpy.where(cell_pixel)\n",
    "    marking_area = numpy.zeros(dish.shape, numpy.uint16)\n",
    "    for index in range(0, len(cell_pixel_indices[0])):\n",
    "        y = cell_pixel_indices[0][index]\n",
    "        x = cell_pixel_indices[1][index]\n",
    "        marking_area[y, x] = index + 1\n",
    "    change_occured = True\n",
    "    while change_occured:\n",
    "        change_occured = False\n",
    "        for index in range(0, len(cell_pixel_indices[0])):\n",
    "            y = cell_pixel_indices[0][index]\n",
    "            x = cell_pixel_indices[1][index]\n",
    "            current_index = marking_area[y, x]\n",
    "            # Search neighbors\n",
    "            bottom = max(y - 1, 0)\n",
    "            top = min(y + 2, dish.shape[0])\n",
    "            left = max(x - 1, 0)\n",
    "            right = min(x + 2, dish.shape[1])\n",
    "            neighbor_pixels = marking_area[bottom:top, left:right]\n",
    "            neighbor_indices = set(numpy.unique(neighbor_pixels)) - {0}\n",
    "            lowest_index = sorted(neighbor_indices)[0]\n",
    "            if lowest_index < current_index:\n",
    "                # Use the closest possible index\n",
    "                marking_area[y, x] = lowest_index        \n",
    "                change_occured = True\n",
    "    cell_centre_marked_indices = sorted(set(numpy.unique(marking_area)) - {0})\n",
    "    for cell_center_marked_index in cell_centre_marked_indices:\n",
    "        # Figure out if we are still connected to our core+\n",
    "        body_indices = numpy.where(marking_area == cell_center_marked_index)\n",
    "        core_number = dish[body_indices[0][0], body_indices[1][0]] - 1\n",
    "        found_core = False\n",
    "        for index in range(0, len(body_indices[0])):\n",
    "            y = body_indices[0][index]\n",
    "            x = body_indices[1][index]\n",
    "            # Search neighbors\n",
    "            bottom = max(y - 1, 0)\n",
    "            top = min(y + 2, dish.shape[0])\n",
    "            left = max(x - 1, 0)\n",
    "            right = min(x + 2, dish.shape[1])\n",
    "            neighbor_pixels = dish[bottom:top, left:right]\n",
    "            if core_number in neighbor_pixels:\n",
    "                found_core = True\n",
    "                break\n",
    "        if found_core:\n",
    "            dish[marking_area == cell_center_marked_index] = core_number + 1\n",
    "        else:\n",
    "            dish[marking_area == cell_center_marked_index] = 1"
   ]
  },
  {
   "cell_type": "code",
   "execution_count": 10,
   "id": "ebe69d30-3a61-4218-95e7-d10678a23200",
   "metadata": {},
   "outputs": [],
   "source": [
    "def kill_cell_if_small(cell_index, dish):\n",
    "    cell_nucleus_number = (cell_index + 1) * 2\n",
    "    cell_body_number = cell_nucleus_number + 1\n",
    "    nucleus_pixels = dish == cell_nucleus_number\n",
    "    cell_body_pixels = dish == cell_body_number\n",
    "    nucleus_size = numpy.sum(nucleus_pixels)\n",
    "    cell_body_size = numpy.sum(cell_body_pixels)\n",
    "    cell_is_young = nucleus_size < 2 * cell_body_size\n",
    "    if cell_is_young:\n",
    "        return\n",
    "    if nucleus_size < nucleus_area and cell_body_size < cell_area:\n",
    "        chance_to_kill = random.uniform(0, 1.0)\n",
    "        accept_kill = (nucleus_size + cell_body_size) / (nucleus_area + cell_area)\n",
    "        if chance_to_kill > accept_kill:\n",
    "            dish[numpy.logical_or(nucleus_pixels, cell_body_pixels)] = 1\n",
    "\n",
    "    cell_nucleus_number = (cell_index + 1) * 2\n",
    "    cell_body_number = cell_nucleus_number + 1\n",
    "    to_clear = numpy.logical_or(dish == cell_nucleus_number, dish == cell_body_number)\n",
    "    dish[to_clear] = 1"
   ]
  },
  {
   "cell_type": "code",
   "execution_count": 11,
   "id": "847ea259-e015-4dcc-9813-e1e61bf4677e",
   "metadata": {},
   "outputs": [],
   "source": [
    "def extract_cell_data(dish):\n",
    "    indices = numpy.unique(dish)\n",
    "    cell_ids = list()\n",
    "    for index in indices:\n",
    "        if index != 0 and index % 2 == 0:\n",
    "            cell_ids.append(index // 2)\n",
    "    file_str = list()\n",
    "    file_str.append(f\"Cell ID, Nucelus x, Nucleus y, Nucelus Area, Cell Area, Center of area x, Center of area y\")\n",
    "    for cell_id in cell_ids:\n",
    "        cell_nucleus_number = (cell_id + 1) * 2\n",
    "        cell_body_number = cell_nucleus_number + 1\n",
    "        nucleus_points = numpy.where(dish == cell_nucleus_number)\n",
    "        if len(nucleus_points[0]) > 0:\n",
    "            nucleus_x = int(numpy.mean(nucleus_points[0]))\n",
    "            nucleus_y = int(numpy.mean(nucleus_points[1]))\n",
    "            nucleus_area = len(nucleus_points[0])\n",
    "            body_points = numpy.where(dish == cell_body_number)\n",
    "            body_x = int(numpy.mean(list(nucleus_points[0]) + list(body_points[0])))\n",
    "            body_y = int(numpy.mean(list(nucleus_points[1]) + list(body_points[1])))\n",
    "            body_area = len(nucleus_points[0]) + len(body_points[0])\n",
    "            file_str.append(f\"{cell_id}, {nucleus_x}, {nucleus_y}, {nucleus_area}, {body_area}, {body_x}, {body_y}\")\n",
    "    return file_str"
   ]
  },
  {
   "cell_type": "code",
   "execution_count": 12,
   "id": "0167983d-eeea-4d64-890a-a19f1c49c725",
   "metadata": {},
   "outputs": [],
   "source": [
    "def run_day(dish):\n",
    "    cell_cycles = 5\n",
    "    for _ in range(0, cell_cycles):\n",
    "        existing_ids = numpy.unique(dish)\n",
    "        cell_numbers = list()\n",
    "        for number in existing_ids:\n",
    "            if number > 1 and number % 2 == 0:\n",
    "                cell_numbers.append(int((number / 2) - 1))\n",
    "        for cell_index in cell_numbers:\n",
    "            grow_cell(cell_index, dish)\n",
    "            cores = get_cell_cores(cell_index, dish)\n",
    "            if len(cores) > 1:\n",
    "                # Rename the cores\n",
    "                for core in cores[1:]:\n",
    "                    core_ys = core[0]\n",
    "                    core_xs = core[1]\n",
    "                    new_cell_index = max(cell_numbers) + 1              \n",
    "                    cell_numbers.append(new_cell_index)\n",
    "                    for core_index in range(0, len(core_ys)):\n",
    "                        core_y = core_ys[core_index]\n",
    "                        core_x = core_xs[core_index]\n",
    "                        dish[core_y, core_x] = (new_cell_index + 1) * 2\n",
    "            kill_separate_cell_bodies(cell_index, dish)\n",
    "        # If we have enough cells we kill some small ones\n",
    "        if len(cell_numbers) > 10:\n",
    "            for cell_index in cell_numbers:\n",
    "                kill_cell_if_small(cell_index, dish)\n",
    "    # Reduce cell indices\n",
    "    current_cell_number = 0\n",
    "    numpy_indices = numpy.unique(dish)\n",
    "    for index in range(0, int(numpy.max(dish) / 2) + 1, 1):\n",
    "        cell_nucleus_number = (index + 1) * 2\n",
    "        cell_body_number = cell_nucleus_number + 1\n",
    "        cell_exists = cell_nucleus_number in numpy_indices\n",
    "        if cell_exists:\n",
    "            new_cell_index = (current_cell_number + 1) * 2\n",
    "            new_cell_body = cell_nucleus_number + 1\n",
    "            current_cell_number += 1\n",
    "            dish[dish == cell_nucleus_number] = new_cell_index\n",
    "            dish[dish == cell_body_number] = new_cell_body"
   ]
  },
  {
   "cell_type": "code",
   "execution_count": 13,
   "id": "c31cee64-6d19-42ba-9dc4-c311b047dc5a",
   "metadata": {},
   "outputs": [
    {
     "name": "stdout",
     "output_type": "stream",
     "text": [
      "Final dish cells\n"
     ]
    },
    {
     "data": {
      "image/png": "[encoded data removed]",
      "text/plain": [
       "<Figure size 640x480 with 2 Axes>"
      ]
     },
     "metadata": {},
     "output_type": "display_data"
    },
    {
     "name": "stdout",
     "output_type": "stream",
     "text": [
      "Final cell cores\n"
     ]
    },
    {
     "data": {
      "image/png": "[encoded data removed]",
      "text/plain": [
       "<Figure size 640x480 with 2 Axes>"
      ]
     },
     "metadata": {},
     "output_type": "display_data"
    }
   ],
   "source": [
    "# Run first day and look at the results\n",
    "run_day(dish)\n",
    "extract_cell_data(dish)\n",
    "\n",
    "# Count cells\n",
    "indices = numpy.unique(dish)\n",
    "cell_ids = list()\n",
    "for index in indices:\n",
    "    if index != 0 and index % 2 == 0:\n",
    "        cell_ids.append(index // 2)\n",
    "\n",
    "print(f\"Final dish cells\")\n",
    "matplotlib.pyplot.imshow(dish)\n",
    "matplotlib.pyplot.colorbar()\n",
    "matplotlib.pyplot.show()\n",
    "\n",
    "print(f\"Final cell cores\")\n",
    "matplotlib.pyplot.imshow(numpy.logical_and(dish % 2 == 0, dish != 0))\n",
    "matplotlib.pyplot.colorbar()\n",
    "matplotlib.pyplot.show()"
   ]
  },
  {
   "cell_type": "code",
   "execution_count": null,
   "id": "bbd98fc3-78fe-4308-b747-a8e61a25874f",
   "metadata": {},
   "outputs": [
    {
     "name": "stdout",
     "output_type": "stream",
     "text": [
      "data\\Day_1_dish_1_zoom_1.csv written\n"
     ]
    }
   ],
   "source": [
    "data_folder = pathlib.Path(\"./data\")\n",
    "\n",
    "zoom_factors = [1, 2, 2, 3, 3, 3, 3, 3, 4, 4, 5]\n",
    "\n",
    "dish_radius = 1024\n",
    "# Run for all dishes\n",
    "for dish_index in range(1, 6):\n",
    "    dish = create_dish(dish_radius)\n",
    "    seed_dish(dish)\n",
    "    # Run the other 12 days\n",
    "    for day in range(1, 13):\n",
    "        zoom = random.choice(zoom_factors)\n",
    "        file_name = f\"Day_{day}_dish_{dish_index}_zoom_{zoom}.csv\"\n",
    "        run_day(dish)\n",
    "        file_str = extract_cell_data(dish)\n",
    "        csv_file_path = data_folder / file_name\n",
    "        with csv_file_path.open(\"w\") as csv_file:\n",
    "            first_line = True\n",
    "            for line in file_str:\n",
    "                if not first_line:\n",
    "                    cell_id, nucleus_x, nucleus_y, nucleus_area, body_area, body_x, body_y = line.split(\",\")\n",
    "                    nucleus_x = int(nucleus_x) * zoom + random.randint(-zoom, zoom + 1)\n",
    "                    nucleus_y = int(nucleus_y) * zoom + random.randint(-zoom, zoom + 1)\n",
    "                    nucleus_area = int(nucleus_area) * zoom + random.randint(-zoom, zoom + 1)\n",
    "                    body_x = int(body_x) * zoom + random.randint(-zoom, zoom + 1)\n",
    "                    body_y = int(body_y) * zoom + random.randint(-zoom, zoom + 1)\n",
    "                    body_area = int(body_area) * zoom + random.randint(-zoom, zoom + 1)\n",
    "                    csv_file.write(f\"{cell_id}, {nucleus_x}, {nucleus_y}, {nucleus_area}, {body_area}, {body_x}, {body_y}\\n\")\n",
    "                else:\n",
    "                    csv_file.write(line + \"\\n\")\n",
    "                    first_line = False\n",
    "        print(f\"{csv_file_path} written\")\n",
    "    break"
   ]
  }
 ],
 "metadata": {
  "kernelspec": {
   "display_name": "Python 3 (ipykernel)",
   "language": "python",
   "name": "python3"
  },
  "language_info": {
   "codemirror_mode": {
    "name": "ipython",
    "version": 3
   },
   "file_extension": ".py",
   "mimetype": "text/x-python",
   "name": "python",
   "nbconvert_exporter": "python",
   "pygments_lexer": "ipython3",
   "version": "3.12.7"
  }
 },
 "nbformat": 4,
 "nbformat_minor": 5
}
