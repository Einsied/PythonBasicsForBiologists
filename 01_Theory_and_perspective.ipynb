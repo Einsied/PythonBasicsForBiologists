{
 "cells": [
  {
   "cell_type": "markdown",
   "id": "57b0c24c-f7e9-4a29-be37-180e6f69b4db",
   "metadata": {
    "editable": false,
    "slideshow": {
     "slide_type": ""
    },
    "tags": []
   },
   "source": [
    "# Theory and perspective"
   ]
  },
  {
   "cell_type": "markdown",
   "id": "9d1bda17-95fd-46a4-b4b7-739ff0318e7f",
   "metadata": {
    "editable": false,
    "slideshow": {
     "slide_type": ""
    },
    "tags": []
   },
   "source": [
    "## Introduction\n",
    "\n",
    "Python is a Turing complete scripting language, this means it is a very useful tool to solve problems with logical algorithms.\n",
    "Simpler said it tells your computer how to crunch data or do computations for you.\n",
    "\n",
    "If you are reading this you are most likely a biology student and wish to analyze a few data.\n",
    "This is what I intend to teach you here. In my personal experience the adoption of  programming languages is not hindered by the amount of “How to code”- literature.\n",
    "The internet is full of different sources that teach you how to code, what they do not teach you is how to think like the people that created the languages or tools you are using. This matters for **you** especially,\n",
    "because your training as biologists differs in some fundamental aspects from that of mathematicians, computer-scientists and physicists.\n",
    "These differences in training enable you to understand and investigate biological processes in a way that I could never, but they also hinder you in developing and utilizing *code*.\n",
    "For this reason I will focus more on the way of thinking than on syntax and libraries.\n",
    "Once you have understood the fundamental concepts you should be able to close the gaps using the [official documentation](https://docs.python.org/3/) and [tutorial[(https://docs.python.org/3/tutorial/index.html).\n",
    "\n",
    "Let me begin by quoting the first paragraph from the [official tutorial](https://docs.python.org/3/tutorial/index.html).\n",
    "\n",
    "> Python is an easy to learn, powerful programming language.\n",
    "> It has efficient high-level data structures and a simple but effective approach to object-oriented programming.\n",
    "> Python’s elegant syntax and dynamic typing, together with its interpreted nature, make it an ideal language for scripting and rapid application development in many areas on most platforms.\n",
    "\n",
    "I assume this paragraph did not teach you much, which can be attributed to two gaps in your knowledge.\n",
    "The first gap is your vocabulary or your knowledge of definitions.\n",
    "This is knowledge that you can easily acquire by consulting textbooks or Wikipedia.\n",
    "I attempted to mark the terms that are stronger influenced by this here:\n",
    "\n",
    "> Python is an easy to learn, powerful *programming language*.\n",
    "> It has *efficient* *high-level* *data structures* and a simple but effective approach to *object-oriented* programming.\n",
    "> Python’s elegant *syntax* and *dynamic typing*, together with its *interpreted* nature, make it an ideal language for *scripting* and rapid *application* development in many areas on most *platforms*.\n",
    "\n",
    "So understanding these terms is a hurdle, especially because most of the terms sound suspiciously familiar, like *efficient* for example.\n",
    "I doubt however that you measure efficiency in *operations* and *memory* consumption.\n",
    "The term *efficient* in this paragraph should be understood in these terms however, but as mentioned before this is not the major challenge.\n",
    "Let me highlight a two more words for you:\n",
    "\n",
    "> Python is an easy to learn, powerful programming language.\n",
    "> It has efficient high-level data structures and a **simple** but effective approach to object-oriented programming.\n",
    "> Python’s **elegant** syntax and dynamic typing, together with its interpreted nature, make it an ideal language for scripting and rapid application development in many areas on most platforms.\n",
    "\n",
    "The terms here show the second gap in your knowledge, the way you approach, understand and interact with **problems**.\n",
    "For you a problem is probably a hurdle, an inconvenience, an obstacle, for me it is the fundament of scientific study.\n",
    "For me sciences consists of **problems** and **solutions**, these fit together like puzzle-pieces enabling us to understand and control the world.\n",
    "Only if you have both a **problem** and a **solution** can you publish, if you publish an observation you publish something you believe will help someone else to answer or **solve** a **problem**.\n",
    "So this person has a a **problem**, usually formulated as a question, and  you provide a **solution**.\n",
    "This question-answer-relationship is anchored rather deeply in computer-science, where you as the user want to achieve something, thereby defining a **problem** and then creating your **solution** based on the work of other software-developers.\n",
    "\n",
    "I chose the previous example to show you the rather alien of thinking.\n",
    "It may seem familiar to you now, but unless you studied a mathematic related subject previously I assure you it is not.\n",
    "To stress this point let us discuss **simple** and **elegant**. \n",
    "What do they mean here?\n",
    "I would claim they refer to a very mathematical concept of perfection, which we may embody by the sentence: “Say precisely enough”.\n",
    "This means everything that needs to be said is said and anything else is not.\n",
    "This is often achieved by very few strict and solid definitions.\n",
    "Python for example was initially lauded for its rather small number of [reserved terms](https://docs.python.org/3.13/reference/lexical_analysis.html#keywords) and [built-in functions](https://docs.python.org/3/library/functions.html).\n",
    "It was considered **simple** and **elegant**, because it use **few** terms and combined them into a bigger system.\n",
    "It is **simple**, because it has **few** constituent parts and **elegant**, because they achieve the larger goal by their interaction.\n",
    "It is in the interaction of the objects, concepts and definitions that beauty can be found and is referred to here, but teaching a course on mathematic and logical aesthetics is beyond me so I will summarize with:\n",
    "It takes roughly 3 years to learn and you are fine hobbling along and ignoring it.\n",
    "What you can not ignore however is the way of thinking around it.\n",
    "\n",
    "Let me [quote](https://en.wikiquote.org/wiki/Donald_Knuth) Donald Knuth a rather well known computer scientists on what makes a good programmer:\n",
    "\n",
    "> The psychological profiling [of a programmer] is mostly the ability to shift levels of abstraction, from low level to high level. To see something in the small and to see something in the large. \n",
    "\n",
    "What he refers to can be described as the ability to change perspective, to switch from a cellular few to the organ to the organism and to the entire ecosystem depending on the question asked and more importantly to stay quiet about the aspects that do not matter for the question. In other words to **say precisely enough**.\n",
    "\n",
    "This way of thinking makes great engineers and physicists, as they are able to find the common characteristic for a brown bear, a moose and a sack of grain on the road.\n",
    "They all are an obstacle that slows down traffic.\n",
    "They all have a position on the road, which can be expressed by the distance along it.\n",
    "This information is sufficient to steer traffic away from it and therefore precisely enough for a road manager.\n",
    "\n",
    "The central mechanism they use to describe things are *equivalence*-classes.\n",
    "*Equivalence* means we can change entities in a context without anything changing.\n",
    "If some one is thirsty it does not matter if we hand them water or ice-tea, therefore water and ice tea are *equivalent* in the context of quenching thirst.\n",
    "Just like a 100 €-bill and a 10 €-bill are equivalent for buying one bag of flour.\n",
    "It does not matter which one you have it buys a bag of flour, at least until inflation ruins this example.\n",
    "An *equivalence*-class describes all things that are *equivalent* within a context.\n",
    "Since a brown bear, a moose and a sack of grain all block the road they are part of the same *equivalence*-class.\n",
    "\n",
    "So once it is clear what they share they also *decide* to perceive only the characteristics of things they deem relevant.\n",
    "So if something blocks the road they only need to know were to drive.\n",
    "Since the road is a long line they only need to know how far from the beginning of the road the obstacle is placed.\n",
    "The pitfall is already integrated in the example here:\n",
    "Removing a sack of grain and a living animal are two quite distinct tasks requiring distinct equipment.\n",
    "Note that they would not attempt to attach the nature of the obstacle to their description, but prefer to say something like “bear spray required for removal”, since while a bear always requires bear-spray there might be other obstacles that can be removed with bear-spray, so the “bear spray required for removal” is the larger *equivalence*-class.\n",
    "\n",
    "Now you may wonder why you were trained to think different, then answer is quite simple.\n",
    "This way of thinking makes quite poor observers. If you hand them a piece of paper and tell them to observe a rat for 30 minutes there is a good chance they wrote five sentences:\n",
    "“Rat walked to the far end of the cage.\n",
    "Rat walked to the center of the cage. Rat ran around the cage.\n",
    "Rat walked back to far end of the cage.\n",
    "Rat walked around the cage.”\n",
    "You know that is is a not “precisely enough”, but they will only know them after you begin asking them questions.\n",
    "\n",
    "The correct use is of abstraction is next to a few fundamental mathematical concepts, used to abstract problems,\n",
    "the difference between a capable and an incapable programmer.\n",
    "The difference between endless despair and infinite levity, it is what I hope to demonstrate and teach you in this course."
   ]
  },
  {
   "cell_type": "markdown",
   "id": "b4609592-1550-4a75-82c6-23fe38d53cdb",
   "metadata": {
    "editable": false,
    "slideshow": {
     "slide_type": ""
    },
    "tags": []
   },
   "source": [
    "## Real data\n",
    "\n",
    "The best way to **learn** these skill is on a **practical example**.\n",
    "Therefore  we will work on data our group recorded during our research.\n",
    "\n",
    "Our group focuses how oxytocin, a neurohormone synthesized in the hypothalamus, influences maternal care.\n",
    "A major feature of mammalian maternal care is milk supply through the mammary gland.\n",
    "You may have already heard that oxytocin is secreted into the blood stream in the pituitary gland following suckling of the offspring.\n",
    "It elicits milk ejections by evoking contractions of smooth muscle cells in the mammary ducts.\n",
    "\n",
    "Interestingly, oxytocin is not continuously secreted during suckling but released in bursts.\n",
    "This burst-like secretion is caused by bursts of oxytocin neural activity.\n",
    "We try to understand how this activity is generated, by investigating the behavior of rats and activity in their brains.\n",
    "\n",
    "The example we picked for you is the analysis of such neural activity with behavioral data.\n",
    "This data consists of extracellular spike (neuroscientists call action potential \"spikes\") recordings in which many cells have been recorded simultaneously, as well as pre-analyzed video-based behavioral data.\n",
    "The neural activity is recorded for units, which refer to neurons that act together.\n",
    "We analyzed the movement of the maternal animal, because it stops moving before milk ejection.\n",
    "We assume further that the oxytocin unit bursts during the milk ejection,\n",
    "so these two event should overlap.\n",
    "\n",
    "Only one of the recorded units is a potential oxytocin unit.\n",
    "The final **goal** of the course will be to **find the oxytocin unit**,\n",
    "by identifying the characteristic firing pattern shown in the following image(B).\n",
    "\n",
    "![Sketch of the experiment and resulting plot](img/experiment.jpg)\n",
    "\n",
    "A. Recording setup with an electrode that has many contacts along one [single shank](https://en.wikipedia.org/wiki/Neuropixels).\n",
    "B. Top: Maternal behavior (immobility vs. mobility).\n",
    "Bottom: Neural activity. Note that we see the spikes per second (Hz).\n",
    "We also see that there are seven distinct bursts measuring around 100 spikes per second.\n",
    "Also, note that the burst pattern seen here has been described to coincide with immobility.\n",
    "The combined investigation of both neural activity and behavior thus provides converging evidence that the recorded neuron is an oxytocin neuron.\n",
    "\n",
    "![The action potential of a Oxytocin cell showing a burst with multiple spikes](img/OTburst.png)\n",
    "\n",
    "An example of an oxytocin burst consisting of multiple spikes. You can see a large number of spikes in the center of the image."
   ]
  },
  {
   "cell_type": "markdown",
   "id": "e9877ab4-eb7b-47ed-b005-3517513327fa",
   "metadata": {
    "editable": false,
    "slideshow": {
     "slide_type": ""
    },
    "tags": []
   },
   "source": [
    "## Course plan\n",
    "\n",
    "The data themselves are stored as comma separated-value-files.\n",
    "So during this course, we will read out the values in these files and plot them.\n",
    "This example will be used to slowly introduce fundamental programming concepts.\n",
    "\n",
    "To begin, we will first talk about data, **variables**, **values** and **operators**.\n",
    "These are the fundamental building blocks of our code.\n",
    "Afterwards we will talk about **control-structures**, like **loops** and **conditional-instructions**.\n",
    "These allow us to react to our code and process an arbitrary amount of data.\n",
    "We then will talk about **functions**, **classes** and **modules**.\n",
    "These help us organize our code and ensure we only deal with the things we really need to think about.\n",
    "In the end we will use external modules to visualize and analyze the data.\n",
    "This is the final step that allows us to identify the neuron.\n",
    "\n",
    "So the course is separated into five parts with separate content and goals:\n",
    "\n",
    "| Part | Content                                                             | Goal                                                                |\n",
    "| ---- | ------------------------------------------------------------------- | ------------------------------------------------------------------- |\n",
    "|    1 | [Theory and perspective](01_Theory_and_perspective.ipynb)           | You have an idea how programmers think                              |\n",
    "|    2 | [Fundamental building blocks](02_Fundamental_building_blocks.ipynb) | You can add numbers                                                 |\n",
    "|    3 | [Control structures](03_Control_structures.ipynb)                   | You can write short simple programs                                 |\n",
    "|    4 | [Classes and modules](04_Classes_and_modules.ipynb)                 | You can write more complex programs                                 |\n",
    "|    5 | [Statistics](05_Statistics.ipynb)                                   | You can apply numerical analysis to new data                        |\n",
    "\n",
    "Every part will help us to solve a small part of our problem until we will have a script that will help us to identify the oxytocin-neuron. "
   ]
  },
  {
   "cell_type": "markdown",
   "id": "9de5e7cf-7f3d-47b3-bd4e-893267112f81",
   "metadata": {
    "editable": false,
    "slideshow": {
     "slide_type": ""
    },
    "tags": []
   },
   "source": [
    "## Approaching a problem\n",
    "\n",
    "So let us begin with the first question: How do we start?\n",
    "What questions should are relevant?\n",
    "What do we need to proceed?\n",
    "\n",
    "Please partner up into groups of two or three people and write down in the next cell what you need to know to begin your plan.\n",
    "Please remember “Say precisely enough”."
   ]
  },
  {
   "cell_type": "raw",
   "id": "dfab2156-f25a-432a-a6d5-7a7c70d55eac",
   "metadata": {
    "editable": true,
    "raw_mimetype": "",
    "slideshow": {
     "slide_type": ""
    },
    "tags": []
   },
   "source": [
    "Your answer goes here."
   ]
  },
  {
   "cell_type": "markdown",
   "id": "5940b39f-4509-4cca-a09c-f02c8d94e82e",
   "metadata": {
    "editable": false,
    "slideshow": {
     "slide_type": ""
    },
    "tags": []
   },
   "source": [
    "Behind this spoiler is my suggested answer.\n",
    "It is not the right answer, but I will claim that it is an right answer, as in there is more than one. Please do not open the spoiler until you are confident that your answer in the cell above is correct.\n",
    "\n",
    "<details>\n",
    "  <summary>Click to reveal suggestion</summary>\n",
    "\n",
    "I propose that we need to understand the **problem** before we can design the **solution**.\n",
    "So we have to figure out what we exactly we are searching and what data we have.\n",
    "\n",
    "</details>"
   ]
  },
  {
   "cell_type": "markdown",
   "id": "bfbc52dd-0089-4eda-9aef-7cb29134d8de",
   "metadata": {
    "editable": false,
    "slideshow": {
     "slide_type": ""
    },
    "tags": []
   },
   "source": [
    "### Develop a rough idea\n",
    "\n",
    "If we consult the previous text, we learn we have to find bursts during phases of immobility.\n",
    "So we have to ask what is a burst?\n",
    "A burst is a high amount of spikes between two points in time.\n",
    "A physicist would call it a larger local maximum of the temporal density.\n",
    "A programmer would call it many spikes per second.\n",
    "\n",
    "This means we want to look at all the seconds and see in which second are more spikes than usual.\n",
    "If we do it with pen and paper we would write a list with all the seconds from 1 to 3400 and make a tally list next to each second.\n",
    "Afterwards we would look for an unusual high number of [tally marks](https://en.wikipedia.org/wiki/Tally_marks), as shown on the [wikipedia](https://commons.wikimedia.org/wiki/File:Strike_symbol_(49778996432).jpg) image below.\n",
    "\n",
    "![Tally marks on a chalkboard](https://upload.wikimedia.org/wikipedia/commons/thumb/a/ad/Strike_symbol_%2849778996432%29.jpg/330px-Strike_symbol_%2849778996432%29.jpg)\n",
    "\n",
    "Afterwards we would mark all the seconds in which the maternal animal ([dam](https://www.merriam-webster.com/dictionary/dam)) does not move.\n",
    "If a high amount of tally marks and immobility coincides we see this as an indication,\n",
    "that this neuron is an oxytocin neuron.\n",
    "\n",
    "So we would essentially create a table like this, for every unit:\n",
    "| Second | Number of spikes | Immobility | \n",
    "| ------ | ---------------- | ---------- |\n",
    "| 1      | 10               | Yes        | \n",
    "| 2      | 12               | Yes        | \n",
    "| 3      | 11               | Yes        | \n",
    "| 4      | 9                | Yes        | \n",
    "| 5      | 10               | Yes        | "
   ]
  },
  {
   "cell_type": "markdown",
   "id": "8763d5a8-dda6-43b2-a53e-8a6dd8b5a721",
   "metadata": {
    "editable": true,
    "slideshow": {
     "slide_type": ""
    },
    "tags": []
   },
   "source": [
    "Now that we know what out solution might look like, we should take a look of what we work with.\n",
    "In reality, the constraints imposed on us by our surrounding (available data, time, machinery) and the solution we chose influence each other.\n",
    "This encourages an iterative approach, where our solution is slowly adapted to our constraints.\n",
    "Since this is a teaching example, the constraints are quite relaxed.\n",
    "The immobility is given as two phases instead of a number of dense but distinct events in time (the dam does not freeze for minutes) and we already know that one of the observed units corresponds to oxytocin. "
   ]
  },
  {
   "cell_type": "markdown",
   "id": "ee458ff7-d9ce-44d9-a640-b143d2aa2212",
   "metadata": {
    "editable": false,
    "slideshow": {
     "slide_type": ""
    },
    "tags": []
   },
   "source": [
    "### Survey data\n",
    "\n",
    "Let us look at the data now.\n",
    "In \"data_neuron\" we find two [**c**omma-**s**eprated-**v**alue(csv)](https://en.wikipedia.org/wiki/Comma-separated_values)-files:\n",
    "\"session_2023111501010_immobility.csv\" and \"session_2023111501010_units.csv\".\n",
    "\n",
    "Their names encode so called  **meta-data**.\n",
    "**Meta-data** describe something that is not described in the data itself, in this case the session of recording and the contents of the file.\n",
    "This is rather convenient for use, since **meta-data** data are often provided in separate files or within the file itself, which requires a little extra effort to extract."
   ]
  },
  {
   "cell_type": "markdown",
   "id": "323b159d-796d-4a4b-9ddb-901b60770e23",
   "metadata": {
    "editable": false,
    "slideshow": {
     "slide_type": ""
    },
    "tags": []
   },
   "source": [
    "Let us first look at the contents of \"session_2023111501010_immobility.csv\".\n",
    "This file is rather short, so I will copy its entire content into the next cell."
   ]
  },
  {
   "cell_type": "raw",
   "id": "62bb79e3-cb77-491f-a570-8929161510f7",
   "metadata": {
    "editable": false,
    "raw_mimetype": "",
    "slideshow": {
     "slide_type": ""
    },
    "tags": []
   },
   "source": [
    "begin in seconds,end in seconds\n",
    "44, 1018\n",
    "2140, 2993"
   ]
  },
  {
   "cell_type": "markdown",
   "id": "bb632c31-d8e8-4f6e-8781-d90e46584841",
   "metadata": {
    "editable": false,
    "slideshow": {
     "slide_type": ""
    },
    "tags": []
   },
   "source": [
    "The first thing to note is that the contents of the file are human-readable.\n",
    "This is not the case for other file-formats like [bmp](https://en.wikipedia.org/wiki/BMP_file_format), [pdf](https://en.wikipedia.org/wiki/PDF) or [doc]( https://en.wikipedia.org/wiki/Doc_(computing)). \n",
    "If you wish to read them, you need to use a special software that can translate them into something you can read. \n",
    "If you open a non-human-readable file with a text editor, you will be overwhelmed by a bunch of numbers.\n",
    "In this case, you need to either read the specifications on how to interpret these numbers or use the correct software.\n",
    "\n",
    "\n",
    "The first line describes the rest of the file.\n",
    "We call it a header, because like a head it sits above the data.\n",
    "Headers are common for most data formats, but not always mandatory.\n",
    "In our case it tells us that there is a \"begin in seconds\" and an \"end in seconds\".\n",
    "\n",
    "Looking at the following line we can see two numbers separated by a ```,``` just like their meaning in the header.\n",
    "As you may have already guessed these are entries in a table.\n",
    "The lines form the rows and the ```,``` separates the columns.\n",
    "So if we translate this file it should look like this:\n",
    "\n",
    "| begin in seconds | end in seconds |\n",
    "| ---------------- | -------------- |\n",
    "| 44               | 1018           |\n",
    "| 2140             | 2993           |\n",
    "\n",
    "Consulting the plot we saw earlier this corresponds to the two phases of dam immobility."
   ]
  },
  {
   "cell_type": "markdown",
   "id": "ed67f2d4-05c7-497b-868e-27a7a7b14e71",
   "metadata": {
    "editable": true,
    "slideshow": {
     "slide_type": ""
    },
    "tags": []
   },
   "source": [
    "Now it is time to look at the second file \"session_2023111501010_units.csv\".\n",
    "Since it is larger I will only show the first five lines in the next cell."
   ]
  },
  {
   "cell_type": "raw",
   "id": "434b1500-2484-4f6c-ab05-c02b940bea28",
   "metadata": {
    "editable": false,
    "raw_mimetype": "",
    "slideshow": {
     "slide_type": ""
    },
    "tags": []
   },
   "source": [
    "ratID,unitID,channel,spikeTimes\n",
    "2023111501, 0, 2, 0.5725\n",
    "2023111501, 0, 2, 7.7155\n",
    "2023111501, 0, 2, 8.0256\n",
    "2023111501, 0, 2, 9.3378"
   ]
  },
  {
   "cell_type": "markdown",
   "id": "1a99623c-cf57-4bc3-a42e-bfc02dcb7ac2",
   "metadata": {
    "editable": false,
    "slideshow": {
     "slide_type": ""
    },
    "tags": []
   },
   "source": [
    "Please, try to figure out what is saved in the file and describe it in the cell below."
   ]
  },
  {
   "cell_type": "raw",
   "id": "00f92680-5327-4516-b178-5a0d65505fb1",
   "metadata": {
    "editable": true,
    "raw_mimetype": "",
    "slideshow": {
     "slide_type": ""
    },
    "tags": []
   },
   "source": [
    "Your answer goes here."
   ]
  },
  {
   "cell_type": "markdown",
   "id": "3f9cb041-f771-469b-8baa-2dff7a7c1f6c",
   "metadata": {
    "editable": false,
    "slideshow": {
     "slide_type": ""
    },
    "tags": []
   },
   "source": [
    "<details>\n",
    "  <summary>Click to reveal answer</summary>\n",
    "\n",
    "We are again dealing with a table:\n",
    "\n",
    "| ratID      | unitID | channel | spikeTimes |\n",
    "| ---------- | ------ | ------- | ---------- |\n",
    "| 2023111501 | 0      | 2       | 0.5725     |\n",
    "| 2023111501 | 0      | 2       | 7.7155     |\n",
    "| 2023111501 | 0      | 2       | 8.0256     |\n",
    "| 2023111501 | 0      | 2       | 9.3378     |\n",
    "\n",
    "The first column contains a number identifying the rat, the second the one identifying the unit, the third the channel and the last the spike time.\n",
    "So we are dealing with a table of spikes.\n",
    "Relevant for us are the times when the spikes occurred and the unit they occurred in.\n",
    "\n",
    "We can further guess that the spike times are noted in seconds.\n",
    "A suspicion that would be supported by the fact that they range from 0 to 3400,roughly the size of the plot.\n",
    "If you are ever confronted with ambiguous data like this you should always ask for clarification.\n",
    "In this case the answer would be: \"Yes the spike times are given in seconds.\" \n",
    "\n",
    "</details>"
   ]
  },
  {
   "cell_type": "markdown",
   "id": "bd52ada4-447c-4669-9a74-1fd21135dbee",
   "metadata": {
    "editable": false,
    "slideshow": {
     "slide_type": ""
    },
    "tags": []
   },
   "source": [
    "### Create a detailed plan\n",
    "\n",
    "So now that we looked at our inputs and our goal we can begin creating a plan on how to get there.\n",
    "It is now the time to exercise some abstraction and impose a structure on our solution,\n",
    "so I want you to get together in groups of two or three people and write a simple set of instructions to get to the table we defined as our goal.\n",
    "The goal is to turn them into code later, so you should stay abstract enough in your abstractions.\n",
    "Please remember “Say precisely enough”."
   ]
  },
  {
   "cell_type": "raw",
   "id": "408cda3c-35f3-4990-89a7-e33fbe6716bf",
   "metadata": {
    "editable": true,
    "raw_mimetype": "",
    "slideshow": {
     "slide_type": ""
    },
    "tags": []
   },
   "source": [
    "Your answer goes here."
   ]
  },
  {
   "cell_type": "markdown",
   "id": "68349655-3978-4dc3-991f-d955a4c3cbb6",
   "metadata": {
    "editable": false,
    "slideshow": {
     "slide_type": ""
    },
    "tags": []
   },
   "source": [
    "Once again, there usually is no perfect solution,\n",
    "not only because we are all human and we all make mistakes,\n",
    "but because the way you approach a problem mirrors the way you think.\n",
    "Considering that the code you write is read by other people,\n",
    "just like the plan you just designed together it should not only follow your way of thinking but also theirs.\n",
    "This means that in software there are solutions that are preferred by convention and tradition.\n",
    "They are used, because they always were and are therefore familiar to most users.\n",
    "This does neither mean they are good nor that you have to follow them,\n",
    "just that other people will recognize them and understand them faster.\n",
    "\n",
    "<details>\n",
    "  <summary>Click to reveal suggestion</summary>\n",
    "\n",
    "What we are doing is essentially counting spikes within seconds.\n",
    "Our issue is that all the unit are in the same file,\n",
    "so we have to create more than one column.\n",
    "\n",
    "1. Open the units-file\n",
    "2. Figure out how many units there are\n",
    "3. Figure out when the last spike occurs in seconds\n",
    "4. Create a column with one entry for every second between ```0``` and the last spike occurance.\n",
    "5. Use this column to begin a table\n",
    "6. For every unit:\n",
    "    1. Create a column containing the same amount of entries as the second-column\n",
    "    2. Fill the list with ```0```s\n",
    "    3. For every row in the unit file:\n",
    "        1. Find the second to which the spike belongs\n",
    "        2. Increase the entry in the column corresponding to this second\n",
    "    5. Add the column to the table\n",
    "7. Open the immobility file\n",
    "8. Create a column containing the same amount of entries as the second-column\n",
    "9. For every second in the immobility-list:\n",
    "    1. Mark as \"Yes\" if it is within an immobility phase otherwise mark as \"No\"\n",
    "10. Add the column to the table\n",
    "</details>"
   ]
  },
  {
   "cell_type": "markdown",
   "id": "2b2adc77-6f54-4e67-b997-64ece83b265f",
   "metadata": {
    "editable": false,
    "slideshow": {
     "slide_type": ""
    },
    "tags": []
   },
   "source": [
    "The solution is an algorithm, a set of clear instructions that lead to a defined result.\n",
    "The difference between the algorithms you were taught when you did worked on cell-cultures,\n",
    "or mixed chemicals to prove that something existed within a cell and computer-algorithms is the participation of the executing party.\n",
    "If I tell you to grab a glass of water you and put it on my table you will grab it and out it upside-up with the water on my table,\n",
    "because you inferred what I wanted.\n",
    "To achieve this you used your human experience and your ability to reason about the world to assume:\n",
    "“He wants to drink the water later, so I have to ensure it is not spilled.”\n",
    "Computers can not do this, because they have no human experience and can not reason like you.\n",
    "A **computer is a logical machine**, a predictable system.\n",
    "It has, by design, no ability to act outside the strict parameters it was given. \n",
    "\n",
    "To visualize the difference between the way you reason and a computer does imagine a landscape full of hills and creeks.\n",
    "When you think you wander through this landscape\n",
    "you walk up onto a hill and look around, before you explore a little valley and then you may slowly wander to your final destination.\n",
    "Now imagine a large metal ball roughly 3 meter in size and place it on a slope.\n",
    "What will it do?\n",
    "It will roll down the hill, not sideways not upwards just down until it comes to rest.\n",
    "This is how computers reason.\n",
    "If they begin at a certain point in the landscape they always reach the same final solution the same final state.\n",
    "The commands you will give them decide where the hills and valleys are and the parameters where they start.\n",
    "This is why some people tell you, that instructions for a computer have to be very detailed,\n",
    "or in our analogy that the landscape has to very finely crafted with tiny valleys in the slopes a few centimeters wide.\n",
    "This is not correct.\n",
    "Instructions for computer **do not need to be detailed**, but **you have to know how the logic will flow** or in our mental image how the ball will roll.\n",
    "\n",
    "Neither your program nor your computer will deceive you, purposefully misunderstand your instructions or arbitrarily deviate,\n",
    "only humans have enough freedom in their thinking to do this.\n",
    "You may have the impression that your program or machine learning algorithm do these things,\n",
    "but they just follow their logical path, this means that the burden of fault lies entirely with us,\n",
    "that instruct the machines and in a few rare cases cosmic rays that might flip a bit.\n",
    "For this burden we gain control, it is our choice how the logical-flows of our programs are organized, how they react to their inputs.\n",
    "A small lab-rat may refuse to participate in an experiment or sabotage it, but today even our most powerful computer will do as instructed.\n",
    "\n",
    "After this little side-trip let us return to the algorithm we wrote.\n",
    "The rhetorical question is: Was this algorithm made for a computer?\n",
    "The answer is not really.\n",
    "It is the set of instruction made for us so that we can teach a computer how to do it.\n",
    "\n",
    "The first thing this little lists give us are **smaller problems**.\n",
    "“The man who moves a mountain begins by carrying away small stones.” – Confucius.\n",
    "To solve our **big problem** we need to break it up into smaller problems.\n",
    "Then we look at the smaller one and repeat the process recursively until the solution is either obvious or someone already solved it.\n",
    "Most problems you encounter were already solved, unfortunately you do not know which ones,\n",
    "so choosing which problem to focus on is challenging.\n",
    "Considering I want to teach you something I will focus on the problem that is in my opinion the most educational at the moment."
   ]
  },
  {
   "cell_type": "markdown",
   "id": "809cb42f-575e-4ff1-aea8-50d13380b45f",
   "metadata": {
    "editable": false,
    "slideshow": {
     "slide_type": ""
    },
    "tags": []
   },
   "source": [
    "## How computers work\n",
    "\n",
    "The first problem I would like to discuss is increasing the column entry that counts the spikes.\n",
    "Considering it counts something we call is a counter.\n",
    "Learning how to use a counter teaches a lot about computers.\n",
    "\n",
    "So let us play bad news, good news and terrible news.\n",
    "Bad news: \"This will be rather theoretical and more difficult to understand.\"\n",
    "Good news: \"In almost all cases it does not matter.\"\n",
    "Terrible news: \"When it matters it will cost you between a few hours and a paper.\"\n",
    "So what am I talking about?"
   ]
  },
  {
   "cell_type": "markdown",
   "id": "82db2151-558e-4ba1-8777-3c8eedb9afd0",
   "metadata": {
    "editable": false,
    "slideshow": {
     "slide_type": ""
    },
    "tags": []
   },
   "source": [
    "### Data representation and memory\n",
    "\n",
    "I talk about **data representation** or how computers “remember” things.\n",
    "You may have heard that computers are all “ones and zeros”.\n",
    "This refers to the way **memory** works in a computer.\n",
    "Remember the people that built them are always trying to find the simplest solution.\n",
    "So what is the most basic, simplest thing to remember?\n",
    "The answer they arrived at was truth.\n",
    "So the memory of a computer is based on an element called a **memory-cell** that is either filled or empty, “true” or “false”.\n",
    "Everything else is built from this cells.\n",
    "Your phone number, your program and the pictures on your phone are all saved in such cells.\n",
    "This is kind of a hassle, since it is difficult to figure out what which cell actually means.\n",
    "Therefore there are some **conventions** on **interpreting** them.\n",
    "\n",
    "The probably simplest thing to memorize after a True/False or **boolean** value is a **number**.\n",
    "You all know decimal numbers like “19”, “15” or “9”.\n",
    "If you recall your earlier education you should remember that the value of a number depends on the number and position of characters.\n",
    "So “19” means calculate 1 * 10 + 9 * 1.\n",
    "This becomes relevant because there are simpler system.\n",
    "If you wish to reduce the amount of characters to remember you can drow the \"9\" and read “15” as 1 * 9 + 5 * 1.\n",
    "You can continue this process until you are left with two characters “1” and “0”.\n",
    "In theory you could reduce further but then you no longer have an elegant way to write larger numbers.\n",
    "Since this system has only two characters is called binary.\n",
    "Now if you paid attention the cells have two states, “filled” and “empty” and we have two numbers “1” and “0”, we can therefore use them to write binary numbers like “1001”, which translates to 1 * (2 * 2 * 2) + 0 * (2 * 2) + 0 * (2) + 1 * 1. \n",
    "\n",
    "So a **computer** can saves numbers as **binary numbers** made up of ones and zeros.\n",
    "There is a wrinkle however.\n",
    "Since a computer is a real physical object int can only save a limited number of ones and zeros, so we have to squeeze multiple numbers in the same memory.\n",
    "How do we do this?\n",
    "Simple answer we write them behind each other and remember how long they are.\n",
    "It is convention to define the **length of a memory-cell as a power of 8**.\n",
    "So we have numbers that are 8 cells, 16 cells, 32 cells or 64 cells long. \n",
    "There are also longer numbers but they are uncommon.\n",
    "This way we can only store integers like 1, 2, 3 opposed to floating point numbers like 3.2 or 1.4, which will be discussed later.\n",
    "\n",
    "Choosing 8 as the length of a **memory cell** has a few advatages, like its proximity to 10, the fact that 8 digits in binary correspond to two digits in hexadecimal numbers and that 8 is a power of 2, but these are not relevant now.\n",
    "\n",
    "Considering that this was a lot of rather dense information I would suggest you take a **break** and let the new information settle.\n",
    "Maybe you have same questions that appear later and you would like to have answered.\n",
    "Let us attend to them before we dive deeper into the inner workings of a computer.\n",
    "\n",
    "Now that we learn how data like numbers are stored we should discuss how we operate on them.\n",
    "First we have to find our data-cells.\n",
    "To achieve this we need a easy way to give every cell a number or **enumerate them**.\n",
    "We call this number the **address** of the cell.\n",
    "Because giving every cell a number would give us a lot of numbers for all cells we combine them into addressable units.\n",
    "So if the addressable unit contains 64 memory-cells or **bits** it is a 64-bit architecture.\n",
    "If the unit contains only 32-bits then it is a 32-bit architecture.\n",
    "This is relevant if you need to use code from the last millennium, but for python it does not matter, opposed to the next step.\n",
    "\n",
    "Once we have an address for every cell we can do a little magic.\n",
    "Since every cell can contain a number and an address is a number we can save addresses in cells.\n",
    "The cell containing the address is called a reference or a pointer, because it references or points at another cell.\n",
    "If we store a bunch of numbers behind the referenced memory-cell we can find them all with just one address and a second cell that tells us how many cells there are.\n",
    "However running around with a bunch of numbers is rather cumbersome, so we **give** our single or array of **memory-cells** a **name** like ```spike_counter```.\n",
    "This is called a **variable**. A **variable** is something that stands for something else. In computer-science always something that is saved in a memory-cell."
   ]
  },
  {
   "cell_type": "markdown",
   "id": "6dac281f-67f1-438e-b849-23b970e20e68",
   "metadata": {
    "editable": false,
    "slideshow": {
     "slide_type": ""
    },
    "tags": []
   },
   "source": [
    "### Computation\n",
    "\n",
    "Now we can start doing something with our cell.\n",
    "The first thing to do is probably replacing whatever is in it with something we want, like the number ```0```.\n",
    "So we write ```spike_counter = 0``` and read it as “Take the **memory_cell** called ```spike_counter``` and assign it the value 0.”\n",
    "The later part is meant literally as [pointing and calling](https://en.wikipedia.org/wiki/Pointing_and_calling) helps to actively focus on the process and hopefully improving retention.\n",
    "So please do it in the beginning until your brain does it on its own.\n",
    "\n",
    "As you saw ```=``` is not the mathematical “=” but the so called **assignment-operator**.\n",
    "An **operator** is something that takes one or multiple things and turns them into another.\n",
    "A better example than the **assignment-operator** is the addition operator ```+```, which works as you would expect it from mathematic.\n",
    "If we write ```spike_counter + 1``` we read it as \"be whatever is in the **memory_cell** called ```spike_counter```in addition to ```1```\".\n",
    "If we write ```1 + spike_counter``` we read it as “be ```1``` in addition to whatever is in the **memory_cell** called ```spike_counter```\".\n",
    "\n",
    "You may note that the **addition-operator** does not write anything to a **memory-cell**, it just stores the result temporarily,\n",
    "to  store it we need to use the **assignment-operator** again.\n",
    "So we write ```spike_counter = spike_counter + 1``` and read:\n",
    "\"Take the **memory_cell** called ```spike_counter``` and assign it the value you obtain by taking the **memory_cell** called ```spike_counter``` in addition to ```1```\".\n",
    "Operators get their power because they can be combined into more complex things.\n",
    "We will later encounter more operators like ```-```, ```*``` or ```==```.\n",
    "\n",
    "The last one ```==```is the comparison operator and in is ```true``` if the things on the left and right are equal and ```false``` otherwise.\n",
    "So ```1==2``` would be read “be ```true``` if ```1``` is equal to ```2```, be ```false``` otherwise.\"\n",
    "\n",
    "We will do some reading exercises now.\n",
    "Please partner up and read the following lines to each other.\n",
    "Then write down what you read out in the empty lines below.\n",
    "I advise you to put the finger below the symbol you are reading.\n",
    "It might seem foolish but it should make the task easier and also stress that we read from left to right."
   ]
  },
  {
   "cell_type": "markdown",
   "id": "b692f65a-52b7-4309-8d0d-df1755547328",
   "metadata": {
    "editable": false,
    "slideshow": {
     "slide_type": ""
    },
    "tags": []
   },
   "source": [
    "```a = 5```"
   ]
  },
  {
   "cell_type": "raw",
   "id": "d6144685-0440-438e-9243-a9a83f64d4cd",
   "metadata": {
    "editable": true,
    "raw_mimetype": "",
    "slideshow": {
     "slide_type": ""
    },
    "tags": []
   },
   "source": [
    "Write what you read out"
   ]
  },
  {
   "cell_type": "markdown",
   "id": "82225cff-eb68-451b-840e-7ae6fcb439f4",
   "metadata": {
    "editable": false,
    "slideshow": {
     "slide_type": ""
    },
    "tags": []
   },
   "source": [
    "<details>\n",
    "  <summary>Click to reveal expected answer</summary>\n",
    "\n",
    "Take the **memory_cell** called ```a``` and assign it the value ```5```.\n",
    "\n",
    "</details>"
   ]
  },
  {
   "cell_type": "markdown",
   "id": "46259731-1b54-42e3-9ac8-cafc17a82a81",
   "metadata": {
    "editable": false,
    "slideshow": {
     "slide_type": ""
    },
    "tags": []
   },
   "source": [
    "```a + b```"
   ]
  },
  {
   "cell_type": "raw",
   "id": "37384099-2fc6-422e-aa97-7bac1d1e1d67",
   "metadata": {
    "editable": true,
    "raw_mimetype": "",
    "slideshow": {
     "slide_type": ""
    },
    "tags": []
   },
   "source": [
    "Write what you read out"
   ]
  },
  {
   "cell_type": "markdown",
   "id": "f5529504-ba87-4bc7-b415-8ce30739cfa2",
   "metadata": {
    "editable": false,
    "slideshow": {
     "slide_type": ""
    },
    "tags": []
   },
   "source": [
    "<details>\n",
    "  <summary>Click to reveal expected answer</summary>\n",
    "\n",
    "be whatever is in the **memory_cell** called ```a```in addition to whatever is in the **memory_cell** called ```b```\n",
    "\n",
    "</details>"
   ]
  },
  {
   "cell_type": "markdown",
   "id": "57525c0b-07bc-4d53-b8d5-58a030363e79",
   "metadata": {
    "editable": false,
    "slideshow": {
     "slide_type": ""
    },
    "tags": []
   },
   "source": [
    "```x = (a + b) + c```\n",
    "\n",
    "Here I smuggled in a new pair of symbols ```()```.\n",
    "During your work new concepts will appear all the time and then you have to research them.\n",
    "In this case you may recall from your math education, that whatever is in the brackets gets done first so you have to adapt the reading accordingly."
   ]
  },
  {
   "cell_type": "raw",
   "id": "e7cfae52-bc6a-4400-81c1-e4fdaa4827ff",
   "metadata": {
    "editable": true,
    "raw_mimetype": "",
    "slideshow": {
     "slide_type": ""
    },
    "tags": []
   },
   "source": [
    "Write what you read out"
   ]
  },
  {
   "cell_type": "markdown",
   "id": "a4afe701-46d9-4c68-ac0c-07c74a079871",
   "metadata": {
    "editable": false,
    "slideshow": {
     "slide_type": ""
    },
    "tags": []
   },
   "source": [
    "<details>\n",
    "  <summary>Click to reveal expected answer</summary>\n",
    "    \n",
    "Take the **memory_cell** called ```x``` and assign it the value whatever you get by taking what is in the  **memory_cell** called ```a``` in addition to whatever is in the **memory_cell** called ```b``` before adding whatever is in the **memory_cell** called ```c```\n",
    "\n",
    "</details>"
   ]
  },
  {
   "cell_type": "markdown",
   "id": "1cfd22a6-6ef8-4468-a402-c8a5f5488f7b",
   "metadata": {
    "editable": false,
    "slideshow": {
     "slide_type": ""
    },
    "tags": []
   },
   "source": [
    "Now after we have some practice let us return to our counter.\n",
    "Remember we wanted to increase it and wrote ```spike_counter = spike_counter + 1```.\n",
    "Now this is a little verbose so let us just write ```spike_counter += 1```, which means the same thing but is written differently.\n",
    "Saving us a little thought and time.\n",
    "\n",
    "Now let us experience emergent behavior by combining what we already learned about memory cells.\n",
    "Let us assume we use 8-bits to represent our cell-counter and add ```1```to it.\n",
    "Let us consider a few cases.\n",
    "\n",
    "1. The ```spike_counter```value is ```0```.\n",
    "2. The ```spike_counter```value is ```52```.\n",
    "3. The ```spike_counter```value is ```255```.\n",
    "\n",
    "The computer does addition quite like you. So if a computer adds adds ```1``` to ```5``` you can emulate the process by writing them below each other and use [carry-arithmetic](https://en.wikipedia.org/wiki/Carry_(arithmetic)),\n",
    "as shown in the example below.\n",
    "Remember that binary only has 0 and 1.\n",
    "So if you add 1 to 1 your result is 0 and you carry 1.\n",
    "\n",
    "| Bit-value  | 128 | 64 | 32 | 16 | 8 | 4 | 2 | 1 |\n",
    "| ---------- | --- | -- | -- | -- | - | - | - | - |\n",
    "| ```1```    | 0   | 0  | 0  | 0  | 0 | 0 | 0 | 1 | \n",
    "| ```5```    | 0   | 0  | 0  | 0  | 0 | 1 | 0 | 1 | \n",
    "| Carry over | 0   | 0  | 0  | 0  | 0 | 0 | 0 | 1 | \n",
    "| Result     | 0   | 0  | 0  | 0  | 0 | 1 | 1 | 0 | \n",
    "\n",
    "As you can see the result is ```00000110```or in other words 128*0 + 64 * 0 + 32 * 0 + 8 * 0 + 4 * 1 + 2 * 1 + 1 * 0 = 4 + 2 = 6. \n",
    "\n",
    "Please repeat the above process for the cases 1 - 3 in the cell below."
   ]
  },
  {
   "cell_type": "raw",
   "id": "9b37af7f-ba61-4c02-8e3e-279fec8ae6ee",
   "metadata": {
    "editable": true,
    "raw_mimetype": "",
    "slideshow": {
     "slide_type": ""
    },
    "tags": []
   },
   "source": [
    "Write the expected results in binary for the 3 cases"
   ]
  },
  {
   "cell_type": "markdown",
   "id": "99392141-8951-4221-905e-818e3743c50c",
   "metadata": {
    "editable": false,
    "slideshow": {
     "slide_type": ""
    },
    "tags": []
   },
   "source": [
    "<details>\n",
    "  <summary>Click to reveal expected answer</summary>\n",
    "    \n",
    "1. 0 corresponds to ```00000000``` so the result of the addition should be ```00000001``` or 1. \n",
    "2.  52 corresponds to ```00110100``` so the result of the addition should be ```00110101``` or 53.\n",
    "3. 255 corresponds to ```11111111```so the result of the addition should be ```100000000```or 256. This is an issue, since the cell is only 8-bits wide but we would need 9-bits to represent it.\n",
    "\n",
    "</details>"
   ]
  },
  {
   "cell_type": "markdown",
   "id": "45ff40a1-459d-4f56-87f2-7f61282c114d",
   "metadata": {
    "editable": false,
    "slideshow": {
     "slide_type": ""
    },
    "tags": []
   },
   "source": [
    "Now what happens if we add up so many numbers, that we can no longer fit them into our memory-cells?\n",
    "Well the computer simply does as it is told and adds is up anyways before it saves, so it writes down the 8-bits if found.\n",
    "So 255(```11111111```) + 1(```00000001```) suddenly becomes 0 (```00000000```).\n",
    "This is an error called an overflow.\n",
    "It is typical for something that is not obvious when you write a program, does not cause your program to crash and runs the data you process with it.\n",
    "To avoid it you have to ensure there is always enough space in your memory-cells.\n",
    "This is not a problem for normal python but in practice you will use a lot of code other people wrote, where it is relevant.\n",
    "\"numpy\" is a good example for this kind of code that may suffer from overflows.\n",
    "Overflow-errors are one of the things you do not have to worry about until they appear in front of you and wreck your results.\n",
    "There will be more and there is no complete list, but rest assured you are not the first person to encounter them and there are solutions for whatever problem you may face."
   ]
  },
  {
   "cell_type": "markdown",
   "id": "2b6f0b9f-326c-4506-8d29-e6a7baa7113c",
   "metadata": {
    "editable": false,
    "slideshow": {
     "slide_type": ""
    },
    "tags": []
   },
   "source": [
    "### Instructions\n",
    "\n",
    "Now we know how data is stored and manipulated, but we did not yet talk about how a **computer knows what to do**, or how our algorithm is existing in the computer.\n",
    "As you can imagine it is connected to the **operators** we discussed earlier.\n",
    "\n",
    "If you look at the algorithm we wrote before you may realize that is written line by line.\n",
    "This is a very simple and straightforward concept, so we may as well adopt it for storing the algorithm.\n",
    "So we create a **list** or **array** of **instructions** and follow them from top to bottom.\n",
    "\n",
    "This raises two questions **how** do we store instructions and **what** instructions do we store.\n",
    "Remember, the people that created this wanted few simple parts to build this language.\n",
    "So they decided to store the **instructions** as numbers in **memory-cells**,\n",
    "then they used one specific **memory-cell** to remember where in the list they were.\n",
    "This one is called the *program counter* or *instruction pointer*.\n",
    "\n",
    "Regarding what **instructions** to store they chose the smallest possible one.\n",
    "The resulting **instruction**-set is called [assembly](https://en.wikibooks.org/wiki/X86_Assembly/GNU_assembly_syntax).\n",
    "We are not looking at it, because you will use it, but because it helps us to understand some concepts better,\n",
    "so instead of the real commands we will use a few **operators**.\n",
    "The first concept we gonna explore is the **atomic** **instruction**.\n",
    "**Atomic** means no longer divisible, so an **atomic instruction** or **atomic operation** is one that can not be split into smaller **instructions**.\n",
    "You can begin a long philosophical debate about which **instructions** should be **atomic** and which ones should not be, but this is pointless,\n",
    "because an **atomic instruction** is whatever the computer-chip-manufacturer built as an **atomic instruction** or your programming language defines as **atomic**. \n",
    "\n",
    "To solve the next exercises we will define a few **atomic instructions** in the form of **operators**.\n",
    "The new operator is the *goto*-operator.\n",
    "While it still exists in older programming languages like C++ it is already extinct in newer ones like python.\n",
    "Since I sincerely hope you will never have to use it outside of the following exercise,\n",
    "teaching you how computers deal with complex programs,\n",
    "we will simplify it as a “goto line” setting the program counter to a specific line. \n",
    "\n",
    "As you might have guessed the exercise includes going to different lines in a small code.\n",
    "If we do this always it is quite pointless, so we need a way to **control** how we move through the code.\n",
    "First something needs to be decided, so we introduce the ```<``` or  “lesser than”-operator.\n",
    "It is ```True```if whatever is on the left is smaller than the whatever is on the right.\n",
    "So ```4 < 5```is ```True``` and ```6<6```is ```False```. Next we are introducing a **keyword** that executes **instructions** if it is ```True```.  Then we combine them into an **operator** we call ```if_less```\n",
    "that executes the next line if whatever is first on its right is smaller than the second on the right. \n",
    "\n",
    "To better illustrate look at the next example:\n",
    "\n",
    "```\n",
    "spike_counter = 0\n",
    "if_less spike_counter, 2\n",
    "  spike_counter += 1 \n",
    "if_less cell_counter, 1\n",
    "  spike_counter += 1 \n",
    "```\n",
    "\n",
    "So line by line:\n",
    "1. “A memory cell called ```spike_counter``` is set to the value ```0```”\n",
    "2. “Since the current value of ```spike_counter``` (```0```) is less than ```2```, execute  the next line”\n",
    "3. “Add to the memory-cell called ```spike_counter```the value ```1```\n",
    "4. . “Since the current value of ```spike_counter``` (```1```) is not less than ```1```, do not execute  the next line”\n",
    "5. Is not executed.\n",
    "\n",
    "This after the last step ```spike_counter``` has a value of ```1```.\n",
    "Now let us take a look at the curated list you may need to solve the excersise.\n",
    "\n",
    "Now let us summarize the **operators** this excersice is going to use:\n",
    "\n",
    "| Operator      | Example                  | Description                                                                        |\n",
    "| ------------- |  ----------------------- | ---------------------------------------------------------------------------------- |\n",
    "| ```+=```      | ```spike_counter += 1``` | increase the variable on the left by the value on the right                        |\n",
    "| ```-=```      | ```spike_counter -= 1``` | decreases the variable on the left by the value on the right                       |\n",
    "| ```if_less``` | ```if_less 4 < 5```      | executes the line below if the first value on the right is smaller than the second | \n",
    "| ```goto```    | ```goto 4```             | sets the *instruction-pointer* to the value on the right and continues from there  |\n",
    "\n",
    "Now I will provide an example that reduces ```spike_counter```until it is ```10```.\n",
    "\n",
    "```\n",
    "if_less 10, spike_counter\n",
    "    spike_counter -= 1\n",
    "if_less 10, spike_counter\n",
    "    goto 0\n",
    "```\n",
    "\n",
    "So if ```10``` is smaller than ```spike_counter``` we reduce it by ```1```. If ```10``` is still smaller than ```spike_counter```,\n",
    "we start again from the beginning.\n",
    "So we **loop** around. \n",
    "\n",
    "Now it is your turn, form groups of two or three and write some \"pseudo-assembly-code\", that\n",
    "sets the ```spike_counter```to ```0```and increases it in a **loop** until it reaches ```50```."
   ]
  },
  {
   "cell_type": "raw",
   "id": "1cdebdbd-710d-4418-8c6a-54a00316a1f2",
   "metadata": {
    "editable": true,
    "raw_mimetype": "",
    "slideshow": {
     "slide_type": ""
    },
    "tags": []
   },
   "source": [
    "Your \"Pseudo-assembly-code\" goes here."
   ]
  },
  {
   "cell_type": "markdown",
   "id": "8486bc99-4b48-497d-816a-a9340ca5ac90",
   "metadata": {
    "editable": false,
    "slideshow": {
     "slide_type": ""
    },
    "tags": []
   },
   "source": [
    "<details>\n",
    "  <summary>Click to reveal expected answer</summary>\n",
    "    \n",
    "    There is more than one code that is correct as usual.\n",
    "    Here is my suggestion:\n",
    "\n",
    "\n",
    "```\n",
    "spike_counter = 0\n",
    "if_less spike_counter, 50\n",
    "    spike_counter += 1\n",
    "if_less spike_counter, 50\n",
    "    goto 1\n",
    "```\n",
    "    \n",
    "</details>"
   ]
  },
  {
   "cell_type": "markdown",
   "id": "f92b9e8d-33c6-468d-9c79-5a5a5d7eb9cd",
   "metadata": {
    "editable": false,
    "slideshow": {
     "slide_type": ""
    },
    "tags": []
   },
   "source": [
    "Good, after this you know more about assembly than most programmers.\n",
    "So why did I pull you through this side-quest?\n",
    "First of all a  lot of people struggle with *multi-threading*, because they do not grasp the concept of **atomic instructions**, you now know what to google.\n",
    "Second you will encounter **functions** while you program and the concept of the *instruction-pointer* helps with understanding some of the more arcane ways to use them.\n",
    "Third you may read about **instruction**-pipelines being a bottleneck in modern central-processing-units.\n",
    "\n",
    "Let us begin with the latter word-salad first.\n",
    "As you have learned all this instructions are just numbers in **memory-cells**, which tell a chip what to do. The challenge comes once you realize just how many numbers there are and how long it takes to move the content form a **memory-cell** on your hard-drive or in your *random-access-memory* to your chip.\n",
    "If you are interested feel free to read about [memory-latency](https://en.wikipedia.org/wiki/Memory_latency), but I advise you not to bother that much.\n",
    "Short summary: “You can not have all the instructions on the chip and you do not want to fetch a new one every time, so you order a package.”\n",
    "This package then goes into an **instruction** -pipeline, but if there are a lot of ```if``` or ```goto```like **instructions** in it most of the stuff in the pipeline is useless and the central-processing-unit has to wait for new **instructions** thereby loosing time.\n",
    "\n",
    "Now to the major point **functions**. To recall: “Our **instructions** are written in a list.\n",
    "We execute the **instruction** referred to by the *instruction-pointer*.\n",
    "We have an **instruction** to move the *instruction-pointer* to an arbitrary point in the list.”\n",
    "So what you may not see yet is that we can use ```goto```to move freely through the code and thereby reuse it.\n",
    "Just like with a “chose-your-own-adventure”-book we can separate our program into chapters, where every chapter is responsible for something we want to do and then just select the chapters.\n",
    "This is essentially the purpose of **functions**.\n",
    "\n",
    "This does not really justify the cost of learning this until you realize you can write ```goto a```, setting the *instruction-pointer* to ```a```.\n",
    "This means your code can decide which **function** to run based on the value of a **variable** or to say it with other words a **variable** can be a **function**.\n",
    "This may seem minor at the moment but it is a powerful concept used in more advanced programs.\n",
    "\n",
    "So what should you remember from this little excursion:\n",
    "- There are **atomic operations** from which everything else is built\n",
    "- There are methods to control what is executed like ```if```\n",
    "- There are **functions**, that contain code that can be reused\n",
    "- **Variables** can contain **functions** as values"
   ]
  },
  {
   "cell_type": "markdown",
   "id": "b006ebd1-e982-45aa-8dbd-c293713d8d6d",
   "metadata": {
    "editable": false,
    "slideshow": {
     "slide_type": ""
    },
    "tags": []
   },
   "source": [
    "### Abstraction and interpreter\n",
    "\n",
    "Now we have discussed in great detail how we increase the ```spike_counter```,\n",
    "so we can count the cells Bob recorded and Alice detected and it seemed very complicated.\n",
    "This is where we return to **abstraction**.\n",
    "You may have already noticed that some **operators** could be expressed using different operators.\n",
    "For example ``` a += 1 ``` can be written as ```a = a + 1```. \n",
    "This is what happens on a small scale, but a lot of work in computer science is dedicated to the task of making this simpler.\n",
    "Python is a results of this work.\n",
    "\n",
    "For example we wanted to **loop* over a **variable** and increase it, while it was smaller than a value. For our “pseudo-assembly” this looked like :\n",
    "\n",
    "```\n",
    "spike_counter = 0\n",
    "if_less spike_counter, 50\n",
    "    spike_counter += 1\n",
    "if_less spike_counter, 50\n",
    "    goto 1\n",
    "```\n",
    "\n",
    "In Pyhton we combined the ```goto``` and the ```ìf``` into  a single statement ```while```.\n",
    "So we write:\n",
    "\n",
    "```python\n",
    "spike_counter = 0\n",
    "while spike_counter < 50:\n",
    "\tspike_counter += 1\n",
    "```\n",
    "\n",
    "To actually show something we use a **function** ```print```. So the final code should look like this:\n",
    "\n",
    "```python\n",
    "spike_counter = 0\n",
    "while spike_counter < 50:\n",
    "\tspike_counter += 1\n",
    "print(spike_counter)\n",
    "```\n",
    "\n",
    "Please enter this in the cell below and execute it by pressing the ```Shift```and ```Return``` keys at the same time."
   ]
  },
  {
   "cell_type": "code",
   "execution_count": null,
   "id": "4f089ad4-e86e-4337-ad7a-3e13e159d565",
   "metadata": {
    "editable": true,
    "slideshow": {
     "slide_type": ""
    },
    "tags": []
   },
   "outputs": [],
   "source": [
    "# Your code goes here"
   ]
  },
  {
   "cell_type": "markdown",
   "id": "b8fd8ede-ce97-4fd3-bb4b-8dfdead377fc",
   "metadata": {
    "editable": false,
    "slideshow": {
     "slide_type": ""
    },
    "tags": []
   },
   "source": [
    "Now some magic happened.\n",
    "Not only did it display the final value of ```50``` it also increased the number in the square brackets to the left of the cell,\n",
    "that tracks the execution order, but lets focus more on the magic.\n",
    "Jupyter took the text you wrote into this cell and sent it to the Python-**interpreter**, which **executed** instructing Jupyter to print “50”.\n",
    "But what does all this mean?\n",
    "\n",
    "Well you already know what text is so lets start at Jupyter.\n",
    "Jupyter is the software that send what you are currently reading to your browser.\n",
    "It consists of some part that displays things and another part that **interprets** Python the Python-**interpreter**.\n",
    "Now what is an interpreter and what does it do?\n",
    "Let us use a different word for **interpreter**, translator.\n",
    "The Python-**interpreter** translates your text into **instructions** or numbers that can be sent to the central-processing-unit were they are executed.\n",
    "Its job is to turn text to **instructions**.\n",
    "\n",
    "Part of the interpretation is  finding incorrect **syntax**.\n",
    "This means it finds instructions that can not be translated.\n",
    "If you write ```spikeCounter```instead of ```spike_counter``` in the code above at one place you will get a **Syntax-error**,\n",
    "telling you either ```spike_counter``` or ```spikeCounter``` are \"not defined\".\n",
    "What the **interpreter** tells us here is that he does not know what you are talking about when you say ```spikeCounter```. \n",
    "\n",
    "As a human we can easily deduce that ```spikeCounter``` is a misspelling of ```spike_counter``` and so we may not even notice it.\n",
    "But for the **interpreter** these are totally different things not related to each other.\n",
    "This is why programming can be quite frustrating.\n",
    "The computer does not think like you do.\n",
    "It is just a dumb rock rolling down a logical path and if you mistype it will be the wrong path.\n",
    "\n",
    "So far so good.\n",
    "The Python-**interpreter** interprets my text according to some rules so the chip can execute it, but how was it programmed?\n",
    "Not the question you were asking maybe but a very relevant one.\n",
    "So the **interpreter** translates and sends every instruction as it comes.\n",
    "This means it keeps reading the text, there is an alternative however.\n",
    "Instead of keeping the text you could translate all and store it as numbers or in *binary-form*,\n",
    "the programs that do this are called *compilers*.\n",
    "While you can interpret or compile any programming language some are built to be **interpreted** and some are built to be **compiled**,\n",
    "both has advantages and disadvantages.\n",
    "\n",
    "Typically **interpreted** programming languages like Python are used for high-level tasks because they are easier to adapt,\n",
    "while **compiled** programming languages are used for lower-level tasks like processing-images on the byte level.\n",
    "Most often they are combined however.\n",
    "\"Numpy\" for example is used in Python for fast calculations but is written in a **compiled** programming language.\n",
    "The reason for this difference is the time both **interpreter** and **compiler** get to process your text.\n",
    "The **interpreter** has to send **instructions** now so the central-processing-unit does not idle and should not waste the central-processing-units time by processing your text.\n",
    "For the **compiler** it is the other way round, it has all the time in the world to process your text and find a faster way to run it later.\n",
    "This means **compilers** often have special options to create faster programs.\n",
    "**Interpreters** do something similar, were they attempt to optimize during runtime,\n",
    "but a program will usually be slower if it is executed in a **interpreter** than in a **compiler**,\n",
    "assuming it was reasonable optimized to run on both. \n",
    "\n",
    "So what you want is to use an **interpreted** programming language like Python to evaluate your experiments and make your plots,\n",
    "while a specialists develops optimized code to handle the more general tasks.\n",
    "To achieve this you have to use their work, which in Python is delivered to you in modules, but more about those in a few days."
   ]
  },
  {
   "cell_type": "markdown",
   "id": "dbe0a02e-ac16-4a9c-a540-4f4e51b69cc4",
   "metadata": {
    "editable": false,
    "slideshow": {
     "slide_type": ""
    },
    "tags": []
   },
   "source": [
    "### Data and file-system\n",
    "\n",
    "So now you have an idea how computers process data and how you can coerce them to solve your problems.\n",
    "What we touched on was how they store data.\n",
    "The machines we use today are mostly [Von Neumann architectures](https://en.wikipedia.org/wiki/Von_Neumann_architecture).\n",
    "This does not only mean that things are strictly separated, but that all data is stored in a “memory-unit”.\n",
    "This data includes the data we work on, it this case the comma-separated-value files but also the programs we run,\n",
    "in this case the jupyter-notebooks (ipynb-files). "
   ]
  },
  {
   "cell_type": "markdown",
   "id": "363b4e6b-a5f7-4c12-adba-1337dcf08c70",
   "metadata": {
    "editable": false,
    "slideshow": {
     "slide_type": ""
    },
    "tags": []
   },
   "source": [
    "#### Random access memory\n",
    "\n",
    "Since you are biologists you already know reality is never as simple as the model.\n",
    "Here your attention to details may help you remember somethings that programmers often forget.\n",
    "Unfortunately it will not matter that much for most of your problems.\n",
    "As mentioned in the instruction-section the central-processing-unit that does all our calculation has a rather small memory.\n",
    "Imagine it like a clipboard were you only carry what you really need, while the majority of the data lies in a library.\n",
    "Do not think central university library here, but rather a small room filled with folders and books.\n",
    "This is the random access-memory or **RAM** if you need something you stand up go there and put it on your clipboard. \n",
    "\n",
    "If you were ever forced to work with paper you know that one never takes only one paper,\n",
    "usually a folder or book is taken and placed on the desk and then put on the clip-board.\n",
    "For computer this area of information storage would be the **cache**.\n",
    "**Caches** are adjacent to the processors of the central- or graphical-processing-unit and keep the data that was used last.\n",
    "Due some technical reasons they can only copy a **page** at a time.\n",
    "A memory-**page** is simply a part of the **RAM**.  Imagine it like having a huge Newspaper size printout of a book. Now only one print-out fits on the desk at any-time, if you need a new one you have to get it. \n",
    "\n",
    "Why do I mention **caches** at all? If you ever stumble about terms like *cache-coherence*, *cache-collision* or * cache-miss* you know have a rough idea what is happening.\n",
    "Also if you ever have to work with a lot of data you want to process fast,\n",
    "you may remember that you should try to keep all the data used in your calculation close to each other,\n",
    "to fasten things up.\n",
    "Do not overthink this however, because there are usually easier ways to make code run faster than to reorder your data. \n",
    "\n",
    "Back to out library image, so if the **RAM** is a small library what is the big library you have to take the bus to get to?\n",
    "It is usually the hard- or some external drive.\n",
    "It is very difficult to get data from there but it is large.\n",
    "Now some interesting quirk.\n",
    "Except the drives everything else gets wiped once the computer shuts down,\n",
    "just imagine flushing the entire building down the toilet and only leaving the university-library standing.\n",
    "In other words the drive is **permanent** storage and the rest is **non-permanent** storage."
   ]
  },
  {
   "cell_type": "markdown",
   "id": "e9798623-656b-42d9-b7ef-9849be159dac",
   "metadata": {
    "editable": false,
    "slideshow": {
     "slide_type": ""
    },
    "tags": []
   },
   "source": [
    "#### File-system\n",
    "\n",
    "Now since we just learned that only the drive survives the computer shutdown, \n",
    "it becomes clear why people do not bother to much with organizing anything else.\n",
    "On the drives however we want to organize things, therefore we need a system a **file-system**.\n",
    "\n",
    "The duty of a **file-system** is to know where on a drive data in the form of **files** is stored and who is permitted to see or change them.\n",
    "This leads us to two essential concepts **folders** and **users**.\n",
    "A **folder** is something you put stuff in like a container.\n",
    "You can put everything into a **folder** especially other **folders**.\n",
    "This idea is quite universal and once you stop thinking of **folder**-icons on a desktop you will discover,\n",
    "that this concept reappears everywhere in computer science.\n",
    "Stuff that contains itself is a fundamental organizational structure which you will use later in this course in the form of ```list``` or ```dict```.\n",
    "\n",
    "Now we discussed **folders** they make it easier to find stuff by limiting the what you or your program can see inside of them,\n",
    "to ensure you do not see what you are not supposed to see, like password-hashes or personal information we use **users**.\n",
    "A **user** is essentially like a key for a lock.\n",
    "Once you have entered you password and authenticated yourself you are handed the keys of that **user**.\n",
    "So you can log in as “YourName”, but also as “GenericPrinterUser”.\n",
    "The first one can access your personal files the second one can use the printer. \n",
    "\n",
    "To ensure **users** have only access to the things they are supposed to use we use permissions and ownership.\n",
    "So the research-data may be owned by “YourPostDoc”, but you have permission to **read** them.\n",
    "This becomes relevant if you attempt to **write** into them,\n",
    "because then the operating-system will ask the **file-system** if you have **permission** and then politely tell you that you can not do that,\n",
    "so you stand in front of a locked door.\n",
    "Also known as “Help, my program does not write any output into the folder,\n",
    "but it does in another.” Please remember this it will save you a day and potentially a rather embarrassing moment in your future.\n",
    "\n",
    "Good so now we know there are **users** and **permissions**,\n",
    "but that all sounds rather difficult and people do not want to use a password every-time they want to use the printer,\n",
    "instead we use user-groups.\n",
    "User-groups are simply lists with users in them and all the users get the permission the group has.\n",
    "This is cumulative so if you in the “writeData”-group and in the “readData”-group you can both read and write.\n",
    "So know you know what IT is on about, when they talk about **permissions** and **users**."
   ]
  },
  {
   "cell_type": "markdown",
   "id": "2eb2257b-9d5d-4605-9c74-ed08e1b2fd5c",
   "metadata": {
    "editable": false,
    "slideshow": {
     "slide_type": ""
    },
    "tags": []
   },
   "source": [
    "This concludes today’s lesson.\n",
    "Tomorrow we will begin a more hands-on lesson about Python itself.\n",
    "Some of you may have hoped that things become clearer, while the course advances, I have to warn you things build upon each other.\n",
    "If you have doubts about core-concepts and you should have after you were just forced through half a semester computer-science in a few hours please try to resolve them now. \n",
    "\n",
    "**The rest of the time is dedicated to questions and I advise you to ask as many as possible now, so you do struggle less tomorrow.**"
   ]
  }
 ],
 "metadata": {
  "kernelspec": {
   "display_name": "Python 3 (ipykernel)",
   "language": "python",
   "name": "python3"
  },
  "language_info": {
   "codemirror_mode": {
    "name": "ipython",
    "version": 3
   },
   "file_extension": ".py",
   "mimetype": "text/x-python",
   "name": "python",
   "nbconvert_exporter": "python",
   "pygments_lexer": "ipython3",
   "version": "3.12.7"
  }
 },
 "nbformat": 4,
 "nbformat_minor": 5
}
