{
 "cells": [
  {
   "cell_type": "markdown",
   "id": "7f24a2fd-7a01-4f13-be55-da271014f466",
   "metadata": {
    "editable": false,
    "slideshow": {
     "slide_type": ""
    },
    "tags": []
   },
   "source": [
    "# External modules\n",
    "\n",
    "Last unit we visualized Bobs data. Now we have to analyze them a little bit, afterwards we will talk about simulation, before we work with real data.\n",
    "\n",
    "So let us first take a look at the data again:"
   ]
  },
  {
   "cell_type": "code",
   "execution_count": null,
   "id": "ab158d95-6ced-4ff2-977a-5c716eb0c505",
   "metadata": {
    "editable": true,
    "slideshow": {
     "slide_type": ""
    },
    "tags": []
   },
   "outputs": [],
   "source": [
    "import csv\n",
    "import pathlib\n",
    "import matplotlib.pyplot\n",
    "\n",
    "def process_csv(csv_file, dishes):\n",
    "    with open(csv_file, \"r\") as csv_file_handle:\n",
    "        _, day, _ , dish_number = str(csv_file.stem).split(\"_\")\n",
    "        day = int(day)\n",
    "        dish_number = int(dish_number)\n",
    "        cell_counter = 0\n",
    "        cell_area_counter = 0\n",
    "        reader = csv.DictReader(csv_file_handle)\n",
    "        for row in reader:\n",
    "            cell_counter += 1\n",
    "            cell_area_counter += int(row[\" Cell Area\"])\n",
    "        if dish_number not in dishes.keys():\n",
    "            dishes[dish_number] = {}\n",
    "        dishes[dish_number][day] = {\n",
    "            \"cell_count\": cell_counter,\n",
    "            \"area\": cell_area_counter\n",
    "        } \n",
    "    return\n",
    "\n",
    "csv_files = list()\n",
    "data_folder = pathlib.Path(\"./data\")\n",
    "for csv_file in data_folder.iterdir():\n",
    "    if \"dish_1\" in csv_file.stem:\n",
    "        csv_files.append(csv_file)\n",
    "\n",
    "\n",
    "dishes = {}\n",
    "for csv_file in csv_files:\n",
    "    process_csv(csv_file, dishes)\n",
    "\n",
    "area = []\n",
    "count = []\n",
    "cells = {\"area\": area, \"count\": count}\n",
    "# We know that the dishes are numbered so we iterate over them\n",
    "for dish_number in range(1, len(dishes) + 1, 1):\n",
    "    dish = dishes[dish_number]\n",
    "    dish_area = []\n",
    "    dish_count = []\n",
    "    # We know that the days in the dishes are numbered\n",
    "    for day_number in range(1, len(dish) + 1, 1):\n",
    "        value_pair = dish[day_number]\n",
    "        day_area = value_pair[\"area\"]\n",
    "        day_count = value_pair[\"cell_count\"]\n",
    "        dish_area.append(day_area)\n",
    "        dish_count.append(day_count)\n",
    "    area.append(dish_area)\n",
    "    count.append(dish_count)\n",
    "\n",
    "figure, axes = matplotlib.pyplot.subplots(2,1)\n",
    "days = [day for day in range(0, len(cells[\"count\"][0]), 1)]\n",
    "for dish in range(0, len(cells[\"count\"])):  \n",
    "    axes[0].plot(days, cells[\"count\"][dish], label=f\"Dish {dish}\")\n",
    "    axes[1].plot(days, cells[\"area\"][dish], label=f\"Dish {dish}\")\n",
    "figure.suptitle(\"Cell growth\")\n",
    "axes[0].set_title(\"Cell count\")\n",
    "axes[0].set_xlabel(\"Days\")\n",
    "axes[0].set_ylabel(\"Number of cells\")\n",
    "axes[1].set_title(\"Cell area\")\n",
    "axes[1].set_xlabel(\"Days\")\n",
    "axes[1].set_ylabel(\"Area covered by cells\")\n",
    "axes[0].legend()\n",
    "axes[1].legend()\n",
    "matplotlib.pyplot.show()"
   ]
  },
  {
   "cell_type": "markdown",
   "id": "538f4088-2b6f-4c86-a11e-f80d597b60f2",
   "metadata": {
    "editable": true,
    "slideshow": {
     "slide_type": ""
    },
    "tags": []
   },
   "source": [
    "## Histogram\n",
    "Todo"
   ]
  },
  {
   "cell_type": "markdown",
   "id": "21f2ad3a-5a62-4407-978c-bd19e0bdcd09",
   "metadata": {
    "editable": false,
    "slideshow": {
     "slide_type": ""
    },
    "tags": []
   },
   "source": [
    "## Simulation\n",
    "\n",
    "As you know, Alice and Bob are not real and neither are their data, so how did I generate the csv-files.  The answer to this is simulation. Especially in Physics simulations are often used tool to answer questions that cannot be answered with simple experiments. If we want to know how galaxies form we can neither make one in our own backyard nor can we observe it in our lifetimes, so we build a mathematical model in a computer and investigate it.\n",
    "\n",
    "In biology, computer simulations are more difficult to perform, because we lack a sufficiently advanced mathematical understanding of the problems we investigate. Expressed in a simpler way “it is easier to calculate how two galaxies collide, than how two cell interacts with each other. You can see this on the way I simulated our cells.\n",
    "\n",
    "I first created a big empty dish. Then I placed a cell in it and let its nucleus grow while growing a cell body around it. Whenever the nucleus split by accident, I considered this a normal cell division. If a cell lost most of its body or was too small, I considered it dead. If you find this simplification revolting, you have already understood why biology is not easy to simulate. There are a lot more nuances and rules to consider than in Physics.\n",
    "\n",
    "I mention that simulations exist, because I believe that during your career you will may encounter questions that can be answered by writing a short program and running it instead of using a plant or animal and that the use of simulation will slowly proliferate within biology. For the latter case always remember that a simulation is a simplified mathematical model and therefore flawed, so if you use it always ask which corners were cut and how this will influence your research.\n",
    "\n",
    "The code I used to create the csv-files can be found in ```cell_simulation.py```. "
   ]
  },
  {
   "cell_type": "markdown",
   "id": "d2816dec-7bfb-4108-90df-468795f82c5a",
   "metadata": {
    "editable": true,
    "slideshow": {
     "slide_type": ""
    },
    "tags": []
   },
   "source": [
    "## Real data\n",
    "\n",
    "Todo"
   ]
  },
  {
   "cell_type": "markdown",
   "id": "b15d8b67-1f89-428d-b98b-4d89ac949383",
   "metadata": {
    "editable": true,
    "slideshow": {
     "slide_type": ""
    },
    "tags": []
   },
   "source": [
    "# ToDo\n",
    "\n",
    "- Introduce to histograms\n",
    "- Introduce to pandas\n",
    "- Add neural data"
   ]
  }
 ],
 "metadata": {
  "kernelspec": {
   "display_name": "Python 3 (ipykernel)",
   "language": "python",
   "name": "python3"
  },
  "language_info": {
   "codemirror_mode": {
    "name": "ipython",
    "version": 3
   },
   "file_extension": ".py",
   "mimetype": "text/x-python",
   "name": "python",
   "nbconvert_exporter": "python",
   "pygments_lexer": "ipython3",
   "version": "3.12.7"
  }
 },
 "nbformat": 4,
 "nbformat_minor": 5
}
