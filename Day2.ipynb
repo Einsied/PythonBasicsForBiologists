{
 "cells": [
  {
   "cell_type": "markdown",
   "id": "a47b5725-be0d-45d5-8e31-cc63ea199f25",
   "metadata": {
    "editable": false,
    "slideshow": {
     "slide_type": ""
    },
    "tags": []
   },
   "source": [
    "# Day 2"
   ]
  },
  {
   "cell_type": "markdown",
   "id": "6b8f1f56-98ab-4ca7-8c04-5d240c24d7d0",
   "metadata": {
    "editable": false,
    "slideshow": {
     "slide_type": ""
    },
    "tags": []
   },
   "source": [
    "## Recall\n",
    "\n",
    "Yesterday we discussed programming and computers in general. We used the example of Alice and Bob. To recall Bob was researching the growth of cancer-cells and alike counted them from him. She sent the results in comma-separated-value files.\n",
    "\n",
    "While were exploring the example we develop a simple algorithm:\n",
    "\n",
    "```\n",
    "For every file we do the following:\n",
    "    1. We open the file \n",
    "    2. We figure out what day and dish it is \n",
    "    3. We create a counter for the number of cells \n",
    "    4. We create a counter for the area covered by the cells \n",
    "    5. We ignore the first line \n",
    "    6. For every line we do the following:\n",
    "        1. We increase the cell counter \n",
    "        2. We add the cell area to the cell-area counter \n",
    "    7. We save the cell-counter \n",
    "    8. We save the area counter\n",
    "```\n",
    "\n",
    "With this example in mind we learned that computers use **memory-cells** to store data and that we refer to these one or multiple of these cells with **variables**. We also learned that we change what is in this cells with **operators**, before approaching **functions** and executing our first line of python. \n",
    "To warm up I would ask you to copy the following lines of code into the cell below and execute them using the “Shift” and “Return” keys.\n",
    "```Python\n",
    "cell_counter = 0\n",
    "print(cell_counter)\n",
    "cell_counter += 1\n",
    "print(cell_counter)\n",
    "```"
   ]
  },
  {
   "cell_type": "code",
   "execution_count": null,
   "id": "80f6191b-ad91-45ff-a3f0-9000994d6d97",
   "metadata": {
    "editable": true,
    "slideshow": {
     "slide_type": ""
    },
    "tags": []
   },
   "outputs": [],
   "source": [
    "Copy the code here"
   ]
  },
  {
   "cell_type": "markdown",
   "id": "08a2c785-af78-45ec-8dbf-f3818ea710ad",
   "metadata": {
    "editable": false,
    "slideshow": {
     "slide_type": ""
    },
    "tags": []
   },
   "source": [
    "## Operators\n",
    "\n",
    "Now that you have warmed up a little bit we can begin talking about **operators** again. There is a long list of [python-operators](https://docs.python.org/3/library/operator.html#mapping-operators-to-functions), which we will explore slowly. \n",
    "\n",
    "The most central **operator** is the assignment **operator** (```=```). It takes whatever is on its right and stores it in the variable to its left. So if we write ```a = b``` we take whatever ```b``` is and write it into ```a```. The term “whatever” is chosen quite deliberately here, but we will come to this later.\n",
    "\n",
    "Now that we recalled how to assign things and considering that we wish to count things we should introduce the basic arithmetic operators, these are mostly identical to the ones you use everyday. To better illustrate them I attached an example usage with the result.\n",
    "\n",
    "| Operator  | Action         | Example       | Resulting value |\n",
    "| --------- | -------------- | ------------- | --------------- |\n",
    "| ```+```   | Addition       | ```3 + 4```   | 7               |\n",
    "| ```-```   | Substraction   | ```8 - 3```   | 5               | \n",
    "| ```*```   | Multiplikation | ```2 * 3```   | 6               |\n",
    "| ```**```  | Power of       | ```2 ** 3```  | 8               |\n",
    "| ```/```   | Division       | ```8 / 4 ```  | 2               |\n",
    "\n",
    "Now let us parctice with tese a bit. \n",
    "Here are a few simple mathematical operations that you should solve in python.\n",
    "Do not forget to use the ```print```-function to display the resutls."
   ]
  },
  {
   "cell_type": "markdown",
   "id": "5137b3f7-12ae-45a9-9958-a9f912b6c9b3",
   "metadata": {
    "editable": false,
    "slideshow": {
     "slide_type": ""
    },
    "tags": []
   },
   "source": [
    "```6 + 9```"
   ]
  },
  {
   "cell_type": "code",
   "execution_count": null,
   "id": "3383ccea-5cb7-4050-912e-388218eb6e2f",
   "metadata": {
    "editable": true,
    "slideshow": {
     "slide_type": ""
    },
    "tags": []
   },
   "outputs": [],
   "source": [
    "Add your code here"
   ]
  },
  {
   "cell_type": "markdown",
   "id": "c1f959f4-fd31-45ed-84db-6aba64357a8b",
   "metadata": {
    "editable": false,
    "slideshow": {
     "slide_type": ""
    },
    "tags": []
   },
   "source": [
    "<details>\n",
    "  <summary>Click to reveal solution</summary>\n",
    "\n",
    "```Python\n",
    "result = 6 + 9\n",
    "print(result)\n",
    "```\n",
    "\n",
    "</details>\n",
    "\n",
    "The second power a and b, where a is the difference between twelve and six and b is two times four."
   ]
  },
  {
   "cell_type": "code",
   "execution_count": null,
   "id": "a0d5ecf7-d6a5-43d6-b0cb-a0c3a68b0d3e",
   "metadata": {
    "editable": true,
    "slideshow": {
     "slide_type": ""
    },
    "tags": []
   },
   "outputs": [],
   "source": [
    "Add your code here"
   ]
  },
  {
   "cell_type": "markdown",
   "id": "d8da1e43-9685-4ae3-a3fe-0077b61abae6",
   "metadata": {
    "editable": false,
    "slideshow": {
     "slide_type": ""
    },
    "tags": []
   },
   "source": [
    "<details>\n",
    "  <summary>Click to reveal solution</summary>\n",
    "\n",
    "```Python\n",
    "a = 12 - 6\n",
    "b = 2 * 4\n",
    "result = (a + b)**2\n",
    "\n",
    "print(result)\n",
    "```\n",
    "\n",
    "</details>\n",
    "\n",
    "```11 / 5 ```"
   ]
  },
  {
   "cell_type": "code",
   "execution_count": null,
   "id": "942c7ee2-6a17-465d-85f7-55ec211b2269",
   "metadata": {
    "editable": true,
    "slideshow": {
     "slide_type": ""
    },
    "tags": []
   },
   "outputs": [],
   "source": [
    "Add your code here"
   ]
  },
  {
   "cell_type": "markdown",
   "id": "bd270e41-5d70-4557-8dbf-94553fa603b1",
   "metadata": {
    "editable": false,
    "raw_mimetype": "",
    "slideshow": {
     "slide_type": ""
    },
    "tags": []
   },
   "source": [
    "<details>\n",
    "  <summary>Click to reveal solution</summary>\n",
    "\n",
    "```Python\n",
    "result = 11 / 5\n",
    "\n",
    "print(result)\n",
    "```\n",
    "\n",
    "</details>\n",
    "\n",
    "Now the last exercise resulted in number with a ```.``` or a floating-point-number. This may seem trivial at the moment until you learn there is a second division operator ```//``` floor-division. Please repeat the exercise above with this operator and observe the result.'"
   ]
  },
  {
   "cell_type": "code",
   "execution_count": null,
   "id": "3cc0e7d9-19d5-4b40-81e6-9dc67b8daf26",
   "metadata": {
    "editable": true,
    "slideshow": {
     "slide_type": ""
    },
    "tags": []
   },
   "outputs": [],
   "source": [
    "Add your code here"
   ]
  },
  {
   "cell_type": "markdown",
   "id": "f5ac0b75-4e9b-4d25-b212-5b4493bf67f0",
   "metadata": {
    "editable": false,
    "slideshow": {
     "slide_type": ""
    },
    "tags": []
   },
   "source": [
    "This time you got a number without an ```.``` these are called integers. This should alarm you slightly. Why are there two **operators** that do almost the same thing? The answer is the way computer store data in their **memory-cells**. You may recall that they store data in binary as ```1``` and ```0```. So ```00000101``` corresponds to ```5``` in the decimal system. We introduced this as an example for how a number could be stored. In practice the [Two`s complement] (Two's complement - Wikipedia) is used, but the differences do not matter for us.\n",
    "As we discussed the content of **memory-cells** can be interpreted in different ways, we therefore assign every **variable** a **type**, so we know how interpret the data in the **memory-cell** the **variable** corresponds to. This means how we interpret the content of a **memory-cell** depends on the **type** of a **variable**.\n",
    "The way we introduced binary-numbers above they can only represent integers or natural numbers. In Python the **type** of integers is **int**. If we wish to represent floating-point-numbers we have to split our **memory-cell** into three different areas. The sign telling us if the number is positive or negative, the fraction telling us what comes behind the ```.``` and the exponent. To get our final floating-point-number or **float** we calculate:\n",
    "```\n",
    "floating_point_number = 01.Fraction * (2**Exponent)\n",
    "```\n",
    "To visualize we can use an illustration from [Wikipedia](https://commons.wikimedia.org/wiki/File:Float_example.svg).\n",
    "\n",
    "![Illustration of sign, fraction and exponent in memory-cells](https://upload.wikimedia.org/wikipedia/commons/d/d2/Float_example.svg)\n",
    "\n",
    "There are a bit more nuances to **floats** and how they can become dangerous. Once you have programmed for a while you may wish to read up on [IEEE-754](https://en.wikipedia.org/wiki/IEEE_754) and [rounding-errors](https://en.wikipedia.org/wiki/Round-off_error). For now we will focus on datatypes.\n"
   ]
  }
 ],
 "metadata": {
  "kernelspec": {
   "display_name": "Python 3 (ipykernel)",
   "language": "python",
   "name": "python3"
  },
  "language_info": {
   "codemirror_mode": {
    "name": "ipython",
    "version": 3
   },
   "file_extension": ".py",
   "mimetype": "text/x-python",
   "name": "python",
   "nbconvert_exporter": "python",
   "pygments_lexer": "ipython3",
   "version": "3.12.7"
  }
 },
 "nbformat": 4,
 "nbformat_minor": 5
}
