{
 "cells": [
  {
   "cell_type": "markdown",
   "id": "a47b5725-be0d-45d5-8e31-cc63ea199f25",
   "metadata": {
    "editable": true,
    "slideshow": {
     "slide_type": ""
    },
    "tags": []
   },
   "source": [
    "# Day 2"
   ]
  },
  {
   "cell_type": "markdown",
   "id": "6b8f1f56-98ab-4ca7-8c04-5d240c24d7d0",
   "metadata": {
    "editable": false,
    "slideshow": {
     "slide_type": ""
    },
    "tags": []
   },
   "source": [
    "## Recall\n",
    "\n",
    "Yesterday we discussed programming and computers in general. We used the example of Alice and Bob. To recall Bob was researching the growth of cancer-cells and alike counted them from him. She sent the results in comma-separated-value files.\n",
    "\n",
    "While were exploring the example we develop a simple algorithm:\n",
    "\n",
    "```\n",
    "For every file we do the following:\n",
    "    1. We open the file \n",
    "    2. We figure out what day and dish it is \n",
    "    3. We create a counter for the number of cells \n",
    "    4. We create a counter for the area covered by the cells \n",
    "    5. We ignore the first line \n",
    "    6. For every line we do the following:\n",
    "        1. We increase the cell counter \n",
    "        2. We add the cell area to the cell-area counter \n",
    "    7. We save the cell-counter \n",
    "    8. We save the area counter\n",
    "```\n",
    "\n",
    "With this example in mind we learned that computers use **memory-cells** to store data and that we refer to these one or multiple of these cells with **variables**. We also learned that we change what is in this cells with **operators**, before approaching **functions** and executing our first line of python. \n",
    "To warm up I would ask you to copy the following lines of code into the cell below and execute them using the “Shift” and “Return” keys.\n",
    "```Python\n",
    "cell_counter = 0\n",
    "print(cell_counter)\n",
    "cell_counter += 1\n",
    "print(cell_counter)\n",
    "```"
   ]
  },
  {
   "cell_type": "code",
   "execution_count": 2,
   "id": "80f6191b-ad91-45ff-a3f0-9000994d6d97",
   "metadata": {
    "editable": true,
    "slideshow": {
     "slide_type": ""
    },
    "tags": []
   },
   "outputs": [
    {
     "ename": "SyntaxError",
     "evalue": "invalid syntax (2196923951.py, line 1)",
     "output_type": "error",
     "traceback": [
      "\u001b[0;36m  Cell \u001b[0;32mIn[2], line 1\u001b[0;36m\u001b[0m\n\u001b[0;31m    Copy the code here\u001b[0m\n\u001b[0m         ^\u001b[0m\n\u001b[0;31mSyntaxError\u001b[0m\u001b[0;31m:\u001b[0m invalid syntax\n"
     ]
    }
   ],
   "source": [
    "Copy the code here"
   ]
  },
  {
   "cell_type": "markdown",
   "id": "08a2c785-af78-45ec-8dbf-f3818ea710ad",
   "metadata": {
    "editable": false,
    "slideshow": {
     "slide_type": ""
    },
    "tags": []
   },
   "source": [
    "## Operators\n",
    "\n",
    "Now that you have warmed up a little bit we can begin talking about **operators** again. There is a long list of [python-operators](https://docs.python.org/3/library/operator.html#mapping-operators-to-functions), which we will explore slowly. \n",
    "\n",
    "The most central **operator** is the assignment **operator** (```=```). It takes whatever is on its right and stores it in the variable to its left. So if we write ```a = b``` we take whatever ```b``` is and write it into ```a```. The term “whatever” is chosen quite deliberately here, but we will come to this later.\n",
    "\n",
    "Now that we recalled how to assign things and considering that we wish to count things we should introduce the basic arithmetic operators, these are mostly identical to the ones you use everyday. To better illustrate them I attached an example usage with the result.\n",
    "\n",
    "| Operator  | Action         | Example       | Resulting value |\n",
    "| --------- | -------------- | ------------- | --------------- |\n",
    "| ```+```   | Addition       | ```3 + 4```   | 7               |\n",
    "| ```-```   | Substraction   | ```8 - 3```   | 5               | \n",
    "| ```*```   | Multiplikation | ```2 * 3```   | 6               |\n",
    "| ```**```  | Power of       | ```2 ** 3```  | 8               |\n",
    "| ```/```   | Division       | ```8 / 4 ```  | 2               |\n",
    "\n",
    "Now let us parctice with tese a bit. \n",
    "Here are a few simple mathematical operations that you should solve in python.\n",
    "Do not forget to use the ```print```-function to display the resutls."
   ]
  }
 ],
 "metadata": {
  "kernelspec": {
   "display_name": "Python 3 (ipykernel)",
   "language": "python",
   "name": "python3"
  },
  "language_info": {
   "codemirror_mode": {
    "name": "ipython",
    "version": 3
   },
   "file_extension": ".py",
   "mimetype": "text/x-python",
   "name": "python",
   "nbconvert_exporter": "python",
   "pygments_lexer": "ipython3",
   "version": "3.12.7"
  }
 },
 "nbformat": 4,
 "nbformat_minor": 5
}
