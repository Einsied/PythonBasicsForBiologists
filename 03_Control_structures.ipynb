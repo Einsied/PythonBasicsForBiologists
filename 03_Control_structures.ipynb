{
 "cells": [
  {
   "cell_type": "markdown",
   "id": "30892b83-b1d0-4cb0-b975-166669f8e55e",
   "metadata": {
    "editable": false,
    "slideshow": {
     "slide_type": ""
    },
    "tags": []
   },
   "source": [
    "# Control Structures"
   ]
  },
  {
   "cell_type": "markdown",
   "id": "ef07fe4c-fa52-4847-8778-6a76f6bb89aa",
   "metadata": {
    "editable": false,
    "slideshow": {
     "slide_type": ""
    },
    "tags": []
   },
   "source": [
    "## Recall\n",
    "\n",
    "Last unit we learned about **operators** and data-**types**. **Operators** like ```+```, ```/``` or ```<```, allow us to work with **variables** containing different **values**. With the help of **lists** we van group **ints**, **floats**, **strs** and other data-**types** together.\n",
    "\n",
    "The combination of these allowed us to formulate most of the building blocks for our final algorithm.\n",
    "\n",
    "1. [ ] For every file we do the following:\n",
    "    1. [x] We open the file ```csv_file = open(\"./data/Day_1_dish_1_zoom_3.csv\")```\n",
    "    2. [x] We figure out what day and dish it is ```_, day, _ , dish_number, _, zoom_factor = csv_file_name.split(\"_\") ```\n",
    "    3. [x] We create a counter for the number of cells ```cell_counter = 0``` \n",
    "    4. [x] We create a counter for the area covered by the cells ```cell_area_counter = 0```\n",
    "    5. [ ] We ignore the first line \n",
    "    6. [ ] For every line we do the following:\n",
    "        1. [x] We increase the cell counter ```cell_counter += 1```\n",
    "        2. [x] We add the cell area to the cell-area counter ```cell_area_counter += cell_area```\n",
    "    7. [x] We save the cell-counter ```cell_counter_dish_1_list.append(cell_counter)```\n",
    "    8. [x] We save the area counter ```cell_area_counter_dish_1_list.append(cell_counter)```\n",
    "\n",
    "To fill out the missing gaps and solve Bobs-cell-counting problem we also have to recall the the first unit. In the first unit we used ```if_less``` and ```goto``` to jump around in our pseudo-assembly-code. We now want to learn how this is done in Python."
   ]
  },
  {
   "cell_type": "markdown",
   "id": "5a5e6d28-7bf6-447f-8afe-117070938b19",
   "metadata": {
    "editable": true,
    "slideshow": {
     "slide_type": ""
    },
    "tags": []
   },
   "source": [
    "## If-statement\n",
    "The if-statement is rather simple it consists of the keyword ```if``` followed by something that is or can be converted into a **bool**, ```:``` and then an indented block of further instructions. These instructions are executed if the condition between the keyword and ```:``` is ```True```.\n",
    "Here is a code snippet illustrating the use of the if-statement. \n",
    "```Python\n",
    "if True:\n",
    "\tprint(\"Hello\")\n",
    "if False:\n",
    "\tprint(\"world!\")\n",
    "```\n",
    "\n",
    "Please predict what this snippet will print and then try it in the next block."
   ]
  },
  {
   "cell_type": "code",
   "execution_count": null,
   "id": "3fb4e400-fa2e-41ba-8d10-94af266dd408",
   "metadata": {
    "editable": true,
    "slideshow": {
     "slide_type": ""
    },
    "tags": []
   },
   "outputs": [],
   "source": [
    "# Copy the code here"
   ]
  },
  {
   "cell_type": "markdown",
   "id": "9c26d75b-e95b-42fd-b914-93638db82ca3",
   "metadata": {
    "editable": false,
    "slideshow": {
     "slide_type": ""
    },
    "tags": []
   },
   "source": [
    "The if-statement can be expanded with two optional statements. ```else``` and ```elif``` short for “else-if”. The elif-code is executed if the if-statement is not executed and its condition is ```True```. The ```else```-statement is executed if no if- or elif-statement was executed.\n",
    "Here is a short snippet to demonstrate the use of an if-statement with ```elif``` and ```else```:\n",
    "```Python\n",
    "a = 5\n",
    "b = 6\n",
    "if a < b:\n",
    "\tprint(\"a is smaller than b\")\n",
    "elif a == b:\n",
    "\tprint(\"a is equal b\")\n",
    "else:\n",
    "\tprint(\"a is bigger than b\")\n",
    "```\n",
    "\n",
    "Copy the code into the next boy and change ```a``` and ```b``` until all three messages were printed.\n"
   ]
  },
  {
   "cell_type": "code",
   "execution_count": null,
   "id": "399b78fc-f23e-44e6-b135-a6886da2eb64",
   "metadata": {
    "editable": true,
    "slideshow": {
     "slide_type": ""
    },
    "tags": []
   },
   "outputs": [],
   "source": [
    "# Copy the code here and then modify it"
   ]
  },
  {
   "cell_type": "markdown",
   "id": "06e382b6-6866-4b55-b27f-9bc68a59e665",
   "metadata": {
    "editable": false,
    "slideshow": {
     "slide_type": ""
    },
    "tags": []
   },
   "source": [
    "## While loop\n",
    "The next statement is the while-loop. It consists of the keyword ```while``` followed by something that can be converted into a **bool**, ```:``` and then an indented block of instructions.  These instructions are executed while the condition between the keyword and ```:``` remains ```True```.\n",
    "Here is a short example of a while loop:\n",
    "```Python\n",
    "counter = 0\n",
    "while counter < 20:\n",
    "\tprint(counter)\n",
    "\tcounter += 1\n",
    "```\n",
    "\n",
    "Please predict what this code will print before you copy and execute it."
   ]
  },
  {
   "cell_type": "code",
   "execution_count": null,
   "id": "4504e93b-ac29-460d-8e8c-fac85dc54573",
   "metadata": {
    "editable": true,
    "slideshow": {
     "slide_type": ""
    },
    "tags": []
   },
   "outputs": [],
   "source": [
    "# Copy the code here"
   ]
  },
  {
   "cell_type": "markdown",
   "id": "c86c44a0-9bc6-4a6c-b935-613230681999",
   "metadata": {
    "editable": false,
    "slideshow": {
     "slide_type": ""
    },
    "tags": []
   },
   "source": [
    "## For loop\n",
    "The last control-structure is the for-loop. It works similar to the while loop, but it iterates over a sequence like a **list** or **tuple**. It consists of the keyword ```for``` followed by the variable name the current element will have followed by the keyword ```in``` followed by a sequence (e.g. **list**), ```:``` and an indented block of instructions.\n",
    "Here is an example of a for-loop:\n",
    "```Python\n",
    "elements = [\"Hello\", \"\", \"world\", \"\", \"!\", 42, 3.0, True]\n",
    "for element in elements:\n",
    "\tprint(element)\n",
    "```\n",
    "Please predict the output of this code snippet before executing it in the next block."
   ]
  },
  {
   "cell_type": "code",
   "execution_count": null,
   "id": "b9b4509e-8dab-4181-b9a2-d5f9b46a00bb",
   "metadata": {
    "editable": true,
    "slideshow": {
     "slide_type": ""
    },
    "tags": []
   },
   "outputs": [],
   "source": [
    "# Copy the code here"
   ]
  },
  {
   "cell_type": "markdown",
   "id": "b171b564-2694-4120-9497-1bfa8ad744a3",
   "metadata": {
    "editable": false,
    "slideshow": {
     "slide_type": ""
    },
    "tags": []
   },
   "source": [
    "## Break and continue\n",
    "Within loops two special-statements can be used the ```break```-statement breaking out of the loop and the ```continue``` statement jumping to the beginning of the next loop cycle. Since they change the flow of the loop they are almost always encountered within an if-statement.\n",
    "Here is an example of a for-loop with ```break``` and ```continue```.\n",
    "```Python\n",
    "elements = [1, 2, 3, 4, 5, 6, 7, 8, 9, 10]\n",
    "for element in elements:\n",
    "\tif element in [2, 3, 5, 7]:\n",
    "\t\tcontinue\n",
    "\tif element > 8:\n",
    "\t\tprint(\"Breaking\")\n",
    "        break\n",
    "\tprint(element)\n",
    "```\n",
    "\n",
    "Please predict what this code prints before you execute it and compare your prediction to the actual results."
   ]
  },
  {
   "cell_type": "code",
   "execution_count": null,
   "id": "991f0f2e-fe04-4132-8ab6-189e55cafe00",
   "metadata": {
    "editable": true,
    "slideshow": {
     "slide_type": ""
    },
    "tags": []
   },
   "outputs": [],
   "source": [
    "# Copy the code here"
   ]
  },
  {
   "cell_type": "markdown",
   "id": "50f8756f-3b33-453d-83eb-11f7db0d8aa4",
   "metadata": {
    "editable": false,
    "slideshow": {
     "slide_type": ""
    },
    "tags": []
   },
   "source": [
    "## Range and len\n",
    "We often want to iterate over a range of numbers. We can use a for-loop and ```range``` for this. ```range``` is a **function** taking 3 **arguments** ```start```, ```end``` and ```step```. So if we write ```small_numbers = range(0, 10, 1)``` we get all number beginning from ```0``` to ```9```. So ```end``` is not included in the range. \n",
    "This may seem weird, but can be attributed to the way **lists** work. Since **lists** start at ```0``` a list with 10 elements is indexed by ```0```, ```1```, ```2```, ```3```, ```4```, ```5```, ```6```, ```7```, ```8``` and ```9``` or ```range(0, 10, 1)```. \n",
    "This becomes more convenient if we use ```len```. ```len``` is a **function** that return the length of its **argument**. \n",
    "Now let us see both of them in action:\n",
    "```Python\n",
    "names = [\"John Doe\", \"Erika Musterfrau\", \"Max Mustermann\", \"Karl Dosenkohl\", \"Hein Janmaat\", \"Juan Pérez\", \"Kalle Svensson\", \"Fred Bloggs\"]\n",
    "for index in range(0, len(names), 1):\n",
    "\tprint(names[index])\n",
    "```\n",
    "\n",
    "Please copy and execute the code, then adapt it so that only every second name is printed."
   ]
  },
  {
   "cell_type": "code",
   "execution_count": null,
   "id": "82f0739a-192b-4985-ba44-ca9cbcbfe0e0",
   "metadata": {
    "editable": true,
    "slideshow": {
     "slide_type": ""
    },
    "tags": []
   },
   "outputs": [],
   "source": [
    "# Copy the code here"
   ]
  },
  {
   "cell_type": "markdown",
   "id": "0f20deb2-f639-493e-8434-644000932cc5",
   "metadata": {
    "editable": false,
    "slideshow": {
     "slide_type": ""
    },
    "tags": []
   },
   "source": [
    "<details>\n",
    "  <summary>Click to reveal solution</summary>\n",
    "\n",
    "```Python\n",
    "names = [\"John Doe\", \"Erika Musterfrau\", \"Max Mustermann\", \"Karl Dosenkohl\", \"Hein Janmaat\", \"Juan Pérez\", \"Kalle Svensson\", \"Fred Bloggs\"]\n",
    "for index in range(0, len(names), 2):\n",
    "    print(names[index])\n",
    "```\n",
    "\n",
    "</details>"
   ]
  },
  {
   "cell_type": "markdown",
   "id": "cd653571-38ac-4e99-9eec-bd3a1b5cb69e",
   "metadata": {
    "editable": false,
    "slideshow": {
     "slide_type": ""
    },
    "tags": []
   },
   "source": [
    "## Functions\n",
    "After we used ```range``` and ```len``` let us talk more about what they are: **functions**. From a language perspective **functions** are similar to **operators** they take a number of **values** and often become/**return** a **value**. So instead of ```sum = a + b``` we might write ```sum = add(a, b)```. \n",
    "From a code-structure perspective they are organizational units or **abstractions** that combine multiple lines of code into a single thing. They are therefore constructed from other **functions** and **operators**. Let us write an ```add``` **function** so we can investigate its parts.\n",
    "```Python\n",
    "def add(a, b):\n",
    "\tsum = a + b\n",
    "\treturn sum\n",
    "```\n",
    "As you can see a **function** looks quite similar to the other control-structures. It starts with the keyword ```def``` (like define) followed by the name of the **function**, ```(``` the **arguments** of the **function**, ```)```, ```:``` and an indented block of instructions.\n",
    "\n",
    "The name of the function is used to call it later so our example **function** is called ```add``` and can be called like ```c = add(2, 4)```. The **arguments** are what into a **function**, like food goes into your mouth or raw material into a factory. Often they are processed into a final product that is **returned**, but some functions do only modify their **mutable** inputs, like adding **values** to a **list**.\n",
    "Let us practice this by creating a new **function**. It will be the [fizz-buzz](https://de.wikipedia.org/wiki/Fizz_buzz)-**function**. It is supposed to print either the number or “Fizz” if the number we put in is divisible by 3 and “Buzz” if it is divisible by 5. If both is the case it should print “Fizz Buzz”. This is a common test in programming interviews and a nice example. To test is something is divisible we use ```%``` which gives us the rest of a division.\n",
    "So let us begin with defining our **function**. Its name should obviously be “fizzBuzz” and its argument a number. So we write:\n",
    "```Python\n",
    "def fizzBuzz(number):\n",
    "```\n",
    "Now we have to do something in it. Let us first get the rest of the division by ```3``` and print it out to test our function.\n",
    "We are interested in the rest of the division, because it is zero if the number is divisible by ```3```.\n",
    "\n",
    "```Python\n",
    "def fizzBuzz(number):\n",
    "\trest_division_by_three = number % 3\n",
    "\tprint(rest_division_by_three)\n",
    "# We also have to call the function so it gets executed\n",
    "fizzBuzz(5)\n",
    "```\n",
    "Now copy the code and predict what it prints. Afterwards get the rest for a division by 5."
   ]
  },
  {
   "cell_type": "code",
   "execution_count": null,
   "id": "4c1a0e71-e506-44b6-bfc7-9918a938e9fe",
   "metadata": {
    "editable": true,
    "slideshow": {
     "slide_type": ""
    },
    "tags": []
   },
   "outputs": [],
   "source": [
    "# Your code goes here"
   ]
  },
  {
   "cell_type": "markdown",
   "id": "620f79b3-050e-4f05-8ea8-7976cbf24ff0",
   "metadata": {
    "editable": false,
    "slideshow": {
     "slide_type": ""
    },
    "tags": []
   },
   "source": [
    "<details>\n",
    "  <summary>Click to reveal solution</summary>\n",
    "\n",
    "```Python\n",
    "def fizzBuzz(number):\n",
    "    rest_division_by_three = number % 3\n",
    "    rest_division_by_five = number % 5\n",
    "# We also have to call the function so it gets executed\n",
    "fizzBuzz(5)\n",
    "```\n",
    "\n",
    "</details>"
   ]
  },
  {
   "cell_type": "markdown",
   "id": "defe58df-17d5-4e2f-98c8-5d86c70905d4",
   "metadata": {
    "editable": false,
    "slideshow": {
     "slide_type": ""
    },
    "tags": []
   },
   "source": [
    "Now that we have the rest we should try to print “Fizz Buzz” if the number is divisible by ```3``` and ```5```, “Fizz” if it is divisible by ```3```, “Buzz” if it is divisible by ```5```, else we just print the number.\n",
    "\n",
    "Please recall the comparison-**operators** from the last unit and what we learned so far to adapt the function, so it prints what was described above:"
   ]
  },
  {
   "cell_type": "code",
   "execution_count": null,
   "id": "3d1e5193-b2d1-441e-8cd7-e5f61b932fc1",
   "metadata": {
    "editable": true,
    "slideshow": {
     "slide_type": ""
    },
    "tags": []
   },
   "outputs": [],
   "source": [
    "# Your code goes here"
   ]
  },
  {
   "cell_type": "markdown",
   "id": "566ff625-fc42-4ebe-9bbf-fd9cd8c256c3",
   "metadata": {
    "editable": false,
    "slideshow": {
     "slide_type": ""
    },
    "tags": []
   },
   "source": [
    "<details>\n",
    "  <summary>Click to reveal solution</summary>\n",
    "\n",
    "```Python\n",
    "def fizzBuzz(number):\n",
    "    rest_division_by_three = number % 3\n",
    "    rest_division_by_five = number % 5\n",
    "    divisible_by_three = rest_division_by_three == 0\n",
    "    divisible_by_five = rest_division_by_five == 0\n",
    "\n",
    "    if divisible_by_three and divisible_by_five:\n",
    "        print(\"Fizz Buzz\")\n",
    "    elif divisible_by_three:\n",
    "        print(\"Fizz\")\n",
    "    elif divisible_by_five:\n",
    "        print(\"Buzz\")\n",
    "    else:\n",
    "        print(number)\n",
    "# We also have to call the function so it gets executed\n",
    "fizzBuzz(5)\n",
    "```\n",
    "\n",
    "</details>"
   ]
  },
  {
   "cell_type": "markdown",
   "id": "81e83c6f-5e38-4672-8379-54c73e9e0eb2",
   "metadata": {
    "editable": false,
    "slideshow": {
     "slide_type": ""
    },
    "tags": []
   },
   "source": [
    "Now that we have a working function we should test it by running on a larger set of numbers. Please build a loop around your **function** so it runs on all integers from 0 until 100."
   ]
  },
  {
   "cell_type": "code",
   "execution_count": null,
   "id": "1003cbe7-691d-492b-8be8-be789679ae2f",
   "metadata": {
    "editable": true,
    "slideshow": {
     "slide_type": ""
    },
    "tags": []
   },
   "outputs": [],
   "source": [
    "# Your code goes here"
   ]
  },
  {
   "cell_type": "markdown",
   "id": "9a2dd53c-3289-44c6-b560-f6576c440f8e",
   "metadata": {
    "editable": false,
    "slideshow": {
     "slide_type": ""
    },
    "tags": []
   },
   "source": [
    "<details>\n",
    "  <summary>Click to reveal solution</summary>\n",
    "\n",
    "```Python\n",
    "def fizzBuzz(number):\n",
    "    rest_division_by_three = number % 3\n",
    "    rest_division_by_five = number % 5\n",
    "    divisible_by_three = rest_division_by_three == 0\n",
    "    divisible_by_five = rest_division_by_five == 0\n",
    "\n",
    "    if divisible_by_three and divisible_by_five:\n",
    "        print(\"Fizz Buzz\")\n",
    "    elif divisible_by_three:\n",
    "        print(\"Fizz\")\n",
    "    elif divisible_by_five:\n",
    "        print(\"Buzz\")\n",
    "    else:\n",
    "        print(number)\n",
    "\n",
    "# Create a for loop from 0 until 100\n",
    "for number in range(0, 101, 1):\n",
    "    fizzBuzz(number)\n",
    "```\n",
    "\n",
    "</details>"
   ]
  },
  {
   "cell_type": "markdown",
   "id": "5b1ed9cf-4914-4901-a9c2-7ba761114cf9",
   "metadata": {
    "editable": false,
    "slideshow": {
     "slide_type": ""
    },
    "tags": []
   },
   "source": [
    "The last step before we can fully utilize **functions** is the keyword ```return```. Similar to ```break``` in loops ```return``` signals that the function should be left, with a little twist. The **function** becomes or returns the value behind the ```return```. If there is nothing it returns ```None```.\n",
    "To better illustrate this we will create a **function** that checks if a number is even and returns the result as a **bool**.\n",
    "\n",
    "```Python\n",
    "def is_even(number):\n",
    "\tdivisible_by_two = number % 2 == 0\n",
    "\treturn divisible_by_two\n",
    "```\n",
    "\n",
    "Now we will use a for-loop to print our all even numbers between 0 and 20:\n",
    "\n",
    "```Python\n",
    "for number in range(0, 21, 1):\n",
    "\tif is_even(number):\n",
    "\t\tprint(number)\n",
    "```\n",
    "\n",
    "Please copy both samples in the next cell and execute them.\n"
   ]
  },
  {
   "cell_type": "code",
   "execution_count": null,
   "id": "0704cb43-a3ab-43d2-8c76-9724f40e816e",
   "metadata": {
    "editable": true,
    "slideshow": {
     "slide_type": ""
    },
    "tags": []
   },
   "outputs": [],
   "source": [
    "# Combine the code here"
   ]
  },
  {
   "cell_type": "markdown",
   "id": "101beedf-e733-409e-bad8-ca0c1389bbfa",
   "metadata": {
    "editable": false,
    "slideshow": {
     "slide_type": ""
    },
    "tags": []
   },
   "source": [
    "<details>\n",
    "  <summary>Click to reveal solution</summary>\n",
    "\n",
    "```Python\n",
    "def fizzBuzz(number):\n",
    "    rest_division_by_three = number % 3\n",
    "    rest_division_by_five = number % 5\n",
    "    divisible_by_three = rest_division_by_three == 0\n",
    "    divisible_by_five = rest_division_by_five == 0\n",
    "\n",
    "    if divisible_by_three and divisible_by_five:\n",
    "        print(\"Fizz Buzz\")\n",
    "    elif divisible_by_three:\n",
    "        print(\"Fizz\")\n",
    "    elif divisible_by_five:\n",
    "        print(\"Buzz\")\n",
    "    else:\n",
    "        print(number)\n",
    "\n",
    "# Create a for loop from 0 until 100\n",
    "for number in range(0, 101, 1):\n",
    "    fizzBuzz(number)\n",
    "```\n",
    "\n",
    "</details>"
   ]
  },
  {
   "cell_type": "markdown",
   "id": "63f8a7e9-ef7f-42cf-bc24-4d4fa06231dd",
   "metadata": {
    "editable": false,
    "slideshow": {
     "slide_type": ""
    },
    "tags": []
   },
   "source": [
    "Congratulations, you know all the necessary building blocks to write simple programs. "
   ]
  },
  {
   "cell_type": "markdown",
   "id": "b7bb52b0-8071-42dd-8ddd-932e9f1c515f",
   "metadata": {
    "editable": false,
    "slideshow": {
     "slide_type": ""
    },
    "tags": []
   },
   "source": [
    "## Writing a program\n",
    "\n",
    "Writing a program consists of a few steps:\n",
    "1. **Design**: Here we figure out what our program needs and how it should run. We did this from unit one until now.\n",
    "2. **Skeleton/smallest parts**: You should always begin with a very small part that is easy to understand and write.\n",
    "3. **Test regularly**: As soon as you can run your code you should do so. This helps you to find mistakes while it is still small. Later you may wish to write [automated tests](https://en.wikipedia.org/wiki/Test_automation) and expand into [test-driven-development](https://en.wikipedia.org/wiki/Test-driven_development).\n",
    "4. **Get feedback**: After you have written something ask another competent person to look at your solution, they might find mistakes you did not see.\n",
    "5. **Incremental improvement**: Do not try to solve your problem as a whole. Work **function** by **function**, **line** by **line**, otherwise you will be overwhelmed  and confused by your own work.\n",
    "\n",
    "### Skeleton\n",
    "\n",
    "Now that all the building blocks are combined together we can return to our algorithm and fill out the missing steps:\n",
    "1. [x] For every file we do the following: ```for csv_file in csv_files:```\n",
    "    1. [x] We open the file ```csv_file = open(\"./data/Day_1_dish_1_zoom_3.csv\")```\n",
    "    2. [x] We figure out what day and dish it is ```_, day, _ , dish_number, _, zoom_factor = csv_file_name.split(\"_\") ```\n",
    "    3. [x] We create a counter for the number of cells ```cell_counter = 0``` \n",
    "    4. [x] We create a counter for the area covered by the cells ```cell_area_counter = 0```\n",
    "    5. [x] For every line we do the following ```for_line in csv_file_handle```:\n",
    "        1. [x] We ignore the first line ```if line_counter != 0```\n",
    "        2. [x] We increase the cell counter ```cell_counter += 1```\n",
    "        3. [x] We add the cell area to the cell-area counter ```cell_area_counter += cell_area```\n",
    "    7. [x] We save the cell-counter ```cell_counter_dish_1_list.append(cell_counter)```\n",
    "    8. [x] We save the area counter ```cell_area_counter_dish_1_list.append(cell_counter)```\n",
    "\n",
    "Now this are a lot of steps so let us try to split them up into some simple components:\n",
    "\n",
    "```Python\n",
    "csv_files = [\n",
    "    \"./data/Day_1_dish_1_zoom_3.csv\"\n",
    "]\n",
    "\n",
    "# Create something to save the dishes\n",
    "dishes = {}\n",
    "\n",
    "def process_csv(csv_file, dishes):\n",
    "    # Here we have to do the hard work,\n",
    "    # but first we print out the arguments to see if our function is called correctly\n",
    "    print(csv_file)\n",
    "    print(dishes)\n",
    "    return\n",
    "\n",
    "# Go through all files\n",
    "for csv_file in csv_files:\n",
    "    process_csv(csv_file, dishes)\n",
    "```\n",
    "\n",
    "This is what is often called a skeleton implementation. The rough structures are here but the details are not fleshed out. \n",
    "\n",
    "### Test\n",
    "\n",
    "Please run the code above to see if there are any errors in it."
   ]
  },
  {
   "cell_type": "code",
   "execution_count": null,
   "id": "808166f1-3e8b-47af-b864-0f6df733fcac",
   "metadata": {
    "editable": true,
    "slideshow": {
     "slide_type": ""
    },
    "tags": []
   },
   "outputs": [],
   "source": [
    "# Copy code to test here"
   ]
  },
  {
   "cell_type": "markdown",
   "id": "7ec54b8b-23c0-49be-9506-ef3d6f2a8d5b",
   "metadata": {
    "editable": false,
    "slideshow": {
     "slide_type": ""
    },
    "tags": []
   },
   "source": [
    "### Flesh out the skeleton\n",
    "\n",
    "After testing it, we can now begin to flesh out our ```process_csv```-**function**. First we write down our plan from the comments, before we implement it line by line, incrementally approaching the final function.\n",
    "\n",
    "```Python\n",
    "def process_csv(csv_file, dishes):\n",
    "    # 1. Open the file\n",
    "    # 2. Figure out what day and dish it is\n",
    "    # 3. Create a counter for the cells\n",
    "    # 4. Create a counter gor the area covered by the cells\n",
    "    # 5. For every line we do:\n",
    "    #   5.1 Ignore the first line\n",
    "    #   5.2 Increase cell counter\n",
    "    #   5.3 Add area to area-counter\n",
    "    # 6. Save cell counter\n",
    "    # 7. Save area cell counter\n",
    "    return\n",
    "```\n",
    "\n",
    "Since we already did our research regarding what we need to use we can now begin to replace the comments with code.\n",
    "\n",
    "```Python\n",
    "def process_csv(csv_file, dishes):\n",
    "    with open(csv_file, \"r\") as csv_file_handle:\n",
    "        # 2. Figure out what day and dish it is\n",
    "        # 3. Create a counter for the cells\n",
    "        # 4. Create a counter gor the area covered by the cells\n",
    "        # 5. For every line we do:\n",
    "        #   5.1 Ignore the first line\n",
    "        #   5.2 Increase cell counter\n",
    "        #   5.3 Add area to area-counter\n",
    "        # 6. Save cell counter\n",
    "        # 7. Save area cell counter\n",
    "    return\n",
    "```\n",
    "\n",
    "Please use the cell below to complete our little program. Remeber the steps above and work line by line. Use ```print``` to check your results. In the end use ```print(dishes)``` to check if you were successful."
   ]
  },
  {
   "cell_type": "code",
   "execution_count": null,
   "id": "14f914e8-276c-4943-94f7-e5078e6158fa",
   "metadata": {
    "editable": true,
    "slideshow": {
     "slide_type": ""
    },
    "tags": []
   },
   "outputs": [],
   "source": [
    "# Write your code here"
   ]
  },
  {
   "cell_type": "markdown",
   "id": "0310ab3f-ce10-4252-baf3-491c6a9d24cf",
   "metadata": {
    "editable": false,
    "slideshow": {
     "slide_type": ""
    },
    "tags": []
   },
   "source": [
    "<details>\n",
    "  <summary>Click to reveal solution</summary>\n",
    "\n",
    "```Python\n",
    "csv_files = [\n",
    "    \"./data/Day_1_dish_1_zoom_3.csv\"\n",
    "]\n",
    "\n",
    "# Create something to save the dishes\n",
    "dishes = {}\n",
    "\n",
    "def process_csv(csv_file, dishes):\n",
    "    with open(csv_file, \"r\") as csv_file_handle:\n",
    "        _, day, _ , dish_number, _, zoom_factor = csv_file.split(\"_\") \n",
    "        cell_counter = 0\n",
    "        cell_area_counter = 0\n",
    "        line_counter = 0\n",
    "        for line in csv_file_handle:\n",
    "            if line_counter != 0:\n",
    "                cell_counter += 1\n",
    "                cell_id, nucleus_x, nucleus_y, nucleus_area, cell_area, center_of_area_y, center_of_area_y = line.split(\",\")\n",
    "                cell_area_counter += float(cell_area)\n",
    "            line_counter += 1\n",
    "        if dish_number not in dishes.keys():\n",
    "            dishes[dish_number] = {}\n",
    "        dishes[dish_number][day] = {\n",
    "            \"cell_count\": cell_counter,\n",
    "            \"area\": cell_area_counter\n",
    "        } \n",
    "    return\n",
    "\n",
    "# Go through all files\n",
    "for csv_file in csv_files:\n",
    "    process_csv(csv_file, dishes)\n",
    "\n",
    "print(dishes)\n",
    "```\n",
    "\n",
    "</details>"
   ]
  },
  {
   "cell_type": "markdown",
   "id": "c007f25d-5a2c-4b04-98ed-28ed26302561",
   "metadata": {
    "editable": false,
    "slideshow": {
     "slide_type": ""
    },
    "tags": []
   },
   "source": [
    "## Readable code\n",
    "\n",
    "Now we have a working script analyzing one file. If you recall Bobs-cell-counting problem from the first unit, we expect him to have multiple files and arrange them into **lists**. First we should try to build the **lists** from the **dict** we already have. How we do this is a matter of style and taste, this means there are multiple ways with costs and benefits, the most relevant for you is **readability**.\n",
    "\n",
    "**Readability** refers to the ability of a reader to understand the text/code. As a general rule if the reader takes more than half the time to read your text than you needed to write it you goofed. If they take the same time to read it as you to write you should seriously consider professionalizing your writing style.\n",
    "\n",
    "I mention this because academia has a relevant fraction of fully self-taught-“programmers”, believing hard-work is required to understand code. They usually conclude that whoever fails to understand their incoherent excuse for code “just cannot program”. Industrial and trained wisdom usually attributes a failure to understand code to incomplete documentation or lack of “domain-knowledge”, instead of programming skill. “Domain-knowledge” refers to knowledge about the subject, like cancer-cells, astrophysics or neuroscience. So in other words if someone fails to understand your code the following explanations are seen as legitimate:\n",
    "\n",
    "1.\tThey do not understand the area the code is applied in (e.g. they do not know what cancer-cells are)\n",
    "2.\tThey do not know basic language structures (e.g. for-loop)\n",
    "3.\tThe code is not written well enough (It is usually this)\n",
    "\n",
    "Please remember this if people ask you how your code works. It usually means you failed to explain your goal and methods well enough. \n",
    "So how do you make your code more readable:\n",
    "\n",
    "- Use clear **variable** and **function** names. So your cell-area should be called ```cell_area``` and not ```car```.\n",
    "- Try to write simple lines. One line should ideally do one to three things if it does more split it.\n",
    "- Use intermediate values. So if you add a few numbers before another step introduce a **variable** storing the sum.\n",
    "- Keep your functions short, they should fit on a small laptop screen.\n",
    "- Use comments or [docstrings](https://peps.python.org/pep-0257/) for functions to explain, what goes in, what goes out and what the function should achieve.\n",
    "- Use comments in the code to explain why things are done a certain way.\n",
    "- Use comments in the code to reference to papers or online sources you read to understand the code.\n",
    "- Use comments in the code to introduce concepts that might be novel to another programmer.\n",
    "- Use a [sytleguide](https://google.github.io/styleguide/pyguide.html) once once you start a bigger project.\n",
    "- Avoid writing[unmaintanable code](https://github.com/Droogans/unmaintainable-code).\n",
    "\n",
    "If your code starts reading like a paper with references to different web-resources and additional explanations you are doing things mostly right.\n",
    "JupyterNotebook is designed to support this approach, known as [literate programming](https://en.wikipedia.org/wiki/Literate_programming).\n",
    "\n",
    "Please take your solution and add the comments to it. Then let someone else read the code, so they can tell you what is not fully clear to them. If they claim to fully understand your code they are most probably to shy to critizize, so keep asking until they find a flaw."
   ]
  },
  {
   "cell_type": "code",
   "execution_count": null,
   "id": "1662016c-679d-48d1-9775-2e103208408f",
   "metadata": {
    "editable": true,
    "slideshow": {
     "slide_type": ""
    },
    "tags": []
   },
   "outputs": [],
   "source": [
    "# Your code with comments should be here"
   ]
  },
  {
   "cell_type": "markdown",
   "id": "60223988-f755-4718-9c45-5c280546ce9e",
   "metadata": {
    "editable": false,
    "slideshow": {
     "slide_type": ""
    },
    "tags": []
   },
   "source": [
    "<details>\n",
    "  <summary>Click to reveal solution</summary>\n",
    "\n",
    "```Python\n",
    "# A list with all files that should be processed\n",
    "csv_files = [\n",
    "    \"./data/Day_1_dish_1_zoom_3.csv\"\n",
    "]\n",
    "\n",
    "# Create something to save the dishes\n",
    "dishes = {}\n",
    "\n",
    "def process_csv(csv_file, dishes):\n",
    "    \"\"\"!\n",
    "        @brief This function reads in specific csv-file and adds the contents into the dict dishes\n",
    "        @details We assume that we get an csv-file with a header line and 7 fields per row.\n",
    "            The name and contents of the csv-file should be defined as given in param, so we can extract the day and dish number.\n",
    "            The contents are then stored in a dict passed as dishes defined in param.\n",
    "        @param csv_file the path to the csv-file as a str, it should follow the form Day_[day]_dish_[dish]_zoom_[zoom].csv,\n",
    "            where all [] denote numbers extracted as meta data.\n",
    "            The 5th field should contain the area of the cells.\n",
    "        @param dishes a dict that will be filled with the contents of the csv-file.\n",
    "            The first layer of keys will be the dish-numbers, the values belonging to them are dicts.\n",
    "            These dicts contain the days as keys and dicts as values. The lowest layer dicts contain\n",
    "            the \"cell_count\" and \"area\" as keys. Their values are the total cell-count for that day and dish and the\n",
    "            total area for that day and dish respectivley.\n",
    "        @return None\n",
    "    \"\"\"\n",
    "    with open(csv_file, \"r\") as csv_file_handle:\n",
    "        _, day, _ , dish_number, _, zoom_factor = csv_file.split(\"_\")\n",
    "        cell_counter = 0\n",
    "        cell_area_counter = 0\n",
    "        line_counter = 0\n",
    "        for line in csv_file_handle:\n",
    "            if line_counter != 0:\n",
    "                cell_counter += 1\n",
    "                cell_id, nucleus_x, nucleus_y, nucleus_area, cell_area, center_of_area_y, center_of_area_y = line.split(\",\")\n",
    "                cell_area_counter += float(cell_area)\n",
    "            line_counter += 1\n",
    "        if dish_number not in dishes.keys():\n",
    "            dishes[dish_number] = {}\n",
    "        dishes[dish_number][day] = {\n",
    "            \"cell_count\": cell_counter,\n",
    "            \"area\": cell_area_counter\n",
    "        } \n",
    "    return\n",
    "\n",
    "# Go through all files\n",
    "for csv_file in csv_files:\n",
    "    process_csv(csv_file, dishes)\n",
    "\n",
    "print(dishes)\n",
    "```\n",
    "\n",
    "</details>"
   ]
  },
  {
   "cell_type": "markdown",
   "id": "728146d6-2800-421a-a611-0c0faa687d1a",
   "metadata": {
    "editable": false,
    "slideshow": {
     "slide_type": ""
    },
    "tags": []
   },
   "source": [
    "## Looking at data\n",
    "\n",
    "Now we know how to make the code easy to read. This is good for us as programmers, but we are also scientists working with data, so we should discuss the datat too. What are data? Usually they are quantifiable observations or measurements, like the body-temperature of an animal or the number of times it pressed a button. So they are numbers. These numbers we have to present in a way, that they can be used in the program and understood by us and our peers.\n",
    "\n",
    "This is means we have to learn how to look at our data, how to write them down. Usually the numbers belong together, like multiple temperature measurements of the same animal, in this case we could call this a [dimension](https://en.wikipedia.org/wiki/Dimension_(vector_space)). Dimension usually refers to something you can measure along, like time, temperature or button-presses. So they correspond to variables. Imagine a dimension as a [number line](https://en.wikipedia.org/wiki/Number_line). On it goes everything an instrument produces, so if you have two thermometers you have two lines or two dimensions. If you have a clock this is another number line.\n",
    "\n",
    "Everytime you take readings from your instruments you write down all this numbers, getting a data point. So if you read of a clock and a thermometer you get a temperature and a time on two axis, a temperature and a time axis. If you read fast enough your points start to form patterns, if you connect them you get lines or plots.\n",
    "\n",
    "If you want to compare two experiments or two things you lay the axes over each other. So you put the time and temperature axes of experiment 1 over those of experiment 2, giving you two overlapping plots. The question when two points truly belong on the same axis and are in the same dimension and when they are not depends on the question you ask, but the principle stays the same.\n",
    "\n",
    "In general we have to discriminate between continious data like temperature and discrete data like number of button presses. Discrete means that there are steps or boxes, so in our case we have dish-1, dish-2, dish-3 but no dish-2.23 and the dishes are therefore discrete. The same is true for the number of cells as there can be no half or quater cell either there is a cell or there is none. Of yourse such a distinction becomes tricky if the cells start to divide, but these kind of problems you have to analyse yourself.\n",
    "\n",
    "As an exercise please think about the cancer-cell-dishes Bob wants to analyze. How many dimensions do you find there and are they discrete or continuous. Please note your results in the next cell."
   ]
  },
  {
   "cell_type": "raw",
   "id": "73f3f1a2-84ce-40d4-8fd0-2cf0c162a005",
   "metadata": {
    "editable": true,
    "raw_mimetype": "",
    "slideshow": {
     "slide_type": ""
    },
    "tags": []
   },
   "source": [
    "Enter your answer here."
   ]
  },
  {
   "cell_type": "markdown",
   "id": "33fdf4f1-7ce2-47f2-9456-3edb3ea79f91",
   "metadata": {
    "editable": false,
    "slideshow": {
     "slide_type": ""
    },
    "tags": []
   },
   "source": [
    "<details>\n",
    "  <summary>Click to reveal possible solution</summary>\n",
    "\n",
    "Remember looking at data is interpretation and while there are many wrong interpretations, there are also many right ones. You will learn with time which perspective or interpretation is beneficial to your work.\n",
    "\n",
    "For each day and dish we can measure a cell-count and cell-area, so we have four dimensions:\n",
    "- Days\n",
    "- Dishes\n",
    "- Cell-count\n",
    "- Cell-area\n",
    "\n",
    "Dishes and cell-count are discrete by nature as there are no half dishes or half cells. The later one is a conscious choice we made.\n",
    "By nature time is continuous, but Bob decided to measure once a day, so for us the time measured in days is discrete.\n",
    "The cell-area itself is by nature continuous, but the pictures contain pixels which are discrete, therefore the area became discrete.\n",
    "We however have a zoom which is according to our knowledge not discrete, so the area we have should be treated as continuous.\n",
    "\n",
    "This last point is rather subtle and you may have rightfully arrived at a different conclusion.\n",
    "\n",
    "</details>"
   ]
  },
  {
   "cell_type": "markdown",
   "id": "bc731198-10bf-48ff-aa02-7f79a069a7a9",
   "metadata": {
    "editable": false,
    "slideshow": {
     "slide_type": ""
    },
    "tags": []
   },
   "source": [
    "## Structuring data\n",
    "\n",
    "Now that we have identified our dimensions, we can now begin to store them. Usually you can split your dimensions/variables into controlled and resulting. Controlled variables are the ones you or the experiment designer decides on, like the number of days or the number of dishes. Resulting variables are usually what we are interested in like total cell-area or cell-count. These are usually hypothesized to [depend]( https://en.wikipedia.org/wiki/Dependent_and_independent_variables)  on the controlled ones. \n",
    "\n",
    "If you store your data you can rely on the fact, that there is a [countable]( https://en.wikipedia.org/wiki/Countable_set) and practical finite set of measurements. Countable means we can assign every measurement a number, so we can store them into a **list**. So the simplest way to store measurements is in **lists** sorted by the precise time or recording. This is usually not really helpful, so we return to the controlled variables and think about them.\n",
    "\n",
    "So we should store our data in a way we can access it by the controlled variables for easier access. So we store by day and dish number. Since both are contigious, meaning there are no gaps in our discrete numbers, we can store both of them in **lists**. So we store our data in two dimensions day and dish.\n",
    "\n",
    "Lastly we have to distinguish between the area and the cell-count. We currently do this by storing them in a **dict** with two entries. The fact that there are two entries means that we can understand the dict-entries as another dimension, so our data can be stored in a three dimensional structure. Which might similar to the next image from [wikipedia](https://upload.wikimedia.org/wikipedia/commons/thumb/7/71/Epsilontensor.svg/640px-Epsilontensor.svg.png).\n",
    "\n",
    "![Epsilon-tensor](https://upload.wikimedia.org/wikipedia/commons/thumb/7/71/Epsilontensor.svg/640px-Epsilontensor.svg.png)\n",
    "\n",
    "In our case it would be just two tables stacked behind each other, corresponding to the area and the cell-count. We now have to ask ourselves how we should store this three dimensional data to keep it easily accessible . The obvious choice is to distinguish between cell-area and cell-count, but not so obvious is how we wish to distinguish. The simple approach is to use a **list**.\n",
    "```Python\n",
    "cells = [cell_area, cell_count]\n",
    "```\n",
    "The problem is obviously that ```cells[0]``` and ```cells[1]``` do not really tell us what we get, so we should use a **dict**.\n",
    "\n",
    "```Python\n",
    "cells = {\"area\": cell_area, \"cell_count\": cell_count}\n",
    "```\n",
    "Now ```cells[\"area\"]``` and ```cells[\"count\"]``` are in my opinion much more readable than just numbers, so I think we should choose this option.\n",
    "\n",
    "Next we should think about how we should store the contents of the tables. Here I would advocate for lists so we can iterate though them, the question is should we first select the dish and then the day or first the day and then the dish. \n",
    "The consideration here is what we will more likely access together, all data of one dish or all data of one day, since the dishes are physically separated and Bob wants to investigate the growth, so we may wish to see changes overtime meaning that the contents of a dish should stay together. This means we will have a **list** that contains the dishes and the dishes themselves are **lists** containing the values for the days. In code this would look like this:\n",
    "\n",
    "```Python\n",
    "# Creation of the lists\n",
    "cells = {\n",
    "\t\"area\": [\n",
    "\t\t# Dish 1\n",
    "\t\t[ \n",
    "            # Day 1\n",
    "            12,\n",
    "            # Day 2\n",
    "            20\n",
    "            # Day 3\n",
    "            43,\n",
    "             #...\n",
    "\t\t],\n",
    "\t\t# Dish 2\n",
    "\t\t#....\n",
    "\t],\n",
    "\t\"count\": [\n",
    "\t\t# …\t\n",
    "\t]\n",
    "}\n",
    "\n",
    "# Accesing cell-count Dish 2 day 9\n",
    "# Remember lists start at 0\n",
    "cell_count = cells[\"count\"][1][8]\n",
    "```\n",
    "\n",
    "Please grab a piece of paper if you have one and write down some example data \"(dish, day):(area, count)\". Fill them out with numbers so dishes 1-3 and day 1-3. Now copy them once for area \"(dish, day):(area)\" and once for count \"(dish, day):(count)\". Lastly transfer them into tables with the dish as the major or vertical and the day as the minor or horizontal coordinate using glue and scissors is encouraged. Now put both tables behind each other, to visualize the data-structure we want to create."
   ]
  },
  {
   "cell_type": "markdown",
   "id": "78d8ff26-ae1a-4cb6-a254-74d807634432",
   "metadata": {
    "editable": false,
    "slideshow": {
     "slide_type": ""
    },
    "tags": []
   },
   "source": [
    "## Data transformation\n",
    "\n",
    "Now how do we get from the ```dishes``` we created earlier to the ```cells``` we want. Remembering the last excersice \n",
    "\n",
    "Remembering the last exercise and the example we need two entries in a **dict**, which will contain **lists** representing dishes containing **lists** representing days with entries.\n",
    "So we first create the **dict** with the **lists**.\n",
    "```Python\n",
    "area = []\n",
    "count = []\n",
    "cells = {\"area\": area, \"count\": count}\n",
    "```\n",
    "\n",
    "Then iterate over the dishes to get their contents:\n",
    "```Python\n",
    "for dish_number in range(1, len(dishes) + 1, 1):\n",
    "    dish = dishes[str(dish_number)]\n",
    "```\n",
    "\n",
    "We need a new **list** for every day, so we create them:\n",
    "```Python\n",
    "    dish_area = []\n",
    "    dish_count = []\n",
    "```\n",
    "Lastly we iterate over the days and ```append``` the values. Please do this and complete the transformation. Use ```print(cells)``` in the end to confirm you achieved your goal."
   ]
  },
  {
   "cell_type": "code",
   "execution_count": null,
   "id": "3d8f68ed-5185-4fb7-8503-3fa774a52709",
   "metadata": {
    "editable": true,
    "slideshow": {
     "slide_type": ""
    },
    "tags": []
   },
   "outputs": [],
   "source": [
    "# Write your code here"
   ]
  },
  {
   "cell_type": "markdown",
   "id": "41f00503-2996-4b71-89bf-18628891df84",
   "metadata": {
    "editable": true,
    "slideshow": {
     "slide_type": ""
    },
    "tags": []
   },
   "source": [
    "<details>\n",
    "  <summary>Click to reveal solution</summary>\n",
    "\n",
    "```Python\n",
    "area = []\n",
    "count = []\n",
    "cells = {\"area\": area, \"count\": count}\n",
    "# We know that the dishes are numbered so we iterate over them\n",
    "for dish_number in range(1, len(dishes) + 1, 1):\n",
    "    dish = dishes[str(dish_number)]\n",
    "    dish_area = []\n",
    "    dish_count = []\n",
    "    # We know that the days in the dishes are numbered\n",
    "    for day_number in range(1, len(dish) + 1, 1):\n",
    "        value_pair = dish[str(day_number)]\n",
    "        day_area = value_pair[\"area\"]\n",
    "        day_count = value_pair[\"cell_count\"]\n",
    "        dish_area.append(day_area)\n",
    "        dish_count.append(day_count)\n",
    "    area.append(dish_area)\n",
    "    count.append(dish_count)\n",
    "print(cells)\n",
    "```\n",
    "\n",
    "</details>"
   ]
  },
  {
   "cell_type": "markdown",
   "id": "b6efea5b-0809-4448-a538-1678bb8885ee",
   "metadata": {
    "editable": true,
    "slideshow": {
     "slide_type": ""
    },
    "tags": []
   },
   "source": [
    "## Reminder readability\n",
    "\n",
    "Of course your solution is rather long, so let me present to you a shorter version:\n",
    "\n",
    "```Python\n",
    "count = [[dishes[dish_number][day][\"cell_count\"] for day in sorted(dishes[dish_number].keys(), key=int)] for dish_number in sorted(dishes.keys(), key=int)]\n",
    "area = [[dishes[dish_number][day][\"area\"] for day in  sorted(dishes[dish_number].keys(), key=int)] for dish_number in sorted(dishes.keys(), key=int)]\n",
    "cells = {\"area\": area, \"count\": count}\n",
    "print(cells)\n",
    "```\n",
    "\n",
    "If you feel confused now remember that is how unreadable code feels. Please do not write it. If you return here after working with python for a year these lines will be clear to you, because you are used to write like that. Please whenever you write, remember to ask yourself what your audience does or does not know and adopt your code accordingly."
   ]
  },
  {
   "cell_type": "markdown",
   "id": "b9b471ef-cdd7-4da6-955f-add04d58fbb3",
   "metadata": {
    "editable": true,
    "slideshow": {
     "slide_type": ""
    },
    "tags": []
   },
   "source": [
    "I assume you have some questions. Please ask them now, so you have understood all relevant concepts before we move on to classes and using other people code in the next unit."
   ]
  }
 ],
 "metadata": {
  "kernelspec": {
   "display_name": "Python 3 (ipykernel)",
   "language": "python",
   "name": "python3"
  },
  "language_info": {
   "codemirror_mode": {
    "name": "ipython",
    "version": 3
   },
   "file_extension": ".py",
   "mimetype": "text/x-python",
   "name": "python",
   "nbconvert_exporter": "python",
   "pygments_lexer": "ipython3",
   "version": "3.12.7"
  }
 },
 "nbformat": 4,
 "nbformat_minor": 5
}
