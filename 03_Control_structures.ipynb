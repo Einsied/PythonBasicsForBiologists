{
 "cells": [
  {
   "cell_type": "markdown",
   "id": "30892b83-b1d0-4cb0-b975-166669f8e55e",
   "metadata": {
    "editable": false,
    "slideshow": {
     "slide_type": ""
    },
    "tags": []
   },
   "source": [
    "# Control Structures"
   ]
  },
  {
   "cell_type": "markdown",
   "id": "ef07fe4c-fa52-4847-8778-6a76f6bb89aa",
   "metadata": {
    "editable": false,
    "slideshow": {
     "slide_type": ""
    },
    "tags": []
   },
   "source": [
    "## Recall\n",
    "\n",
    "Last unit we learned about **operators** and data-**types**. **Operators** like ```+```, ```/``` or ```<```, allow us to work with **variables** containing different **values**. With the help of **lists** we van group **ints**, **floats**, **strs** and other data-**types** together.\n",
    "\n",
    "The combination of these allowed us to formulate most of the building blocks for our final algorithm.\n",
    "\n",
    "1. [x] We open the file ```csv_file = open(\"./data/Day_1_dish_1_zoom_3.csv\")```\n",
    "2. [x] We figure out what day and dish it is ```_, day, _ , dish_number, _, zoom_factor = csv_file_name.split(\"_\") ```\n",
    "3. [x] We create a counter for the number of cells ```cell_counter = 0``` \n",
    "4. [x] We create a counter for the area covered by the cells ```cell_area_counter = 0```\n",
    "5. [ ] We ignore the first line \n",
    "6. [ ] For every line we do the following:\n",
    "    1. [x] We increase the cell counter ```cell_counter += 1```\n",
    "    2. [x] We add the cell area to the cell-area counter ```cell_area_counter += cell_area```\n",
    "7. [x] We save the cell-counter ```cell_counter_dish_1_list.append(cell_counter)```\n",
    "8. [x] We save the area counter ```cell_area_counter_dish_1_list.append(cell_counter)```\n",
    "\n",
    "To fill out the missing gaps and solve Bobs-cell-counting problem we also have to recall the the first unit. In the first unit we used ```if_less``` and ```goto``` to jump around in our pseudo-assembly-code. We now want to learn how this is done in Python."
   ]
  },
  {
   "cell_type": "markdown",
   "id": "5a5e6d28-7bf6-447f-8afe-117070938b19",
   "metadata": {
    "editable": true,
    "slideshow": {
     "slide_type": ""
    },
    "tags": []
   },
   "source": [
    "## If-statement\n",
    "The if-statement is rather simple it consists of the keyword ```if``` followed by something that is or can be converted into a **bool**, ```:``` and then an indented block of further instructions. These instructions are executed if the condition between the keyword and ```:``` is ```True```.\n",
    "Here is a code snippet illustrating the use of the if-statement. \n",
    "```Python\n",
    "if True:\n",
    "\tprint(\"Hello\")\n",
    "if False:\n",
    "\tprint(\"world!\")\n",
    "```\n",
    "\n",
    "Please predict what this snippet will print and then try it in the next block."
   ]
  },
  {
   "cell_type": "code",
   "execution_count": null,
   "id": "3fb4e400-fa2e-41ba-8d10-94af266dd408",
   "metadata": {
    "editable": true,
    "slideshow": {
     "slide_type": ""
    },
    "tags": []
   },
   "outputs": [],
   "source": [
    "# Copy the code here"
   ]
  },
  {
   "cell_type": "markdown",
   "id": "9c26d75b-e95b-42fd-b914-93638db82ca3",
   "metadata": {
    "editable": false,
    "slideshow": {
     "slide_type": ""
    },
    "tags": []
   },
   "source": [
    "The if-statement can be expanded with two optional statements. ```else``` and ```elif``` short for “else-if”. The elif-code is executed if the if-statement is not executed and its condition is ```True```. The ```else```-statement is executed if no if- or elif-statement was executed.\n",
    "Here is a short snippet to demonstrate the use of an if-statement with ```elif``` and ```else```:\n",
    "```Python\n",
    "a = 5\n",
    "b = 6\n",
    "if a < b:\n",
    "\tprint(\"a is smaller than b\")\n",
    "elif a == b:\n",
    "\tprint(\"a is equal b\")\n",
    "else:\n",
    "\tprint(\"a is bigger than b\")\n",
    "```\n",
    "\n",
    "Copy the code into the next boy and change ```a``` and ```b``` until all three messages were printed.\n"
   ]
  },
  {
   "cell_type": "code",
   "execution_count": null,
   "id": "399b78fc-f23e-44e6-b135-a6886da2eb64",
   "metadata": {
    "editable": true,
    "slideshow": {
     "slide_type": ""
    },
    "tags": []
   },
   "outputs": [],
   "source": [
    "# Copy the code here and then modify it"
   ]
  },
  {
   "cell_type": "markdown",
   "id": "06e382b6-6866-4b55-b27f-9bc68a59e665",
   "metadata": {
    "editable": false,
    "slideshow": {
     "slide_type": ""
    },
    "tags": []
   },
   "source": [
    "## While loop\n",
    "The next statement is the while-loop. It consists of the keyword ```while``` followed by something that can be converted into a **bool**, ```:``` and then an indented block of instructions.  These instructions are executed while the condition between the keyword and ```:``` remains ```True```.\n",
    "Here is a short example of a while loop:\n",
    "```Python\n",
    "counter = 0\n",
    "while counter < 20:\n",
    "\tprint(counter)\n",
    "\tcounter += 1\n",
    "```\n",
    "\n",
    "Please predict what this code will print before you copy and execute it."
   ]
  },
  {
   "cell_type": "code",
   "execution_count": null,
   "id": "4504e93b-ac29-460d-8e8c-fac85dc54573",
   "metadata": {
    "editable": true,
    "slideshow": {
     "slide_type": ""
    },
    "tags": []
   },
   "outputs": [],
   "source": [
    "# Copy the code here"
   ]
  },
  {
   "cell_type": "markdown",
   "id": "c86c44a0-9bc6-4a6c-b935-613230681999",
   "metadata": {
    "editable": false,
    "slideshow": {
     "slide_type": ""
    },
    "tags": []
   },
   "source": [
    "## For loop\n",
    "The last control-structure is the for-loop. It works similar to the while loop, but it iterates over a sequence like a **list** or **tuple**. It consists of the keyword ```for``` followed by the variable name the current element will have followed by the keyword ```in``` followed by a sequence (e.g. **list**), ```:``` and an indented block of instructions.\n",
    "Here is an example of a for-loop:\n",
    "```Python\n",
    "elements = [\"Hello\", \"\", \"world\", \"\", \"!\", 42, 3.0, True]\n",
    "for element in elements:\n",
    "\tprint(element)\n",
    "```\n",
    "Please predict the output of this code snippet before executing it in the next block."
   ]
  },
  {
   "cell_type": "code",
   "execution_count": null,
   "id": "b9b4509e-8dab-4181-b9a2-d5f9b46a00bb",
   "metadata": {
    "editable": true,
    "slideshow": {
     "slide_type": ""
    },
    "tags": []
   },
   "outputs": [],
   "source": [
    "# Copy the code here"
   ]
  },
  {
   "cell_type": "markdown",
   "id": "b171b564-2694-4120-9497-1bfa8ad744a3",
   "metadata": {
    "editable": false,
    "slideshow": {
     "slide_type": ""
    },
    "tags": []
   },
   "source": [
    "## Break and continue\n",
    "Within loops two special-statements can be used the ```break```-statement breaking out of the loop and the ```continue``` statement jumping to the beginning of the next loop cycle. Since they change the flow of the loop they are almost always encountered within an if-statement.\n",
    "Here is an example of a for-loop with ```break``` and ```continue```.\n",
    "```Python\n",
    "elements = [1, 2, 3, 4, 5, 6, 7, 8, 9, 10]\n",
    "for element in elements:\n",
    "\tif element in [2, 3, 5, 7]:\n",
    "\t\tcontinue\n",
    "\tif element > 8:\n",
    "\t\tprint(\"Breaking\")\n",
    "        break\n",
    "\tprint(element)\n",
    "```\n",
    "\n",
    "Please predict what this code prints before you execute it and compare your prediction to the actual results."
   ]
  },
  {
   "cell_type": "code",
   "execution_count": null,
   "id": "991f0f2e-fe04-4132-8ab6-189e55cafe00",
   "metadata": {
    "editable": true,
    "slideshow": {
     "slide_type": ""
    },
    "tags": []
   },
   "outputs": [],
   "source": [
    "# Copy the code here"
   ]
  },
  {
   "cell_type": "markdown",
   "id": "50f8756f-3b33-453d-83eb-11f7db0d8aa4",
   "metadata": {
    "editable": false,
    "slideshow": {
     "slide_type": ""
    },
    "tags": []
   },
   "source": [
    "## Range and len\n",
    "We often want to iterate over a range of numbers. We can use a for-loop and ```range``` for this. ```range``` is a **function** taking 3 **arguments** ```start```, ```end``` and ```step```. So if we write ```small_numbers = range(0, 10, 1)``` we get all number beginning from ```0``` to ```9```. So ```end``` is not included in the range. \n",
    "This may seem weird, but can be attributed to the way **lists** work. Since **lists** start at ```0``` a list with 10 elements is indexed by ```0```, ```1```, ```2```, ```3```, ```4```, ```5```, ```6```, ```7```, ```8``` and ```9``` or ```range(0, 10, 1)```. \n",
    "This becomes more convenient if we use ```len```. ```len``` is a **function** that return the length of its **argument**. \n",
    "Now let us see both of them in action:\n",
    "```Python\n",
    "names = [\"John Doe\", \"Erika Musterfrau\", \"Max Mustermann\", \"Karl Dosenkohl\", \"Hein Janmaat\", \"Juan Pérez\", \"Kalle Svensson\", \"Fred Bloggs\"]\n",
    "for index in range(0, len(names), 1):\n",
    "\tprint(names[index])\n",
    "```\n",
    "\n",
    "Please copy and execute the code, then adapt it so that only every second name is printed"
   ]
  },
  {
   "cell_type": "code",
   "execution_count": null,
   "id": "82f0739a-192b-4985-ba44-ca9cbcbfe0e0",
   "metadata": {
    "editable": true,
    "slideshow": {
     "slide_type": ""
    },
    "tags": []
   },
   "outputs": [],
   "source": [
    "# Copy the code here"
   ]
  }
 ],
 "metadata": {
  "kernelspec": {
   "display_name": "Python 3 (ipykernel)",
   "language": "python",
   "name": "python3"
  },
  "language_info": {
   "codemirror_mode": {
    "name": "ipython",
    "version": 3
   },
   "file_extension": ".py",
   "mimetype": "text/x-python",
   "name": "python",
   "nbconvert_exporter": "python",
   "pygments_lexer": "ipython3",
   "version": "3.12.7"
  }
 },
 "nbformat": 4,
 "nbformat_minor": 5
}
