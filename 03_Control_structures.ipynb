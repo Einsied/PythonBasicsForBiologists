{
 "cells": [
  {
   "cell_type": "markdown",
   "id": "30892b83-b1d0-4cb0-b975-166669f8e55e",
   "metadata": {
    "editable": false,
    "slideshow": {
     "slide_type": ""
    },
    "tags": []
   },
   "source": [
    "# Control Structures"
   ]
  },
  {
   "cell_type": "markdown",
   "id": "4d808782-00fb-40da-b657-fa6833775126",
   "metadata": {
    "editable": false,
    "slideshow": {
     "slide_type": ""
    },
    "tags": []
   },
   "source": [
    "## Table of contents\n",
    "\n",
    "1. [Recall](#Recall)\n",
    "2. [If-statement](#If-statement)\n",
    "3. [While loop](#While-loop)\n",
    "4. [For loop](#For-loop)\n",
    "5. [Break and continue](#Break-and-continue)\n",
    "6. [Range and len](#Range-and-len)\n",
    "7. [Updating algorithm](#Updating-algorithm)\n",
    "8. [Need for order](#Need-for-order)\n",
    "9. [Functions](#Functions)\n",
    "10. [Writing a program](#Writing-a-program)\n",
    "    1. [Design](#Design)\n",
    "    2. [Skeleton](#Skeleton)\n",
    "    3. [Test](#Test)\n",
    "    4. [Flesh out the skeleton](#Flesh-out-the-skeleton)"
   ]
  },
  {
   "cell_type": "markdown",
   "id": "ef07fe4c-fa52-4847-8778-6a76f6bb89aa",
   "metadata": {
    "editable": false,
    "slideshow": {
     "slide_type": ""
    },
    "tags": []
   },
   "source": [
    "## Recall\n",
    "\n",
    "Last unit we learned about **operators** and data-**types**.\n",
    "**Operators** like ```+```, ```/``` or ```<```, allow us to work with **variables** containing different **values**.\n",
    "With the help of **lists** we van group **ints**, **floats**, **strs** and other data-**types** together.\n",
    "\n",
    "The combination of these allowed us to formulate a first partial version of our final algorithm.\n",
    "\n",
    "```Python\n",
    "units_file = open(\"./data_neuron/session_2023111501010_units.csv\")\n",
    "# Skip the first row\n",
    "# Figure out when the last spike occurs in seconds\n",
    "seconds_column = list()\n",
    "seconds_counter = 1\n",
    "# For every second between 1 and the last spikes oocurance:\n",
    "    seconds_column.append(seconds_counter)\n",
    "    seconds_counter += 1\n",
    "table = [seconds]\n",
    "unit_columns = dict()\n",
    "# For every unit:\n",
    "    unit_column = seconds_column.copy()\n",
    "    # For every second in unit_column\n",
    "        unit_column[second] = 0\n",
    "    unit_columns[unit_if] = unit_column\n",
    "# For every row in the unit file:\n",
    "    rat_id, unit_id, channel, spike_time = row.split(\",\")\n",
    "    unit_columns[unit_id][int(spike_time)] += 1\n",
    "# For every unit:\n",
    "    table.append(unit_column)\n",
    "immobility_file = open(\"./data_neuron/session_2023111501010_immobility.csv\")\n",
    "immobility_phases = list()\n",
    "# Skip the first row in immobility file\n",
    "# For every row in the immobility file after the first:\n",
    "    begin_seconds, end_seconds = rown.split(\",\")```\n",
    "    immobility_phases.append((float(begin_seconds), float(end_seconds)))\n",
    "immobility_column = seconds_column.copy()\n",
    "# For every second in the immobility-list:\n",
    "    is_in_phase = False\n",
    "    # For every phase in immobility-list\n",
    "        begin_in_seconds = phase[0]\n",
    "        end_in_seconds = phase[1]\n",
    "        is_in_phase = second > begin_in_seconds and second < end_in_seconds\n",
    "        # If yes stop\n",
    "table.append(immobility_column)\n",
    "```\n",
    "\n",
    "To fill out the missing gaps and find the oxytocin unit, we should recall the fist module.\n",
    "In the first module we used ```if_less``` and ```goto``` to jump around in our pseudo-assembly-code.\n",
    "We now want to learn how this is done in Python."
   ]
  },
  {
   "cell_type": "markdown",
   "id": "5a5e6d28-7bf6-447f-8afe-117070938b19",
   "metadata": {
    "editable": false,
    "slideshow": {
     "slide_type": ""
    },
    "tags": []
   },
   "source": [
    "## If-statement\n",
    "The if-statement is rather simple it consists of the keyword ```if``` followed by something that is or can be converted into a **bool**, ```:``` and then an indented block of further instructions.\n",
    "These instructions are executed if the condition between the keyword and ```:``` is ```True```.\n",
    "Here is a code snippet illustrating the use of the if-statement. \n",
    "```Python\n",
    "if True:\n",
    "\tprint(\"Hello\")\n",
    "if False:\n",
    "\tprint(\"world!\")\n",
    "```\n",
    "\n",
    "Please predict what this snippet will print and then try it in the next block."
   ]
  },
  {
   "cell_type": "code",
   "execution_count": null,
   "id": "3fb4e400-fa2e-41ba-8d10-94af266dd408",
   "metadata": {
    "editable": true,
    "slideshow": {
     "slide_type": ""
    },
    "tags": []
   },
   "outputs": [],
   "source": [
    "# Copy the code here\n",
    "if True:\n",
    "    print(\"Hello\")\n",
    "if False:\n",
    "    print(\"world!\")"
   ]
  },
  {
   "cell_type": "markdown",
   "id": "9c26d75b-e95b-42fd-b914-93638db82ca3",
   "metadata": {
    "editable": false,
    "slideshow": {
     "slide_type": ""
    },
    "tags": []
   },
   "source": [
    "The if-statement can be expanded with two optional statements.\n",
    "```else``` and ```elif``` short for “else-if”.\n",
    "The elif-code is executed if the if-statement is not executed and its condition is ```True```.\n",
    "The ```else```-statement is executed if no if- or elif-statement was executed.\n",
    "Here is a short snippet to demonstrate the use of an if-statement with ```elif``` and ```else```:\n",
    "```Python\n",
    "a = 5\n",
    "b = 6\n",
    "if a < b:\n",
    "\tprint(\"a is smaller than b\")\n",
    "elif a == b:\n",
    "\tprint(\"a is equal b\")\n",
    "else:\n",
    "\tprint(\"a is bigger than b\")\n",
    "```\n",
    "\n",
    "Copy the code into the next boy and change ```a``` and ```b``` until all three messages were printed."
   ]
  },
  {
   "cell_type": "code",
   "execution_count": null,
   "id": "399b78fc-f23e-44e6-b135-a6886da2eb64",
   "metadata": {
    "editable": true,
    "slideshow": {
     "slide_type": ""
    },
    "tags": []
   },
   "outputs": [],
   "source": [
    "# Copy the code here and then modify it\n",
    "\n",
    "a = 5\n",
    "b = 6\n",
    "if a < b:\n",
    "    print(\"a is smaller than b\")\n",
    "elif a == b:\n",
    "    print(\"a is equal b\")\n",
    "else:\n",
    "    print(\"a is bigger than b\")"
   ]
  },
  {
   "cell_type": "markdown",
   "id": "06e382b6-6866-4b55-b27f-9bc68a59e665",
   "metadata": {
    "editable": false,
    "slideshow": {
     "slide_type": ""
    },
    "tags": []
   },
   "source": [
    "## While loop\n",
    "The next statement is the while-loop.\n",
    "It consists of the keyword ```while``` followed by something that can be converted into a **bool**, ```:``` and then an indented block of instructions.\n",
    "These instructions are executed while the condition between the keyword and ```:``` remains ```True```.\n",
    "Here is a short example of a while loop:\n",
    "```Python\n",
    "counter = 0\n",
    "while counter < 20:\n",
    "\tprint(counter)\n",
    "\tcounter += 1\n",
    "```\n",
    "\n",
    "Please predict what this code will print before you copy and execute it."
   ]
  },
  {
   "cell_type": "code",
   "execution_count": null,
   "id": "4504e93b-ac29-460d-8e8c-fac85dc54573",
   "metadata": {
    "editable": true,
    "slideshow": {
     "slide_type": ""
    },
    "tags": []
   },
   "outputs": [],
   "source": [
    "# Copy the code here\n",
    "counter = 0\n",
    "while counter < 20:\n",
    "    print(counter)\n",
    "    counter += 1"
   ]
  },
  {
   "cell_type": "markdown",
   "id": "c86c44a0-9bc6-4a6c-b935-613230681999",
   "metadata": {
    "editable": false,
    "slideshow": {
     "slide_type": ""
    },
    "tags": []
   },
   "source": [
    "## For loop\n",
    "The last control-structure is the for-loop.\n",
    "It works similar to the while loop, but it iterates over a sequence like a **list** or **tuple**.\n",
    "It consists of the keyword ```for``` followed by the variable name the current element will have followed by the keyword ```in``` followed by a sequence (e.g. **list**), ```:``` and an indented block of instructions.\n",
    "Here is an example of a for-loop:\n",
    "```Python\n",
    "elements = [\"Hello\", \"\", \"world\", \"\", \"!\", 42, 3.0, True]\n",
    "for element in elements:\n",
    "\tprint(element)\n",
    "```\n",
    "Please predict the output of this code snippet before executing it in the next block."
   ]
  },
  {
   "cell_type": "code",
   "execution_count": null,
   "id": "b9b4509e-8dab-4181-b9a2-d5f9b46a00bb",
   "metadata": {
    "editable": true,
    "slideshow": {
     "slide_type": ""
    },
    "tags": []
   },
   "outputs": [],
   "source": [
    "# Copy the code here\n",
    "elements = [\"Hello\", \"\", \"world\", \"\", \"!\", 42, 3.0, True]\n",
    "for element in elements:\n",
    "    print(element)"
   ]
  },
  {
   "cell_type": "markdown",
   "id": "b171b564-2694-4120-9497-1bfa8ad744a3",
   "metadata": {
    "editable": false,
    "slideshow": {
     "slide_type": ""
    },
    "tags": []
   },
   "source": [
    "## Break and continue\n",
    "Within loops two special-statements can be used the ```break```-statement breaking out of the loop and the ```continue``` statement jumping to the beginning of the next loop cycle.\n",
    "Since they change the flow of the loop they are almost always encountered within an if-statement.\n",
    "Here is an example of a for-loop with ```break``` and ```continue```.\n",
    "```Python\n",
    "elements = [1, 2, 3, 4, 5, 6, 7, 8, 9, 10]\n",
    "for element in elements:\n",
    "\tif element in [2, 3, 5, 7]:\n",
    "\t\tcontinue\n",
    "\tif element > 8:\n",
    "\t\tprint(\"Breaking\")\n",
    "        break\n",
    "\tprint(element)\n",
    "```\n",
    "\n",
    "Please predict what this code prints before you execute it and compare your prediction to the actual results."
   ]
  },
  {
   "cell_type": "code",
   "execution_count": null,
   "id": "991f0f2e-fe04-4132-8ab6-189e55cafe00",
   "metadata": {
    "editable": true,
    "slideshow": {
     "slide_type": ""
    },
    "tags": []
   },
   "outputs": [],
   "source": [
    "# Copy the code here\n",
    "\n",
    "\n",
    "elements = [1, 2, 3, 4, 5, 6, 7, 8, 9, 10]\n",
    "for element in elements:\n",
    "    if element in [2, 3, 5, 7]:\n",
    "        continue\n",
    "    if element > 8:\n",
    "        print(\"Breaking\")\n",
    "        break\n",
    "    print(element)"
   ]
  },
  {
   "cell_type": "markdown",
   "id": "50f8756f-3b33-453d-83eb-11f7db0d8aa4",
   "metadata": {
    "editable": false,
    "slideshow": {
     "slide_type": ""
    },
    "tags": []
   },
   "source": [
    "## Range and len\n",
    "We often want to iterate over a range of numbers.\n",
    "We can use a for-loop and ```range``` for this.\n",
    "```range``` is a **function** taking 3 **arguments** ```start```, ```end``` and ```step```.\n",
    "So if we write ```small_numbers = range(0, 10, 1)``` we get all number beginning from ```0``` to ```9```.\n",
    "So ```end``` is not included in the range. \n",
    "This may seem weird, but can be attributed to the way **lists** work.\n",
    "Since **lists** start at ```0``` a list with 10 elements is indexed by ```0```, ```1```, ```2```, ```3```, ```4```, ```5```, ```6```, ```7```, ```8``` and ```9``` or ```range(0, 10, 1)```. \n",
    "This becomes more convenient if we use ```len```. ```len``` is a **function** that return the length of its **argument**. \n",
    "Now let us see both of them in action:\n",
    "```Python\n",
    "names = [\"John Doe\", \"Erika Musterfrau\", \"Max Mustermann\", \"Karl Dosenkohl\", \"Hein Janmaat\", \"Juan Pérez\", \"Kalle Svensson\", \"Fred Bloggs\"]\n",
    "for index in range(0, len(names), 1):\n",
    "\tprint(names[index])\n",
    "```\n",
    "\n",
    "Please copy and execute the code, then adapt it so that only every second name is printed."
   ]
  },
  {
   "cell_type": "code",
   "execution_count": null,
   "id": "82f0739a-192b-4985-ba44-ca9cbcbfe0e0",
   "metadata": {
    "editable": true,
    "slideshow": {
     "slide_type": ""
    },
    "tags": []
   },
   "outputs": [],
   "source": [
    "# Copy the code here"
   ]
  },
  {
   "cell_type": "markdown",
   "id": "0f20deb2-f639-493e-8434-644000932cc5",
   "metadata": {
    "editable": false,
    "slideshow": {
     "slide_type": ""
    },
    "tags": []
   },
   "source": [
    "<details>\n",
    "  <summary>Click to reveal solution</summary>\n",
    "\n",
    "```Python\n",
    "names = [\"John Doe\", \"Erika Musterfrau\", \"Max Mustermann\", \"Karl Dosenkohl\", \"Hein Janmaat\", \"Juan Pérez\", \"Kalle Svensson\", \"Fred Bloggs\"]\n",
    "for index in range(0, len(names), 2):\n",
    "    print(names[index])\n",
    "```\n",
    "\n",
    "</details>"
   ]
  },
  {
   "cell_type": "markdown",
   "id": "7fb55be8-347a-439c-b5fb-b90643a43072",
   "metadata": {
    "editable": false,
    "slideshow": {
     "slide_type": ""
    },
    "tags": []
   },
   "source": [
    "## Updating algorithm\n",
    "\n",
    "With this knowledge we can now finish our script:\n",
    "\n",
    "```Python\n",
    "units_file = open(\"./data_neuron/session_2023111501010_units.csv\")\n",
    "firts_row_unit_file = True\n",
    "last_spike_occurance = 0\n",
    "units = set()\n",
    "for row in units_file:\n",
    "    if firts_row_unit_file:\n",
    "        firts_row_unit_file = False\n",
    "        continue\n",
    "    rat_id, unit_id, channel, spike_time = row.split(\",\")\n",
    "    unit_id = int(unit_id)\n",
    "    if unit_id not in units:\n",
    "        units.add(unit_id)\n",
    "    spike_time = float(spike_time)\n",
    "    spike_time_rounded_up = int(spike_time) + 1\n",
    "    if last_spike_occurance < spike_time_rounded_up:\n",
    "        last_spike_occurance = spike_time_rounded_up\n",
    "units_file.close()\n",
    "\n",
    "seconds_column = list()\n",
    "seconds_counter = 1\n",
    "for second in range(1, last_spike_occurance):\n",
    "    seconds_column.append(seconds_counter)\n",
    "    seconds_counter += 1\n",
    "table = [seconds]\n",
    "\n",
    "unit_columns = dict()\n",
    "for unit_id in units:\n",
    "    unit_column = seconds_column.copy()\n",
    "    for table_index in range(0, len(seconds_column)):\n",
    "        unit_column[table_index] = 0\n",
    "    unit_columns[unit_id] = unit_column\n",
    "\n",
    "units_file = open(\"./data_neuron/session_2023111501010_units.csv\")\n",
    "firts_row_unit_file = True\n",
    "for row in units_file:\n",
    "    if firts_row_unit_file:\n",
    "        firts_row_unit_file = False\n",
    "        continue\n",
    "    rat_id, unit_id, channel, spike_time = row.split(\",\")\n",
    "    spike_time = float(spike_time)\n",
    "    unit_id = int(unit_id)\n",
    "    unit_columns[unit_id][int(spike_time)] += 1\n",
    "for unit in unit_columns.keys():\n",
    "    table.append(unit_columns[unit])\n",
    "    \n",
    "immobility_file = open(\"./data_neuron/session_2023111501010_immobility.csv\")\n",
    "immobility_phases = list()\n",
    "firts_row_immobility_file = True\n",
    "for row in immobility_file:\n",
    "    if firts_row_immobility_file:\n",
    "        firts_row_immobility_file = False\n",
    "        continue\n",
    "    begin_seconds, end_seconds = row.split(\",\")\n",
    "    immobility_phases.append((float(begin_seconds), float(end_seconds)))\n",
    "immobility_column = seconds_column.copy()\n",
    "for table_index in range(0, len(seconds_column)):\n",
    "    second = seconds_column[table_index]\n",
    "    is_in_phase = False\n",
    "    for phase in immobility_phases:\n",
    "        begin_in_seconds = phase[0]\n",
    "        end_in_seconds = phase[1]\n",
    "        is_in_phase = second > begin_in_seconds and second < end_in_seconds\n",
    "        if is_in_phase:\n",
    "            break\n",
    "    immobility_column[table_index] = is_in_phase\n",
    "table.append(immobility_column)\n",
    "```"
   ]
  },
  {
   "cell_type": "markdown",
   "id": "3aa3946a-b85d-43e3-bb5d-79edc0c33d38",
   "metadata": {
    "editable": false,
    "slideshow": {
     "slide_type": ""
    },
    "tags": []
   },
   "source": [
    "## Need for order\n",
    "\n",
    "As you can see the code while complete is now rather long and complex.\n",
    "This makes it more difficult to read.\n",
    "Considering that, code is more often read than written, improving readability will be our next topic."
   ]
  },
  {
   "cell_type": "markdown",
   "id": "cd653571-38ac-4e99-9eec-bd3a1b5cb69e",
   "metadata": {
    "editable": false,
    "slideshow": {
     "slide_type": ""
    },
    "tags": []
   },
   "source": [
    "## Functions\n",
    "\n",
    "After we used ```range``` and ```len``` previously, let us talk more about what they are: **functions**.\n",
    "From a language perspective **functions** are similar to **operators** they take a number of **values** and often become/**return** a **value**.\n",
    "So instead of ```sum = a + b``` we might write ```sum = add(a, b)```. \n",
    "From a code-structure perspective they are organizational units or **abstractions** that combine multiple lines of code into a single thing.\n",
    "They are therefore constructed from other **functions** and **operators**.\n",
    "Let us write an ```add``` **function** so we can investigate its parts.\n",
    "```Python\n",
    "def add(a, b):\n",
    "\tsum = a + b\n",
    "\treturn sum\n",
    "```\n",
    "As you can see a **function** looks quite similar to the other control-structures.\n",
    "It starts with the keyword ```def``` (like define) followed by the name of the **function**,\n",
    "```(``` the **arguments** of the **function**, ```)```, ```:``` and an indented block of instructions.\n",
    "\n",
    "The name of the function is used to call it later so our example **function** is called ```add``` and can be called like ```c = add(2, 4)```.\n",
    "The **arguments** are what into a **function**, like food goes into your mouth or raw material into a factory.\n",
    "Often they are processed into a final product that is **returned**, but some functions do only modify their **mutable** inputs, like adding **values** to a **list**.\n",
    "Let us practice this by creating a new **function**.\n",
    "It will be the [fizz-buzz](https://de.wikipedia.org/wiki/Fizz_buzz)-**function**.\n",
    "It is supposed to print either the number or “Fizz” if the number we put in is divisible by 3 and “Buzz” if it is divisible by 5.\n",
    "If both is the case it should print “Fizz Buzz”.\n",
    "This is a common test in programming interviews and a nice example.\n",
    "To test is something is divisible we use ```%``` which gives us the rest of a division.\n",
    "So let us begin with defining our **function**. Its name should obviously be “fizzBuzz” and its argument a number.\n",
    "So we write:\n",
    "```Python\n",
    "def fizzBuzz(number):\n",
    "```\n",
    "Now we have to do something in it.\n",
    "Let us first get the rest of the division by ```3``` and print it out to test our function.\n",
    "We are interested in the rest of the division, because it is zero if the number is divisible by ```3```.\n",
    "\n",
    "```Python\n",
    "def fizzBuzz(number):\n",
    "\trest_division_by_three = number % 3\n",
    "\tprint(rest_division_by_three)\n",
    "# We also have to call the function so it gets executed\n",
    "fizzBuzz(5)\n",
    "```\n",
    "Now copy the code and predict what it prints. Afterwards get the rest for a division by 5."
   ]
  },
  {
   "cell_type": "code",
   "execution_count": null,
   "id": "4c1a0e71-e506-44b6-bfc7-9918a938e9fe",
   "metadata": {
    "editable": true,
    "slideshow": {
     "slide_type": ""
    },
    "tags": []
   },
   "outputs": [],
   "source": [
    "# Your code goes here"
   ]
  },
  {
   "cell_type": "markdown",
   "id": "620f79b3-050e-4f05-8ea8-7976cbf24ff0",
   "metadata": {
    "editable": false,
    "slideshow": {
     "slide_type": ""
    },
    "tags": []
   },
   "source": [
    "<details>\n",
    "  <summary>Click to reveal solution</summary>\n",
    "\n",
    "```Python\n",
    "def fizzBuzz(number):\n",
    "    rest_division_by_three = number % 3\n",
    "    rest_division_by_five = number % 5\n",
    "# We also have to call the function so it gets executed\n",
    "fizzBuzz(5)\n",
    "```\n",
    "\n",
    "</details>"
   ]
  },
  {
   "cell_type": "markdown",
   "id": "defe58df-17d5-4e2f-98c8-5d86c70905d4",
   "metadata": {
    "editable": false,
    "slideshow": {
     "slide_type": ""
    },
    "tags": []
   },
   "source": [
    "Now that we have the rest we should try to print “Fizz Buzz” if the number is divisible by ```3``` and ```5```, “Fizz” if it is divisible by ```3```, “Buzz” if it is divisible by ```5```, else we just print the number.\n",
    "\n",
    "Please recall the comparison-**operators** from the last unit and what we learned so far to adapt the function, so it prints what was described above:"
   ]
  },
  {
   "cell_type": "code",
   "execution_count": null,
   "id": "3d1e5193-b2d1-441e-8cd7-e5f61b932fc1",
   "metadata": {
    "editable": true,
    "slideshow": {
     "slide_type": ""
    },
    "tags": []
   },
   "outputs": [],
   "source": [
    "# Your code goes here"
   ]
  },
  {
   "cell_type": "markdown",
   "id": "566ff625-fc42-4ebe-9bbf-fd9cd8c256c3",
   "metadata": {
    "editable": false,
    "slideshow": {
     "slide_type": ""
    },
    "tags": []
   },
   "source": [
    "<details>\n",
    "  <summary>Click to reveal solution</summary>\n",
    "\n",
    "```Python\n",
    "def fizzBuzz(number):\n",
    "    rest_division_by_three = number % 3\n",
    "    rest_division_by_five = number % 5\n",
    "    divisible_by_three = rest_division_by_three == 0\n",
    "    divisible_by_five = rest_division_by_five == 0\n",
    "\n",
    "    if divisible_by_three and divisible_by_five:\n",
    "        print(\"Fizz Buzz\")\n",
    "    elif divisible_by_three:\n",
    "        print(\"Fizz\")\n",
    "    elif divisible_by_five:\n",
    "        print(\"Buzz\")\n",
    "    else:\n",
    "        print(number)\n",
    "# We also have to call the function so it gets executed\n",
    "fizzBuzz(5)\n",
    "```\n",
    "\n",
    "</details>"
   ]
  },
  {
   "cell_type": "markdown",
   "id": "81e83c6f-5e38-4672-8379-54c73e9e0eb2",
   "metadata": {
    "editable": false,
    "slideshow": {
     "slide_type": ""
    },
    "tags": []
   },
   "source": [
    "Now that we have a working function we should test it by running on a larger set of numbers.\n",
    "Please build a loop around your **function** so it runs on all integers from 0 until 100."
   ]
  },
  {
   "cell_type": "code",
   "execution_count": null,
   "id": "1003cbe7-691d-492b-8be8-be789679ae2f",
   "metadata": {
    "editable": true,
    "slideshow": {
     "slide_type": ""
    },
    "tags": []
   },
   "outputs": [],
   "source": [
    "# Your code goes here"
   ]
  },
  {
   "cell_type": "markdown",
   "id": "9a2dd53c-3289-44c6-b560-f6576c440f8e",
   "metadata": {
    "editable": false,
    "slideshow": {
     "slide_type": ""
    },
    "tags": []
   },
   "source": [
    "<details>\n",
    "  <summary>Click to reveal solution</summary>\n",
    "\n",
    "```Python\n",
    "def fizzBuzz(number):\n",
    "    rest_division_by_three = number % 3\n",
    "    rest_division_by_five = number % 5\n",
    "    divisible_by_three = rest_division_by_three == 0\n",
    "    divisible_by_five = rest_division_by_five == 0\n",
    "\n",
    "    if divisible_by_three and divisible_by_five:\n",
    "        print(\"Fizz Buzz\")\n",
    "    elif divisible_by_three:\n",
    "        print(\"Fizz\")\n",
    "    elif divisible_by_five:\n",
    "        print(\"Buzz\")\n",
    "    else:\n",
    "        print(number)\n",
    "\n",
    "# Create a for loop from 0 until 100\n",
    "for number in range(0, 101, 1):\n",
    "    fizzBuzz(number)\n",
    "```\n",
    "\n",
    "</details>"
   ]
  },
  {
   "cell_type": "markdown",
   "id": "5b1ed9cf-4914-4901-a9c2-7ba761114cf9",
   "metadata": {
    "editable": false,
    "slideshow": {
     "slide_type": ""
    },
    "tags": []
   },
   "source": [
    "The last step before we can fully utilize **functions** is the keyword ```return```.\n",
    "Similar to ```break``` in loops ```return``` signals that the function should be left, with a little twist.\n",
    "The **function** becomes or returns the value behind the ```return```.\n",
    "If there is nothing it returns ```None```.\n",
    "To better illustrate this we will create a **function** that checks if a number is even and returns the result as a **bool**.\n",
    "\n",
    "```Python\n",
    "def is_even(number):\n",
    "\tdivisible_by_two = number % 2 == 0\n",
    "\treturn divisible_by_two\n",
    "```\n",
    "\n",
    "Now we will use a for-loop to print our all even numbers between 0 and 20:\n",
    "\n",
    "```Python\n",
    "for number in range(0, 21, 1):\n",
    "\tif is_even(number):\n",
    "\t\tprint(number)\n",
    "```\n",
    "\n",
    "Please copy both samples in the next cell and execute them."
   ]
  },
  {
   "cell_type": "code",
   "execution_count": null,
   "id": "0704cb43-a3ab-43d2-8c76-9724f40e816e",
   "metadata": {
    "editable": true,
    "slideshow": {
     "slide_type": ""
    },
    "tags": []
   },
   "outputs": [],
   "source": [
    "# Combine the code here"
   ]
  },
  {
   "cell_type": "markdown",
   "id": "101beedf-e733-409e-bad8-ca0c1389bbfa",
   "metadata": {
    "editable": false,
    "slideshow": {
     "slide_type": ""
    },
    "tags": []
   },
   "source": [
    "<details>\n",
    "  <summary>Click to reveal solution</summary>\n",
    "\n",
    "```Python\n",
    "def fizzBuzz(number):\n",
    "    rest_division_by_three = number % 3\n",
    "    rest_division_by_five = number % 5\n",
    "    divisible_by_three = rest_division_by_three == 0\n",
    "    divisible_by_five = rest_division_by_five == 0\n",
    "\n",
    "    if divisible_by_three and divisible_by_five:\n",
    "        print(\"Fizz Buzz\")\n",
    "    elif divisible_by_three:\n",
    "        print(\"Fizz\")\n",
    "    elif divisible_by_five:\n",
    "        print(\"Buzz\")\n",
    "    else:\n",
    "        print(number)\n",
    "\n",
    "# Create a for loop from 0 until 100\n",
    "for number in range(0, 101, 1):\n",
    "    fizzBuzz(number)\n",
    "```\n",
    "\n",
    "</details>"
   ]
  },
  {
   "cell_type": "markdown",
   "id": "63f8a7e9-ef7f-42cf-bc24-4d4fa06231dd",
   "metadata": {
    "editable": false,
    "slideshow": {
     "slide_type": ""
    },
    "tags": []
   },
   "source": [
    "Congratulations, you know all the necessary building blocks to write simple programs.\n",
    "So we will now redesign the existing code into a more readable format."
   ]
  },
  {
   "cell_type": "markdown",
   "id": "b7bb52b0-8071-42dd-8ddd-932e9f1c515f",
   "metadata": {
    "editable": false,
    "slideshow": {
     "slide_type": ""
    },
    "tags": []
   },
   "source": [
    "## Writing a program\n",
    "\n",
    "Writing a program consists of a few steps:\n",
    "1. **Design**: Here we figure out what our program needs and how it should run. We did this from the intorduction one until now.\n",
    "2. **Skeleton/smallest parts**: You should always begin with a very small part that is easy to understand and write.\n",
    "    This was our check-list\n",
    "4. **Test regularly**: As soon as you can run your code you should do so. This helps you to find mistakes while it is still small. Later you may wish to write [automated tests](https://en.wikipedia.org/wiki/Test_automation) and expand into [test-driven-development](https://en.wikipedia.org/wiki/Test-driven_development).\n",
    "5. **Get feedback**: After you have written something ask another competent person to look at your solution, they might find mistakes you did not see.\n",
    "6. **Incremental improvement**: Do not try to solve your problem as a whole. Work **function** by **function**, **line** by **line**, otherwise you will be overwhelmed  and confused by your own work."
   ]
  },
  {
   "cell_type": "markdown",
   "id": "6c9c783b-e2cc-489b-a4de-fc1321e0d613",
   "metadata": {
    "editable": false,
    "slideshow": {
     "slide_type": ""
    },
    "tags": []
   },
   "source": [
    "What we built so far is a rough first draft.\n",
    "During working with this draft we learend a if what we wanted to achieve could be done an how it could be done.\n",
    "Now we should rewrite it into a more permanent state, so we can improve on it later.\n",
    "\n",
    "Unfortunately, a lot of code never gets over its first trial phase, because people believe they have no time to improve it.\n",
    "This means their code cannot be understood, change or improved making it useless for everyone else and themselves after a few weeks.\n",
    "Creating a well-structured code or rewriting unstructured code is essential to maintain a productive code base.\n",
    "\n",
    "If you believe this be achieved “small-changes” you might be right, after all it only takes a “small-changes” to turn a lobster into an elephant or a toaster into an airplane.\n",
    "I would however ask you to consider that it is easier to build an airplane from scratch than turn a toaster into one.\n",
    "For this reason will now repeat the design process described above."
   ]
  },
  {
   "cell_type": "markdown",
   "id": "ab0542e8-0d23-418d-b6ab-a6f86ecfab79",
   "metadata": {
    "editable": false,
    "slideshow": {
     "slide_type": ""
    },
    "tags": []
   },
   "source": [
    "### Design\n",
    "\n",
    "We have to remember the rough structure that we used before:\n",
    "Please try to get summarize what we did in roughly 3-5 steps."
   ]
  },
  {
   "cell_type": "raw",
   "id": "de706151-af4d-4578-bc53-9cd9d7a71949",
   "metadata": {
    "raw_mimetype": "",
    "slideshow": {
     "slide_type": ""
    },
    "tags": []
   },
   "source": [
    "# Write down you steps here"
   ]
  },
  {
   "cell_type": "markdown",
   "id": "ce4ed39e-8499-44e7-93fd-7bae2c11585f",
   "metadata": {
    "editable": false,
    "slideshow": {
     "slide_type": ""
    },
    "tags": []
   },
   "source": [
    "<details>\n",
    "  <summary>Click to reveal suggested solution</summary>\n",
    "    \n",
    "    1. Get maximal duration and units\n",
    "    2. Create a a list with all the seconds\n",
    "    3. Create empty list for every unit\n",
    "    3. Get amount of spikes for every second\n",
    "    4. Get immobility for every second\n",
    "\n",
    "</details>"
   ]
  },
  {
   "cell_type": "markdown",
   "id": "ad7a38fa-4194-4b89-af68-f3bb66a727ae",
   "metadata": {
    "editable": false,
    "slideshow": {
     "slide_type": ""
    },
    "tags": []
   },
   "source": [
    "### Skeleton\n",
    "\n",
    "Now we want to create a small numer of simple commands that correspond to our desing.\n",
    "\n",
    "```Python\n",
    "units_file_path = \"./data_neuron/session_2023111501010_units.csv\"\n",
    "immobility_file_path = \"./data_neuron/session_2023111501010_immobility.csv\"\n",
    "\n",
    "def get_maximal_duration_and_units(units_file_path):\n",
    "    longest_duration = 0\n",
    "    units = set()\n",
    "    # Add proper implementation\n",
    "    return (longest_duration, units)\n",
    "\n",
    "def get_a_list_with_all_the_seconds(longest_duration):\n",
    "    seconds = list()\n",
    "    # Add proper implementation\n",
    "    return seconds\n",
    "\n",
    "def get_empty_unit_spike_counts(seconds, units):\n",
    "    empty_spike_counts = dict()\n",
    "    # Add proper implementation\n",
    "    return units\n",
    "\n",
    "def get_amount_of_spikes_for_every_second(units_file_path, units_spike_counts):\n",
    "    # Add proper implementation\n",
    "    return\n",
    "\n",
    "def get_immobility_for_every_second(immobility_file_path, seconds):\n",
    "    is_immobile = list()\n",
    "    # Add proper implementation\n",
    "    return is_immobile\n",
    "\n",
    "# Main part of the script\n",
    "table = list()\n",
    "longest_duration, units = get_maximal_duration_and_units(units_file_path)\n",
    "seconds = get_a_list_with_all_the_seconds(longest_duration)\n",
    "table.append(seconds)\n",
    "units_spike_counts = get_empty_unit_spike_counts(seconds, units)\n",
    "get_amount_of_spikes_for_every_second(units_file_path, units_spike_counts)\n",
    "for unitid in units_spike_counts.keys():\n",
    "    table.append(units_spike_counts[unit_id])\n",
    "table.append(get_immobility_for_every_second(immobility_file_path, seconds))\n",
    "\n",
    "print(table)\n",
    "```\n",
    "\n",
    "This is what is often called a skeleton implementation.\n",
    "The rough structures are here but the details are not fleshed out.\n",
    "\n",
    "I hope you the code looks less overwhelming and more logically structred now.\n",
    "This is one purpose of skeleton si giving us a piece of code we can understand more easily.\n",
    "Another purpose is giving us a minimal code snippet we can run and therefore test."
   ]
  },
  {
   "cell_type": "markdown",
   "id": "cf542a39-0e5d-49d9-99aa-f368ff830ea2",
   "metadata": {
    "editable": false,
    "slideshow": {
     "slide_type": ""
    },
    "tags": []
   },
   "source": [
    "### Test\n",
    "\n",
    "The reason we wish to have code that can run as early as possible ist that it permits us to fail as early as possible.\n",
    "This failure migh help us uncover an error in our solution or a misconception about our problem.\n",
    "These flaws will not disappear if we discover them later, we will just have lost more work pursuing the wrong path,\n",
    "therefore we wish to run our code as early as possible to see if it behaves as expected.\n",
    "\n",
    "Please run the code above to see if there are any errors in it."
   ]
  },
  {
   "cell_type": "code",
   "execution_count": null,
   "id": "808166f1-3e8b-47af-b864-0f6df733fcac",
   "metadata": {
    "editable": true,
    "slideshow": {
     "slide_type": ""
    },
    "tags": []
   },
   "outputs": [],
   "source": [
    "# Copy code to test here"
   ]
  },
  {
   "cell_type": "markdown",
   "id": "8808a683-c8ae-4acf-9212-7436a3532759",
   "metadata": {
    "editable": false,
    "slideshow": {
     "slide_type": ""
    },
    "tags": []
   },
   "source": [
    "<details>\n",
    "  <summary>Click to reveal the explanation</summary>\n",
    "\n",
    "Considering that misconception or error would have required a design change,\n",
    "I decided to hide a typo in the code above.\n",
    "I hope you found it an managed to correct it.\n",
    "\n",
    "</details>"
   ]
  },
  {
   "cell_type": "markdown",
   "id": "7ec54b8b-23c0-49be-9506-ef3d6f2a8d5b",
   "metadata": {
    "editable": false,
    "slideshow": {
     "slide_type": ""
    },
    "tags": []
   },
   "source": [
    "### Flesh out the skeleton\n",
    "\n",
    "After testing it, we can now begin to flesh out our **functions**.\n",
    "First we write down our plan from the comments,\n",
    "before we implement it line by line, incrementally approaching the final function.\n",
    "This mirrors our approach to the full program,\n",
    "so we apply our solution method recursively,\n",
    "until the final problem becomes trivial.\n",
    "\n",
    "Let us begin with ```get_maximal_duration_and_units```\n",
    "\n",
    "\n",
    "```Python\n",
    "def get_maximal_duration_and_units(units_file_path):\n",
    "    longest_duration = 0\n",
    "    units = set()\n",
    "    # 1. Open the file\n",
    "    # 2. Iterate over every row:\n",
    "    #    1. Skip first row\n",
    "    #    2. Extract unit id and spike time\n",
    "    #    3. Convert their types\n",
    "    #    4. If the spike time is bigger than longest duration update it\n",
    "    #    5. If the unit Id is not in units add it\n",
    "    # 3. close the file once we no longer need it\n",
    "    return (longest_duration, units)\n",
    "```\n",
    "\n",
    "Since we already did our research regarding what we need to use erarlier,\n",
    "we can now replace the comments with code.\n",
    "\n",
    "```Python\n",
    "def get_maximal_duration_and_units(units_file_path):\n",
    "    longest_duration = 0\n",
    "    units = set()\n",
    "    # 1. Open the file\n",
    "    units_file = open(units_file_path)\n",
    "    # 2. Iterate over every row:\n",
    "    first_row = True\n",
    "    for row in units_file:\n",
    "        # 1. Skip first row\n",
    "        if first_row:\n",
    "            first_row = False\n",
    "            continue\n",
    "        # 2. Extract unit id and spike time\n",
    "        rat_id, unit_id, channel, spike_time = row.split(\",\")\n",
    "        # 3. Convert their types\n",
    "        unit_id = int(unit_id)\n",
    "        spike_time = float(spike_time)\n",
    "        spike_time_rounded_up = int(spike_time) + 1\n",
    "        # 4. If the spike time is bigger than longest duration update it\n",
    "        if longest_duration < spike_time_rounded_up:\n",
    "            longest_duration = spike_time_rounded_up\n",
    "        # 5. If the unit Id is not in units add it\n",
    "        if unit_id not in units:\n",
    "            units.add(unit_id)\n",
    "    # 3. close the file once we no longer need it\n",
    "    units_file.close()\n",
    "    return (longest_duration, units)\n",
    "```\n",
    "\n",
    "Normally we remove useless comments to avoid information overload on the reader.\n",
    "This means we only leave information that is not written directly in the code.\n",
    "In this case it means we will remove all comments leaving uns with:\n",
    "\n",
    "```Python\n",
    "def get_maximal_duration_and_units(units_file_path):\n",
    "    longest_duration = 0\n",
    "    units = set()\n",
    "\n",
    "    units_file = open(units_file_path)\n",
    "    first_row = True\n",
    "    for row in units_file:\n",
    "        if first_row:\n",
    "            first_row = False\n",
    "            continue\n",
    "        rat_id, unit_id, channel, spike_time = row.split(\",\")\n",
    "        unit_id = int(unit_id)\n",
    "        spike_time = float(spike_time)\n",
    "        spike_time_rounded_up = int(spike_time) + 1\n",
    "        if longest_duration < spike_time_rounded_up:\n",
    "            longest_duration = spike_time_rounded_up\n",
    "        if unit_id not in units:\n",
    "            units.add(unit_id)\n",
    "    units_file.close()\n",
    "    return (longest_duration, units)\n",
    "```\n",
    "\n",
    "Please use the cell below to repeat this process for the other three functions thereby completing the program.\n",
    "Remeber the steps above and work line by line. \n",
    "Use ```print``` to check your results."
   ]
  },
  {
   "cell_type": "code",
   "execution_count": null,
   "id": "14f914e8-276c-4943-94f7-e5078e6158fa",
   "metadata": {
    "editable": true,
    "slideshow": {
     "slide_type": ""
    },
    "tags": []
   },
   "outputs": [],
   "source": [
    "# Write your code here"
   ]
  },
  {
   "cell_type": "markdown",
   "id": "0310ab3f-ce10-4252-baf3-491c6a9d24cf",
   "metadata": {
    "editable": false,
    "slideshow": {
     "slide_type": ""
    },
    "tags": []
   },
   "source": [
    "<details>\n",
    "  <summary>Click to reveal suggested solution</summary>\n",
    "\n",
    "```Python\n",
    "units_file_path = \"./data_neuron/session_2023111501010_units.csv\"\n",
    "immobility_file_path = \"./data_neuron/session_2023111501010_immobility.csv\"\n",
    "\n",
    "def get_maximal_duration_and_units(units_file_path):\n",
    "    longest_duration = 0\n",
    "    units = set()\n",
    "\n",
    "    units_file = open(units_file_path)\n",
    "    first_row = True\n",
    "    for row in units_file:\n",
    "        if first_row:\n",
    "            first_row = False\n",
    "            continue\n",
    "        rat_id, unit_id, channel, spike_time = row.split(\",\")\n",
    "        unit_id = int(unit_id)\n",
    "        spike_time = float(spike_time)\n",
    "        spike_time_rounded_up = int(spike_time) + 1\n",
    "        if longest_duration < spike_time_rounded_up:\n",
    "            longest_duration = spike_time_rounded_up\n",
    "        if unit_id not in units:\n",
    "            units.add(unit_id)\n",
    "    units_file.close()\n",
    "    return (longest_duration, units)\n",
    "\n",
    "def get_a_list_with_all_the_seconds(longest_duration):\n",
    "    seconds = list()\n",
    "    for second in range(1, longest_duration + 1):\n",
    "        seconds.append(second)\n",
    "    return seconds\n",
    "\n",
    "def get_empty_unit_spike_counts(seconds, units):\n",
    "    empty_spike_counts = dict()\n",
    "    for unit_id in units:\n",
    "        empty_spike_count = seconds.copy()\n",
    "        for index in range(0, len(empty_spike_count)):\n",
    "            empty_spike_count[index] = 0\n",
    "        empty_spike_counts[unit_id] = empty_spike_count\n",
    "    return empty_spike_counts\n",
    "\n",
    "def get_amount_of_spikes_for_every_second(units_file_path, units_spike_counts):\n",
    "    units_file = open(units_file_path)\n",
    "    first_row = True\n",
    "    for row in units_file:\n",
    "        if first_row:\n",
    "            first_row = False\n",
    "            continue\n",
    "        rat_id, unit_id, channel, spike_time = row.split(\",\")\n",
    "        unit_id = int(unit_id)\n",
    "        spike_time = float(spike_time)\n",
    "        spike_time_rounded_down = int(spike_time)\n",
    "        index = spike_time_rounded_down - 1\n",
    "        units_spike_counts[unit_id][index] += 1\n",
    "    units_file.close()\n",
    "    return\n",
    "\n",
    "def get_immobility_for_every_second(immobility_file_path, seconds):\n",
    "    is_immobile = seconds.copy()\n",
    "    phases = list()\n",
    "    immobility_file = open(immobility_file_path)\n",
    "    first_row = True\n",
    "    for row in immobility_file:\n",
    "        if first_row:\n",
    "            first_row = False\n",
    "            continue\n",
    "        begin_in_seconds, end_in_seconds = row.split(\",\")\n",
    "        begin_in_seconds = int(begin_in_seconds)\n",
    "        end_in_seconds = int(end_in_seconds)\n",
    "        phase = (begin_in_seconds, end_in_seconds)\n",
    "        phases.append(phase)\n",
    "    immobility_file.close()\n",
    "    for index in range(0, len(is_immobile)):\n",
    "        second = seconds[index]\n",
    "        is_in_phase = False\n",
    "        for phase in phases:\n",
    "            begin_in_seconds, end_in_seconds = phase\n",
    "            if second > begin_in_seconds and second < end_in_seconds:\n",
    "                is_in_phase = True\n",
    "                break\n",
    "        is_immobile[index] = is_in_phase\n",
    "    return is_immobile\n",
    "\n",
    "# Main part of the script\n",
    "table = list()\n",
    "longest_duration, units = get_maximal_duration_and_units(units_file_path)\n",
    "seconds = get_a_list_with_all_the_seconds(longest_duration)\n",
    "table.append(seconds)\n",
    "units_spike_counts = get_empty_unit_spike_counts(seconds, units)\n",
    "get_amount_of_spikes_for_every_second(units_file_path, units_spike_counts)\n",
    "for unit_id in units_spike_counts.keys():\n",
    "    table.append(units_spike_counts[unit_id])\n",
    "table.append(get_immobility_for_every_second(immobility_file_path, seconds))\n",
    "\n",
    "print(table)\n",
    "```\n",
    "\n",
    "</details>"
   ]
  },
  {
   "cell_type": "markdown",
   "id": "c007f25d-5a2c-4b04-98ed-28ed26302561",
   "metadata": {
    "editable": false,
    "slideshow": {
     "slide_type": ""
    },
    "tags": []
   },
   "source": [
    "## Readable code\n",
    "\n",
    "Introducing functions has made our code already more reader friendly.\n",
    "However you may have noticed that there are still same questions left unanswered\n",
    "and some methods that make the solution more friendly to the reader we did not discusse yet.\n",
    "This is the reason why we will now talk about **Readability**.\n",
    "\n",
    "**Readability** refers to the ability of a reader to understand the text/code.\n",
    "As a general rule if the reader takes more than half the time to read your text than you needed to write it you goofed.\n",
    "If they take the same time to read it as you to write you should seriously consider professionalizing your writing style.\n",
    "\n",
    "I mention this because academia has a relevant fraction of fully self-taught-\"programmers\", believing hard-work is required to understand code.\n",
    "They usually conclude that whoever fails to understand their incoherent excuse for code \"just cannot program\".\n",
    "Industrial and trained wisdom usually attributes a failure to understand code to incomplete documentation or lack of \"domain-knowledge\",\n",
    "instead of programming skill. \"Domain-knowledge\" refers to knowledge about the subject, like cancer-cells, astrophysics or neuroscience.\n",
    "So in other words if someone fails to understand your code the following explanations are seen as legitimate:\n",
    "\n",
    "1.\tThey do not understand the area the code is applied in (e.g. they do not know what cancer-cells are)\n",
    "2.\tThey do not know basic language structures (e.g. for-loop)\n",
    "3.\tThe code is not written well enough (It is usually this)\n",
    "\n",
    "Please remember this if people ask you how your code works.\n",
    "It usually means you failed to explain your goal and methods well enough. \n",
    "So how do you make your code more readable:\n",
    "\n",
    "- Use clear **variable** and **function** names. So your cell-area should be called ```cell_area``` and not ```car```.\n",
    "- Try to write simple lines. One line should ideally do one to three things if it does more split it.\n",
    "- Use intermediate values. So if you add a few numbers before another step introduce a **variable** storing the sum.\n",
    "- Keep your functions short, they should fit on a small laptop screen.\n",
    "- Use comments or [docstrings](https://peps.python.org/pep-0257/) for functions to explain, what goes in,\n",
    "      what goes out and what the function should achieve.\n",
    "- Use comments in the code to explain why things are done a certain way.\n",
    "- Use comments in the code to reference to papers or online sources you read to understand the code.\n",
    "- Use comments in the code to introduce concepts that might be novel to another programmer.\n",
    "- Use a [sytleguide](https://google.github.io/styleguide/pyguide.html) once once you start a bigger project.\n",
    "- Avoid writing [unmaintanable code](https://github.com/Droogans/unmaintainable-code).\n",
    "\n",
    "If your code starts reading like a paper with references to different web-resources and additional explanations you are doing things mostly right.\n",
    "JupyterNotebook is designed to support this approach, known as [literate programming](https://en.wikipedia.org/wiki/Literate_programming).\n",
    "\n",
    "Please take your solution and add the comments to it.\n",
    "Then let someone else read the code, so they can tell you what is not fully clear to them.\n",
    "If they claim to fully understand your code they are most probably to shy to critizize, so keep asking until they find a flaw."
   ]
  },
  {
   "cell_type": "code",
   "execution_count": null,
   "id": "1662016c-679d-48d1-9775-2e103208408f",
   "metadata": {
    "editable": true,
    "slideshow": {
     "slide_type": ""
    },
    "tags": []
   },
   "outputs": [],
   "source": [
    "# Your code with comments should be here"
   ]
  },
  {
   "cell_type": "markdown",
   "id": "4bcb6eb0-5a52-4422-a593-cd81b0a4e4b4",
   "metadata": {
    "editable": false,
    "slideshow": {
     "slide_type": ""
    },
    "tags": []
   },
   "source": [
    "<details>\n",
    "  <summary>Click to reveal suggested solution</summary>\n",
    "\n",
    "```Python\n",
    "def get_maximal_duration_and_units(units_file_path):\n",
    "    \"\"\"!\n",
    "        @brief This function reads in a csv-file containing the recorded units and returnt the maximal duration and unit ids\n",
    "        @details We assume that we get an csv-file with a header line and 4 fields per row.\n",
    "            The name and contents of the csv-file should be defined as given in param, so we can extract the unit id and spike time.\n",
    "        @param units_file_path the path to the csv-file as a str\n",
    "            The 2nd field should contain the id of the unit.\n",
    "            The 4th the spike time.\n",
    "        @return the highest spike time and a set of discovered unit-ids\n",
    "    \"\"\"\n",
    "    longest_duration = 0\n",
    "    units = set()\n",
    "\n",
    "    units_file = open(units_file_path)\n",
    "    firts_row = True\n",
    "    for row in units_file:\n",
    "        if firts_row:\n",
    "            firts_row = False\n",
    "            continue\n",
    "        rat_id, unit_id, channel, spike_time = row.split(\",\")\n",
    "        unit_id = int(unit_id)\n",
    "        spike_time = float(spike_time)\n",
    "        spike_time_rounded_up = int(spike_time) + 1\n",
    "        if longest_duration < spike_time_rounded_up:\n",
    "            longest_duration = spike_time_rounded_up\n",
    "        if unit_id not in units:\n",
    "            units.add(unit_id)\n",
    "    units_file.close()\n",
    "    return (longest_duration, units)\n",
    "\n",
    "def get_a_list_with_all_the_seconds(longest_duration):\n",
    "    \"\"\"!\n",
    "        @brief Gets a list containing all the seconds between 1 and the longest durtion\n",
    "        @param longest_duration the last second in the list as an int\n",
    "        @return a list with all the seconds\n",
    "    \"\"\"\n",
    "    seconds = list()\n",
    "    for second in range(1, longest_duration + 1):\n",
    "        seconds.append(second)\n",
    "    return seconds\n",
    "\n",
    "def get_empty_unit_spike_counts(seconds, units):\n",
    "    \"\"\"!\n",
    "        @brief Creates a dicionary containing a list filled with 0s for every unit-id\n",
    "        @details the lists in the dict are intended as counters for the spikes\n",
    "        @return a dict containing a list filled with 0s for every unit-id\n",
    "    \"\"\"\n",
    "    empty_spike_counts = dict()\n",
    "    for unit_id in units:\n",
    "        empty_spike_count = seconds.copy()\n",
    "        for index in range(0, len(empty_spike_count)):\n",
    "            empty_spike_count[index] = 0\n",
    "        empty_spike_counts[unit_id] = empty_spike_count\n",
    "    return empty_spike_counts\n",
    "\n",
    "def get_amount_of_spikes_for_every_second(units_file_path, units_spike_counts):\n",
    "    \"\"\"!\n",
    "        @brief This function counts the spike in every seconds\n",
    "        @details it reads in the units row by row and fills up the corresponding entries in the dict\n",
    "            the dict should contain an entry for every unit-id containing a list with an int for every second\n",
    "        @param units_file_path a path to the unit-csv-file\n",
    "    \"\"\"\n",
    "    units_file = open(units_file_path)\n",
    "    firts_row = True\n",
    "    for row in units_file:\n",
    "        if firts_row:\n",
    "            firts_row = False\n",
    "            continue\n",
    "        rat_id, unit_id, channel, spike_time = row.split(\",\")\n",
    "        unit_id = int(unit_id)\n",
    "        spike_time = float(spike_time)\n",
    "        spike_time_rounded_down = int(spike_time)\n",
    "        index = spike_time_rounded_down - 1\n",
    "        units_spike_counts[unit_id][index] += 1\n",
    "    units_file.close()\n",
    "    return\n",
    "\n",
    "def get_immobility_for_every_second(immobility_file_path, seconds):\n",
    "    \"\"\"!\n",
    "        @brief Gets a list expressing immobility for every second\n",
    "        @details This function takes the phases given in the immobility file\n",
    "            and creates a list of bools marked accordingly.\n",
    "            The list is crated by coping seconds\n",
    "        @param immobility_file_path the path to the immobility-csv\n",
    "        @param seconds a list enumerating the seconds\n",
    "        @return a list of bools marking immobility of every second\n",
    "    \"\"\"\n",
    "    is_immobile = seconds.copy()\n",
    "    phases = list()\n",
    "    immobility_file = open(immobility_file_path)\n",
    "    firts_row = True\n",
    "    for row in immobility_file:\n",
    "        if firts_row:\n",
    "            firts_row = False\n",
    "            continue\n",
    "        begin_in_seconds, end_in_seconds = row.split(\",\")\n",
    "        begin_in_seconds = int(begin_in_seconds)\n",
    "        end_in_seconds = int(end_in_seconds)\n",
    "        phase = (begin_in_seconds, end_in_seconds)\n",
    "        phases.append(phase)\n",
    "    immobility_file.close()\n",
    "    for index in range(0, len(is_immobile)):\n",
    "        second = seconds[index]\n",
    "        is_in_phase = False\n",
    "        for phase in phases:\n",
    "            begin_in_seconds, end_in_seconds = phase\n",
    "            if second > begin_in_seconds and second < end_in_seconds:\n",
    "                is_in_phase = True\n",
    "                break\n",
    "        is_immobile[index] = is_in_phase\n",
    "    return is_immobile\n",
    "\n",
    "# Main part of the script\n",
    "\n",
    "# Name the file we are going to use\n",
    "units_file_path = \"./data_neuron/session_2023111501010_units.csv\"\n",
    "immobility_file_path = \"./data_neuron/session_2023111501010_immobility.csv\"\n",
    "\n",
    "# Create a table\n",
    "table = list()\n",
    "# Add a column for the seconds\n",
    "longest_duration, units = get_maximal_duration_and_units(units_file_path)\n",
    "seconds = get_a_list_with_all_the_seconds(longest_duration)\n",
    "table.append(seconds)\n",
    "# Add columns for the spike-counts\n",
    "units_spike_counts = get_empty_unit_spike_counts(seconds, units)\n",
    "get_amount_of_spikes_for_every_second(units_file_path, units_spike_counts)\n",
    "for unit_id in units_spike_counts.keys():\n",
    "    table.append(units_spike_counts[unit_id])\n",
    "# Add a column for the immobility\n",
    "table.append(get_immobility_for_every_second(immobility_file_path, seconds))\n",
    "\n",
    "print(table)\n",
    "```\n",
    "\n",
    "</details>"
   ]
  },
  {
   "cell_type": "markdown",
   "id": "728146d6-2800-421a-a611-0c0faa687d1a",
   "metadata": {
    "editable": false,
    "slideshow": {
     "slide_type": ""
    },
    "tags": []
   },
   "source": [
    "## Looking at data\n",
    "\n",
    "Now we know how to make the code easy to read.\n",
    "This is good for us as programmers, but we are also scientists working with data, so we should discuss the datat too.\n",
    "What are data?\n",
    "Usually they are quantifiable observations or measurements,\n",
    "like the body-temperature of an animal or the number of times it pressed a button.\n",
    "So they are numbers.\n",
    "We have to present these numbers in a way, that they can be used in the program and understood by us and our peers.\n",
    "\n",
    "This is means we have to learn how to look at our data, how to write them down.\n",
    "Usually the numbers belong together, like multiple temperature measurements of the same animal, in this case we could call this a [dimension](https://en.wikipedia.org/wiki/Dimension_(vector_space)).\n",
    "Dimension usually refers to something you can measure along, like time, temperature or button-presses.\n",
    "So they correspond to variables.\n",
    "Imagine a dimension as a [number line](https://en.wikipedia.org/wiki/Number_line).\n",
    "On it goes everything an instrument produces, so if you have two thermometers you have two lines or two dimensions.\n",
    "If you have a clock this is another number line.\n",
    "\n",
    "Everytime you take readings from your instruments you write down all this numbers, getting a data point.\n",
    "So if you read of a clock and a thermometer you get a temperature and a time on two axis, a temperature and a time axis.\n",
    "If you read fast enough your points start to form patterns, if you connect them you get lines or plots.\n",
    "\n",
    "If you want to compare two experiments or two things you lay the axes over each other.\n",
    "So you put the time and temperature axes of experiment 1 over those of experiment 2, giving you two overlapping plots.\n",
    "The question when two points truly belong on the same axis and are in the same dimension and when they are not depends on the question you ask,\n",
    "but the principle stays the same.\n",
    "\n",
    "In general we have to discriminate between continious data like temperature and discrete data like number of button presses.\n",
    "Discrete means that there are steps or boxes, so in our case we have unit 1, unit 2, unit 3 but no unit-2.23 and the units are therefore discrete.\n",
    "We only observed potentially interesting units in this case and filtered out most of the others.\n",
    "We also view our time as discrete despite it being continious, because we jump from one second to the other.\n",
    "This is a deliberate choice we made to get the spikes per second.\n",
    "\n",
    "As an exercise please think about the units we want to analyze.\n",
    "How many dimensions do you find there and are they discrete or continuous.\n",
    "Please note your results in the next cell."
   ]
  },
  {
   "cell_type": "raw",
   "id": "73f3f1a2-84ce-40d4-8fd0-2cf0c162a005",
   "metadata": {
    "editable": true,
    "raw_mimetype": "",
    "slideshow": {
     "slide_type": ""
    },
    "tags": []
   },
   "source": [
    "Enter your answer here."
   ]
  },
  {
   "cell_type": "markdown",
   "id": "33fdf4f1-7ce2-47f2-9456-3edb3ea79f91",
   "metadata": {
    "editable": false,
    "slideshow": {
     "slide_type": ""
    },
    "tags": []
   },
   "source": [
    "<details>\n",
    "  <summary>Click to reveal possible solution</summary>\n",
    "\n",
    "Remember looking at data is interpretation and while there are many wrong interpretations, there are also many right ones.\n",
    "You will learn with time which perspective or interpretation is beneficial to your work.\n",
    "\n",
    "For each unit we can measure a spike frequency, so we have three dimensions:\n",
    "- Time\n",
    "- Units\n",
    "- Amount of spikes\n",
    "\n",
    "All of them are discrete.\n",
    "\n",
    "</details>"
   ]
  },
  {
   "cell_type": "markdown",
   "id": "bc731198-10bf-48ff-aa02-7f79a069a7a9",
   "metadata": {
    "editable": false,
    "slideshow": {
     "slide_type": ""
    },
    "tags": []
   },
   "source": [
    "## Structuring data\n",
    "\n",
    "Now that we have identified our dimensions, we can now begin to store them.\n",
    "Usually you can split your dimensions/variables into controlled and resulting.\n",
    "Controlled variables are the ones you or the experiment designer decides on, like the number of days or the number of dishes.\n",
    "Resulting variables are usually what we are interested in like total cell-area or cell-count.\n",
    "These are usually hypothesized to [depend]( https://en.wikipedia.org/wiki/Dependent_and_independent_variables)  on the controlled ones. \n",
    "\n",
    "If you store your data you can rely on the fact, that there is a [countable]( https://en.wikipedia.org/wiki/Countable_set) and practical finite set of measurements.\n",
    "Countable means we can assign every measurement a number, so we can store them into a **list**.\n",
    "So the simplest way to store measurements is in **lists** sorted by the precise time or recording.\n",
    "This is usually not really helpful, so we return to the controlled variables and think about them.\n",
    "\n",
    "So we should store our data in a way we can access it by the controlled variables for easier access.\n",
    "So we store by unit and second.\n",
    "The seconds are contigious, meaning there are no gaps in our discrete numbers,\n",
    "therefore we can store them in **lists**.\n",
    "The uints are discontingious so we store them in sparse arrays or **dicts** instead.\n",
    "\n",
    "Lastly we have to deal with the immobility.\n",
    "It belongs to every second in every unit but only exists once, so we only use one list.\n",
    "For later evaluation we have to add it to every second in every unit.\n",
    "This is treated separatley, because it does not contain spike counts, so we end up with two tables,\n",
    "which we combined into one for convenience.\n",
    "\n",
    "Next we should think about how we should store the contents of the table.\n",
    "Here I would advocate for lists so we can iterate though them,\n",
    "the question is should we first select the unit and then the second or first the second and then the unit. \n",
    "The consideration here is what we will more likely access together, all data of one unit or all data of one second,\n",
    "since the units are physically separated and we want to investigate their spike counts,\n",
    "we may wish to see changes overtime meaning that the seconds should stay together.\n",
    "This means we will have a **dict** that contains the units and the units themselves are **lists** containing the values for the seconds.\n",
    "In code this would look like this:\n",
    "\n",
    "This may seem irrelevant at the moment because we changed nothingon the strucutre of our code.\n",
    "It becomes very relevant later however, when you deal with more complex data that not just slide into a convenient form.\n",
    "It is also faster in some languages to iterate along the lowest level of order, in our cause the seconds,\n",
    "because the **memory-cells** are neighbors,\n",
    "meaning they are fetched and read together."
   ]
  },
  {
   "cell_type": "markdown",
   "id": "b9b471ef-cdd7-4da6-955f-add04d58fbb3",
   "metadata": {
    "editable": false,
    "slideshow": {
     "slide_type": ""
    },
    "tags": []
   },
   "source": [
    "I assume you have some questions.\n",
    "Please ask them now, so you have understood all relevant concepts before we move on to classes and using publicly availabel code in the next unit."
   ]
  }
 ],
 "metadata": {
  "kernelspec": {
   "display_name": "Python 3 (ipykernel)",
   "language": "python",
   "name": "python3"
  },
  "language_info": {
   "codemirror_mode": {
    "name": "ipython",
    "version": 3
   },
   "file_extension": ".py",
   "mimetype": "text/x-python",
   "name": "python",
   "nbconvert_exporter": "python",
   "pygments_lexer": "ipython3",
   "version": "3.12.7"
  }
 },
 "nbformat": 4,
 "nbformat_minor": 5
}
