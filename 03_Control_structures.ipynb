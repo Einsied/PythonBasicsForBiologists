{
 "cells": [
  {
   "cell_type": "markdown",
   "id": "30892b83-b1d0-4cb0-b975-166669f8e55e",
   "metadata": {
    "editable": false,
    "slideshow": {
     "slide_type": ""
    },
    "tags": []
   },
   "source": [
    "# Control Structures"
   ]
  },
  {
   "cell_type": "markdown",
   "id": "ef07fe4c-fa52-4847-8778-6a76f6bb89aa",
   "metadata": {
    "editable": false,
    "slideshow": {
     "slide_type": ""
    },
    "tags": []
   },
   "source": [
    "## Recall\n",
    "\n",
    "Last unit we learned about **operators** and data-**types**. **Operators** like ```+```, ```/``` or ```<```, allow us to work with **variables** containing different **values**. With the help of **lists** we van group **ints**, **floats**, **strs** and other data-**types** together.\n",
    "\n",
    "The combination of these allowed us to formulate most of the building blocks for our final algorithm.\n",
    "\n",
    "1. [x] We open the file ```csv_file = open(\"./data/Day_1_dish_1_zoom_3.csv\")```\n",
    "2. [x] We figure out what day and dish it is ```_, day, _ , dish_number, _, zoom_factor = csv_file_name.split(\"_\") ```\n",
    "3. [x] We create a counter for the number of cells ```cell_counter = 0``` \n",
    "4. [x] We create a counter for the area covered by the cells ```cell_area_counter = 0```\n",
    "5. [ ] We ignore the first line \n",
    "6. [ ] For every line we do the following:\n",
    "    1. [x] We increase the cell counter ```cell_counter += 1```\n",
    "    2. [x] We add the cell area to the cell-area counter ```cell_area_counter += cell_area```\n",
    "7. [x] We save the cell-counter ```cell_counter_dish_1_list.append(cell_counter)```\n",
    "8. [x] We save the area counter ```cell_area_counter_dish_1_list.append(cell_counter)```\n",
    "\n",
    "To fill out the missing gaps and solve Bobs-cell-counting problem we also have to recall the the first unit. In the first unit we used ```if_less``` and ```goto``` to jump around in our pseudo-assembly-code. We now want to learn how this is done in Python."
   ]
  },
  {
   "cell_type": "markdown",
   "id": "5a5e6d28-7bf6-447f-8afe-117070938b19",
   "metadata": {
    "editable": true,
    "slideshow": {
     "slide_type": ""
    },
    "tags": []
   },
   "source": [
    "## If-statement\n",
    "The if-statement is rather simple it consists of the keyword ```if``` followed by something that is or can be converted into a **bool**, ```:``` and then an indented block of further instructions. These instructions are executed if the condition between the keyword and ```:``` is ```True```.\n",
    "Here is a code snippet illustrating the use of the if-statement. \n",
    "```Python\n",
    "if True:\n",
    "\tprint(\"Hello\")\n",
    "if False:\n",
    "\tprint(\"world!\")\n",
    "```\n",
    "\n",
    "Please predict what this snippet will print and then try it in the next block."
   ]
  },
  {
   "cell_type": "code",
   "execution_count": null,
   "id": "3fb4e400-fa2e-41ba-8d10-94af266dd408",
   "metadata": {
    "editable": true,
    "slideshow": {
     "slide_type": ""
    },
    "tags": []
   },
   "outputs": [],
   "source": [
    "# Copy the code here"
   ]
  },
  {
   "cell_type": "markdown",
   "id": "9c26d75b-e95b-42fd-b914-93638db82ca3",
   "metadata": {
    "editable": false,
    "slideshow": {
     "slide_type": ""
    },
    "tags": []
   },
   "source": [
    "The if-statement can be expanded with two optional statements. ```else``` and ```elif``` short for “else-if”. The elif-code is executed if the if-statement is not executed and its condition is ```True```. The ```else```-statement is executed if no if- or elif-statement was executed.\n",
    "Here is a short snippet to demonstrate the use of an if-statement with ```elif``` and ```else```:\n",
    "```Python\n",
    "a = 5\n",
    "b = 6\n",
    "if a < b:\n",
    "\tprint(\"a is smaller than b\")\n",
    "elif a == b:\n",
    "\tprint(\"a is equal b\")\n",
    "else:\n",
    "\tprint(\"a is bigger than b\")\n",
    "```\n",
    "\n",
    "Copy the code into the next boy and change ```a``` and ```b``` until all three messages were printed.\n"
   ]
  },
  {
   "cell_type": "code",
   "execution_count": null,
   "id": "399b78fc-f23e-44e6-b135-a6886da2eb64",
   "metadata": {
    "editable": true,
    "slideshow": {
     "slide_type": ""
    },
    "tags": []
   },
   "outputs": [],
   "source": [
    "# Copy the code here and then modify it"
   ]
  }
 ],
 "metadata": {
  "kernelspec": {
   "display_name": "Python 3 (ipykernel)",
   "language": "python",
   "name": "python3"
  },
  "language_info": {
   "codemirror_mode": {
    "name": "ipython",
    "version": 3
   },
   "file_extension": ".py",
   "mimetype": "text/x-python",
   "name": "python",
   "nbconvert_exporter": "python",
   "pygments_lexer": "ipython3",
   "version": "3.12.7"
  }
 },
 "nbformat": 4,
 "nbformat_minor": 5
}
